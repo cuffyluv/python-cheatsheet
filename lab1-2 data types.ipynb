{
 "cells": [
  {
   "cell_type": "markdown",
   "id": "declared-introduction",
   "metadata": {},
   "source": [
    "### 실습물 제출 가이드라인\n",
    "- 아래에 주어진 코드들을 실행해서 python의 동작 원리를 이해하시오. 그리고, # M 으로 주어진 부분은 코드를 작성하고 실행하시오.\n",
    "- 주어진 코드들을 다 실행해 보고 결과를 확인하면 3점을 부여합니다.\n",
    "- \"# M\"으로 주어진 문제는 정확한 답을 작성하면 괄호 안에 표기된 점수가 부여됩니다. 코드의 진행 과정을 확인하기 위해 print()를 사용하는 것을 허용합니다"
   ]
  },
  {
   "cell_type": "markdown",
   "id": "c47c8910-76fe-46b6-8494-7b73a3baddb7",
   "metadata": {},
   "source": [
    "## list"
   ]
  },
  {
   "cell_type": "code",
   "execution_count": 34,
   "id": "b2e3e270-7582-43f2-94d1-ba5d038a45c2",
   "metadata": {},
   "outputs": [
    {
     "name": "stdout",
     "output_type": "stream",
     "text": [
      "1\n",
      "4\n"
     ]
    }
   ],
   "source": [
    "# 1\n",
    "# list indexing\n",
    "L = [1, 2, 3, 4] # L = list(range(1,5))와 동일한 효과\n",
    "print(L[0])\n",
    "print(L[-1])"
   ]
  },
  {
   "cell_type": "code",
   "execution_count": 35,
   "id": "3213d2c0-4aa2-43f3-836c-0f49517c9adc",
   "metadata": {},
   "outputs": [
    {
     "name": "stdout",
     "output_type": "stream",
     "text": [
      "1\n",
      "6\n"
     ]
    }
   ],
   "source": [
    "# M1 \n",
    "# 본인이 원하는 list 변수 LL을 정의하고 \n",
    "# 첫번째 요소와 마지막 요소를 출력하는 코드를 작성하시오. (0.2점)\n",
    "LL = list(range(1,7))\n",
    "print(LL[0])\n",
    "print(LL[-1])"
   ]
  },
  {
   "cell_type": "code",
   "execution_count": 36,
   "id": "0751a9c1-b7be-4407-b3b1-7f3f914447a5",
   "metadata": {},
   "outputs": [
    {
     "name": "stdout",
     "output_type": "stream",
     "text": [
      "[1, 'hello', 2, 'korea', 3]\n"
     ]
    }
   ],
   "source": [
    "# 2 \n",
    "# list with various data types\n",
    "L = [1, 'hello', 2, 'good morning', 3]\n",
    "L[3] = 'korea'\n",
    "print(L)"
   ]
  },
  {
   "cell_type": "code",
   "execution_count": 1,
   "id": "d038e1ec-d00f-451e-a429-d4aa25215ad2",
   "metadata": {},
   "outputs": [],
   "source": [
    "# M2 \n",
    "# 4개 이상의 서로 다른 데이터타입의 요소를 갖는 list 변수 combined_list를 정의하시오. (0.1점) \n",
    "# combined_list의 세번째 요소를 다른 값으로 변경하는 코드를 작성하시오. (0.1점)\n",
    "combined_list = ['a', 'hello', 3, True]\n",
    "combined_list[2] = 100"
   ]
  },
  {
   "cell_type": "code",
   "execution_count": null,
   "id": "0e5d2027-a259-4c10-8aeb-4b13932f214b",
   "metadata": {},
   "outputs": [],
   "source": [
    "# 3 \n",
    "# '+' operation between lists\n",
    "L1, L2 = [1, 3, 5, 7], [2, 4, 6, 8]\n",
    "# L1, L2 = list(range(1,9,2)), list(range(2,9,2)) \n",
    "L = L1 + L2\n",
    "print(L) "
   ]
  },
  {
   "cell_type": "code",
   "execution_count": null,
   "id": "2c43d327-c384-4f23-96b3-7bf8187f73c9",
   "metadata": {},
   "outputs": [],
   "source": [
    "# M3 \n",
    "# [9, 8, 7, 6]과 [1, 2, 3, 4]를 변수 a_list, b_list에 각각 할당하고 \n",
    "# 이들을 더해서 새로운 list 변수 c_list를 만들어 c_list를 출력하는 코드를 작성하시오. (0.1점)\n",
    "a_list = [9, 8, 7, 6]\n",
    "b_list = [1, 2, 3, 4]\n",
    "c_list = a_list + b_list\n",
    "print(c_list)"
   ]
  },
  {
   "cell_type": "code",
   "execution_count": 7,
   "id": "8267ba59-0bb5-4a89-b267-4a9525203da4",
   "metadata": {},
   "outputs": [
    {
     "name": "stdout",
     "output_type": "stream",
     "text": [
      "[0, 0, 0, 0, 0, 0, 0, 0, 0, 0]\n"
     ]
    }
   ],
   "source": [
    "# 4  \n",
    "# '*' opration of list\n",
    "zeros = [0]*10\n",
    "print(zeros)"
   ]
  },
  {
   "cell_type": "code",
   "execution_count": 43,
   "id": "5d234970-e29d-45ba-b709-542b346dc334",
   "metadata": {},
   "outputs": [
    {
     "name": "stdout",
     "output_type": "stream",
     "text": [
      "['@@', '@@', '@@', '@@', '@@', '@@', '@@', '@@', '@@', '@@', '@@', '@@', '@@', '@@', '@@', '@@', '@@', '@@', '@@', '@@']\n"
     ]
    }
   ],
   "source": [
    "# M4\n",
    "# '@@'가 20개인 list를 만드는 코드를 4번 코드를 참고하여 작성하시오. (0.1점)\n",
    "L_at = ['@@'] * 20\n",
    "print(L_at)"
   ]
  },
  {
   "cell_type": "code",
   "execution_count": 55,
   "id": "e2960ed5-ccf0-4007-96b4-b8fdad4305fc",
   "metadata": {},
   "outputs": [
    {
     "name": "stdout",
     "output_type": "stream",
     "text": [
      "True\n",
      "True\n"
     ]
    }
   ],
   "source": [
    "# 5 \n",
    "# comparison bewteen lists\n",
    "print([1, 2, 3] == [1, 2, 3])   \n",
    "print([1, 2, 3] != [4, 5, 6])"
   ]
  },
  {
   "cell_type": "code",
   "execution_count": 10,
   "id": "12613577-3210-4506-bf53-37a468acd30f",
   "metadata": {},
   "outputs": [
    {
     "name": "stdout",
     "output_type": "stream",
     "text": [
      "True\n",
      "True\n",
      "True\n"
     ]
    }
   ],
   "source": [
    "# 6 \n",
    "# comparison bewteen lists\n",
    "print([1, 2, 3] < [1, 2, 4])               \n",
    "print([2, 3] > [1, 2, 3])                    \n",
    "print (['a', 2, 'cd'] <= ['b', 1, 'cd'])   "
   ]
  },
  {
   "cell_type": "code",
   "execution_count": 56,
   "id": "7109cd0f-9be9-4f66-b887-e61d84e5b01e",
   "metadata": {},
   "outputs": [
    {
     "name": "stdout",
     "output_type": "stream",
     "text": [
      "False\n",
      "True\n",
      "True\n",
      "False\n",
      "True\n",
      "False\n"
     ]
    }
   ],
   "source": [
    "# M5 \n",
    "# 두 개의 list 변수 a_list와 b_list를 정의하고, \n",
    "# 이 list들에 대해 5, 6번에 있는 비교 operation들을 적용하고 \n",
    "# 그 결과를 출력하시오. (0.2점)\n",
    "a_list = [1, 2, 3]\n",
    "b_list = [2, 3, 4]\n",
    "print(a_list == b_list)\n",
    "print(a_list != b_list)\n",
    "print(a_list < b_list)\n",
    "print(a_list > b_list)\n",
    "print(a_list <= b_list)\n",
    "print(a_list >= b_list)"
   ]
  },
  {
   "cell_type": "code",
   "execution_count": 12,
   "id": "4838dbd8-6b91-4b12-95f7-34f2ba77034c",
   "metadata": {},
   "outputs": [
    {
     "name": "stdout",
     "output_type": "stream",
     "text": [
      "['hello', 'good morning', 'hi', 'good bye']\n"
     ]
    }
   ],
   "source": [
    "# 7 \n",
    "# append a new element to a list\n",
    "L = ['hello', 'good morning', 'hi']\n",
    "L.append('good bye')\n",
    "print(L)"
   ]
  },
  {
   "cell_type": "code",
   "execution_count": 63,
   "id": "8704da9a-7c43-4245-b7b3-63e9bbea2826",
   "metadata": {},
   "outputs": [
    {
     "name": "stdout",
     "output_type": "stream",
     "text": [
      "['hello', 'good morning', 'hi', 'good night']\n",
      "['hello', 'good morning', 'hi', 'good night']\n"
     ]
    }
   ],
   "source": [
    "# M6 \n",
    "# 아래의 list L에 'good night'을 추가하는 코드를 작성하되, \n",
    "# append()를 사용하여 추가하기 (0.1점)\n",
    "L = ['hello', 'good morning', 'hi']\n",
    "L.append('good night')\n",
    "print(L)\n",
    "\n",
    "# '+' 연산을 사용하여 추가하기 (0.1점)\n",
    "L = ['hello', 'good morning', 'hi']\n",
    "L += ['good night']\n",
    "print(L)\n"
   ]
  },
  {
   "cell_type": "code",
   "execution_count": 14,
   "id": "1e46a657-0375-4f7c-b1fb-74a3d437f43c",
   "metadata": {},
   "outputs": [
    {
     "name": "stdout",
     "output_type": "stream",
     "text": [
      "[1, 2, 3, 4, 5, 6, 7, 8]\n"
     ]
    }
   ],
   "source": [
    "# 8 \n",
    "# list sorting\n",
    "L = list(range(1,9,2)) + list(range(2,9,2))\n",
    "L.sort()\n",
    "print(L)"
   ]
  },
  {
   "cell_type": "markdown",
   "id": "61c914a2-2ec7-4916-98b7-da88cde317ee",
   "metadata": {},
   "source": [
    "## tuple"
   ]
  },
  {
   "cell_type": "code",
   "execution_count": 15,
   "id": "c4d84f98-3ac5-4fda-847d-1d967c22288b",
   "metadata": {},
   "outputs": [
    {
     "name": "stdout",
     "output_type": "stream",
     "text": [
      "(1, 2, 3, 4, 5)\n",
      "(1, 2, 3, 4, 5)\n"
     ]
    }
   ],
   "source": [
    "# 9  \n",
    "# tuple creation \n",
    "my_tuple = tuple([1, 2, 3, 4, 5]) \n",
    "print(my_tuple)\n",
    "\n",
    "my_tuple_r = tuple(range(1,6))\n",
    "print(my_tuple_r)"
   ]
  },
  {
   "cell_type": "code",
   "execution_count": 16,
   "id": "f4e5d728-030a-4a71-a1f3-c43eaf17263b",
   "metadata": {},
   "outputs": [
    {
     "name": "stdout",
     "output_type": "stream",
     "text": [
      "1\n"
     ]
    }
   ],
   "source": [
    "# 9-1 \n",
    "# tuple indexing \n",
    "print(my_tuple[0])"
   ]
  },
  {
   "cell_type": "code",
   "execution_count": 17,
   "id": "939b1a3b-104e-4304-bd52-cb16dc27357d",
   "metadata": {},
   "outputs": [
    {
     "name": "stdout",
     "output_type": "stream",
     "text": [
      "5\n"
     ]
    }
   ],
   "source": [
    "# 9-2 \n",
    "# negative indexing: accessing elements in reverse order\n",
    "print(my_tuple[-1])"
   ]
  },
  {
   "cell_type": "code",
   "execution_count": 18,
   "id": "1dfc4014-a83e-41ba-a166-278b64dd22b9",
   "metadata": {},
   "outputs": [
    {
     "name": "stdout",
     "output_type": "stream",
     "text": [
      "(2, 4)\n"
     ]
    }
   ],
   "source": [
    "# 9-3 \n",
    "# slicing [start:end:step]\n",
    "print(my_tuple[1:4:2])"
   ]
  },
  {
   "cell_type": "code",
   "execution_count": 5,
   "id": "43619066-e73a-4971-97b6-192b9ab09d88",
   "metadata": {},
   "outputs": [
    {
     "name": "stdout",
     "output_type": "stream",
     "text": [
      "1\n",
      "10\n",
      "(2, 4, 6)\n"
     ]
    }
   ],
   "source": [
    "# M7 \n",
    "# 7개 이상의 요소를 갖는 tuple 변수인 sample_tuple을 만들고,\n",
    "# 첫 번째 요소, 마지막 요소를 출력하는 코드를 작성하시오. (0.2점)\n",
    "# 9-3의 코드를 참고하여 두번째, 네번째, 여섯번째 요소만 추출해서 \n",
    "# 새로운 변수에 저장하는 코드를 작성하시오. (0.2점)\n",
    "\n",
    "sample_tuple = tuple(range(1,11)) # 1 2 3 4 5 6 7 8 9 10\n",
    "print(sample_tuple[0])\n",
    "print(sample_tuple[-1])\n",
    "\n",
    "new_tuple = sample_tuple[1:6:2]\n",
    "\n",
    "print(new_tuple)\n"
   ]
  },
  {
   "cell_type": "code",
   "execution_count": 20,
   "id": "c9eda237-41a1-4ecd-8d39-23d05bf682fb",
   "metadata": {},
   "outputs": [
    {
     "name": "stdout",
     "output_type": "stream",
     "text": [
      "(1, 2, 3, 4, 5, 6, 7)\n"
     ]
    }
   ],
   "source": [
    "# 10 \n",
    "# tuple addition\n",
    "new_tuple = my_tuple + (6, 7)\n",
    "print(new_tuple)"
   ]
  },
  {
   "cell_type": "code",
   "execution_count": 6,
   "id": "9ed8af0a-7053-493c-ad96-d847a7af0daa",
   "metadata": {},
   "outputs": [
    {
     "name": "stdout",
     "output_type": "stream",
     "text": [
      "(6, 7, 8, 9, 10)\n",
      "(1, 2, 3, 4, 5)\n",
      "(1, 2, 3, 4, 5, 6, 7, 8, 9, 10)\n"
     ]
    }
   ],
   "source": [
    "# M8 \n",
    "# range()를 사용해서 \n",
    "# 6부터 10까지의 정수를 원소로 갖는 num_tuple1을 만드는 코드를 작성하시오 (0.2점)\n",
    "# 1부터 5까지의 정수를 원소로 갖는 num_tuple2를 민드는 코드를 작성하시오 (0.2점)\n",
    "# num_tuple1과 num_tuple2를 사용해서 \n",
    "# 1부터 10까지의 정수를 원소로 갖는 num_tuple3를 만드는 코드를 작성하시오. (0.2점)\n",
    "\n",
    "num_tuple1 = tuple(range(6,11))\n",
    "print(num_tuple1)\n",
    "\n",
    "num_tuple2 = tuple(range(1,6))\n",
    "print(num_tuple2)\n",
    "\n",
    "num_tuple3 = num_tuple2 + num_tuple1\n",
    "print(num_tuple3)\n"
   ]
  },
  {
   "cell_type": "code",
   "execution_count": 22,
   "id": "b2b310b0-cb70-4096-bbae-fa3b5e590d69",
   "metadata": {},
   "outputs": [
    {
     "name": "stdout",
     "output_type": "stream",
     "text": [
      "(1, 2, 3, 1, 2, 3)\n"
     ]
    }
   ],
   "source": [
    "# 11\n",
    "# '*' opration of tuple\n",
    "new_tuple = (1, 2, 3) * 2\n",
    "print(new_tuple)"
   ]
  },
  {
   "cell_type": "code",
   "execution_count": 23,
   "id": "bb3f9423-3937-4efe-9ad5-eb932c0200b2",
   "metadata": {},
   "outputs": [
    {
     "name": "stdout",
     "output_type": "stream",
     "text": [
      "(2, 2)\n"
     ]
    }
   ],
   "source": [
    "# 11-1\n",
    "# '*' opration of tuple (single element)\n",
    "duplicate_tuple = (2,)*2 # ,가 없으면 단순한 숫자 하나를 ()로 싸고 있는 것으로 이해       \n",
    "print(duplicate_tuple)"
   ]
  },
  {
   "cell_type": "code",
   "execution_count": 24,
   "id": "ec8798ad-007a-47a8-8e64-62d8b7a6fc75",
   "metadata": {},
   "outputs": [
    {
     "name": "stdout",
     "output_type": "stream",
     "text": [
      "True\n"
     ]
    }
   ],
   "source": [
    "# 11-2\n",
    "# membership check\n",
    "my_tuple = (1, 2, 3, 4, 5) # my_tuple = tuple(range(1,6))와 동일\n",
    "\n",
    "print(3 in my_tuple)"
   ]
  },
  {
   "cell_type": "code",
   "execution_count": 25,
   "id": "ee70976b-1d87-42c4-b726-fa012eb5fa60",
   "metadata": {},
   "outputs": [
    {
     "name": "stdout",
     "output_type": "stream",
     "text": [
      "1 2 3 4 5\n"
     ]
    }
   ],
   "source": [
    "# 11-3\n",
    "# multiple variables assignment\n",
    "my_tuple = (1, 2, 3, 4, 5) # my_tuple = tuple(range(1,6))와 동일\n",
    "\n",
    "a, b, c, d, e = my_tuple\n",
    "print(a, b, c, d, e)"
   ]
  },
  {
   "cell_type": "code",
   "execution_count": 9,
   "id": "5fa66916-1d8c-4c5d-8aa7-ea170963e72b",
   "metadata": {},
   "outputs": [],
   "source": [
    "# M9  \n",
    "# 11-1과 11-3을  참고하여 하나의 할당문으로 4개의 변수 a, b, c, d에 30을 할당하는 코드를 작성하시오. (0.2점)\n",
    "a, b, c, d = (30,)*4"
   ]
  },
  {
   "cell_type": "code",
   "execution_count": null,
   "id": "46f0d244-8cb4-472a-8078-90c587208e65",
   "metadata": {},
   "outputs": [],
   "source": [
    "## set"
   ]
  },
  {
   "cell_type": "code",
   "execution_count": 10,
   "id": "22601b39-bcb4-4e58-b794-e397ec7e4889",
   "metadata": {},
   "outputs": [
    {
     "name": "stdout",
     "output_type": "stream",
     "text": [
      "{1, 2, 7}\n"
     ]
    }
   ],
   "source": [
    "# 12  \n",
    "# set 만들기\n",
    "s1 = {1, 7, 2}\n",
    "print(s1)"
   ]
  },
  {
   "cell_type": "code",
   "execution_count": 11,
   "id": "1004c572-4973-4193-b35f-4513689c6901",
   "metadata": {},
   "outputs": [
    {
     "name": "stdout",
     "output_type": "stream",
     "text": [
      "{'l', 'h', 'o', 'e'}\n"
     ]
    }
   ],
   "source": [
    "# 13 \n",
    "# set 만들기: string을 set으로 변환\n",
    "s2 = set('hello')\n",
    "print(s2)"
   ]
  },
  {
   "cell_type": "code",
   "execution_count": 12,
   "id": "91356e98-20f5-4da7-97ac-bf8dd936961b",
   "metadata": {},
   "outputs": [
    {
     "name": "stdout",
     "output_type": "stream",
     "text": [
      "{'a', 'o', 'l', 'w', 's'}\n",
      "['a', 'l', 'o', 's', 'w']\n",
      "{'a', 'o', 'l', 'w', 's'}\n"
     ]
    }
   ],
   "source": [
    "# 14 \n",
    "# set 만들기: string을 list로 변환하고 이를 다시 set으로 변환 \n",
    "s3=set(list('swallow')) # list('swallow') ==> ['s','w','a','l','l','o','w']\n",
    "print(s3)\n",
    "print(sorted(s3)) \n",
    "print(s3)"
   ]
  },
  {
   "cell_type": "code",
   "execution_count": 13,
   "id": "c8d79ef7-7251-4d23-a45f-c02257a7f8b3",
   "metadata": {},
   "outputs": [
    {
     "name": "stdout",
     "output_type": "stream",
     "text": [
      "True\n",
      "True\n"
     ]
    }
   ],
   "source": [
    "# 15 \n",
    "# set 안에 요소가 있는지 확인\n",
    "print (7 in s1)\n",
    "print (4 not in s1)"
   ]
  },
  {
   "cell_type": "code",
   "execution_count": 14,
   "id": "ba8313a9-fe71-411d-b83b-e1df6f3aca2e",
   "metadata": {},
   "outputs": [
    {
     "name": "stdout",
     "output_type": "stream",
     "text": [
      "{1, 2, 5, 7}\n"
     ]
    }
   ],
   "source": [
    "# 16 \n",
    "# set에 요소 추가\n",
    "s1.add(5)\n",
    "print(s1)"
   ]
  },
  {
   "cell_type": "code",
   "execution_count": 15,
   "id": "4c27a681-3e62-4adb-9bc3-a597880e63f6",
   "metadata": {},
   "outputs": [
    {
     "name": "stdout",
     "output_type": "stream",
     "text": [
      "{1, 2, 3, 4, 5, 6}\n"
     ]
    }
   ],
   "source": [
    "# M10\n",
    "# 5개의 요소를 갖는 set인 변수 sample_set을 정의하고, \n",
    "# 새로운 요소를 하나 추가하고 sample_set을 출력하는 코드를 작성하시오 (0.3점)\n",
    "sample_set = {1, 2, 3, 4, 5}\n",
    "sample_set.add(6)\n",
    "print(sample_set)\n"
   ]
  },
  {
   "cell_type": "code",
   "execution_count": 33,
   "id": "822c0add-825b-4f65-9c7b-f28977b7e202",
   "metadata": {},
   "outputs": [
    {
     "name": "stdout",
     "output_type": "stream",
     "text": [
      "Union: {'Beaver', 'Lion', 'Bison', 'Dog', 'Otter', 'Cat', 'Lynx', 'Wolf', 'Chiken', 'Deer', 'Moose'}\n",
      "Intersection: {'Wolf', 'Deer', 'Lynx'}\n",
      "Difference: {'Beaver', 'Otter', 'Moose', 'Bison'}\n"
     ]
    }
   ],
   "source": [
    "# 17 합집합, 교집합, 차집합 구하기\n",
    "s1={'Bison', 'Moose', 'Deer', 'Lynx', 'Wolf', 'Beaver', 'Otter'}\n",
    "s2={'Dog', 'Lion', 'Deer', 'Lynx', 'Wolf', 'Cat', 'Chiken'}\n",
    "print(\"Union:\", end=\" \")\n",
    "print(s1 | s2)\n",
    "print(\"Intersection:\", end=\" \")\n",
    "print(s1 & s2)\n",
    "print(\"Difference:\", end=\" \")\n",
    "print(s1 - s2)"
   ]
  },
  {
   "cell_type": "code",
   "execution_count": 34,
   "id": "0a538a7c-4a70-40b3-b4cc-e79e18d81105",
   "metadata": {},
   "outputs": [
    {
     "name": "stdout",
     "output_type": "stream",
     "text": [
      "True\n",
      "False\n"
     ]
    }
   ],
   "source": [
    "# 18 \n",
    "# 합집합, 교집합, 차집합 구하기\n",
    "s3 = s1 | s2\n",
    "print(s3 > s2)\n",
    "print(s2 <= s1)"
   ]
  },
  {
   "cell_type": "code",
   "execution_count": 20,
   "id": "322cdd4a-3ad3-4022-a593-47ad29515ade",
   "metadata": {},
   "outputs": [
    {
     "name": "stdout",
     "output_type": "stream",
     "text": [
      "{'p', 'a', 'i', 'h', 'o', 'n', 'l', 'u', 't'}\n"
     ]
    }
   ],
   "source": [
    "# M11\n",
    "# 두 개의 string 'floccinaucinihilipilification'과 \n",
    "#'hippopotomonstrosesquippedaliophobia'에 공통으로 사용된 글자를 \n",
    "# 출력하는 코드를 작성하시오 (0.2점)\n",
    "print(set('floccinaucinihilipilification') & set('hippopotomonstrosesquippedaliophobia'))\n"
   ]
  },
  {
   "cell_type": "code",
   "execution_count": 44,
   "id": "0b7d3b7a-2f32-4156-9d41-bc0aaa7eb4eb",
   "metadata": {},
   "outputs": [
    {
     "name": "stdout",
     "output_type": "stream",
     "text": [
      "0.3333333333333333\n",
      "0.5\n"
     ]
    }
   ],
   "source": [
    "# M12\n",
    "# len()이라는 함수를 사용하면 set의 원소의 갯수를 알 수 있다\n",
    "# kang이 광철, 엘전, 포스, 현모의 주식을 보유하고 있고,\n",
    "# kim이 광철, 동지, 전공, 포스의 주식을 보유하고 있을 때,\n",
    "# 두 사람의 sorensen-dice index와 jaccard index를 계산하여 출력하는 코드를 작성하시오 (1점)\n",
    "\n",
    "kang = {'광철', '엘전', '포스', '현모'}\n",
    "kim = {'광철', '동지', '전공', '포스'}\n",
    "\n",
    "num_union = len(kang | kim)\n",
    "num_intersc = len(kang & kim)\n",
    "sum_of_num = len(kang) + len(kim)\n",
    "\n",
    "jac_index = num_intersc / num_union\n",
    "soren_index = 2 * num_intersc / sum_of_num\n",
    "print(jac_index)\n",
    "print(soren_index)\n"
   ]
  },
  {
   "cell_type": "markdown",
   "id": "bbc96f05-9c89-4593-b128-fad278d019d5",
   "metadata": {},
   "source": [
    "## Dictionary"
   ]
  },
  {
   "cell_type": "code",
   "execution_count": 24,
   "id": "fdb399d1-345e-4141-b4b1-bdb2a6eeec64",
   "metadata": {},
   "outputs": [],
   "source": [
    "# 과일 이름 영한사전\n",
    "dict_a = {'apple':'사과', 'banana':'바나나', 'kiwi':'키위'}"
   ]
  },
  {
   "cell_type": "code",
   "execution_count": 38,
   "id": "e954b0c8-f2be-4fb0-8508-09285d5975dd",
   "metadata": {},
   "outputs": [
    {
     "name": "stdout",
     "output_type": "stream",
     "text": [
      "True\n",
      "False\n",
      "False\n"
     ]
    }
   ],
   "source": [
    "# 19\n",
    "print('apple' in dict_a)      # key가 ‘apple’인 item이 dict_a에 있는지 확인, True/False\n",
    "print('melon' in dict_a)\n",
    "print('바나나' in dict_a)"
   ]
  },
  {
   "cell_type": "code",
   "execution_count": 39,
   "id": "e12b304e-475f-4d56-8fc8-4a5cfdf7f9c9",
   "metadata": {},
   "outputs": [
    {
     "name": "stdout",
     "output_type": "stream",
     "text": [
      "사과\n"
     ]
    }
   ],
   "source": [
    "# 20\n",
    "print(dict_a['apple'])        # key가 ‘apple’인 item의 value 읽기"
   ]
  },
  {
   "cell_type": "code",
   "execution_count": 40,
   "id": "71c26816-0007-48e0-9eab-5ccd0a55cb10",
   "metadata": {},
   "outputs": [
    {
     "name": "stdout",
     "output_type": "stream",
     "text": [
      "{'apple': '사과', 'banana': '바나나', 'kiwi': '키위', 'watermelon': '수박'}\n"
     ]
    }
   ],
   "source": [
    "# 21\n",
    "dict_a['watermelon'] = '수박'   # key가 ‘watermelon’인 item 추가, value는 ‘수박’\n",
    "print(dict_a)"
   ]
  },
  {
   "cell_type": "code",
   "execution_count": 41,
   "id": "b1e58a5b-9658-441d-8939-52b802ce1879",
   "metadata": {},
   "outputs": [
    {
     "name": "stdout",
     "output_type": "stream",
     "text": [
      "사과\n",
      "not yet\n"
     ]
    }
   ],
   "source": [
    "# 22\n",
    "print(dict_a.get('apple'))    # key가 ‘apple’인 item의 value 출력\n",
    "print(dict_a.get('cocoa', \"not yet\")) # key가 ‘cocoa’인 item이 없으면 ‘not yet’ 출력"
   ]
  },
  {
   "cell_type": "code",
   "execution_count": 42,
   "id": "de790090-053e-442b-8674-1d93c86e05c2",
   "metadata": {},
   "outputs": [
    {
     "name": "stdout",
     "output_type": "stream",
     "text": [
      "{'apple': '사과', 'kiwi': '키위', 'watermelon': '수박'}\n"
     ]
    }
   ],
   "source": [
    "# 23\n",
    "del dict_a['banana']           # key가 ‘banana’인 item 삭제\n",
    "print(dict_a)"
   ]
  },
  {
   "cell_type": "code",
   "execution_count": 43,
   "id": "ac0c1e67-e4ac-466b-97be-76439342d2ec",
   "metadata": {},
   "outputs": [
    {
     "name": "stdout",
     "output_type": "stream",
     "text": [
      "False\n"
     ]
    }
   ],
   "source": [
    "# 24\n",
    "dict_b= {'banana':'바나나', 'kiwi':'키위', 'apple':'사과'}\n",
    "print(dict_b == dict_a)"
   ]
  },
  {
   "cell_type": "code",
   "execution_count": 44,
   "id": "3078feab-d01e-4650-8817-3de21c8074d6",
   "metadata": {},
   "outputs": [],
   "source": [
    "# M13\n",
    "# 사과(apple), 복숭아(peach), 배(pear), 딸기(berry), 포도(grape)에 대한 한영사전 dict_ko_eng를 만들고,\n",
    "# 토마토(tomato)를 추가하고 (0.1),\n",
    "# 딸기의 영어 표현을 strawberry로 변경하고 (0.1),\n",
    "# 포도의 영어 표현이 무엇인지 알아내는 코드를 두 가지로 작성하시오. (0.1점)\n",
    "\n"
   ]
  }
 ],
 "metadata": {
  "kernelspec": {
   "display_name": "Python 3 (ipykernel)",
   "language": "python",
   "name": "python3"
  },
  "language_info": {
   "codemirror_mode": {
    "name": "ipython",
    "version": 3
   },
   "file_extension": ".py",
   "mimetype": "text/x-python",
   "name": "python",
   "nbconvert_exporter": "python",
   "pygments_lexer": "ipython3",
   "version": "3.11.6"
  }
 },
 "nbformat": 4,
 "nbformat_minor": 5
}
