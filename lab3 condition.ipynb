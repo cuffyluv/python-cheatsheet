{
 "cells": [
  {
   "cell_type": "markdown",
   "id": "761caaca-cefb-4b57-8025-9bec0aba6aaa",
   "metadata": {},
   "source": [
    "### 실습물 제출 가이드라인\n",
    "- 아래에 주어진 코드들을 실행해서 python의 동작 원리를 이해하시오. 그리고, # M 으로 주어진 부분은 코드를 작성하고 실행하시오.\n",
    "- 주어진 코드들을 다 실행해 보고 결과를 확인하면 3점을 부여합니다.\n",
    "- \"# M\"으로 주어진 문제는 정확한 답을 작성하면 표기된 점수가 부여됩니다."
   ]
  },
  {
   "cell_type": "markdown",
   "id": "broken-charleston",
   "metadata": {},
   "source": [
    "## Conditional statement"
   ]
  },
  {
   "cell_type": "markdown",
   "id": "4f891e2e-411d-48b2-8bc8-4ead495ab173",
   "metadata": {},
   "source": [
    "* 거짓: `False`, `0`, `0j`, `0.0`, `\"\"`, `[]`, `()`, `{}`, `None`   \n",
    "* 참: 위의 거짓 조건에 해당하지 않는 모든 경우"
   ]
  },
  {
   "cell_type": "code",
   "execution_count": 41,
   "id": "1d28eaac-62ac-429d-a870-4ea368a84e19",
   "metadata": {},
   "outputs": [
    {
     "name": "stdout",
     "output_type": "stream",
     "text": [
      "False\n",
      "True\n",
      "True\n",
      "True\n",
      "True\n"
     ]
    }
   ],
   "source": [
    "# 1\n",
    "# python의 참, 거짓\n",
    "# bool()은 True, False 판단\n",
    "print(bool(0))       \n",
    "print(bool(1))       \n",
    "print(bool(-1))      \n",
    "print(bool(10.5))    \n",
    "print(bool(-10.5))   \n",
    "# bool 함수는 인자로 받은 게 True/False 어느 건지 판단해서 둘 중 하나를 반환함."
   ]
  },
  {
   "cell_type": "code",
   "execution_count": 42,
   "id": "04039eb5-3896-4a10-95d1-380bd1faf422",
   "metadata": {},
   "outputs": [
    {
     "name": "stdout",
     "output_type": "stream",
     "text": [
      "12\n",
      "hi\n",
      "{}\n",
      "{}\n",
      "{}\n"
     ]
    }
   ],
   "source": [
    "# 2\n",
    "# and 연산자\n",
    "print (10 - 5 and 4 * 3) # 왼쪽 operand가 True에 해당하므로 오른쪽 operand 값 확인\n",
    "print (\"hello\" and \"hi\") # 왼쪽 operand가 True에 해당하므로 오른쪽 operand 값 확인\n",
    "print ({1, 3, 5} and {})  # 왼쪽 operand가 True에 해당하므로 오른쪽 operand 값 확인\n",
    "print ({} and {1, 2, 5}) # 왼쪽 operand가 False에 해당하므로 그 값을 출력하고 종료\n",
    "print ({} and int(\"ㅂ\"))   \n",
    "# 오른쪽 operand를 평가하면 오류이나, \n",
    "# 왼쪽 operand가 False에 해당하므로 오른쪽 operand를 평가하지 않음. 오류 발견 못함"
   ]
  },
  {
   "cell_type": "code",
   "execution_count": 43,
   "id": "bb33236d-5008-46ea-aca6-b0832353fb02",
   "metadata": {},
   "outputs": [
    {
     "name": "stdout",
     "output_type": "stream",
     "text": [
      "5\n",
      "hello\n",
      "{1, 3, 5}\n",
      "{1, 2, 5}\n"
     ]
    },
    {
     "ename": "ValueError",
     "evalue": "invalid literal for int() with base 10: 'ㅂ'",
     "output_type": "error",
     "traceback": [
      "\u001b[0;31m---------------------------------------------------------------------------\u001b[0m",
      "\u001b[0;31mValueError\u001b[0m                                Traceback (most recent call last)",
      "Cell \u001b[0;32mIn[43], line 8\u001b[0m\n\u001b[1;32m      6\u001b[0m \u001b[38;5;28mprint\u001b[39m ({\u001b[38;5;241m1\u001b[39m, \u001b[38;5;241m3\u001b[39m, \u001b[38;5;241m5\u001b[39m} \u001b[38;5;129;01mor\u001b[39;00m {}) \u001b[38;5;66;03m# 왼쪽 operand가 True에 해당하므로 그 값으로 연산 끝\u001b[39;00m\n\u001b[1;32m      7\u001b[0m \u001b[38;5;28mprint\u001b[39m ({} \u001b[38;5;129;01mor\u001b[39;00m {\u001b[38;5;241m1\u001b[39m, \u001b[38;5;241m2\u001b[39m, \u001b[38;5;241m5\u001b[39m}) \u001b[38;5;66;03m# 왼쪽 operand가 False에 해당하므로 오른쪽 operand 값 평가\u001b[39;00m\n\u001b[0;32m----> 8\u001b[0m \u001b[38;5;28mprint\u001b[39m ({} \u001b[38;5;129;01mor\u001b[39;00m \u001b[38;5;28;43mint\u001b[39;49m\u001b[43m(\u001b[49m\u001b[38;5;124;43m\"\u001b[39;49m\u001b[38;5;124;43mㅂ\u001b[39;49m\u001b[38;5;124;43m\"\u001b[39;49m\u001b[43m)\u001b[49m)  \u001b[38;5;66;03m# 오류\u001b[39;00m\n\u001b[1;32m      9\u001b[0m \u001b[38;5;66;03m# 왼쪽 operand가 False에 해당하므로 오른쪽 operand 값 평가, 오른쪽 operand 오류 감지\u001b[39;00m\n",
      "\u001b[0;31mValueError\u001b[0m: invalid literal for int() with base 10: 'ㅂ'"
     ]
    }
   ],
   "source": [
    "# 3 \n",
    "# or 연산자\n",
    "\n",
    "print (10 - 5 or 4 * 3) # 왼쪽 operand가 True에 해당하므로 그 값으로 연산 끝\n",
    "print (\"hello\" or \"hi\") # 왼쪽 operand가 True에 해당하므로 그 값으로 연산 끝\n",
    "print ({1, 3, 5} or {}) # 왼쪽 operand가 True에 해당하므로 그 값으로 연산 끝\n",
    "print ({} or {1, 2, 5}) # 왼쪽 operand가 False에 해당하므로 오른쪽 operand 값 평가\n",
    "print ({} or int(\"ㅂ\"))  # 오류\n",
    "# 왼쪽 operand가 False에 해당하므로 오른쪽 operand 값 평가, 오른쪽 operand 오류 감지"
   ]
  },
  {
   "cell_type": "code",
   "execution_count": 44,
   "id": "10386dcf-766f-47b7-a241-76020dda3f08",
   "metadata": {},
   "outputs": [
    {
     "name": "stdout",
     "output_type": "stream",
     "text": [
      "False\n",
      "True\n",
      "True\n",
      "False\n"
     ]
    }
   ],
   "source": [
    "# 4\n",
    "# not 연산자\n",
    "\n",
    "print(not 10 > 5)\n",
    "print(not (4 - 4 and 4 - 3))\n",
    "print(not ())\n",
    "print(not {1})"
   ]
  },
  {
   "cell_type": "code",
   "execution_count": 45,
   "id": "special-world",
   "metadata": {},
   "outputs": [
    {
     "name": "stdout",
     "output_type": "stream",
     "text": [
      "You are excellent.\n"
     ]
    }
   ],
   "source": [
    "# 5  \n",
    "# 조건문 기본\n",
    "score = 92\n",
    "if score > 90:\n",
    "    print(\"You are excellent.\")"
   ]
  },
  {
   "cell_type": "code",
   "execution_count": 46,
   "id": "chief-pontiac",
   "metadata": {},
   "outputs": [
    {
     "name": "stdout",
     "output_type": "stream",
     "text": [
      "You are brilliant.\n"
     ]
    }
   ],
   "source": [
    "# 6\n",
    "score = 83\n",
    "if 80 <= score < 90:   # 범위를 주고 비교하는 것이 가능\n",
    "    print(\"You are brilliant.\")"
   ]
  },
  {
   "cell_type": "code",
   "execution_count": 47,
   "id": "temporal-election",
   "metadata": {},
   "outputs": [
    {
     "name": "stdout",
     "output_type": "stream",
     "text": [
      "Enjoy your time.\n"
     ]
    }
   ],
   "source": [
    "# 7\n",
    "weather = \"sunny\"\n",
    "if weather != \"rainy\":\n",
    "    print(\"Enjoy your time.\")"
   ]
  },
  {
   "cell_type": "code",
   "execution_count": 50,
   "id": "failing-doubt",
   "metadata": {},
   "outputs": [
    {
     "name": "stdout",
     "output_type": "stream",
     "text": [
      "You don't have enough money\n",
      "It's not yours.\n"
     ]
    }
   ],
   "source": [
    "# 8\n",
    "money = 1000\n",
    "cost = 500\n",
    "if money - cost > 500:\n",
    "    print(\"You have enough money\")\n",
    "    print(\"You can buy it.\")\n",
    "else:\n",
    "    print(\"You don't have enough money\")\n",
    "    print(\"It's not yours.\")"
   ]
  },
  {
   "cell_type": "code",
   "execution_count": 51,
   "id": "allied-citation",
   "metadata": {},
   "outputs": [
    {
     "name": "stdout",
     "output_type": "stream",
     "text": [
      "go by taxi\n"
     ]
    }
   ],
   "source": [
    "# 9  \n",
    "# 'in'이라는 operator 익히기\n",
    "if \"money\" in ['money', 'paper', 'smartphone']:\n",
    "    print(\"go by taxi\") "
   ]
  },
  {
   "cell_type": "code",
   "execution_count": 52,
   "id": "fafa979a-e93a-47d2-9586-d96383870c8c",
   "metadata": {},
   "outputs": [
    {
     "name": "stdin",
     "output_type": "stream",
     "text": [
      "Let me know what you have: cup\n"
     ]
    },
    {
     "name": "stdout",
     "output_type": "stream",
     "text": [
      "I have it too\n"
     ]
    }
   ],
   "source": [
    "# M1 \n",
    "# 사용자에게 무엇을 갖고 있는지 입력하게 하고, \n",
    "# 내가 갖고 있는 것과 겹치는 것인지 아닌지 출력하시오. \n",
    "# 나는 \"mouse\", \"pad\", \"cup\", \"brush\", \"pen\"을 갖고 있다. (0.5점)\n",
    "# \n",
    "# 실행 예1)\n",
    "# Let me know what you have: cup\n",
    "# I have it too\n",
    "#\n",
    "# 실행 예2)\n",
    "# Let me know what you have: bag\n",
    "# I don't have it\n",
    "\n",
    "mine = (\"mouse\", \"pad\", \"cup\", \"brush\", \"pen\") # 리스트로도 정의 가능\n",
    "yours = input('Let me know what you have:')\n",
    "if yours in mine:\n",
    "    print('I have it too')\n",
    "else:\n",
    "    print(\"I don't have it\")"
   ]
  },
  {
   "cell_type": "code",
   "execution_count": 53,
   "id": "2f7a94c4-e73b-4ea6-96d4-b33afa52da5f",
   "metadata": {},
   "outputs": [
    {
     "name": "stdin",
     "output_type": "stream",
     "text": [
      "Enter a positive number: 14\n"
     ]
    },
    {
     "name": "stdout",
     "output_type": "stream",
     "text": [
      "14 is an even number.\n"
     ]
    }
   ],
   "source": [
    "# M2\n",
    "# 사용자에게 하나의 숫자를 입력받아서, 홀수인지 짝수인지 판단하여 출력하시오. (0.3점)\n",
    "# 실행 예를 참고하되 입력, 출력 문장은 자유롭게 변경 가능\n",
    "# 실행 예1)\n",
    "# Enter a positive number: 14\n",
    "# 14 is an even number.\n",
    "#\n",
    "# 실행 예2)\n",
    "# Enter a positive number: 7\n",
    "# 7 is an odd number.\n",
    "\n",
    "num = input('Enter a positive number:')\n",
    "try:\n",
    "    num = int(num)\n",
    "    #if num < 0:\n",
    "    #    print('Please enter a positive number.')\n",
    "    if num % 2 == 1: # 홀수\n",
    "        print(f'{num} is an odd number.')\n",
    "    elif num % 2 == 0: # 짝수\n",
    "        print(f'{num} is an even number.')\n",
    "except ValueError:\n",
    "    print(f\"Invalid input\")"
   ]
  },
  {
   "cell_type": "code",
   "execution_count": 54,
   "id": "headed-priority",
   "metadata": {},
   "outputs": [
    {
     "name": "stdin",
     "output_type": "stream",
     "text": [
      "Enter an expression with two operands (+, -, *): 4 ** 6\n"
     ]
    },
    {
     "name": "stdout",
     "output_type": "stream",
     "text": [
      "**: unknown operator\n"
     ]
    }
   ],
   "source": [
    "# M3 \n",
    "# 사용자에게 정수로 된 사칙연산 수식을 입력받아서 계산 결과를 출력하는 코드를 작성하시오\n",
    "# (0.7점)\n",
    "# 수식 입력 시 operand와 operator 사이에 공백이 있다고 가정한다. \n",
    "# +, -, * 외의 operator가 입력되면 operator와 \"unknown operator\"라고 출력한다.\n",
    "#\n",
    "# 실행 예1)\n",
    "# Enter an expression with two operands (+, -, *): 4 + 6\n",
    "# 10\n",
    "#\n",
    "# 실행 예2)\n",
    "# Enter an expression with two operands (+, -, *): 4 * 6\n",
    "# 24\n",
    "#\n",
    "# 실행 예3)\n",
    "# Enter an expression with two operands (+, -, *): 4 ** 6\n",
    "# **: unknown operator\n",
    "\n",
    "oper1, operator, oper2 = input('Enter an expression with two operands (+, -, *):').split()\n",
    "oper1 = int(oper1)\n",
    "oper2 = int(oper2)\n",
    "\n",
    "if operator == '+':\n",
    "    print(oper1 + oper2)\n",
    "elif operator == '-':\n",
    "    print(oper1 - oper2)\n",
    "elif operator == '*':\n",
    "    print(oper1 * oper2)\n",
    "else:\n",
    "    print(f'{operator}: unknown operator')"
   ]
  },
  {
   "cell_type": "code",
   "execution_count": 55,
   "id": "ff7ef0d0-2c05-4c80-9dc0-12a0eadea971",
   "metadata": {},
   "outputs": [
    {
     "name": "stdout",
     "output_type": "stream",
     "text": [
      "hi\n"
     ]
    }
   ],
   "source": [
    "#### 10\n",
    "# 0, \"\", [], (), {}이 아니면 True로 인정\n",
    "if 3 % 2:\n",
    "    print (\"hi\")\n",
    "else:\n",
    "    print(\"low\")"
   ]
  },
  {
   "cell_type": "code",
   "execution_count": 56,
   "id": "dated-aerospace",
   "metadata": {},
   "outputs": [
    {
     "name": "stdout",
     "output_type": "stream",
     "text": [
      "low\n"
     ]
    }
   ],
   "source": [
    "# 11\n",
    "# 0, \"\", [], (), {}이면 False로 인정\n",
    "if {3, 4, 5} & {2}:\n",
    "    print (\"hi\")\n",
    "else:\n",
    "    print(\"low\")"
   ]
  },
  {
   "cell_type": "code",
   "execution_count": 57,
   "id": "enabling-competition",
   "metadata": {},
   "outputs": [
    {
     "name": "stdout",
     "output_type": "stream",
     "text": [
      "You still have many things.\n"
     ]
    }
   ],
   "source": [
    "# 12\n",
    "have = {'book', 'phone', 'notebook', 'diary', 'pen'}\n",
    "drop = {'pen', 'diary'}\n",
    "if have - drop:\n",
    "    print(\"You still have many things.\")\n",
    "else:\n",
    "    print(\"You are broke.\")"
   ]
  },
  {
   "cell_type": "code",
   "execution_count": 58,
   "id": "naked-declaration",
   "metadata": {},
   "outputs": [
    {
     "name": "stdout",
     "output_type": "stream",
     "text": [
      "Go for a picnic\n"
     ]
    }
   ],
   "source": [
    "# 13\n",
    "weather = \"sunny\"\n",
    "friends = 'idle'\n",
    "if weather == \"sunny\":\n",
    "    print(\"Go for a picnic\")\n",
    "elif friends == 'idle':\n",
    "    print(\"Go see a movie\")"
   ]
  },
  {
   "cell_type": "code",
   "execution_count": 59,
   "id": "referenced-suicide",
   "metadata": {},
   "outputs": [
    {
     "name": "stdout",
     "output_type": "stream",
     "text": [
      "Either a or b is positive.\n"
     ]
    }
   ],
   "source": [
    "# 14\n",
    "# 두 개의 서로 독립된 조건 만족 여부 확인\n",
    "a, b = 1, 2\n",
    "if a > 0 or b > 0:\n",
    "    print(\"Either a or b is positive.\")\n",
    "else:\n",
    "    print(\"Neither a nor b are positive.\")"
   ]
  },
  {
   "cell_type": "code",
   "execution_count": 60,
   "id": "champion-fortune",
   "metadata": {},
   "outputs": [
    {
     "name": "stdout",
     "output_type": "stream",
     "text": [
      "Your grade is good\n"
     ]
    }
   ],
   "source": [
    "# 15 \n",
    "# 두 개의 서로 다른 조건 만족 여부 확인\n",
    "score, absence = 92, 2\n",
    "if score > 90 and absence < 3: \n",
    "    print(\"Your grade is good\") "
   ]
  },
  {
   "cell_type": "code",
   "execution_count": 61,
   "id": "regional-tennessee",
   "metadata": {},
   "outputs": [
    {
     "name": "stdout",
     "output_type": "stream",
     "text": [
      "negative\n"
     ]
    }
   ],
   "source": [
    "# 16\n",
    "# 변수의 값이 여러 개의 겹치지 않는 범위에 대해서 어느 범위에 속하는지 확인  (if 반복)\n",
    "x = -1\n",
    "if x > 0:\n",
    "    print('positive')\n",
    "if x == 0:\n",
    "    print ('zero')\n",
    "if x < 0:\n",
    "    print ('negative')"
   ]
  },
  {
   "cell_type": "code",
   "execution_count": 62,
   "id": "built-houston",
   "metadata": {},
   "outputs": [
    {
     "name": "stdout",
     "output_type": "stream",
     "text": [
      "negative\n"
     ]
    }
   ],
   "source": [
    "# 17 \n",
    "# 변수의 값이 여러 개의 겹치지 않는 범위에 대해서 어느 범위에 속하는지 확인  (else 활용)\n",
    "x = -1\n",
    "if x > 0:\n",
    "    print('positive')\n",
    "else:\n",
    "    if x == 0:\n",
    "        print ('zero')\n",
    "    else: \n",
    "        if x < 0:\n",
    "            print ('negative')"
   ]
  },
  {
   "cell_type": "code",
   "execution_count": 63,
   "id": "other-blanket",
   "metadata": {},
   "outputs": [
    {
     "name": "stdout",
     "output_type": "stream",
     "text": [
      "negative\n"
     ]
    }
   ],
   "source": [
    "# 18 \n",
    "# 변수의 값이 여러 개의 겹치지 않는 범위에 대해서 어느 범위에 속하는지 확인  (elif로 압축)\n",
    "x = -1\n",
    "if x > 0:\n",
    "    print('positive')\n",
    "elif x == 0:\n",
    "    print('zero')\n",
    "else:\n",
    "    print('negative')"
   ]
  },
  {
   "cell_type": "code",
   "execution_count": 64,
   "id": "sudden-bennett",
   "metadata": {},
   "outputs": [],
   "source": [
    "# M4 \n",
    "# 사용자의 나이를 입력받아서 age에 저장하고,\n",
    "# age가 18보다 작거나 같으면 'You are a teenager', \n",
    "# 18 초과 35 미만이면 'You are a youth', \n",
    "# 35 이상 'You are an adult'라고 출력하는 코드를 \n",
    "# if, elif, else를 이용하여 작성하시오. (0.3점)\n",
    "#\n",
    "# 실행 예)\n",
    "# Enter your age: 20\n",
    "# You are a youth\n"
   ]
  },
  {
   "cell_type": "code",
   "execution_count": 65,
   "id": "ef651869-bce7-4ad2-a4c8-17b72ff34591",
   "metadata": {},
   "outputs": [
    {
     "name": "stdin",
     "output_type": "stream",
     "text": [
      "Enter your height and weight in cm and kg: 170.5 67.2\n"
     ]
    },
    {
     "name": "stdout",
     "output_type": "stream",
     "text": [
      "BMI = 23.116416267489956, overweight\n"
     ]
    }
   ],
   "source": [
    "# M5 \n",
    "# 사용자의 키(cm)와 몸무게(kg)를 입력받아 BMI를 계산하고, \n",
    "# BMI 수치에 따라 \"underweight\", \"normal\", \"overweight\", \"obese\"을 출력하는 코드를 작성하시오.\n",
    "# (0.7점)\n",
    "# map(), float(), if, elif, else를 사용하여 구현하시오. \n",
    "# \n",
    "# BMI 계산식은 몸무게(kg) / (키(m) * 키(m))\n",
    "# (BMI 기준: 18.5 미만은 \"underweight\", 18.5 이상 23 미만은 \"normal\", \n",
    "# 23 이상 25 미만은 \"overweight\", \n",
    "# 25 이상은 \"obese\"\n",
    "#\n",
    "# 실행 예1)\n",
    "# Enter your height and weight in cm and kg: 170.5 67.2\n",
    "# BMI = 23.116416267489956, overweight\n",
    "#\n",
    "# 실행 예2)\n",
    "# Enter your height and weight in cm and kg: 180 60\n",
    "# BMI = 18.51851851851852, normal\n",
    "#\n",
    "# 실행 예3)\n",
    "# Enter your height and weight in cm and kg: 180 50\n",
    "# BMI = 15.432098765432098, underweight\n",
    "\n",
    "height, weight = map(float, input('Enter your height and weight in cm and kg:').split())\n",
    "bmi = weight / ((height/100)*(height/100))\n",
    "print(f'BMI = {bmi},', end=' ')\n",
    "\n",
    "if bmi < 18.5:\n",
    "    print('underweight')\n",
    "elif 18.5 <= bmi < 23.0:\n",
    "    print('normal')\n",
    "elif 23 <= bmi < 25:\n",
    "    print('overweight')\n",
    "else:\n",
    "    print('obese')\n"
   ]
  },
  {
   "cell_type": "code",
   "execution_count": 24,
   "id": "experimental-strengthening",
   "metadata": {},
   "outputs": [
    {
     "name": "stdout",
     "output_type": "stream",
     "text": [
      "y is positive but x is not\n"
     ]
    }
   ],
   "source": [
    "# 19  \n",
    "# Nested conditions\n",
    "# 여러 개의 조건 만족 여부를 확인할 때, 조건문이 중첩되는 것이 가능\n",
    "x, y = -1, 1\n",
    "if x > 0:\n",
    "    if y > 0:\n",
    "        print(\"both x and y are positive\")\n",
    "    else:\n",
    "        print(\"x is positive but y is not\")\n",
    "else:\n",
    "    if y > 0:\n",
    "        print(\"y is positive but x is not\")\n",
    "    else:\n",
    "        print(\"neither x nor y is positive\")"
   ]
  },
  {
   "cell_type": "code",
   "execution_count": 25,
   "id": "valid-rally",
   "metadata": {},
   "outputs": [
    {
     "name": "stdout",
     "output_type": "stream",
     "text": [
      "penguin\n"
     ]
    }
   ],
   "source": [
    "# 20\n",
    "# Nested conditions\n",
    "wing, fly, fin = (True, False, True)\n",
    "\n",
    "if wing:\n",
    "    if fly:\n",
    "        animal = \"hawk\"\n",
    "    else:\n",
    "        animal = \"penguin\"\n",
    "else:\n",
    "    if fin:\n",
    "        animal = \"dolphin\"\n",
    "    else:\n",
    "        animal = \"bear\"\n",
    "print(animal)"
   ]
  },
  {
   "cell_type": "code",
   "execution_count": 26,
   "id": "5d610524-6894-4836-864c-0fdc1d6f7792",
   "metadata": {},
   "outputs": [
    {
     "name": "stdout",
     "output_type": "stream",
     "text": [
      "go to see a movie\n"
     ]
    }
   ],
   "source": [
    "# 21\n",
    "# Nested conditions\n",
    "me, weather, friends = (\"idle\", \"rainy\", \"idle\")\n",
    "if me == \"busy\":\n",
    "    state = \"stay home\"\n",
    "elif me == \"idle\":  # else: 도 허용\n",
    "    if weather == \"sunny\":\n",
    "        state = \"go to the beach\"\n",
    "    elif weather == \"cloudy\":\n",
    "        state = \"go running\"\n",
    "    elif weather == \"rainy\":\n",
    "        if friends == \"busy\":\n",
    "            state = \"stay home\"\n",
    "        elif friends == \"idle\":   # else: 도 허용\n",
    "            state = \"go to see a movie\"\n",
    "print(state)\n"
   ]
  },
  {
   "cell_type": "code",
   "execution_count": 33,
   "id": "82dcc9c6-4604-4352-b4a7-3c80e8e00524",
   "metadata": {},
   "outputs": [
    {
     "name": "stdin",
     "output_type": "stream",
     "text": [
      "Enter the lengths of three line segments: 3 0 15\n"
     ]
    },
    {
     "name": "stdout",
     "output_type": "stream",
     "text": [
      "You cannot make a triangle with them\n"
     ]
    }
   ],
   "source": [
    "# M6\n",
    "# 세 개의 선분의 길이를 입력 받아서 삼각형을 만들 수 있을지 판단하는 코드를 작성하시오.\n",
    "# (0.7점)\n",
    "# 선분의 길이로 음수를 입력하지 않는다고 가정한다.\n",
    "# 선분 중 하나라도 0이면 삼각형을 만들 수 없음을 표현한다\n",
    "# 삼각형이 되기 위한 세 선분의 길이 요건을 조건문으로 판단하고 출력한다.\n",
    "# nested condition이 되도록 구현하시오.\n",
    "# map()을 사용하시오.\n",
    "# \n",
    "# 실행 예1) \n",
    "# Enter the lengths of three line segments: 3 4 5\n",
    "# You can make a triangle with them\n",
    "\n",
    "# 실행 예2) \n",
    "# Enter the lengths of three line segments: 3 4 15\n",
    "# You cannot make a triangle with them\n",
    "\n",
    "# 실행 예2) \n",
    "# Enter the lengths of three line segments: 3 0 15\n",
    "# You cannot make a triangle with them\n",
    "\n",
    "a, b, c = map(int, input('Enter the lengths of three line segments:').split())\n",
    "if a == 0 or b == 0 or c == 0:\n",
    "    print('You cannot make a triangle with them')\n",
    "else:\n",
    "    if a + b > c and a + c > b and b + c > a: \n",
    "        print('You can make a triangle with them')\n",
    "    else:\n",
    "        print('You cannot make a triangle with them')\n",
    "    "
   ]
  },
  {
   "cell_type": "code",
   "execution_count": null,
   "id": "97bc0701-ff52-46bb-89de-c0e3a4dca1fb",
   "metadata": {},
   "outputs": [],
   "source": [
    "#### ternary operator"
   ]
  },
  {
   "cell_type": "code",
   "execution_count": 28,
   "id": "nervous-biography",
   "metadata": {},
   "outputs": [
    {
     "name": "stdout",
     "output_type": "stream",
     "text": [
      "O\n"
     ]
    }
   ],
   "source": [
    "# 22  \n",
    "# ternary operator: 할당문에서 if 문 사용 가능\n",
    "player = 'X'\n",
    "opponent = \"O\" if player == \"X\" else \"X\"\n",
    "print(opponent)"
   ]
  },
  {
   "cell_type": "code",
   "execution_count": 29,
   "id": "textile-aquarium",
   "metadata": {},
   "outputs": [
    {
     "name": "stdout",
     "output_type": "stream",
     "text": [
      "adult\n"
     ]
    }
   ],
   "source": [
    "# 23  \n",
    "# ternary operator: 할당문 내에서 if else 문 사용 가능\n",
    "age = 20\n",
    "status = \"adult\" if age >= 18 else \"minor\"\n",
    "print(status) # 성인"
   ]
  },
  {
   "cell_type": "code",
   "execution_count": 30,
   "id": "light-galaxy",
   "metadata": {},
   "outputs": [
    {
     "name": "stdout",
     "output_type": "stream",
     "text": [
      "Ticket price: $8\n"
     ]
    }
   ],
   "source": [
    "# 24\n",
    "# ternary operator: 할당문 내에서 if, else 중첩 가능\n",
    "age = 22\n",
    "is_student = True\n",
    "\n",
    "ticket_price = 12 if (age >= 18 and not is_student) \\\n",
    "          else 8 if (age >= 18 and is_student) \\\n",
    "          else 6\n",
    "print(f\"Ticket price: ${ticket_price}\")"
   ]
  },
  {
   "cell_type": "code",
   "execution_count": 31,
   "id": "b8b8baf7-920a-4e67-801e-1c693d2b3473",
   "metadata": {},
   "outputs": [
    {
     "name": "stdout",
     "output_type": "stream",
     "text": [
      "adult\n"
     ]
    }
   ],
   "source": [
    "# 25\n",
    "# ternary operator: 일반 명령문 내에서 if, else 중첩 가능\n",
    "age = 36\n",
    "print(\"teenager\") if age <= 18 else \\\n",
    "print(\"youth\") if 18 < age < 35 else print(\"adult\")"
   ]
  },
  {
   "cell_type": "code",
   "execution_count": 32,
   "id": "445497af-cb14-4e27-91d1-81bddb63ac68",
   "metadata": {},
   "outputs": [
    {
     "name": "stdout",
     "output_type": "stream",
     "text": [
      "youth\n"
     ]
    }
   ],
   "source": [
    "# 26\n",
    "# ternary operator: function parameter로 ternary operater 사용 가능\n",
    "age = 21\n",
    "print(\"teenager\" if age <= 18 else \"youth\" if 18 < age < 35 else \"adult\")"
   ]
  },
  {
   "cell_type": "code",
   "execution_count": 40,
   "id": "endangered-beauty",
   "metadata": {},
   "outputs": [
    {
     "name": "stdin",
     "output_type": "stream",
     "text": [
      "Enter your score: 78\n"
     ]
    },
    {
     "name": "stdout",
     "output_type": "stream",
     "text": [
      "Your grade is C\n"
     ]
    }
   ],
   "source": [
    "# M7\n",
    "# 점수를 입력 받아서 90점 이상이면 'Your grade is A', \n",
    "# 80점 이상 90점 미만이면 'Your grade is B',\n",
    "# 아니면 'Your grade is C'를 출력하는 코드를 ternary operator 방식으로 구현하시오. (0.3점)\n",
    "# 실행 예)\n",
    "# Enter your score: 78\n",
    "# Your grade is C\n",
    "\n",
    "grade = int(input('Enter your score:'))\n",
    "print('Your grade is A' if grade >= 90 else 'Your grade is B' if 80 <= grade < 90 else 'Your grade is C')\n"
   ]
  },
  {
   "cell_type": "markdown",
   "id": "7e498c11-851d-4446-b427-68c4f0b61da5",
   "metadata": {},
   "source": [
    "#### Logical operator를 사용한 code 간결화"
   ]
  },
  {
   "cell_type": "code",
   "execution_count": 34,
   "id": "45057f75-8c59-475c-aee6-0c15aba458cc",
   "metadata": {},
   "outputs": [
    {
     "name": "stdout",
     "output_type": "stream",
     "text": [
      "Default\n"
     ]
    }
   ],
   "source": [
    "# 27\n",
    "# user_input이 비어 있을 경우, default를 사용하게 하기\n",
    "\n",
    "user_input = \"\"  # 사용자 입력이 빈 문자열인 경우를 가정,\n",
    "default_value = \"Default\"\n",
    "\n",
    "# if user_input:\n",
    "#   final_value = user_input\n",
    "# else:\n",
    "#  final_value = default_value \n",
    "\n",
    "final_value = user_input or default_value\n",
    "print(final_value)   "
   ]
  },
  {
   "cell_type": "code",
   "execution_count": 35,
   "id": "e4d08f4f-de5a-485b-90c1-953c01969794",
   "metadata": {},
   "outputs": [
    {
     "name": "stdout",
     "output_type": "stream",
     "text": [
      "Admin access granted\n"
     ]
    }
   ],
   "source": [
    "# 28\n",
    "# 조건부 실행 (Short-circuiting)\n",
    "is_logged_in = True\n",
    "user_role = \"admin\"\n",
    "\n",
    "# if is_logged_in and user_role == 'admin':\n",
    "#     print(\"Admin access granted\")\n",
    "\n",
    "# 사용자 로그인 상태와 역할이 'admin'일 때만 print 문 실행\n",
    "is_logged_in and user_role == \"admin\" and print(\"Admin access granted\")"
   ]
  },
  {
   "cell_type": "code",
   "execution_count": 36,
   "id": "3e46ff95-6cd0-4a29-9712-5c7e0994ada5",
   "metadata": {},
   "outputs": [
    {
     "name": "stdout",
     "output_type": "stream",
     "text": [
      "First valid value\n"
     ]
    }
   ],
   "source": [
    "# 29\n",
    "# 리스트에서 첫 번째 유효한 값 찾기\n",
    "values = [None, \"\", 0, \"First valid value\", \"Second value\"]\n",
    "\n",
    "first_valid = values[0] or values[1] or values[2] or values[3]\n",
    "\n",
    "print(first_valid) "
   ]
  }
 ],
 "metadata": {
  "kernelspec": {
   "display_name": "Python 3 (ipykernel)",
   "language": "python",
   "name": "python3"
  },
  "language_info": {
   "codemirror_mode": {
    "name": "ipython",
    "version": 3
   },
   "file_extension": ".py",
   "mimetype": "text/x-python",
   "name": "python",
   "nbconvert_exporter": "python",
   "pygments_lexer": "ipython3",
   "version": "3.11.6"
  }
 },
 "nbformat": 4,
 "nbformat_minor": 5
}
