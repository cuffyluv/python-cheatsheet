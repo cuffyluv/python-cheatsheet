{
 "cells": [
  {
   "cell_type": "markdown",
   "id": "aedab26d-9280-457f-a1c8-2ae06acc7e8f",
   "metadata": {},
   "source": [
    "### 실습물 제출 가이드라인\n",
    "- 아래에 주어진 코드들을 실행해서 python의 동작 원리를 이해하시오. 그리고, # M 으로 주어진 부분은 코드를 작성하고 실행하시오.\n",
    "- 주어진 코드들을 다 실행해 보고 결과를 확인하면 3점을 부여합니다.\n",
    "- \"# M\"으로 주어진 문제는 정확한 답을 작성하면 표기된 점수가 부여됩니다."
   ]
  },
  {
   "cell_type": "markdown",
   "id": "excellent-giant",
   "metadata": {},
   "source": [
    "## Functions"
   ]
  },
  {
   "cell_type": "markdown",
   "id": "latin-stations",
   "metadata": {},
   "source": [
    "#### function의 기본"
   ]
  },
  {
   "cell_type": "code",
   "execution_count": null,
   "id": "interested-green",
   "metadata": {},
   "outputs": [],
   "source": [
    "# 1\n",
    "def add_numbers(a, b):\n",
    "    c = a + b\n",
    "    return c\n",
    "\n",
    "result = add_numbers(3, 7)\n",
    "print(result)"
   ]
  },
  {
   "cell_type": "code",
   "execution_count": null,
   "id": "developmental-telescope",
   "metadata": {},
   "outputs": [],
   "source": [
    "# 2\n",
    "def say_hello(s=\"hello\"):\n",
    "    print(s)\n",
    "\n",
    "say_hello()\n",
    "\n",
    "def say_bye():\n",
    "    print(\"good bye\")\n",
    "\n",
    "def greetings():\n",
    "    say_hello(\"hi\")\n",
    "    say_bye()\n",
    "\n",
    "greetings()\n"
   ]
  },
  {
   "cell_type": "code",
   "execution_count": 6,
   "id": "fourth-cocktail",
   "metadata": {},
   "outputs": [
    {
     "name": "stdin",
     "output_type": "stream",
     "text": [
      "Enter two numbers:  5 8\n"
     ]
    },
    {
     "name": "stdout",
     "output_type": "stream",
     "text": [
      "3\n"
     ]
    }
   ],
   "source": [
    "# M1 (0.2점)\n",
    "# 두 개의 숫자의 차이의 절대값을 반환하는 diff_numbers(a,b)라는 function을 작성하시오. \n",
    "# 즉, diff_numbers(2,3)는 1을 반환한다. \n",
    "# 단, function 구현 시에 부등호와 - 연산만 사용하시오.\n",
    "# 기능 확인을 위해 diff_numbers()를 호출하여 결과를 출력하는 코드도 함께 작성하시오.\n",
    "def diff_numbers(a, b):\n",
    "    if a >= b:\n",
    "        return a - b\n",
    "    else:\n",
    "        return b - a\n",
    "\n",
    "num1, num2 = map(int, input(\"Enter two numbers: \").split())\n",
    "\n",
    "print(diff_numbers(num1, num2))\n"
   ]
  },
  {
   "cell_type": "code",
   "execution_count": 10,
   "id": "trying-istanbul",
   "metadata": {},
   "outputs": [
    {
     "name": "stdin",
     "output_type": "stream",
     "text": [
      "Enter two strings:  abc bcde\n"
     ]
    },
    {
     "name": "stdout",
     "output_type": "stream",
     "text": [
      "bc\n"
     ]
    }
   ],
   "source": [
    "# M2 (0.2점)\n",
    "# 사용자로부터 두 개의 string을 입력 받아서 두 문자열의 공통 글자들로 된 string을 반환하는 \n",
    "# common_chars(a,b)라는 function을 만드시오. \n",
    "# 예를 들어, common_chars(\"abc\", \"cbd\")는 'cb'를 반환한다.\n",
    "# function 기능을 확인할 수 있도록 common_chars()를 호출하여 출력하는 코드도 함께 작성하시오.\n",
    "# \n",
    "\n",
    "def common_chars(a, b):\n",
    "    common = ''.join([char for char in a if char in b])\n",
    "    return common\n",
    "    \n",
    "\n",
    "str1, str2 = input(\"Enter two strings: \").split()\n",
    "print(common_chars(str1, str2))\n"
   ]
  },
  {
   "cell_type": "code",
   "execution_count": 23,
   "id": "cc5031a0-ef25-40a4-a8d5-6d04fa577523",
   "metadata": {},
   "outputs": [
    {
     "ename": "TypeError",
     "evalue": "sequence item 0: expected str instance, tuple found",
     "output_type": "error",
     "traceback": [
      "\u001b[0;31m---------------------------------------------------------------------------\u001b[0m",
      "\u001b[0;31mTypeError\u001b[0m                                 Traceback (most recent call last)",
      "Cell \u001b[0;32mIn[23], line 12\u001b[0m\n\u001b[1;32m      9\u001b[0m     \u001b[38;5;28mprint\u001b[39m(\u001b[38;5;124m'\u001b[39m\u001b[38;5;124m, \u001b[39m\u001b[38;5;124m'\u001b[39m\u001b[38;5;241m.\u001b[39mjoin(original_list))\n\u001b[1;32m     11\u001b[0m mylist \u001b[38;5;241m=\u001b[39m [(\u001b[38;5;241m1\u001b[39m,\u001b[38;5;241m2\u001b[39m), (\u001b[38;5;241m3\u001b[39m,\u001b[38;5;241m4\u001b[39m)]\n\u001b[0;32m---> 12\u001b[0m \u001b[43mprint_list\u001b[49m\u001b[43m(\u001b[49m\u001b[43mmylist\u001b[49m\u001b[43m)\u001b[49m\n",
      "Cell \u001b[0;32mIn[23], line 9\u001b[0m, in \u001b[0;36mprint_list\u001b[0;34m(original_list)\u001b[0m\n\u001b[1;32m      8\u001b[0m \u001b[38;5;28;01mdef\u001b[39;00m \u001b[38;5;21mprint_list\u001b[39m(original_list):\n\u001b[0;32m----> 9\u001b[0m     \u001b[38;5;28mprint\u001b[39m(\u001b[38;5;124;43m'\u001b[39;49m\u001b[38;5;124;43m, \u001b[39;49m\u001b[38;5;124;43m'\u001b[39;49m\u001b[38;5;241;43m.\u001b[39;49m\u001b[43mjoin\u001b[49m\u001b[43m(\u001b[49m\u001b[43moriginal_list\u001b[49m\u001b[43m)\u001b[49m)\n",
      "\u001b[0;31mTypeError\u001b[0m: sequence item 0: expected str instance, tuple found"
     ]
    }
   ],
   "source": [
    "# M3 (0.3점)\n",
    "# 하나의 list를 인자로 받아서, list 내 원소들을 ' ,'로 구분하여 한 줄에 출력하는 print_list()를 작성하시오.\n",
    "#\n",
    "#실행 사례)\n",
    "#print_list([1,2,3]) --> 1, 2, 3\n",
    "#print_list([(1,2), (3,4)]) --> (1,2), (3,4)\n",
    "\n",
    "\n",
    "\n",
    "# <- 정답을 모르겠습니다.\n",
    "def print_list(original_list):\n",
    "    print(', '.join(original_list))\n",
    "\n",
    "mylist = [(1,2), (3,4)]\n",
    "print_list(mylist)"
   ]
  },
  {
   "cell_type": "code",
   "execution_count": null,
   "id": "heated-modem",
   "metadata": {},
   "outputs": [],
   "source": [
    "# 3-1 \n",
    "# set data distance 계산해서 출력하기\n",
    "def calc_set_distances(s, t):\n",
    "    intersect, union = s&t, s|t\n",
    "    sorensen_dice = len(intersect)*2 / (len(s) + len(t))\n",
    "    jaccard = len(intersect) / len(union)\n",
    "    return sorensen_dice, jaccard\n",
    "    \n",
    "set1 = set(input(\"First set:\").split())\n",
    "set2 = set(input(\"Second set:\").split())\n",
    "\n",
    "s_d, j_i = calc_set_distances(set1, set2)\n",
    "print(f\"Sorensen-Dice index: {s_d:.3f}\")\n",
    "print(f\"Jaccard index: {j_i:.3f}\")"
   ]
  },
  {
   "cell_type": "code",
   "execution_count": null,
   "id": "military-setting",
   "metadata": {},
   "outputs": [],
   "source": [
    "# 3-2\n",
    "# set data distance 계산해서 출력하기\n",
    "def get_two_sets():\n",
    "    set1 = set(input(\"First set:\").split())\n",
    "    set2 = set(input(\"Second set:\").split())\n",
    "    return set1, set2\n",
    "\n",
    "def sorensen_dice(s, t):\n",
    "    return len(s & t) * 2 / (len(s) + len(t))\n",
    "\n",
    "def jaccard(s, t):\n",
    "    return len(s & t) / len(s | t)\n",
    "\n",
    "s1, s2 = get_two_sets()\n",
    "print(f\"Sorensen-Dice index: {sorensen_dice(s1, s2):.3f}\")\n",
    "print(f\"Jaccard index: {jaccard(s1, s2):.3f}\")"
   ]
  },
  {
   "cell_type": "code",
   "execution_count": null,
   "id": "trying-preserve",
   "metadata": {},
   "outputs": [],
   "source": [
    "# 4-1\n",
    "# 주어진 2차원 vector에 대해 Euclidean distance와 cosine similarity 계산\n",
    "\n",
    "def euclidean(x, y):\n",
    "    return ((x[0]-y[0])**2 + (x[1]-y[1])**2)**0.5\n",
    "\n",
    "def cosine_similarity(x, y):\n",
    "    origin = (0, 0)\n",
    "    inner_product = x[0]*y[0] + x[1]*y[1]\n",
    "    norm_x = ((x[0]-origin[0])**2 + (x[1]-origin[1])**2)**0.5\n",
    "    norm_y = ((y[0]-origin[0])**2 + (y[1]-origin[1])**2)**0.5\n",
    "    return inner_product / (norm_x* norm_y)\n",
    "\n",
    "print(euclidean((1,0), (1,1)))\n",
    "print(cosine_similarity((1,0), (1,1)))"
   ]
  },
  {
   "cell_type": "code",
   "execution_count": null,
   "id": "prospective-trade",
   "metadata": {},
   "outputs": [],
   "source": [
    "# 4-2\n",
    "# 가독성 향상 & 동일하게 반복되는 작업을 function으로 구현\n",
    "def square(a):\n",
    "    return a * a\n",
    "\n",
    "# p와 q는 2차원 vector\n",
    "def inner_prod(p, q):\n",
    "    return p[0]*q[0] + p[1]*q[1]\n",
    "\n",
    "# x와 y는 2차원 vector, 상대점이 주어지지 않으면 원점까지의 거리\n",
    "def euclidean(x, y):\n",
    "    return ( square(x[0]-y[0]) + square(x[1]-y[1]) )**0.5\n",
    "\n",
    "# x와 y는 2차원 vector, 가독성 향상 및 반복 작업 재활용 위해 function 사용\n",
    "def cosine_similarity(x, y):\n",
    "    origin = (0, 0)\n",
    "    similarity = inner_prod(x,y)/( euclidean(x, origin) * euclidean(y, origin) )\n",
    "    return similarity\n",
    "\n",
    "print(euclidean((1,0), (1,1)))\n",
    "print(cosine_similarity((1,0), (1,1)))"
   ]
  },
  {
   "cell_type": "code",
   "execution_count": 29,
   "id": "sustained-integrity",
   "metadata": {},
   "outputs": [
    {
     "name": "stdin",
     "output_type": "stream",
     "text": [
      "Enter the numbers: 3 4 5 1 2 3 4\n"
     ]
    },
    {
     "name": "stdout",
     "output_type": "stream",
     "text": [
      "Single numbers are: 5 1 2 "
     ]
    }
   ],
   "source": [
    "# M4 \n",
    "# 아래에 주어진 코드를 function을 사용하는 코드로 변경하여 아래 셀에 작성하시오. \n",
    "\n",
    "int_list = list(map(int, input(\"Enter the numbers:\").split()))\n",
    "\n",
    "count_dict = {}\n",
    "for num in int_list:\n",
    "    if num in count_dict:\n",
    "        count_dict[num] += 1\n",
    "    else:\n",
    "        count_dict[num] = 1\n",
    "        \n",
    "unique_list = [key for key, value in count_dict.items() if value == 1]\n",
    "\n",
    "if unique_list:\n",
    "    print(\"Single numbers are:\", end=\" \")\n",
    "    for item in unique_list:\n",
    "        print(item, end=\" \")\n",
    "else:\n",
    "    print(\"No single number\")\n"
   ]
  },
  {
   "cell_type": "code",
   "execution_count": 31,
   "id": "09f5c3a7-bc7b-4feb-ab45-476336579d4c",
   "metadata": {},
   "outputs": [
    {
     "name": "stdin",
     "output_type": "stream",
     "text": [
      "Enter the numbers: 3 4 5 1 2 3\n"
     ]
    },
    {
     "name": "stdout",
     "output_type": "stream",
     "text": [
      "Single numbers are: 4 5 1 2 "
     ]
    }
   ],
   "source": [
    "# M4의 답 code 작성하기 (0.7점)\n",
    "#  위의 cell에 있는 코드와 동일하게 작동하도록 \n",
    "#  get_number_list(), find_unique_numbers(), print_list()를 완성하시오.\n",
    "\n",
    "def get_number_list(statement): # 0.1점\n",
    " # fill with your code  \n",
    "    return list(map(int, input(statement).split()))\n",
    "      \n",
    "def find_unique_numbers(number_list): # 0.3점\n",
    " # fill with your code  \n",
    "    count_dict = {}\n",
    "    for num in number_list:\n",
    "        if num in count_dict:\n",
    "            count_dict[num] += 1\n",
    "        else:\n",
    "            count_dict[num] = 1 # 추가\n",
    "    return [key for key, value in count_dict.items() if value == 1]\n",
    "    \n",
    "def print_list(a_list, statement1, statement2): # 0.3점\n",
    " # fill with your code  \n",
    "    if a_list:\n",
    "        print(statement1, end = ' ')\n",
    "        for item in a_list:\n",
    "            print(item, end = ' ')\n",
    "    else:\n",
    "        print(statement2)\n",
    "\n",
    "input_list = get_number_list(\"Enter the numbers:\")  \n",
    "unique_list = find_unique_numbers(input_list)\n",
    "print_list(unique_list, \"Single numbers are:\", \"No single number\")"
   ]
  },
  {
   "cell_type": "code",
   "execution_count": null,
   "id": "broad-lafayette",
   "metadata": {},
   "outputs": [],
   "source": [
    "# 5-1\n",
    "# function 이름은 function에 대한 정보를 가진 객체의 주소를 저장한 variable임\n",
    "def old_func(a, b):\n",
    "    return a + b\n",
    "\n",
    "def new_func(a, b):\n",
    "    return a * b\n",
    "\n",
    "def apply_func(f, x, y):\n",
    "    return f(x, y)\n",
    "\n",
    "print(old_func)\n",
    "my_func = old_func  # 일반 variable처럼 사용 가능\n",
    "print(my_func(5,4))  # 5+4한 결과를 출력"
   ]
  },
  {
   "cell_type": "code",
   "execution_count": null,
   "id": "a0fef5c8-5ab0-40e2-9e51-fee3621f0705",
   "metadata": {},
   "outputs": [],
   "source": [
    "# 5-2\n",
    "# function에 대한 정보에는 실행 code도 포함되어 있음\n",
    "my_func = new_func\n",
    "print(my_func(5,4))"
   ]
  },
  {
   "cell_type": "code",
   "execution_count": null,
   "id": "9fc5963d-62fe-48d4-b90f-ed7b5027c28e",
   "metadata": {},
   "outputs": [],
   "source": [
    "# 5-3\n",
    "# function에 대한 정보에는 실행 code도 포함되어 있음\n",
    "print(apply_func(my_func, 2, 3))"
   ]
  },
  {
   "cell_type": "code",
   "execution_count": null,
   "id": "12802765-86b8-42c4-9b98-c0240d6b764c",
   "metadata": {},
   "outputs": [],
   "source": [
    "# 5-4\n",
    "# function 이름도 variable이므로 다른 값으로 변경하는 것이 가능\n",
    "old_func = new_func # old_func가 new_func와 같은 값을 갖게 됨\n",
    "print(old_func(2,3)) # 2*3한 결과를 출력"
   ]
  },
  {
   "cell_type": "code",
   "execution_count": 8,
   "id": "outer-performer",
   "metadata": {},
   "outputs": [
    {
     "name": "stdin",
     "output_type": "stream",
     "text": [
      "operation(+, -, *, /):  +\n",
      "a: 3\n",
      "b: 8\n"
     ]
    },
    {
     "name": "stdout",
     "output_type": "stream",
     "text": [
      "3 + 8 = 11\n"
     ]
    }
   ],
   "source": [
    "# 6\n",
    "# function 이름은 function에 대한 정보를 가진 객체의 주소를 저장한 variable임\n",
    "\n",
    "def add_func(a,b): return a+b\n",
    "def mult_func(a,b): return a*b\n",
    "def div_func(a,b): return a//b \n",
    "def sub_func(a,b): return a-b\n",
    "\n",
    "functions = {'+': add_func, '*': mult_func, '//': div_func, '-': sub_func}  \n",
    "\n",
    "op=input (\"operation(+, -, *, /): \")\n",
    "if not op in functions:\n",
    "    print(f\"Unknown operator: {op}\")\n",
    "else:\n",
    "    opr1=int(input(\"a:\"))\n",
    "    opr2=int(input(\"b:\"))\n",
    "    func = functions[op] # op의 값에 따라서 다른 function 주소 저장\n",
    "    result = func(opr1, opr2) # func에 저장된 주소의 code 실행\n",
    "    print(f\"{opr1} {op} {opr2} = {result}\")"
   ]
  },
  {
   "cell_type": "code",
   "execution_count": 15,
   "id": "44da78ce-4d37-4470-b5fb-1f34a968e7b2",
   "metadata": {},
   "outputs": [
    {
     "name": "stdout",
     "output_type": "stream",
     "text": [
      "You can have a greeting in 영어, 한국어, 중국어, 미얀마어, 우즈벡어, 베트남어\n"
     ]
    },
    {
     "name": "stdin",
     "output_type": "stream",
     "text": [
      "Enter a name and language: 치토 한국어\n"
     ]
    },
    {
     "name": "stdout",
     "output_type": "stream",
     "text": [
      "안녕, 치토!\n"
     ]
    }
   ],
   "source": [
    "# M5 (1점)\n",
    "# 아래와 같이 서로 다른 나라말로 인사말을 출력하는 함수들이 준비되어 있다\n",
    "# 6번 코드를 참고해서 사용자로부터 이름과 언어명을 입력받아서 언어에 해당하는 인사를 출력하는 코드를 작성하시오.\n",
    "# 실행 사례1)\n",
    "# You can have a greeting in 영어, 한국어, 중국어, 미얀마어, 우즈벡어, 베트남어\n",
    "# Enter a name and language: 경란 독일어\n",
    "# No language support\n",
    "# # 실행 사례2)\n",
    "# You can have a greeting in 영어, 한국어, 중국어, 미얀마어, 우즈벡어, 베트남어\n",
    "# Enter a name and language: 치토 독일어\n",
    "# No language support\n",
    "#\n",
    "# You can have a greeting in 영어, 한국어, 중국어, 미얀마어, 우즈벡어, 베트남어\n",
    "# Enter a name and language: 치토 한국어\n",
    "#  안녕, 치토!\n",
    "\n",
    "def greet_english(name):   return f\"Hello, {name}!\"\n",
    "def greet_korean(name):    return f\"안녕, {name}!\"\n",
    "def greet_chinese(name):   return f\"你好, {name}!\"\n",
    "def greet_burmese(name):   return f\"မင်္ဂလာပါ, {name}\" \n",
    "def greet_uzbek(name):     return f\"Salom, {name}\"\n",
    "def greet_vietnamese(name): return f\"Xin chào, {name}\"\n",
    "\n",
    "languages = {'영어' : greet_english, '한국어' : greet_korean, '중국어' : greet_chinese, \\\n",
    "'미얀마어' : greet_burmese, '우즈벡어' : greet_uzbek, '베트남어' : greet_vietnamese}\n",
    "\n",
    "print('You can have a greeting in 영어, 한국어, 중국어, 미얀마어, 우즈벡어, 베트남어')\n",
    "name, language = input('Enter a name and language:').split()\n",
    "if not language in languages:\n",
    "    print('No language support')\n",
    "else:\n",
    "    # greeting = languages[language]\n",
    "    # print(greeting(name))\n",
    "    print(languages[language](name))\n",
    "\n"
   ]
  },
  {
   "cell_type": "markdown",
   "id": "4e639fe6-bb87-40d3-99ab-b33579f7f61c",
   "metadata": {},
   "source": [
    "#### lambda expression"
   ]
  },
  {
   "cell_type": "code",
   "execution_count": null,
   "id": "a6722923-1a14-4cee-9518-fa82143b73df",
   "metadata": {},
   "outputs": [],
   "source": [
    "# 7\n",
    "# 산술 연산 결과 반환 사례\n",
    "add = lambda a, b: a + b\n",
    "prod = lambda a, b: a * b\n",
    "x=[add(3,4), prod(3,4)]\n",
    "print(x)"
   ]
  },
  {
   "cell_type": "code",
   "execution_count": null,
   "id": "999adc86-124e-44b8-beac-7aba354f0fa1",
   "metadata": {},
   "outputs": [],
   "source": [
    "# 8\n",
    "# 논리 연산 결과 반환 사례\n",
    "is_even = lambda x: x % 2 == 0\n",
    "print(is_even(4))   \n",
    "print(is_even(5)) "
   ]
  },
  {
   "cell_type": "code",
   "execution_count": null,
   "id": "7aec3b6b-6372-4e8b-94d1-d0773ef15127",
   "metadata": {},
   "outputs": [],
   "source": [
    "# 9\n",
    "# 조건문 포함 사례\n",
    "get_maximum = lambda x, y: x if x > y else y\n",
    "print(get_maximum(10, 5))  \n",
    "print(get_maximum(3, 8)) "
   ]
  },
  {
   "cell_type": "code",
   "execution_count": 11,
   "id": "3a05800e-5126-4242-9131-2a76ef1354c8",
   "metadata": {},
   "outputs": [
    {
     "name": "stdin",
     "output_type": "stream",
     "text": [
      "Enter your string: Pengsue\n"
     ]
    },
    {
     "name": "stdout",
     "output_type": "stream",
     "text": [
      "Pengsue is happy.\n",
      "Pengsue is happy\n"
     ]
    }
   ],
   "source": [
    "# M6\n",
    "# string을 입력 받아서, \" is happy.\"룰 덧붙여서 반환하는 happy_thing()이라는 function을 작성하시오. (0.2점)\n",
    "# happy_thing()과 동일한 처리를 하는 happy_thing_e이라는 lambda expression을 만드시오.(0.2점)\n",
    "# happy_thing()과 happy_thing_e를 사용해서 \"Pengsue is happy.\"를 출력하는 코드를 작성하시오. (0.2점)\n",
    "def happy_thing(org_str):\n",
    "    ret_str = org_str + ' is happy.'\n",
    "    return ret_str\n",
    "\n",
    "original_str = input('Enter your string:')\n",
    "result_str = happy_thing(original_str)\n",
    "print(result_str)\n",
    "happy_thing_e = lambda mystr : mystr + ' is happy'\n",
    "print(happy_thing_e(original_str))\n",
    "\n"
   ]
  },
  {
   "cell_type": "code",
   "execution_count": null,
   "id": "69accaee-8354-4720-85a1-660a95b1e876",
   "metadata": {},
   "outputs": [],
   "source": [
    "# 10\n",
    "# function을 argument로 넘겨야 하는 경우, lambda expression을 사용할 수 있음\n",
    "numbers = [1, 2, 3, 4, 5]\n",
    "squared = map(lambda x: x**2, numbers)  # numbers의 각 element에 제곱하는 함수를 적용해라\n",
    "print(list(squared))"
   ]
  },
  {
   "cell_type": "code",
   "execution_count": 1,
   "id": "60751b94-73eb-4c45-82d2-45425cf4e413",
   "metadata": {},
   "outputs": [
    {
     "name": "stdout",
     "output_type": "stream",
     "text": [
      "[(4, 'four'), (1, 'one'), (3, 'three'), (2, 'two')]\n"
     ]
    }
   ],
   "source": [
    "# 11\n",
    "# function을 argument로 넘겨야 하는 경우, lambda expression을 사용할 수 있음\n",
    "tuple_list = [(1, 'one'), (3, 'three'), (2, 'two'), (4, 'four')]\n",
    "tuple_list.sort(key = lambda x: x[1]) # list의 element의 두번째 요소를 기준으로 정렬하라\n",
    "print(tuple_list)"
   ]
  },
  {
   "cell_type": "markdown",
   "id": "903e2d54-f43a-4e4d-b0c2-1a060e9a9018",
   "metadata": {},
   "source": [
    "#### Function 호출 시, argument와 parameter 간 matching 방법"
   ]
  },
  {
   "cell_type": "code",
   "execution_count": 2,
   "id": "floating-radio",
   "metadata": {},
   "outputs": [
    {
     "name": "stdout",
     "output_type": "stream",
     "text": [
      "my name is Kang\n",
      "I'm 22 old\n",
      "I'm a woman\n",
      "----------\n",
      "my name is Hong\n",
      "I'm 23 old\n",
      "I'm a man\n"
     ]
    }
   ],
   "source": [
    "# 12\n",
    "# input parameter의 기본값을 설정하는 것이 가능. \n",
    "# 해당 parameter에 대응하는 argument가 주어지지 않으면, function 정의에서 주어진 기본값 사용\n",
    "def intro_myself(name, age, sex = 'M'):\n",
    "    print(f\"my name is {name}\")\n",
    "    print(f\"I'm {age} old\")\n",
    "    if sex == 'M':\n",
    "        print(\"I'm a man\")\n",
    "    else:\n",
    "        print(\"I'm a woman\")\n",
    "\n",
    "intro_myself('Kang', 22, 'F')\n",
    "print('-'*10)\n",
    "intro_myself('Hong', 23)"
   ]
  },
  {
   "cell_type": "code",
   "execution_count": 13,
   "id": "educational-consolidation",
   "metadata": {},
   "outputs": [
    {
     "name": "stdout",
     "output_type": "stream",
     "text": [
      "my name is Kang\n",
      "I'm an adult\n",
      "I'm a woman\n",
      "----------\n",
      "my name is Hong\n",
      "I'm an adult\n",
      "I'm a man\n",
      "----------\n",
      "my name is Min\n",
      "I'm an adult\n",
      "I'm a woman\n",
      "----------\n",
      "my name is Kim\n",
      "I'm an adult\n",
      "I'm a man\n",
      "----------\n",
      "my name is Joon\n",
      "I'm an underage\n",
      "I'm a woman\n"
     ]
    }
   ],
   "source": [
    "# M7 (0.3점)\n",
    "# 12번의 intro_myself()에서 sex의 기본값을 부여하는 대신에 age의 기본값을 20로 하는 코드로 변경하시오. \n",
    "# age를 출력하는 부분을 수정해서 \n",
    "# age가 20보다 크거나 같으면 \"I'm an adult.\"라고 출력하고, 20 미만이면, \"I'm an underage.\"\n",
    "# 이 특징들을 확인할 수 있도록 intro_myself()를 2회 이상 호출하시오. \n",
    "# 성별에 따라 출력이 달라지는 코드는 유지해야 함\n",
    "\n",
    "def intro_myself(name, sex, age = 20):\n",
    "    print(f\"my name is {name}\")\n",
    "    print(\"I'm an adult\" if age >= 20 else \"I'm an underage\")\n",
    "    if sex == 'M':\n",
    "        print(\"I'm a man\")\n",
    "    else:\n",
    "        print(\"I'm a woman\")\n",
    "\n",
    "intro_myself('Kang', 'F', 22)\n",
    "print('-'*10)\n",
    "intro_myself('Hong', 'M')\n",
    "print('-'*10)\n",
    "intro_myself('Min', 'F')\n",
    "print('-'*10)\n",
    "intro_myself('Kim', 'M')\n",
    "print('-'*10)\n",
    "intro_myself('Joon', 'F', 17)\n"
   ]
  },
  {
   "cell_type": "code",
   "execution_count": 5,
   "id": "armed-ownership",
   "metadata": {},
   "outputs": [
    {
     "name": "stdout",
     "output_type": "stream",
     "text": [
      "a: 3\n",
      "b: 2\n",
      "c: 1\n",
      "-----\n",
      "a: 3\n",
      "b: 2\n",
      "c: 1\n"
     ]
    }
   ],
   "source": [
    "# 13\n",
    "def print_abc(a, b, c):\n",
    "    print(f'a: {a}')\n",
    "    print(f'b: {b}')\n",
    "    print(f'c: {c}')\n",
    "\n",
    "print_abc(3, 2, 1)  \n",
    "print(\"-\"*5)\n",
    "# function 호출 시, input parameter를 지정하며 값을 넘길 수 있음\n",
    "print_abc(c=1, b=2, a=3)  \n",
    "# print(a=1, 2, 3)"
   ]
  },
  {
   "cell_type": "code",
   "execution_count": 6,
   "id": "municipal-lawyer",
   "metadata": {},
   "outputs": [
    {
     "name": "stdout",
     "output_type": "stream",
     "text": [
      "1 2 3\n"
     ]
    }
   ],
   "source": [
    "# 14\n",
    "def test_func(a, b, c):\n",
    "    print(a, b, c)\n",
    "\n",
    "args = {'c':3, 'b':2, 'a':1} \n",
    "# function 호출 시, dictionary를 사용하면 \n",
    "# function 정의에 있는 parameter 이름과 같은 key를 찾아 이에 대응하는 value를 할당함\n",
    "test_func(**args)  "
   ]
  },
  {
   "cell_type": "code",
   "execution_count": 7,
   "id": "advised-lafayette",
   "metadata": {},
   "outputs": [
    {
     "name": "stdout",
     "output_type": "stream",
     "text": [
      "14\n",
      "----------\n",
      "190\n",
      "----------\n",
      "14\n"
     ]
    }
   ],
   "source": [
    "# 15\n",
    "def square_sum(*args): # **은 input parameter를 tuple 형식으로 관리한다는 의미\n",
    "    result=0\n",
    "    for i in args:\n",
    "        result += i*i\n",
    "    return result\n",
    "\n",
    "s1 = square_sum(1, 2, 3)\n",
    "print(s1)\n",
    "print(\"-\"*10)\n",
    "\n",
    "s2 = square_sum(4, 5, 6, 7, 8)\n",
    "print(s2)\n",
    "print(\"-\"*10)\n",
    "\n",
    "s3 = square_sum(*{1, 2, 3})  # *는 list, set, tuple 용 unpacking operator\n",
    "print(s3)"
   ]
  },
  {
   "cell_type": "code",
   "execution_count": null,
   "id": "private-federal",
   "metadata": {},
   "outputs": [],
   "source": [
    "# 16\n",
    "# arbitrary positional arguments 사례\n",
    "# argument의 갯수 제한 없음\n",
    "def print_func(*args):\n",
    "    print(type(args))\n",
    "    for x in args:\n",
    "        print(x, end=\" \")\n",
    "\n",
    "print_func(*range(2, 20, 2))"
   ]
  },
  {
   "cell_type": "code",
   "execution_count": 20,
   "id": "delayed-venue",
   "metadata": {},
   "outputs": [
    {
     "name": "stdout",
     "output_type": "stream",
     "text": [
      "(1, 2, 3, 4, 5, 6, 7, 8, 9, 10)\n"
     ]
    }
   ],
   "source": [
    "# M8 (0.4점)\n",
    "# 임의의 갯수로 argument가 주어진다고 할 때, 모든 argument의 곱을 반환하는 mult_func()를 만드시오. (0.2점)\n",
    "# 1이상 10이하의 홀수를 argument로 해서 mult_func()를 호출하시오. (0.2점)\n",
    "# 1이상 10이하의 홀수는 range()를 사용해서 전달하시오.\n",
    "\n",
    "def mult_func(*arguments):\n",
    "    result = 1\n",
    "    for argument in arguments:\n",
    "        result *= argument\n",
    "    return result\n",
    "\n",
    "\n",
    "mul_of_arguments = mult_func(tuple(range(1, 11)))\n",
    "print(mul_of_arguments)"
   ]
  },
  {
   "cell_type": "code",
   "execution_count": null,
   "id": "republican-airplane",
   "metadata": {},
   "outputs": [],
   "source": [
    "# 17\n",
    "# arbitrary keyword arguments\n",
    "def test_func(**kwargs):   # **은 input parameter를 dictionary 형식으로 관리한다\n",
    "    for key, value in kwargs.items():\n",
    "        print(f\"{key}: {value}\")\n",
    "\n",
    "test_func(a=1, b=2, c=3)\n",
    "print(\"=\"*10)\n",
    "test_func(a=1, b=2, c=3, d=4, f=7)\n",
    "print(\"=\"*10)\n",
    "test_dic = {'a': 2, 'b': 4, 'c': 7}\n",
    "test_func(**test_dic) ## **은 dictionary용 unpacking operator"
   ]
  },
  {
   "cell_type": "code",
   "execution_count": null,
   "id": "hybrid-bride",
   "metadata": {},
   "outputs": [],
   "source": [
    "# 18\n",
    "# Parameter를 dictionary 형식으로만 전달하고자 한다면, 더 단순하게 작성할 수 있음\n",
    "\n",
    "def test_func(args):\n",
    "    for key, value in args.items():\n",
    "        print(f\"{key}: {value}\")\n",
    "\n",
    "test_dic = {'a': 2, 'b': 4, 'c': 7}\n",
    "test_func(test_dic)"
   ]
  },
  {
   "cell_type": "code",
   "execution_count": null,
   "id": "alpine-consciousness",
   "metadata": {},
   "outputs": [],
   "source": [
    "# 19-1\n",
    "# positional과 keyword 혼합\n",
    "def print_abc(a, b, c):\n",
    "    print(f'a: {a}', end=\" \")\n",
    "    print(f'b: {b}', end=\" \")\n",
    "    print(f'c: {c}')\n",
    "\n",
    "print_abc(3, 2, c=1)  # 첫 두 argument는 각각 input parameter a,b에 대입"
   ]
  },
  {
   "cell_type": "code",
   "execution_count": null,
   "id": "tight-expression",
   "metadata": {},
   "outputs": [],
   "source": [
    "# 19-2\n",
    "print_abc(3, c=2, b=1)  # 첫 번째 argument는 input parameter a에 대입"
   ]
  },
  {
   "cell_type": "code",
   "execution_count": null,
   "id": "informal-federal",
   "metadata": {},
   "outputs": [],
   "source": [
    "# 19-3\n",
    "print_abc(a=3, 2, 1)  # 오류, positional argument가 앞에 와야 함"
   ]
  },
  {
   "cell_type": "code",
   "execution_count": null,
   "id": "mobile-vessel",
   "metadata": {},
   "outputs": [],
   "source": [
    "# 20-1 \n",
    "# argument 형식 혼용\n",
    "def print_args(a, b, *args, c, d, **kwargs):\n",
    "    print(\"positional arguments:\")\n",
    "    print(f'a: {a}')\n",
    "    print(f'b: {b}')\n",
    "    print(\"arbitrary positional arguments:\")\n",
    "    for i in args:\n",
    "        print(i)\n",
    "    print(\"keyword arguments:\")\n",
    "    print(f'c: {c}')\n",
    "    print(f'd: {d}')\n",
    "    print(\"arbitrary keyword arguments:\")\n",
    "    for k, v in kwargs.items():\n",
    "        print(k,\":\", v)\n",
    "    \n",
    "print_args(1, 2, 3, 4, 5, c=6, d=7, k1=8, k2=9)"
   ]
  },
  {
   "cell_type": "code",
   "execution_count": null,
   "id": "07febdb1-c747-4aeb-886f-416fad5070a3",
   "metadata": {},
   "outputs": [],
   "source": [
    "# 20-2\n",
    "print_args(1, 2, 3, 4, 5, 6, 7, k1=8, k2=9)  # Error"
   ]
  },
  {
   "cell_type": "code",
   "execution_count": null,
   "id": "embedded-dialogue",
   "metadata": {},
   "outputs": [],
   "source": [
    "# M9 (0.5점)\n",
    "# 17번 코드를 참고하여 select_lucks()라는 함수를 완성하시오. (0.3점)\n",
    "# select_lucks()는 길이에 제한이 없는 dictionary 형식의 parameter를 가정하는데,\n",
    "# good_words = [\"luck\", \"love\", \"hope\", \"laughter\", 'prayer']\n",
    "# key가 good_words에 속한 경우에 화면에 key와 value를 출력한다. \n",
    "# 아래에 주어진 sample_dic을 argument로 해서 select_lucks()를 호출하시오. (0.2점)\n",
    "\n",
    "sample_dic = {'happiness':100, 'love':200, 'tear':10, 'gloomy':5, 'hope':300}\n",
    "good_words = [\"luck\", \"love\", \"hope\", \"laughter\", 'prayer']\n",
    "\n",
    "def select_lucks(**kwargs):\n",
    "    # fill with your codes\n",
    "    "
   ]
  },
  {
   "cell_type": "code",
   "execution_count": null,
   "id": "growing-tamil",
   "metadata": {},
   "outputs": [],
   "source": [
    "# 참고용\n",
    "# arbitrary keyword arguments\n",
    "\n",
    "def intro(**data):\n",
    "    print(\"Let me introduce:\")\n",
    "    for key, value in data.items():\n",
    "        print(f\"   {key} is {value}\")\n",
    "    print(\"=\"*10)\n",
    "    \n",
    "users = [{'Firstname':\"Sita\", 'Lastname':\"Sharma\", 'Age':22, 'Phone':'1234567890'}, \n",
    "         {'Firstname':\"John\", 'Lastname':\"Wood\", 'Email':\"johnwood@nomail.com\", \n",
    "          'Country':\"Wakanda\", 'Age':25, 'Phone':'9876543210'}]\n",
    "\n",
    "for being in users:\n",
    "    intro(**being)"
   ]
  },
  {
   "cell_type": "code",
   "execution_count": null,
   "id": "median-morning",
   "metadata": {},
   "outputs": [],
   "source": [
    "# 참고용\n",
    "# arbitrary keyword arguments\n",
    "\n",
    "def who_is_max(**students):\n",
    "    max_avg = 0\n",
    "    top_student = None\n",
    "\n",
    "    # 각 학생의 평균 성적 계산\n",
    "    for student, scores in students.items():\n",
    "        avg_score = sum(scores.values()) / len(scores)\n",
    "        print(f\"{student}'s average score: {avg_score:.2f}\")\n",
    "\n",
    "        # 최고 평균 성적 갱신\n",
    "        if avg_score > max_avg:\n",
    "            max_avg = avg_score\n",
    "            top_student = student\n",
    "\n",
    "    # 최고 평균 성적을 받은 학생 출력\n",
    "    print(f\"\\nTop student: {top_student} with an average score of {max_avg:.2f}\")\n",
    "\n",
    "score = {\n",
    "'Alice':{'Math': 95, 'Science': 90, 'English': 88, 'History': 94, 'Art': 90},\n",
    "'Bob':{'Math': 75, 'Science': 85, 'English': 78, 'History': 88, 'Art': 80},\n",
    "'Charlie':{'Math': 98, 'Science': 89, 'English': 95, 'History': 87, 'Art': 95},\n",
    "'Dave':{'Math': 65, 'Science': 70, 'English': 60, 'History': 72, 'Art': 70},\n",
    "'Eve':{'Math': 85, 'Science': 80, 'English': 82, 'History': 90, 'Art': 88}\n",
    "}\n",
    "# 함수 사용 예\n",
    "who_is_max(**score)"
   ]
  },
  {
   "cell_type": "markdown",
   "id": "b0cc7602-22c5-4056-bca9-7370f1dbb0d1",
   "metadata": {},
   "source": [
    "#### scope of a variable"
   ]
  },
  {
   "cell_type": "code",
   "execution_count": null,
   "id": "supposed-colors",
   "metadata": {},
   "outputs": [],
   "source": [
    "# 21-1\n",
    "# variable의 scope\n",
    "a, b = 1, 3\n",
    "\n",
    "def test_func (a):\n",
    "    a = a + 1   # a는 test_func()에서 새로 정의되는 변수이며 test_func() 안에서만 유효함\n",
    "    b = a * 3   # b는 test_func()에서 새로 정의되는 변수이며 test_func() 안에서만 유효함\n",
    "    print(\"inside the function, a is\", a)\n",
    "    print(\"inside the function, b is\", b)\n",
    "\n",
    "print(\"before the function, a is\", a)\n",
    "print(\"before the function, b is\", b)\n",
    "\n",
    "print ('-'*10)\n",
    "test_func(a) # test_func()에서 a와 b를 변경한다고 해도, test_func()를 벗어나면 보이지 않음\n",
    "print ('-'*10)\n",
    "\n",
    "print(\"outside the function, a is\", a)\n",
    "print(\"outside the function, b is\", b)"
   ]
  },
  {
   "cell_type": "code",
   "execution_count": null,
   "id": "cleared-chester",
   "metadata": {},
   "outputs": [],
   "source": [
    "# 21-2 \n",
    "# function 내에서 정의된 local variable의 유효 범위\n",
    "a, b = 1, 3\n",
    "\n",
    "def test_func (a):\n",
    "    a = a + 1\n",
    "    b = a * 3    \n",
    "    c = a + b\n",
    "    print(\"inside the function, a is\", a)\n",
    "    print(\"inside the function, b is\", b)\n",
    "\n",
    "test_func(a)\n",
    "print(c)  # c의 범위는 test_func()로 제한됨. test_func() 밖에서는 보이지 않음"
   ]
  },
  {
   "cell_type": "code",
   "execution_count": null,
   "id": "romantic-thickness",
   "metadata": {},
   "outputs": [],
   "source": [
    "# 21-3\n",
    "# function 밖에서 정의된 variable의 유효 범위. 값을 읽는 것까지는 가능\n",
    "\n",
    "a, b, c = 1, 3, 4\n",
    "\n",
    "def test_func (a):\n",
    "    a = a + 1\n",
    "    b = a * 3\n",
    "    print(\"inside the function, a is\", a)\n",
    "    print(\"inside the function, b is\", b)\n",
    "    print(c)  # c가 test_func()에서 정의되지 않았지만, c라는 이름이 존재하므로 값 읽기는 가능\n",
    "\n",
    "test_func(a)"
   ]
  },
  {
   "cell_type": "code",
   "execution_count": null,
   "id": "configured-athletics",
   "metadata": {},
   "outputs": [],
   "source": [
    "# 21-4\n",
    "# function 정의의 위치와 variable의 값은 관계가 없음. 실행 순서가 중요\n",
    "\n",
    "a, b, c = 1, 3, 4\n",
    "\n",
    "def test_func (a):\n",
    "    a = a + 1\n",
    "    b = a * 3\n",
    "    print(\"inside the function, a is\", a)\n",
    "    print(\"inside the function, b is\", b)\n",
    "    print(c)   # 코드가 실행되면서 c의 값이 계속 바뀔 수 있음. test_func() 호출 직전의 c값\n",
    "\n",
    "c = 7\n",
    "test_func(a)"
   ]
  },
  {
   "cell_type": "code",
   "execution_count": null,
   "id": "empty-yemen",
   "metadata": {},
   "outputs": [],
   "source": [
    "# 21-5\n",
    "# function 밖에서 정의된 variable의 유효 범위. 값을 변경하는 것은 불가\n",
    "\n",
    "a, b, c = 1, 3, 4\n",
    "\n",
    "def test_func (a):\n",
    "    a = a + 1\n",
    "    b = a * 3\n",
    "    print(\"in the function, a is\", a)\n",
    "    print(\"in the function, b is\", b)\n",
    "    print(c)  # c가 test_func()에서 정의되지 않았으므로, 값 읽기까지는 가능하나,\n",
    "    c = 8     # 값을 변경하는 것은 불가. 오류 발생\n",
    "\n",
    "c = 7\n",
    "test_func(a)"
   ]
  },
  {
   "cell_type": "code",
   "execution_count": null,
   "id": "under-fishing",
   "metadata": {},
   "outputs": [],
   "source": [
    "# 21-6\n",
    "# function 밖에서 만들어지는 변수를 정식으로 사용하려면 global 선언 필요\n",
    "a, b, c = 1, 3, 4\n",
    "\n",
    "def test_func (a):\n",
    "    global c \n",
    "    a = a + 1\n",
    "    b = a * 3\n",
    "    print(\"in the function, c is initially\", c)\n",
    "    c = 8      # 변경 가능\n",
    "    print(\"in the function, c is changed to\", c)\n",
    "\n",
    "c = 7\n",
    "test_func(a)\n",
    "print(f\"after test_func, a, b, and c are {a}, {b}, {c}\")"
   ]
  },
  {
   "cell_type": "code",
   "execution_count": null,
   "id": "handy-vertical",
   "metadata": {},
   "outputs": [],
   "source": [
    "# 참고용\n",
    "# mult_numbers()를 recursive하게 구현\n",
    "def mult_numbers(x, y):\n",
    "    print(f\"mult_numbers({x}, {y})\")\n",
    "    if (y == 0):\n",
    "        return 0\n",
    "    elif (y == 1):\n",
    "        return x\n",
    "    elif (y > 1):\n",
    "        return x + mult_numbers(x, y-1)\n",
    "\n",
    "print(mult_numbers(6,3))"
   ]
  },
  {
   "cell_type": "code",
   "execution_count": null,
   "id": "sapphire-baking",
   "metadata": {},
   "outputs": [],
   "source": [
    "# 참고용\n",
    "# 숫자 string의 각 자릿수 합 구하기 - iterative version\n",
    "\n",
    "def sum_of_digits_i(n_s):\n",
    "    total = 0\n",
    "    for char in n_s:\n",
    "        total += int(char)\n",
    "    return total\n",
    "print(sum_of_digits_i(\"1358\"))"
   ]
  },
  {
   "cell_type": "code",
   "execution_count": null,
   "id": "sought-resistance",
   "metadata": {},
   "outputs": [],
   "source": [
    "# 참고용\n",
    "# 숫자 string의 각 자릿수 합 구하기 - recursive version\n",
    "\n",
    "def sum_of_digits_r(n_s):\n",
    "    if not n_s:\n",
    "        return 0\n",
    "    return int(n_s[-1]) + sum_of_digits_r(n_s[:-1])\n",
    "\n",
    "print(sum_of_digits_r(\"1358\"))"
   ]
  }
 ],
 "metadata": {
  "kernelspec": {
   "display_name": "Python 3 (ipykernel)",
   "language": "python",
   "name": "python3"
  },
  "language_info": {
   "codemirror_mode": {
    "name": "ipython",
    "version": 3
   },
   "file_extension": ".py",
   "mimetype": "text/x-python",
   "name": "python",
   "nbconvert_exporter": "python",
   "pygments_lexer": "ipython3",
   "version": "3.11.6"
  }
 },
 "nbformat": 4,
 "nbformat_minor": 5
}
