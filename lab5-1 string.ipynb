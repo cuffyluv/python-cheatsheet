{
 "cells": [
  {
   "cell_type": "markdown",
   "id": "5768c7b9-7ab9-4329-9291-19d98696a167",
   "metadata": {},
   "source": [
    "### 실습물 제출 가이드라인\n",
    "- 아래에 주어진 코드들을 실행해서 python의 동작 원리를 이해하시오. 그리고, # M 으로 주어진 부분은 코드를 작성하고 실행하시오.\n",
    "- 주어진 코드들을 다 실행해 보고 결과를 확인하면 3점을 부여합니다.\n",
    "- \"# M\"으로 주어진 문제는 정확한 답을 작성하면 표기된 점수가 부여됩니다."
   ]
  },
  {
   "cell_type": "markdown",
   "id": "advanced-inspection",
   "metadata": {},
   "source": [
    "### String"
   ]
  },
  {
   "cell_type": "markdown",
   "id": "temporal-clear",
   "metadata": {},
   "source": [
    "#### String indexing, slicing"
   ]
  },
  {
   "cell_type": "code",
   "execution_count": 1,
   "id": "wanted-killing",
   "metadata": {},
   "outputs": [],
   "source": [
    "e_s = \"Hello World\"\n",
    "k_s = \"맑은 아침입니다!\""
   ]
  },
  {
   "cell_type": "code",
   "execution_count": 2,
   "id": "accompanied-marking",
   "metadata": {},
   "outputs": [
    {
     "name": "stdout",
     "output_type": "stream",
     "text": [
      "H\n",
      "맑\n"
     ]
    }
   ],
   "source": [
    "# 1\n",
    "# string indexing\n",
    "print(e_s[0])\n",
    "print(k_s[0])"
   ]
  },
  {
   "cell_type": "code",
   "execution_count": 3,
   "id": "fifty-celtic",
   "metadata": {},
   "outputs": [
    {
     "name": "stdout",
     "output_type": "stream",
     "text": [
      "d\n",
      "!\n"
     ]
    }
   ],
   "source": [
    "# 2\n",
    "# string reverse indexing\n",
    "print(e_s[-1])\n",
    "print(k_s[-1])"
   ]
  },
  {
   "cell_type": "code",
   "execution_count": 4,
   "id": "monetary-referral",
   "metadata": {},
   "outputs": [
    {
     "name": "stdout",
     "output_type": "stream",
     "text": [
      "World\n",
      "니다!\n"
     ]
    }
   ],
   "source": [
    "# 3\n",
    "# slicing => [start:end]\n",
    "print(e_s[6:11])\n",
    "print(k_s[6:9])"
   ]
  },
  {
   "cell_type": "code",
   "execution_count": 5,
   "id": "universal-coupon",
   "metadata": {},
   "outputs": [
    {
     "name": "stdout",
     "output_type": "stream",
     "text": [
      "oWrd\n",
      "침니!\n"
     ]
    }
   ],
   "source": [
    "# 4\n",
    "# slicing => [start:end:step] # step은 글자 간격\n",
    "print(e_s[4::2])\n",
    "print(k_s[4::2])"
   ]
  },
  {
   "cell_type": "code",
   "execution_count": 6,
   "id": "military-advantage",
   "metadata": {},
   "outputs": [
    {
     "name": "stdout",
     "output_type": "stream",
     "text": [
      "Hello\n",
      "맑은 아침\n"
     ]
    }
   ],
   "source": [
    "# 5\n",
    "# slicing => [:end], index 0번부터 end-1까지\n",
    "print(e_s[:5])\n",
    "print(k_s[:5])"
   ]
  },
  {
   "cell_type": "code",
   "execution_count": 7,
   "id": "subtle-tower",
   "metadata": {},
   "outputs": [
    {
     "name": "stdout",
     "output_type": "stream",
     "text": [
      "World\n",
      "니다!\n"
     ]
    }
   ],
   "source": [
    "# 6\n",
    "# slicing => [start:], start부터 끝까지\n",
    "print(e_s[6:])\n",
    "print(k_s[6:])"
   ]
  },
  {
   "cell_type": "code",
   "execution_count": 8,
   "id": "b52c05bb-2fa2-4e1a-a9e9-c2d4b025ca45",
   "metadata": {},
   "outputs": [
    {
     "name": "stdout",
     "output_type": "stream",
     "text": [
      "W olleH\n",
      "니입침아 은맑\n"
     ]
    }
   ],
   "source": [
    "# 6\n",
    "# slicing => [start::-1], start부터 거꾸로 한 칸씩 \n",
    "print(e_s[6::-1])\n",
    "print(k_s[6::-1])"
   ]
  },
  {
   "cell_type": "code",
   "execution_count": 9,
   "id": "filled-haven",
   "metadata": {},
   "outputs": [
    {
     "name": "stdout",
     "output_type": "stream",
     "text": [
      "orld\n",
      "입니다!\n"
     ]
    }
   ],
   "source": [
    "# 7\n",
    "# slicing => [start:], start가 음수이면 끝에서부터 위치 계산\n",
    "print(e_s[-4:])\n",
    "print(k_s[-4:])"
   ]
  },
  {
   "cell_type": "code",
   "execution_count": 10,
   "id": "cooked-honolulu",
   "metadata": {},
   "outputs": [
    {
     "name": "stdout",
     "output_type": "stream",
     "text": [
      "dlroW olleH\n",
      "!다니입침아 은맑\n"
     ]
    }
   ],
   "source": [
    "# 8\n",
    "# string 거꾸로 출력하기\n",
    "print(e_s[-1::-1])\n",
    "print(k_s[-1::-1])"
   ]
  },
  {
   "cell_type": "code",
   "execution_count": 11,
   "id": "invisible-solution",
   "metadata": {},
   "outputs": [
    {
     "name": "stdout",
     "output_type": "stream",
     "text": [
      "e\n"
     ]
    }
   ],
   "source": [
    "# M1\n",
    "# 10글자 이상 문자열을 하나 만들고, \n",
    "# 다음의 값을 보이는 코드를 작성하시오 (0.1점)\n",
    "# 1) 두번째 글자 출락하기 (0.1점)\n",
    "\n",
    "my_str = 'Hello World!'\n",
    "print(my_str[1])"
   ]
  },
  {
   "cell_type": "code",
   "execution_count": 12,
   "id": "banner-sessions",
   "metadata": {},
   "outputs": [
    {
     "name": "stdout",
     "output_type": "stream",
     "text": [
      "l\n"
     ]
    }
   ],
   "source": [
    "# 2) 뒤에서 세번째 글자 출력하기(0.1점)\n",
    "print(my_str[-3])"
   ]
  },
  {
   "cell_type": "code",
   "execution_count": 16,
   "id": "ranging-newark",
   "metadata": {},
   "outputs": [
    {
     "name": "stdout",
     "output_type": "stream",
     "text": [
      "Hello\n"
     ]
    }
   ],
   "source": [
    "# 3) 첫 글자부터 앞에서 다섯번째 글자까지 출력하기(0.1점)\n",
    "print(my_str[:5])"
   ]
  },
  {
   "cell_type": "code",
   "execution_count": 18,
   "id": "continuous-expert",
   "metadata": {},
   "outputs": [
    {
     "name": "stdout",
     "output_type": "stream",
     "text": [
      "oWrd\n"
     ]
    }
   ],
   "source": [
    "# 4) 다섯번째 글자부터 끝까지 한 글자씩 걸러서 출력하기(0.1점)\n",
    "print(my_str[4::2])"
   ]
  },
  {
   "cell_type": "code",
   "execution_count": 20,
   "id": "extended-candidate",
   "metadata": {},
   "outputs": [
    {
     "name": "stdout",
     "output_type": "stream",
     "text": [
      "orld!\n"
     ]
    }
   ],
   "source": [
    "# 5) 끝에서 5번째 글자부터 끝까지 출력하기 (0.1점)\n",
    "print(my_str[-5:])"
   ]
  },
  {
   "cell_type": "markdown",
   "id": "accepting-allah",
   "metadata": {},
   "source": [
    "#### String 연산"
   ]
  },
  {
   "cell_type": "code",
   "execution_count": 21,
   "id": "demographic-opportunity",
   "metadata": {},
   "outputs": [
    {
     "name": "stdout",
     "output_type": "stream",
     "text": [
      "The word 'world' is in the text.\n",
      "The word 'World' is not in the text.\n"
     ]
    }
   ],
   "source": [
    "# 9 \n",
    "# string 내의 pattern 포함 여부 확인\n",
    "text = \"Hello, world!\"\n",
    "\n",
    "if \"world\" in text: \n",
    "    print(\"The word 'world' is in the text.\")\n",
    "else:\n",
    "    print(\"The word 'world' is not in the text.\")\n",
    "\n",
    "if \"World\" in text: \n",
    "    print(\"The word 'World' is in the text.\")\n",
    "else:\n",
    "    print(\"The word 'World' is not in the text.\")"
   ]
  },
  {
   "cell_type": "code",
   "execution_count": 22,
   "id": "canadian-factor",
   "metadata": {},
   "outputs": [
    {
     "name": "stdout",
     "output_type": "stream",
     "text": [
      "True\n"
     ]
    }
   ],
   "source": [
    "# 10-1\n",
    "# string 간 비교 연산\n",
    "print (\"hello\" != \"Hello\") "
   ]
  },
  {
   "cell_type": "code",
   "execution_count": 23,
   "id": "cc4ef254-4805-4026-87d5-9f25588708b0",
   "metadata": {},
   "outputs": [
    {
     "name": "stdout",
     "output_type": "stream",
     "text": [
      "False\n"
     ]
    }
   ],
   "source": [
    "# 10-2\n",
    "print (\"abc\" < \"ab\") "
   ]
  },
  {
   "cell_type": "code",
   "execution_count": 24,
   "id": "0a7d0d5a-9b3b-49b9-8d42-30541d8a824d",
   "metadata": {},
   "outputs": [
    {
     "name": "stdout",
     "output_type": "stream",
     "text": [
      "False\n"
     ]
    }
   ],
   "source": [
    "# 10-3\n",
    "print (\"b\" < \"abcd\")"
   ]
  },
  {
   "cell_type": "code",
   "execution_count": 25,
   "id": "5240b04d-1517-48ff-b41f-a13dfcbe86a1",
   "metadata": {},
   "outputs": [
    {
     "name": "stdout",
     "output_type": "stream",
     "text": [
      "True\n"
     ]
    }
   ],
   "source": [
    "# 10-4\n",
    "print (\"cat\" >= \"car\") "
   ]
  },
  {
   "cell_type": "code",
   "execution_count": 26,
   "id": "9387a2c9-c829-4f9a-803b-2fbd9929870f",
   "metadata": {},
   "outputs": [
    {
     "name": "stdout",
     "output_type": "stream",
     "text": [
      "False\n"
     ]
    }
   ],
   "source": [
    "# 10-5\n",
    "print (\"A\" >= \"a\") "
   ]
  },
  {
   "cell_type": "code",
   "execution_count": 35,
   "id": "charitable-official",
   "metadata": {},
   "outputs": [
    {
     "name": "stdin",
     "output_type": "stream",
     "text": [
      "a string: aa\n",
      "another string: bb\n"
     ]
    },
    {
     "name": "stdout",
     "output_type": "stream",
     "text": [
      "winner is bb\n"
     ]
    }
   ],
   "source": [
    "# M2\n",
    "# 사용자로부터 두 개의 string을 입력 받아서 크기를 비교하여 큰 string을 출력하는 코드를 작성하시오.\n",
    "# 두 개의 string이 동일하면 \"no winner\"라고 출력하시오. (0.2점)\n",
    "\n",
    "# 실행 사례1)\n",
    "# a string: aa\n",
    "# another string: bb\n",
    "# winner is bb\n",
    "#\n",
    "# 실행 사례2)\n",
    "# a string: bb\n",
    "# another string: bb\n",
    "# no winner\n",
    "\n",
    "str1 = input('a string:')\n",
    "str2 = input('another string:')\n",
    "if str1 == str2:\n",
    "    print('no winner')\n",
    "else:\n",
    "    print(f'winner is {str1 if str1 > str2 else str2}')"
   ]
  },
  {
   "cell_type": "code",
   "execution_count": null,
   "id": "87b6f808-8a84-4fbd-8195-6a8d500c249f",
   "metadata": {},
   "outputs": [],
   "source": [
    "#### String methods"
   ]
  },
  {
   "cell_type": "code",
   "execution_count": 36,
   "id": "composed-juvenile",
   "metadata": {},
   "outputs": [
    {
     "name": "stdout",
     "output_type": "stream",
     "text": [
      "Length of the phrase is 36\n",
      "4\n"
     ]
    }
   ],
   "source": [
    "# 11-1\n",
    "# count(sub[, start[, end]]): string내 특정 pattern 등장 횟수 세기  \n",
    "myPhrase = \"She wore a red dress, with a red hat\"\n",
    "print(\"Length of the phrase is\", len(myPhrase))\n",
    "print(myPhrase.count('re'))"
   ]
  },
  {
   "cell_type": "code",
   "execution_count": 37,
   "id": "5baae9f4-a984-4aee-a74f-9349adbfeb13",
   "metadata": {},
   "outputs": [
    {
     "name": "stdout",
     "output_type": "stream",
     "text": [
      "3\n"
     ]
    }
   ],
   "source": [
    "# 11-2\n",
    "print(myPhrase.count('re', 10))"
   ]
  },
  {
   "cell_type": "code",
   "execution_count": 38,
   "id": "19eba481-0e7a-4f00-80f7-60d531e87815",
   "metadata": {},
   "outputs": [
    {
     "name": "stdout",
     "output_type": "stream",
     "text": [
      "2\n"
     ]
    }
   ],
   "source": [
    "# 11-3\n",
    "print(myPhrase.count('red'))"
   ]
  },
  {
   "cell_type": "code",
   "execution_count": 39,
   "id": "ae2056fb-8e1a-4cb8-ae50-5e73d6084428",
   "metadata": {},
   "outputs": [
    {
     "name": "stdout",
     "output_type": "stream",
     "text": [
      "0\n"
     ]
    }
   ],
   "source": [
    "# 11-4\n",
    "print(myPhrase.count('red', 8, 12))"
   ]
  },
  {
   "cell_type": "code",
   "execution_count": 40,
   "id": "floppy-roman",
   "metadata": {},
   "outputs": [
    {
     "name": "stdout",
     "output_type": "stream",
     "text": [
      "Length of the phrase is 36\n",
      "6\n"
     ]
    }
   ],
   "source": [
    "# 12-1\n",
    "# find(sub[, start[, end]]): string 내 특정 pattern이 처음 등장하는 위치, 없으면 -1\n",
    "# rfind(sub[, start[, end]]): string 내 특정 pattern이 뒤에서 처음 등장하는 위치, 없으면 -1\n",
    "myPhrase = \"She wore a red dress, with a red hat\"\n",
    "print(\"Length of the phrase is\", len(myPhrase))\n",
    "print(myPhrase.find('re'))   "
   ]
  },
  {
   "cell_type": "code",
   "execution_count": 41,
   "id": "9bca14f3-64e0-42b6-9b28-a4074c4a071e",
   "metadata": {},
   "outputs": [
    {
     "name": "stdout",
     "output_type": "stream",
     "text": [
      "11\n"
     ]
    }
   ],
   "source": [
    "# 12-2\n",
    "print(myPhrase.find('re', 7))   "
   ]
  },
  {
   "cell_type": "code",
   "execution_count": 42,
   "id": "cc585b04-cf03-4e21-8cee-3bf972636c92",
   "metadata": {},
   "outputs": [
    {
     "name": "stdout",
     "output_type": "stream",
     "text": [
      "29\n"
     ]
    }
   ],
   "source": [
    "# 12-3\n",
    "print(myPhrase.find('re', 25, 35))  "
   ]
  },
  {
   "cell_type": "code",
   "execution_count": 43,
   "id": "aa7502b4-c481-45b9-9164-076dff7d1e41",
   "metadata": {},
   "outputs": [
    {
     "name": "stdout",
     "output_type": "stream",
     "text": [
      "29\n"
     ]
    }
   ],
   "source": [
    "# 12-4\n",
    "print(myPhrase.rfind('red'))    "
   ]
  },
  {
   "cell_type": "code",
   "execution_count": 44,
   "id": "167ff22a-77dd-43e0-ba1d-3e8c0e705366",
   "metadata": {},
   "outputs": [
    {
     "name": "stdout",
     "output_type": "stream",
     "text": [
      "-1\n"
     ]
    }
   ],
   "source": [
    "# 12-5\n",
    "print(myPhrase.rfind('x')) "
   ]
  },
  {
   "cell_type": "code",
   "execution_count": 45,
   "id": "going-scheduling",
   "metadata": {},
   "outputs": [
    {
     "name": "stdout",
     "output_type": "stream",
     "text": [
      "Length of the phrase is 36\n",
      "6\n"
     ]
    }
   ],
   "source": [
    "# 13-1\n",
    "# index(sub[, start[, end]]): string내 특정 pattern이 처음 등장하는 위치, 없으면 오류 발생\n",
    "# rindex(sub[, start[, end]])): string내 특정 pattern이 뒤에서 처음 등장하는 위치, 없으면 오류 발생\n",
    "myPhrase = \"She wore a red dress, with a red hat\"\n",
    "print(\"Length of the phrase is\", len(myPhrase))\n",
    "print(myPhrase.index('re'))   "
   ]
  },
  {
   "cell_type": "code",
   "execution_count": 46,
   "id": "d7c68b5c-0fbc-47ac-b0cd-1d0be9433a40",
   "metadata": {},
   "outputs": [
    {
     "name": "stdout",
     "output_type": "stream",
     "text": [
      "11\n"
     ]
    }
   ],
   "source": [
    "# 13-2\n",
    "print(myPhrase.index('re', 7))  "
   ]
  },
  {
   "cell_type": "code",
   "execution_count": 47,
   "id": "f3b2b7b3-e2bb-4e3a-a296-c7a0880bcfbd",
   "metadata": {},
   "outputs": [
    {
     "name": "stdout",
     "output_type": "stream",
     "text": [
      "29\n"
     ]
    }
   ],
   "source": [
    "# 13-3\n",
    "print(myPhrase.index('re', 25, 35))  "
   ]
  },
  {
   "cell_type": "code",
   "execution_count": 48,
   "id": "198318f3-1337-42c3-979c-8711250932fd",
   "metadata": {},
   "outputs": [
    {
     "name": "stdout",
     "output_type": "stream",
     "text": [
      "29\n"
     ]
    }
   ],
   "source": [
    "# 13-4\n",
    "print(myPhrase.rindex('red'))    "
   ]
  },
  {
   "cell_type": "code",
   "execution_count": 49,
   "id": "12dfa9d2-73ae-4bd4-8505-8dd842be0fcf",
   "metadata": {},
   "outputs": [
    {
     "ename": "ValueError",
     "evalue": "substring not found",
     "output_type": "error",
     "traceback": [
      "\u001b[0;31m---------------------------------------------------------------------------\u001b[0m",
      "\u001b[0;31mValueError\u001b[0m                                Traceback (most recent call last)",
      "Cell \u001b[0;32mIn[49], line 2\u001b[0m\n\u001b[1;32m      1\u001b[0m \u001b[38;5;66;03m# 13-5\u001b[39;00m\n\u001b[0;32m----> 2\u001b[0m \u001b[38;5;28mprint\u001b[39m(\u001b[43mmyPhrase\u001b[49m\u001b[38;5;241;43m.\u001b[39;49m\u001b[43mrindex\u001b[49m\u001b[43m(\u001b[49m\u001b[38;5;124;43m'\u001b[39;49m\u001b[38;5;124;43mx\u001b[39;49m\u001b[38;5;124;43m'\u001b[39;49m\u001b[43m)\u001b[49m) \n",
      "\u001b[0;31mValueError\u001b[0m: substring not found"
     ]
    }
   ],
   "source": [
    "# 13-5\n",
    "print(myPhrase.rindex('x')) "
   ]
  },
  {
   "cell_type": "code",
   "execution_count": 60,
   "id": "regulation-queens",
   "metadata": {},
   "outputs": [
    {
     "name": "stdin",
     "output_type": "stream",
     "text": [
      "Enter a string: elephant\n"
     ]
    },
    {
     "name": "stdout",
     "output_type": "stream",
     "text": [
      "'ph' apears first at index 3 in 'elephant'\n"
     ]
    }
   ],
   "source": [
    "# M3\n",
    "# string의 method들을 사용하지 않고 for와 range(), len()을 사용해서,\n",
    "# 사용자로부터 입력받은 string 내에 \n",
    "#'ph'가 처음 어디에 나타나는지 출력하는 코드를 작성하시오. (0.5점)\n",
    "# \n",
    "# 실행 사례 1) \n",
    "# Enter a string: elephant\n",
    "# 'ph' apears first at index 3 in 'elephant'\n",
    "# \n",
    "# 실행 사례 2) \n",
    "# Enter a string: happy\n",
    "# There is no 'ph' in 'happy'\n",
    "'''\n",
    "str = input('Enter a string:')\n",
    "for i in range(len(str)):\n",
    "    if str[i] == 'p':\n",
    "        if str[i + 1] == 'h':\n",
    "            print(f\"'ph' apears first at index {i} in '{str}'\")\n",
    "            break\n",
    "else:\n",
    "    print(f\"There is no 'ph' in '{str}'\")\n",
    "''' \n",
    "# 위에 코드는 c-스러운 느낌이 있음.\n",
    "# 아래처럼 슬라이싱 써서 짜는 게 파이써닉 한 듯.\n",
    "\n",
    "str = input('Enter a string:')\n",
    "for i in range(len(str)):\n",
    "    if str[i:i+2] == 'ph':\n",
    "        print(f\"'ph' apears first at index {i} in '{str}'\")\n",
    "        break\n",
    "else:\n",
    "    print(f\"There is no 'ph' in '{str}'\")\n"
   ]
  },
  {
   "cell_type": "code",
   "execution_count": 56,
   "id": "nutritional-tourism",
   "metadata": {},
   "outputs": [
    {
     "name": "stdout",
     "output_type": "stream",
     "text": [
      "This file name starts with ex.\n"
     ]
    }
   ],
   "source": [
    "# 14\n",
    "# startswith():특정 pattern으로 시작하는지 확인 (True or False)\n",
    "filename = \"example.txt\"\n",
    "prefix = \"ex\"\n",
    "if filename.startswith(prefix):\n",
    "    print(f\"This file name starts with {prefix}.\")\n",
    "else:\n",
    "    print(f\"This file name does not start with {prefix}.\")"
   ]
  },
  {
   "cell_type": "code",
   "execution_count": 66,
   "id": "decreased-collector",
   "metadata": {},
   "outputs": [
    {
     "name": "stdout",
     "output_type": "stream",
     "text": [
      "ability\n",
      "abnormal\n"
     ]
    }
   ],
   "source": [
    "# M4\n",
    "# strings = ['ability', 'character', 'abnormal', 'church', 'polish', 'choice', 'dish']로\n",
    "# 주어졌을 때, \n",
    "# strings에서 'ab'로 시작하는 단어들을 출력하는 코드를 작성하시오. \n",
    "# string의 method들을 사용하지 않고 작성하시오.(0.2점)\n",
    "\n",
    "strings = ['ability', 'character', 'abnormal', 'church', 'polish', 'choice', 'dish']\n",
    "for str in strings:\n",
    "    if str[:2] == 'ab':\n",
    "        print(str)\n",
    "# 이렇게 슬라이싱 써서 짜는 게 파이써닉한듯?"
   ]
  },
  {
   "cell_type": "code",
   "execution_count": 68,
   "id": "authorized-poker",
   "metadata": {},
   "outputs": [
    {
     "name": "stdout",
     "output_type": "stream",
     "text": [
      "ability\n",
      "abnormal\n"
     ]
    }
   ],
   "source": [
    "# M5\n",
    "# strings =  ['ability', 'character', 'abnormal', 'church', 'polish', 'choice', 'dish']로\n",
    "# 주어졌을 때, \n",
    "# strings에서 'ab'로 시작하는 단어들을 출력하는 코드를 작성하시오. \n",
    "\n",
    "strings =  ['ability', 'character', 'abnormal', 'church', 'polish', 'choice', 'dish']\n",
    "prefix = 'ab'\n",
    "for str in strings:\n",
    "    if str.startswith(prefix):\n",
    "        print(str)\n"
   ]
  },
  {
   "cell_type": "code",
   "execution_count": 69,
   "id": "seeing-marks",
   "metadata": {},
   "outputs": [
    {
     "name": "stdout",
     "output_type": "stream",
     "text": [
      "This file is pdf format.\n"
     ]
    }
   ],
   "source": [
    "# 15\n",
    "# endswith():특정 pattern으로 끝나는지 확인 (True or False)\n",
    "filename = \"report.pdf\"\n",
    "extension = \"pdf\"\n",
    "if filename.endswith(extension):\n",
    "    print(f\"This file is {extension} format.\")\n",
    "else:\n",
    "    print(f\"This file is {extension} format.\")"
   ]
  },
  {
   "cell_type": "code",
   "execution_count": 1,
   "id": "detected-consciousness",
   "metadata": {},
   "outputs": [
    {
     "name": "stdout",
     "output_type": "stream",
     "text": [
      "polish\n",
      "dish\n"
     ]
    }
   ],
   "source": [
    "# M6\n",
    "# strings = ['ability', 'character', 'abnormal', 'church', 'polish', 'choice', 'dish']로 \n",
    "# 주어졌을 때, \n",
    "# strings에서 'sh'로 끝나는 단어들을 출력하는 코드를 작성하시오. \n",
    "# for문을 사용하되 endswith()를 사용하지 마시오.(0.3점)\n",
    "# slicing을 적용하시오.\n",
    "strings = ['ability', 'character', 'abnormal', 'church', 'polish', 'choice', 'dish']\n",
    "for str in strings:\n",
    "    if str[-2:] == 'sh':\n",
    "        print(str)\n"
   ]
  },
  {
   "cell_type": "code",
   "execution_count": 2,
   "id": "respective-throat",
   "metadata": {},
   "outputs": [
    {
     "name": "stdout",
     "output_type": "stream",
     "text": [
      "polish\n",
      "dish\n"
     ]
    }
   ],
   "source": [
    "# M7\n",
    "# strings = ['ability', 'character', 'abnormal', 'church', 'polish', 'choice', 'dish']로\n",
    "# 주어졌을 때,\n",
    "# strings에서 'sh'로 끝나는 단어들을 출력하는 코드를 작성하시오. \n",
    "# for문을 사용하되 endswith()를 사용하시오.(0.1점)\n",
    "strings = ['ability', 'character', 'abnormal', 'church', 'polish', 'choice', 'dish']\n",
    "extension = 'sh'\n",
    "for str in strings:\n",
    "    if str.endswith(extension):\n",
    "        print(str)\n"
   ]
  },
  {
   "cell_type": "code",
   "execution_count": 72,
   "id": "floating-shareware",
   "metadata": {},
   "outputs": [
    {
     "name": "stdout",
     "output_type": "stream",
     "text": [
      "True\n",
      "True\n",
      "True\n"
     ]
    }
   ],
   "source": [
    "# 16\n",
    "# isdecimal(): 10진수 문자인가\n",
    "# isdigit(): 10진수 문자, 숫자 문자인가?\n",
    "# isnumeric(): 10진수 문자, 숫자 문자, 분수, 로마숫자, 통화 기호인가?\n",
    "int_str=\"2\"\n",
    "print(int_str.isdecimal())\n",
    "print(int_str.isdigit())\n",
    "print(int_str.isnumeric())"
   ]
  },
  {
   "cell_type": "code",
   "execution_count": 73,
   "id": "double-sussex",
   "metadata": {},
   "outputs": [
    {
     "name": "stdout",
     "output_type": "stream",
     "text": [
      "False\n",
      "True\n",
      "True\n"
     ]
    }
   ],
   "source": [
    "# 17\n",
    "superscript_str=\"²\"\n",
    "print(superscript_str.isdecimal())\n",
    "print(superscript_str.isdigit())\n",
    "print(superscript_str.isnumeric())"
   ]
  },
  {
   "cell_type": "code",
   "execution_count": 74,
   "id": "reported-patio",
   "metadata": {},
   "outputs": [
    {
     "name": "stdout",
     "output_type": "stream",
     "text": [
      "False\n",
      "False\n",
      "True\n"
     ]
    }
   ],
   "source": [
    "# 18\n",
    "fraction_str=\"½\"\n",
    "print(fraction_str.isdecimal())\n",
    "print(fraction_str.isdigit())\n",
    "print(fraction_str.isnumeric())"
   ]
  },
  {
   "cell_type": "code",
   "execution_count": 5,
   "id": "similar-pontiac",
   "metadata": {},
   "outputs": [
    {
     "name": "stdout",
     "output_type": "stream",
     "text": [
      "False\n",
      "False\n",
      "False\n"
     ]
    }
   ],
   "source": [
    "# M8\n",
    "# 3.14 등과 같은 실수값을 string으로 만들어서 \n",
    "# isdecimal(), isdigit(), isnumeric()을 적용해 보시오. (0.1점)\n",
    "realnum = '3.14'\n",
    "print(realnum.isdecimal())\n",
    "print(realnum.isdigit())\n",
    "print(realnum.isnumeric())"
   ]
  },
  {
   "cell_type": "code",
   "execution_count": 76,
   "id": "classified-robin",
   "metadata": {},
   "outputs": [
    {
     "name": "stdout",
     "output_type": "stream",
     "text": [
      "['ability,', 'character,', 'abnormal,', 'church,', 'polish,', 'choice,', 'dish']\n"
     ]
    }
   ],
   "source": [
    "# 19-1\n",
    "# string 분할\n",
    "words = \"ability, character, abnormal,    church, polish, choice, dish\"\n",
    "words_list_blank = words.split()\n",
    "print(words_list_blank)"
   ]
  },
  {
   "cell_type": "code",
   "execution_count": 77,
   "id": "1f23bcfb-2e35-4b59-a0ee-0b863e102319",
   "metadata": {},
   "outputs": [
    {
     "name": "stdout",
     "output_type": "stream",
     "text": [
      "['ability', ' character', ' abnormal', '    church', ' polish', ' choice', ' dish']\n"
     ]
    }
   ],
   "source": [
    "# 19-2\n",
    "words_list_comma = words.split(',')\n",
    "print(words_list_comma)"
   ]
  },
  {
   "cell_type": "code",
   "execution_count": 78,
   "id": "d26fb708-fbd5-4603-a297-4d9d28f2ba40",
   "metadata": {},
   "outputs": [
    {
     "name": "stdout",
     "output_type": "stream",
     "text": [
      "['ability', 'character', 'abnormal', '   church', 'polish', 'choice', 'dish']\n"
     ]
    }
   ],
   "source": [
    "# 19-3\n",
    "words_list_comma_blank = words.split(', ')\n",
    "print(words_list_comma_blank)"
   ]
  },
  {
   "cell_type": "code",
   "execution_count": 7,
   "id": "fixed-corporation",
   "metadata": {},
   "outputs": [
    {
     "name": "stdout",
     "output_type": "stream",
     "text": [
      "ability character abnormal church polish choice dish\n"
     ]
    }
   ],
   "source": [
    "# 20-1\n",
    "# list로부터 string 만들기\n",
    "words_list = ['ability', 'character', 'abnormal', 'church', 'polish', 'choice', 'dish']\n",
    "blank_string = ' '.join(words_list)\n",
    "print(blank_string)"
   ]
  },
  {
   "cell_type": "code",
   "execution_count": 8,
   "id": "728d3592-0cd0-4489-8759-38ff94eecc79",
   "metadata": {},
   "outputs": [
    {
     "name": "stdout",
     "output_type": "stream",
     "text": [
      "ability,character,abnormal,church,polish,choice,dish\n"
     ]
    }
   ],
   "source": [
    "# 20-2\n",
    "comma_string = ','.join(words_list)\n",
    "print(comma_string)"
   ]
  },
  {
   "cell_type": "code",
   "execution_count": 9,
   "id": "b817d38b-b46f-4524-8c8f-5c08fd51b99c",
   "metadata": {},
   "outputs": [
    {
     "name": "stdout",
     "output_type": "stream",
     "text": [
      "ability, character, abnormal, church, polish, choice, dish\n"
     ]
    }
   ],
   "source": [
    "# 20-3\n",
    "comma_blank_string = ', '.join(words_list)\n",
    "print(comma_blank_string)"
   ]
  },
  {
   "cell_type": "code",
   "execution_count": 15,
   "id": "interested-partner",
   "metadata": {},
   "outputs": [
    {
     "name": "stdout",
     "output_type": "stream",
     "text": [
      "a-b-c-d-e-f-g-h\n",
      "a-b-c-d-e-f-g-h\n"
     ]
    }
   ],
   "source": [
    "# M9\n",
    "# \"a-b-c*d-e-f*g-h\"를 사용해서 \"a-b-c-d-e-f-g-h\"를 만드는 코드를 작성하시오 \n",
    "# 1) replace()를 사용하기 (0.2점)\n",
    "original = \"a-b-c*d-e-f*g-h\"\n",
    "replaced = original.replace('*', '-')\n",
    "print(replaced)\n",
    "# 2) split()과 join()을 사용하기 (0.3점)\n",
    "str_list = original.split('*')\n",
    "result = '-'.join(str_list)\n",
    "print(result)"
   ]
  },
  {
   "cell_type": "code",
   "execution_count": 83,
   "id": "dependent-pricing",
   "metadata": {},
   "outputs": [
    {
     "name": "stdout",
     "output_type": "stream",
     "text": [
      "SHE WORE A RED DRESS, WITH A RED HAT\n"
     ]
    }
   ],
   "source": [
    "# 21\n",
    "# upper(): 대문자로 변환해서 새로운 string 만들기\n",
    "myPhrase = \"She wore a red dress, with a red hat\"\n",
    "capitalPhrase = myPhrase.upper()\n",
    "print(capitalPhrase)"
   ]
  },
  {
   "cell_type": "code",
   "execution_count": 84,
   "id": "promising-father",
   "metadata": {},
   "outputs": [
    {
     "name": "stdout",
     "output_type": "stream",
     "text": [
      "She wore a blue dress, with a blue hat\n"
     ]
    }
   ],
   "source": [
    "# 22\n",
    "# replace(): 특정 pattern을 다른 pattern으로 변환해서 새로운 string 만들기\n",
    "myPhrase = \"She wore a red dress, with a red hat\"\n",
    "myBluePhrase = myPhrase.replace('red','blue')\n",
    "print(myBluePhrase)"
   ]
  },
  {
   "cell_type": "code",
   "execution_count": 16,
   "id": "genuine-affairs",
   "metadata": {},
   "outputs": [
    {
     "name": "stdout",
     "output_type": "stream",
     "text": [
      "*Hello, World!*\n"
     ]
    }
   ],
   "source": [
    "# 23\n",
    "# strip(): 문자열의 앞뒤 공백 지워서 새로운 string 만들기\n",
    "# lstrip(): 좌측 공백 지워서 새로운 string 만들기\n",
    "# rstrip(): 우측 공백 지워서 새로운 string 만들기\n",
    "original_string = \" Hello, World! \"\n",
    "clean_string = original_string.strip()\n",
    "print(\"*\" + clean_string + \"*\") "
   ]
  },
  {
   "cell_type": "code",
   "execution_count": 3,
   "id": "alone-pleasure",
   "metadata": {},
   "outputs": [
    {
     "name": "stdout",
     "output_type": "stream",
     "text": [
      "Happy words are:\n",
      "   [happy, luck, hope, friend, family, joy, laughter]\n"
     ]
    }
   ],
   "source": [
    "# M10\n",
    "# string = \"  happy,  luck, hope,friend, family, joy, laughter\"로 주어졌을 때,\n",
    "# 이 string 내에 있는 단어들을 아래와 같이 출력하는 코드를 작성하시오.(0.5점)\n",
    "# Happy words are:\n",
    "#   [happy, luck, hope, friend, family, joy, laughter]\n",
    "# split(), for, strip(), slicing을 사용하시오.\n",
    "string = \"  happy,  luck, hope,friend, family, joy, laughter\"\n",
    "words = string.split(',')\n",
    "\n",
    "for i in range(len(words)):\n",
    "   words[i] = words[i].strip()\n",
    "print('Happy words are:')\n",
    "print('   ' + '[' + ', '.join(words) + ']')"
   ]
  },
  {
   "cell_type": "code",
   "execution_count": 87,
   "id": "dimensional-indie",
   "metadata": {},
   "outputs": [
    {
     "name": "stdout",
     "output_type": "stream",
     "text": [
      "Hello, Forld!\n"
     ]
    }
   ],
   "source": [
    "# 24\n",
    "# string 내 특정 문자 혹은 특정 위치의 글자를 바꾸고자 하는 경우에는 \n",
    "# string을 잘라서 변경 후 다시 합쳐야 함 \n",
    "original_string = \"Hello, World!\"\n",
    "\n",
    "index_to_change = original_string.index('W')  # 변경하고자 하는 위치\n",
    "new_character = 'F'  # 바꾸고자 하는 target 글자 \n",
    "\n",
    "# slicing을 사용하여 변경된 string 생성\n",
    "modified_string = original_string[:index_to_change] + new_character + \\\n",
    "            original_string[index_to_change + 1:]  \n",
    "\n",
    "# 결과 출력\n",
    "print(modified_string)"
   ]
  },
  {
   "cell_type": "code",
   "execution_count": 39,
   "id": "108f1563-8568-43b1-9862-6af8b4b498e6",
   "metadata": {},
   "outputs": [
    {
     "name": "stdout",
     "output_type": "stream",
     "text": [
      "아침에 커피를 마시고, 차를 좋아하는 친구에게 커피를 추천했다.\n"
     ]
    }
   ],
   "source": [
    "# 25\n",
    "# string 내 반복되는 단어 중 특정 순서의 단어만 변경하고자 하는 경우\n",
    "# 두 번째 \"커피\"를 '차'로 변경하기\n",
    "\n",
    "text = \"아침에 커피를 마시고, 커피를 좋아하는 친구에게 커피를 추천했다.\"\n",
    "\n",
    "first_occurrence = text.find(\"커피\")\n",
    "second_occurrence = text.find(\"커피\", first_occurrence + 1)\n",
    "\n",
    "# 두 번째 \"커피\"를 \"차\"로 대체\n",
    "if second_occurrence != -1:\n",
    "    text = text[:second_occurrence] + \"차\" + text[second_occurrence + len(\"커피\"):]\n",
    "\n",
    "print(text)"
   ]
  },
  {
   "cell_type": "code",
   "execution_count": 47,
   "id": "ec43475b-91f1-4453-bb99-e5ec8b6b599d",
   "metadata": {},
   "outputs": [
    {
     "name": "stdout",
     "output_type": "stream",
     "text": [
      "\"아침에 커피를 마시고, 커피를 좋아하는 친구에게 커피를 추천했다.\"\n"
     ]
    },
    {
     "name": "stdin",
     "output_type": "stream",
     "text": [
      "Which '커피' to change to what: 3 쥬스\n"
     ]
    },
    {
     "name": "stdout",
     "output_type": "stream",
     "text": [
      "\"아침에 커피를 마시고, 커피를 좋아하는 친구에게 쥬스를 추천했다.\"\n"
     ]
    }
   ],
   "source": [
    "# M11\n",
    "# text = \"아침에 커피를 마시고, 커피를 좋아하는 친구에게 커피를 추천했다.\"라고 주어졌을 때,\n",
    "# 사용자로부터 \"몇 번째 커피'를 어떤 단어로 변경하고 싶은지 받아서 \n",
    "# 변경된 문장을 출력하는 코드를 작성하시오 (0.5점)\n",
    "# 실행 예1)\n",
    "# \"아침에 커피를 마시고, 커피를 좋아하는 친구에게 커피를 추천했다.\"\n",
    "# Which '커피' to change to what: 1 쥬스\n",
    "# 아침에 쥬스를 마시고, 커피를 좋아하는 친구에게 커피를 추천했다.\n",
    "# \n",
    "# 실행 예2)\n",
    "# \"아침에 커피를 마시고, 커피를 좋아하는 친구에게 커피를 추천했다.\"\n",
    "# Which '커피' to change to what: 4 쥬스\n",
    "# No '커피' to change\n",
    "\n",
    "oldstr = '\"아침에 커피를 마시고, 커피를 좋아하는 친구에게 커피를 추천했다.\"'\n",
    "print(oldstr)\n",
    "mylist = input(\"Which '커피' to change to what:\").split()\n",
    "nth = int(mylist[0])\n",
    "if nth > 3:\n",
    "    print(\"No '커피' to change\")\n",
    "else:\n",
    "    index = -1 \n",
    "    for _ in range(nth): \n",
    "        index = oldstr.find(\"커피\", index + 1)\n",
    "    newstr = oldstr[:index] + mylist[1] + oldstr[index + len(\"커피\"):]\n",
    "    print(newstr)"
   ]
  },
  {
   "cell_type": "markdown",
   "id": "alleged-celebrity",
   "metadata": {},
   "source": [
    "#### String formatting"
   ]
  },
  {
   "cell_type": "code",
   "execution_count": 90,
   "id": "universal-confidence",
   "metadata": {},
   "outputs": [
    {
     "name": "stdout",
     "output_type": "stream",
     "text": [
      "Total cost: $ 356.09,  Total students: 230, Boys: 120\n"
     ]
    }
   ],
   "source": [
    "# 25\n",
    "s1 = \"Total cost: $%7.2f\" % (356.08977) \n",
    "s2 = \"Total students: %3d, Boys: %2d\" % (230, 120)\n",
    "s3 = s1 + \",  \" + s2\n",
    "print(s3)"
   ]
  },
  {
   "cell_type": "code",
   "execution_count": 91,
   "id": "british-socket",
   "metadata": {},
   "outputs": [
    {
     "name": "stdout",
     "output_type": "stream",
     "text": [
      "* Kate's score is 95. Kate , good luck!\n"
     ]
    }
   ],
   "source": [
    "# 26\n",
    "score, name = 95, \"Kate\" \n",
    "s = \"*%5s's score is %d. %-5s, good luck!\" % (name, score, name)\n",
    "print(s)"
   ]
  },
  {
   "cell_type": "code",
   "execution_count": 92,
   "id": "historic-excuse",
   "metadata": {},
   "outputs": [
    {
     "name": "stdout",
     "output_type": "stream",
     "text": [
      "multiplication table 2 x 3 = 6\n"
     ]
    }
   ],
   "source": [
    "# 27\n",
    "a, b = 2, 3\n",
    "s = 'multiplication table {} x {} = {}'.format(a, b, a * b)\n",
    "print(s)"
   ]
  },
  {
   "cell_type": "code",
   "execution_count": 93,
   "id": "caroline-trick",
   "metadata": {},
   "outputs": [
    {
     "name": "stdout",
     "output_type": "stream",
     "text": [
      "Square 2 x 2 = 4\n"
     ]
    }
   ],
   "source": [
    "# 28\n",
    "a = 2\n",
    "s = 'Square {0} x {0} = {1}'.format(a, a*a)\n",
    "print(s)"
   ]
  },
  {
   "cell_type": "code",
   "execution_count": 94,
   "id": "prostate-maker",
   "metadata": {},
   "outputs": [
    {
     "name": "stdout",
     "output_type": "stream",
     "text": [
      "Square 3.23 x 3.23 = [  10.4329]\n"
     ]
    }
   ],
   "source": [
    "# 29\n",
    "a=3.23\n",
    "s = 'Square {0:.2f} x {0:.2f} = [{1:9.4f}]'.format(a, a*a)\n",
    "print(s)"
   ]
  },
  {
   "cell_type": "code",
   "execution_count": 95,
   "id": "parliamentary-audit",
   "metadata": {},
   "outputs": [
    {
     "name": "stdout",
     "output_type": "stream",
     "text": [
      "[kang ] and [   lee] are [ friends  ].\n",
      "[ko   ] and [  park] are [collegues ].\n"
     ]
    }
   ],
   "source": [
    "# 30\n",
    "format_string = '[{0:<5s}] and [{1:>6s}] are [{2:^10s}].'\n",
    "s = format_string.format(\"kang\", \"lee\", \"friends\")\n",
    "print(s)\n",
    "s = format_string.format('ko', 'park', 'collegues')\n",
    "print(s)"
   ]
  },
  {
   "cell_type": "code",
   "execution_count": 96,
   "id": "plastic-surge",
   "metadata": {},
   "outputs": [
    {
     "name": "stdout",
     "output_type": "stream",
     "text": [
      "This image is 15.00% cat and  85.00% dog\n"
     ]
    }
   ],
   "source": [
    "# 31\n",
    "score = 0.85\n",
    "caption = f\"This image is {100*(1-score):.2f}% cat and {100*score:6.2f}% dog\"\n",
    "print(caption)"
   ]
  },
  {
   "cell_type": "code",
   "execution_count": 97,
   "id": "aggressive-czech",
   "metadata": {},
   "outputs": [
    {
     "name": "stdout",
     "output_type": "stream",
     "text": [
      " 1 +  2 =  3; 1 + 2 = 3\n"
     ]
    }
   ],
   "source": [
    "# 32\n",
    "x, y = 1, 2\n",
    "expr1 = f\"{x:2d} + {y:2d} = {x+y:2d}\"\n",
    "expr2 = f\"{x} + {y} = {x+y}\"\n",
    "display = expr1 + \"; \" + expr2 \n",
    "print(display)"
   ]
  },
  {
   "cell_type": "code",
   "execution_count": 98,
   "id": "bored-recognition",
   "metadata": {},
   "outputs": [
    {
     "name": "stdout",
     "output_type": "stream",
     "text": [
      " kang and lee   are  friends  .\n"
     ]
    }
   ],
   "source": [
    "# 33 \n",
    "person1, person2 = \"kang\", \"lee\"\n",
    "relation = \"friends\"\n",
    "statement = f\"{person1:>5s} and {person2:<5s} are {relation:^10s}.\"\n",
    "print(statement)"
   ]
  },
  {
   "cell_type": "code",
   "execution_count": 48,
   "id": "abroad-saskatchewan",
   "metadata": {},
   "outputs": [
    {
     "name": "stdout",
     "output_type": "stream",
     "text": [
      "Jane's score is 95. Jane, good luck.\n"
     ]
    }
   ],
   "source": [
    "# M12 \n",
    "# score=95; name=\"Jane\" 가 주어져 있을 때,  \n",
    "# name, score 변수를 사용해서 \n",
    "# \"Jane's score is 95. Jane, good luck.\" 라는 문자열을 만드는 코드를 \n",
    "# 아래의 세 가지 방법으로 만들어 출력하시오. (각 0.2점)\n",
    "#  ① %   ② format()    ③ f-string -> 교수님) f-string만 구현할 것\n",
    "# 단, 'Jane'과 95는 name과 score 변수를 사용해서 출력되어야 한다.\n",
    "score = 95\n",
    "name = \"Jane\"\n",
    "print(f\"{name}'s score is {score}. {name}, good luck.\")\n"
   ]
  },
  {
   "cell_type": "code",
   "execution_count": 55,
   "id": "executed-richmond",
   "metadata": {},
   "outputs": [
    {
     "name": "stdout",
     "output_type": "stream",
     "text": [
      "Name: James, Age: 10\n",
      "Name:   Ann, Age:  7\n"
     ]
    }
   ],
   "source": [
    "# M13\n",
    "# 아래와 같이 변수가 주어졌을 때, \n",
    "# his_name = \"James\"; his_age = 10; her_name = \"Ann\"; her_age=7\n",
    "# 아래와 같이 이름과 나이가 두 줄로 줄 맞추어서 출력될 수 있도록 두 개의 문자열을 \n",
    "# 아래의 세 가지 방법으로 만드시오. (각 0.2점)\n",
    "# Name: James, Age: 10\n",
    "# Name:   Ann, Age:  7\n",
    "# ① %   ② format()    ③ f-string을 사용하시오 -> 교수님) f-string만 구현할 것\n",
    "# 이름은 5글자, Age는 두 글자\n",
    "\n",
    "his_name = \"James\"\n",
    "his_age = 10\n",
    "her_name = \"Ann\"\n",
    "her_age=7\n",
    "\n",
    "print(f\"Name: {his_name:>5}, Age: {his_age:2}\")\n",
    "print(f\"Name: {her_name:>5}, Age: {her_age:2}\")\n"
   ]
  },
  {
   "cell_type": "code",
   "execution_count": null,
   "id": "f57fb8ef-aba3-4836-b75c-c7854982e391",
   "metadata": {},
   "outputs": [],
   "source": []
  }
 ],
 "metadata": {
  "kernelspec": {
   "display_name": "Python 3 (ipykernel)",
   "language": "python",
   "name": "python3"
  },
  "language_info": {
   "codemirror_mode": {
    "name": "ipython",
    "version": 3
   },
   "file_extension": ".py",
   "mimetype": "text/x-python",
   "name": "python",
   "nbconvert_exporter": "python",
   "pygments_lexer": "ipython3",
   "version": "3.11.6"
  }
 },
 "nbformat": 4,
 "nbformat_minor": 5
}
