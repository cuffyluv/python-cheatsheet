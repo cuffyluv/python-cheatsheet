{
 "cells": [
  {
   "cell_type": "markdown",
   "id": "78805fa9-4579-4804-ba9a-fc4b39d6d31e",
   "metadata": {},
   "source": [
    "### 실습물 제출 가이드라인\n",
    "- 아래에 주어진 코드들을 실행해서 python의 동작 원리를 이해하시오. 그리고, # M 으로 주어진 부분은 코드를 작성하고 실행하시오.\n",
    "- 주어진 코드들을 다 실행해 보고 결과를 확인하면 3점을 부여합니다.\n",
    "- \"# M\"으로 주어진 문제는 정확한 답을 작성하면 표기된 점수가 부여됩니다."
   ]
  },
  {
   "cell_type": "markdown",
   "id": "according-yield",
   "metadata": {},
   "source": [
    "## Pandas series"
   ]
  },
  {
   "cell_type": "markdown",
   "id": "violent-laundry",
   "metadata": {},
   "source": [
    "#### series 만들기 기본\n",
    "_import pandas as pd  \n",
    "var = pd.Series(data_list, index_list)_"
   ]
  },
  {
   "cell_type": "code",
   "execution_count": null,
   "id": "different-franklin",
   "metadata": {},
   "outputs": [],
   "source": [
    "import pandas as pd"
   ]
  },
  {
   "cell_type": "code",
   "execution_count": null,
   "id": "contemporary-punch",
   "metadata": {},
   "outputs": [],
   "source": [
    "# 1\n",
    "# label index 없이 data만 제시, 자동으로 RangeIndex부여\n",
    "data_series = pd.Series(range(10))\n",
    "print(data_series)"
   ]
  },
  {
   "cell_type": "code",
   "execution_count": null,
   "id": "collective-backup",
   "metadata": {},
   "outputs": [],
   "source": [
    "# 2\n",
    "# label index 없이 data만 제시, 자동으로 RangeIndex 부여\n",
    "l = [9, 8, 7, 6, 5]\n",
    "data_series = pd.Series(l)\n",
    "print(data_series)"
   ]
  },
  {
   "cell_type": "code",
   "execution_count": null,
   "id": "advanced-netscape",
   "metadata": {},
   "outputs": [],
   "source": [
    "# 3\n",
    "# label index 없이 data만 제시, 자동으로 숫자 index 부여\n",
    "t = (9, 8, 7, 6, 5)\n",
    "data_series = pd.Series(t)\n",
    "print(data_series)"
   ]
  },
  {
   "cell_type": "code",
   "execution_count": null,
   "id": "driving-leather",
   "metadata": {},
   "outputs": [],
   "source": [
    "# 4\n",
    "# label index 없이 data만 제시, 자동으로 RangeIndex 부여\n",
    "# data로 set을 그대로 사용할 수 없음. list로 변환 후 data로 사용\n",
    "my_set = {3, 1, 2}\n",
    "data_series = pd.Series(list(my_set))  \n",
    "print(data_series)"
   ]
  },
  {
   "cell_type": "code",
   "execution_count": null,
   "id": "dominican-speech",
   "metadata": {},
   "outputs": [],
   "source": [
    "# 5\n",
    "# index 없이 data만 제시, 자동으로 숫자 index 부여\n",
    "import numpy as np\n",
    "\n",
    "data_series = pd.Series(np.random.randint(1,20,5)) \n",
    "print(data_series)"
   ]
  },
  {
   "cell_type": "code",
   "execution_count": null,
   "id": "mechanical-artwork",
   "metadata": {},
   "outputs": [],
   "source": [
    "# 6-1\n",
    "# data와 label index를 별도의 list로 제공, label index를 사용해서 data 접근 가능\n",
    "data_list=[1, 2, 3]; index_list=['a', 'b', 'c']\n",
    "data_index_series = pd.Series(data_list, index_list)\n",
    "print(data_index_series)"
   ]
  },
  {
   "cell_type": "code",
   "execution_count": null,
   "id": "ff2b8c79-7573-4581-9ef4-e330442864ae",
   "metadata": {},
   "outputs": [],
   "source": [
    "# 6-2\n",
    "print(data_index_series['a'])\n",
    "print(data_index_series['b'])"
   ]
  },
  {
   "cell_type": "code",
   "execution_count": null,
   "id": "cellular-shame",
   "metadata": {},
   "outputs": [],
   "source": [
    "# 7-1\n",
    "# dictionary를 주면, key를 index로 value를 data로 사용\n",
    "\n",
    "dict_example = {\"a\": 1, \"b\": 2, \"c\": 3}\n",
    "series_from_dict = pd.Series(dict_example)\n",
    "\n",
    "print(series_from_dict)"
   ]
  },
  {
   "cell_type": "code",
   "execution_count": null,
   "id": "15b27a5f-04bf-46b2-a86e-8904e33b3768",
   "metadata": {},
   "outputs": [],
   "source": [
    "# 7-2\n",
    "print(series_from_dict['a'])"
   ]
  },
  {
   "cell_type": "code",
   "execution_count": null,
   "id": "signed-distance",
   "metadata": {},
   "outputs": [],
   "source": [
    "# 8-1\n",
    "# tuple의 list를 dictionary로 전환해서 series 생성에 사용 가능\n",
    "# tuple의 첫번째 요소를 index label로 사용하고자 함\n",
    "l = [('a', 1), ('b', 2), ('c', 3), ('d', 4), ('e', 5)]\n",
    "\n",
    "data_series = pd.Series(dict(l))\n",
    "print(data_series)"
   ]
  },
  {
   "cell_type": "code",
   "execution_count": null,
   "id": "d6d9ca98-082e-4a4a-9dac-92dd444d5214",
   "metadata": {},
   "outputs": [],
   "source": [
    "# 8-2\n",
    "print(data_series['a'])"
   ]
  },
  {
   "cell_type": "code",
   "execution_count": null,
   "id": "fleet-credits",
   "metadata": {},
   "outputs": [],
   "source": [
    "# 9-1 \n",
    "# 다양한 data type의 element 허용\n",
    "\n",
    "str_series = pd.Series(('10', '20', '30', '40', '50'))\n",
    "print(str_series)"
   ]
  },
  {
   "cell_type": "code",
   "execution_count": null,
   "id": "337d7baa-eb0e-405f-80ee-da93ac6b7b60",
   "metadata": {},
   "outputs": [],
   "source": [
    "# 9-2\n",
    "float_series = pd.Series((3.2, 4.3, 5.4, 6.5, 7.6))\n",
    "print(float_series)"
   ]
  },
  {
   "cell_type": "code",
   "execution_count": null,
   "id": "814107f7-632a-46bb-a76a-49fe8cc5ac5a",
   "metadata": {},
   "outputs": [],
   "source": [
    "# 9-3\n",
    "list_series = pd.Series([[1,2], [3,4], [5,6], [7,8], [9,10]])\n",
    "print(list_series)"
   ]
  },
  {
   "cell_type": "code",
   "execution_count": null,
   "id": "b02538be-1642-4d50-9414-6dd0525c6512",
   "metadata": {},
   "outputs": [],
   "source": [
    "# 9-4\n",
    "set_series = pd.Series([{1,2}, {3,4}, {5,6}, {7,8}, {9,10}])\n",
    "print(set_series)"
   ]
  },
  {
   "cell_type": "code",
   "execution_count": null,
   "id": "b9101740-5302-421b-baa3-8a24175cfddc",
   "metadata": {},
   "outputs": [],
   "source": [
    "# 9-5\n",
    "tuple_series = pd.Series([(1,2), (3,4), (5,6), (7,8), (9,10)])\n",
    "print(tuple_series)"
   ]
  },
  {
   "cell_type": "code",
   "execution_count": null,
   "id": "61ee2793-0eb9-47db-8727-ff61e9181685",
   "metadata": {},
   "outputs": [],
   "source": [
    "# 9-6\n",
    "dict_series = pd.Series([{1:2, 3:4}, {5:6, 7:8}, {9:10, 11:12}])\n",
    "print(dict_series)"
   ]
  },
  {
   "cell_type": "code",
   "execution_count": null,
   "id": "276155c7-77f5-4ae1-ae63-c4c920818471",
   "metadata": {},
   "outputs": [],
   "source": [
    "# 9-7\n",
    "import numpy as np\n",
    "arr_series = pd.Series([np.array([1,2]), np.array([2,3]), np.array([3,4]), \n",
    "                    np.array([4,5]), np.array([5,6])])\n",
    "print(arr_series)"
   ]
  },
  {
   "cell_type": "code",
   "execution_count": null,
   "id": "128debf2-4ca9-4f3b-84b7-67cf8e3e7324",
   "metadata": {},
   "outputs": [],
   "source": [
    "# 9-8\n",
    "# 하나의 series에 서로 다른 요소 포함 가능\n",
    "mixed_series = pd.Series([1, 2, 3, 'total'])\n",
    "print(mixed_series)"
   ]
  },
  {
   "cell_type": "markdown",
   "id": "magnetic-tokyo",
   "metadata": {},
   "source": [
    "#### indexing, slicing"
   ]
  },
  {
   "cell_type": "code",
   "execution_count": null,
   "id": "closed-latest",
   "metadata": {},
   "outputs": [],
   "source": [
    "import pandas as pd\n",
    "import numpy as np\n"
   ]
  },
  {
   "cell_type": "code",
   "execution_count": null,
   "id": "joint-retailer",
   "metadata": {},
   "outputs": [],
   "source": [
    "# 10-1\n",
    "l = [9, 8, 7, 6, 5]\n",
    "data_series = pd.Series(l)\n",
    "\n",
    "# index를 별도로 제공하지 않은 경우는, position을 사용해서 data 읽기\n",
    "print(data_series[1])"
   ]
  },
  {
   "cell_type": "code",
   "execution_count": null,
   "id": "preceding-wisconsin",
   "metadata": {},
   "outputs": [],
   "source": [
    "# 10-2\n",
    "# index1부터 3까지의 구간 읽기, 결과물의 data type은 series\n",
    "print(data_series[1:4])  # ending index 미포함"
   ]
  },
  {
   "cell_type": "code",
   "execution_count": null,
   "id": "d5c6232f-0543-4735-a037-eaf8a6c90fa8",
   "metadata": {},
   "outputs": [],
   "source": [
    "# 10-3\n",
    "print(type(data_series[1:4]))"
   ]
  },
  {
   "cell_type": "code",
   "execution_count": null,
   "id": "da640922-694f-4dcc-81b2-965f389e957b",
   "metadata": {},
   "outputs": [],
   "source": [
    "# 10-4\n",
    "# index1부터 3까지의 구간을 한 행씩 걸러서 읽기, 결과물의 data type은 series\n",
    "print(data_series[1:4:2]) "
   ]
  },
  {
   "cell_type": "code",
   "execution_count": null,
   "id": "animal-clark",
   "metadata": {},
   "outputs": [],
   "source": [
    "# 11-1\n",
    "l = [9, 8, 7, 6, 5, 4, 3]\n",
    "data_series = pd.Series(l)\n",
    "data_series[1] = 5\n",
    "print(data_series)"
   ]
  },
  {
   "cell_type": "code",
   "execution_count": null,
   "id": "unexpected-destruction",
   "metadata": {},
   "outputs": [],
   "source": [
    "# 11-2\n",
    "data_series[1:3] = 9  \n",
    "print(data_series)"
   ]
  },
  {
   "cell_type": "code",
   "execution_count": null,
   "id": "imperial-screw",
   "metadata": {},
   "outputs": [],
   "source": [
    "# 11-3\n",
    "data_series[4:7] = (2, 6, 8)\n",
    "print(data_series)"
   ]
  },
  {
   "cell_type": "code",
   "execution_count": null,
   "id": "experienced-clinic",
   "metadata": {},
   "outputs": [],
   "source": [
    "# 11-4\n",
    "data_series[1:4:2] = (2, 4)\n",
    "print(data_series)"
   ]
  },
  {
   "cell_type": "code",
   "execution_count": null,
   "id": "cloudy-carpet",
   "metadata": {},
   "outputs": [],
   "source": [
    "# 12-1\n",
    "# series에 직접 indexing과 slicing 적용하기\n",
    "d = {\"a\": 1, \"b\": 2, \"c\": 3}\n",
    "s = pd.Series(d)\n",
    "\n",
    "# 생성 시에 사용한 index label을 사용해서 접근 가능하며, 기본적으로 숫자 index 사용 가능\n",
    "print(s['a'], s.iloc[0])"
   ]
  },
  {
   "cell_type": "code",
   "execution_count": null,
   "id": "fb6b3a27-ece4-4608-bd04-e551e64cf052",
   "metadata": {},
   "outputs": [],
   "source": [
    "# 12-2\n",
    "# label index가 사용되는 경우, slicing에서 ending index 포함\n",
    "print(s['a':'b'])"
   ]
  },
  {
   "cell_type": "code",
   "execution_count": null,
   "id": "98d705ef-5cd8-4e82-a8f2-061685c02be1",
   "metadata": {},
   "outputs": [],
   "source": [
    "# 12-3\n",
    "# RangeIndex가 사용되는 경우, slicing에서 ending index 미포함\n",
    "print(s[0:1])"
   ]
  },
  {
   "cell_type": "code",
   "execution_count": null,
   "id": "f5ef6f2d-e720-4def-bdf0-35039fbbc4a1",
   "metadata": {},
   "outputs": [],
   "source": [
    "# 12-4\n",
    "# 한꺼번에 값 바꾸기\n",
    "s[0:2] = [4, 2]\n",
    "print(s)"
   ]
  },
  {
   "cell_type": "code",
   "execution_count": null,
   "id": "romantic-toyota",
   "metadata": {},
   "outputs": [],
   "source": [
    "# 13-1\n",
    "# loc을 사용한 indexing과 slicing \n",
    "# label index 사용\n",
    "\n",
    "d = {\"a\": 1, \"b\": 2, \"c\": 3}\n",
    "s = pd.Series(d)\n",
    "\n",
    "# loc을 사용할 시에는 생성 시에 부여한 label index 사용\n",
    "print(s.loc['a'])"
   ]
  },
  {
   "cell_type": "code",
   "execution_count": null,
   "id": "d107c403-de9e-4b51-a331-fea37b6a4639",
   "metadata": {},
   "outputs": [],
   "source": [
    "# 13-2\n",
    "# label index가 사용되는 경우, slicing에서 ending index 포함\n",
    "print(s.loc['a':'b'])"
   ]
  },
  {
   "cell_type": "code",
   "execution_count": null,
   "id": "2da6c420-5f2a-4bcf-849a-f5e29eaa75b3",
   "metadata": {},
   "outputs": [],
   "source": [
    "# 13-3\n",
    "# 특정 구간의 값 한꺼번에 변경\n",
    "s.loc['a':'b'] = 7\n",
    "print(s)"
   ]
  },
  {
   "cell_type": "code",
   "execution_count": null,
   "id": "06ea2dd0-0f97-4ae7-aba5-62d565423d0d",
   "metadata": {},
   "outputs": [],
   "source": [
    "# 13-4\n",
    "s.loc[['a','c'] = 9\n",
    "print(s)"
   ]
  },
  {
   "cell_type": "code",
   "execution_count": null,
   "id": "f2e350b0-684f-48d8-bcb8-d6dbff7c5f7b",
   "metadata": {},
   "outputs": [],
   "source": [
    "# 13-5\n",
    "s.loc['d'] = 10\n",
    "print(s)"
   ]
  },
  {
   "cell_type": "code",
   "execution_count": null,
   "id": "warming-triangle",
   "metadata": {},
   "outputs": [],
   "source": [
    "# 14-1\n",
    "# iloc을 사용한 indexing과 slicing \n",
    "# position 사용\n",
    "\n",
    "d = {\"a\": 1, \"b\": 2, \"c\": 3}\n",
    "s = pd.Series(d)\n",
    "\n",
    "# iloc을 사용할 시에는 RangeIndex를 사용\n",
    "print(s.iloc[0])"
   ]
  },
  {
   "cell_type": "code",
   "execution_count": null,
   "id": "f1ea35c9-9f3d-472e-9fa8-38cbc3219199",
   "metadata": {},
   "outputs": [],
   "source": [
    "# 14-2\n",
    "# RangeIndex를 사용하는 경우, slicing에서 ending index 미포함\n",
    "print(s.iloc[0:1])"
   ]
  },
  {
   "cell_type": "code",
   "execution_count": null,
   "id": "14e1c411-17fd-46e3-9510-0a62aac3a7a7",
   "metadata": {},
   "outputs": [],
   "source": [
    "# 14-3\n",
    "s.iloc[0:1] = 7\n",
    "print(s)"
   ]
  },
  {
   "cell_type": "code",
   "execution_count": null,
   "id": "affiliated-shift",
   "metadata": {},
   "outputs": [],
   "source": [
    "# 15-1\n",
    "# at, iat을 사용한 indexing\n",
    "d = {\"a\": 1, \"b\": 2, \"c\": 3}\n",
    "s = pd.Series(d)\n",
    "\n",
    "print(s.at['a'])"
   ]
  },
  {
   "cell_type": "code",
   "execution_count": null,
   "id": "061f3d3d-a636-4adf-92c0-e4b9347d51e2",
   "metadata": {},
   "outputs": [],
   "source": [
    "# 15-2\n",
    "print(s.iat[0])"
   ]
  },
  {
   "cell_type": "code",
   "execution_count": null,
   "id": "8516672d-fe75-48fb-aa96-765d0b87bc5f",
   "metadata": {},
   "outputs": [],
   "source": [
    "# 15-3\n",
    "s.at['b'] = 4\n",
    "print(s)"
   ]
  },
  {
   "cell_type": "code",
   "execution_count": null,
   "id": "78a08c55-7df7-4578-9d63-55ea65c63774",
   "metadata": {},
   "outputs": [],
   "source": [
    "# 15-4\n",
    "s.iat[2] = 7\n",
    "print(s)"
   ]
  },
  {
   "cell_type": "code",
   "execution_count": null,
   "id": "toxic-blast",
   "metadata": {},
   "outputs": [],
   "source": [
    "# 16-1\n",
    "# label index가 숫자인 경우\n",
    "import pandas as pd\n",
    "\n",
    "d = {5: 'A', 6: 'B', 7: 'C'}\n",
    "s = pd.Series(d)\n",
    "\n",
    "print(s[5]) # s[0]은 오류"
   ]
  },
  {
   "cell_type": "code",
   "execution_count": null,
   "id": "a0d5f897-cfbe-4422-b883-797f80ec06f3",
   "metadata": {},
   "outputs": [],
   "source": [
    "# 16-2\n",
    "print(s[0:2]) # RangeIndex로 해석, s[5:7]은 empty series"
   ]
  },
  {
   "cell_type": "code",
   "execution_count": null,
   "id": "7c555b7e-2445-4806-9a57-8eaff1733e6e",
   "metadata": {},
   "outputs": [],
   "source": [
    "# 16-3\n",
    "print(s.iloc[0])"
   ]
  },
  {
   "cell_type": "code",
   "execution_count": null,
   "id": "0f3868b5-f0c4-44b3-a5c6-2cfedd710e88",
   "metadata": {},
   "outputs": [],
   "source": [
    "# 16-4\n",
    "print(s.iloc[0:2]) # iloc은 RangeIndex 사용"
   ]
  },
  {
   "cell_type": "code",
   "execution_count": null,
   "id": "9a09c106-78a0-46cf-9374-dd069fc7e8a0",
   "metadata": {},
   "outputs": [],
   "source": [
    "# 16-5\n",
    "print(s.loc[5])  # loc은 Series 생성 시에 부여한 label index 사용"
   ]
  },
  {
   "cell_type": "code",
   "execution_count": null,
   "id": "aa2a3195-a41d-4226-812e-da5170d95d0d",
   "metadata": {},
   "outputs": [],
   "source": [
    "# 16-6\n",
    "print(s.loc[5:7]) # loc은 ending index 포함"
   ]
  },
  {
   "cell_type": "code",
   "execution_count": null,
   "id": "patent-bobby",
   "metadata": {},
   "outputs": [],
   "source": [
    "# 17-1\n",
    "d = {\"a\": 1, \"b\": 2, \"c\": 3, 'd':6, 'e':7, 'f':8}\n",
    "s = pd.Series(d)\n",
    "s['b'] = 5\n",
    "print(s)"
   ]
  },
  {
   "cell_type": "code",
   "execution_count": null,
   "id": "gorgeous-portuguese",
   "metadata": {},
   "outputs": [],
   "source": [
    "# 17-2\n",
    "s.iloc[2] = 7\n",
    "print(s)"
   ]
  },
  {
   "cell_type": "code",
   "execution_count": null,
   "id": "sudden-source",
   "metadata": {},
   "outputs": [],
   "source": [
    "# 17-3\n",
    "s['c':'f'] = range(4,17,4)\n",
    "print(s)"
   ]
  },
  {
   "cell_type": "code",
   "execution_count": null,
   "id": "referenced-melissa",
   "metadata": {},
   "outputs": [],
   "source": [
    "# 18-1\n",
    "index_list = ['a', 'b', 'c', 'd', 'e', 'f']\n",
    "value_list = list(np.random.randint(1,10,6))\n",
    "s = pd.Series(value_list, index_list)\n",
    "print(s)"
   ]
  },
  {
   "cell_type": "code",
   "execution_count": null,
   "id": "826ab2e5-75dd-45f4-933c-df9b10b9370a",
   "metadata": {},
   "outputs": [],
   "source": [
    "# 18-2\n",
    "print(s.index)\n",
    "print(s.index[0], s.index[-1])"
   ]
  },
  {
   "cell_type": "code",
   "execution_count": null,
   "id": "08c42ac4-8647-43bc-abf7-b6ced3346131",
   "metadata": {},
   "outputs": [],
   "source": [
    "# 18-3\n",
    "print(s.values)\n",
    "print(s.values[0], s.values[-1]) # list indexing, 결과는 s[0], s[-1]과 동일"
   ]
  },
  {
   "cell_type": "code",
   "execution_count": null,
   "id": "45c8fe7d-9726-41df-8796-28b3d6a5df2f",
   "metadata": {},
   "outputs": [],
   "source": [
    "# 18-4\n",
    "import numpy as np\n",
    "\n",
    "# Series 생성 후에도 label index 변경 가능\n",
    "s.index = np.random.choice(['a', 'b', 'c', 'd', 'e', 'f'], 6, replace=False)\n",
    "print(s)"
   ]
  },
  {
   "cell_type": "code",
   "execution_count": null,
   "id": "c4a9107c-0e28-4bc7-b840-e2cf7ef97548",
   "metadata": {},
   "outputs": [],
   "source": [
    "# 18-5\n",
    "s.values[3:5] = 10\n",
    "print(s)"
   ]
  },
  {
   "cell_type": "markdown",
   "id": "better-institution",
   "metadata": {},
   "source": [
    "#### Series operation"
   ]
  },
  {
   "cell_type": "code",
   "execution_count": null,
   "id": "african-income",
   "metadata": {},
   "outputs": [],
   "source": [
    "import pandas as pd\n",
    "import numpy as np"
   ]
  },
  {
   "cell_type": "code",
   "execution_count": null,
   "id": "adverse-variety",
   "metadata": {},
   "outputs": [],
   "source": [
    "# 19-1\n",
    "data = pd.Series([10, 20, 30], index=['a', 'b', 'c'])\n",
    "print(data)\n",
    "\n",
    "# 새로운 label index를 사용함으로써 element 추가\n",
    "data['d'] = 40\n",
    "print(data)"
   ]
  },
  {
   "cell_type": "code",
   "execution_count": null,
   "id": "proper-capacity",
   "metadata": {},
   "outputs": [],
   "source": [
    "# 19-2\n",
    "new_data = pd.Series({'e': 50, 'f': 60})\n",
    "# Series 확장하기\n",
    "data = pd.concat([data, new_data]) # 새로운 Series가 만들어짐\n",
    "print(data)9"
   ]
  },
  {
   "cell_type": "code",
   "execution_count": null,
   "id": "legendary-priest",
   "metadata": {},
   "outputs": [],
   "source": [
    "# 20-1\n",
    "series = pd.Series([10, 20, 30, 40, 50])\n",
    "\n",
    "# 산술 연산이 Series내 모든 element에 적용됨\n",
    "series_sum = series + 20\n",
    "print(series_sum)"
   ]
  },
  {
   "cell_type": "code",
   "execution_count": null,
   "id": "signed-moment",
   "metadata": {},
   "outputs": [],
   "source": [
    "# 20-2\n",
    "series_prod = series * 2\n",
    "print(series_prod)"
   ]
  },
  {
   "cell_type": "code",
   "execution_count": null,
   "id": "conventional-dancing",
   "metadata": {},
   "outputs": [],
   "source": [
    "# 20-3\n",
    "series_sub = series - 10\n",
    "print(series_sub)"
   ]
  },
  {
   "cell_type": "code",
   "execution_count": null,
   "id": "alternative-elite",
   "metadata": {},
   "outputs": [],
   "source": [
    "# 20-4\n",
    "# 비교 연산이 Series내 모든 element에 적용됨\n",
    "\n",
    "condition_series = series >= 30\n",
    "print(condition_series)"
   ]
  },
  {
   "cell_type": "code",
   "execution_count": null,
   "id": "qualified-garlic",
   "metadata": {},
   "outputs": [],
   "source": [
    "# 21-1\n",
    "# string element들에 대해 '+' 연산 가능\n",
    "series = pd.Series(['10', '20', '30', '40', '50'])\n",
    "\n",
    "series_sum = series + '20'\n",
    "print(series_sum)"
   ]
  },
  {
   "cell_type": "code",
   "execution_count": null,
   "id": "5a962bcf-b776-4ff0-8a4b-f863e3b81141",
   "metadata": {},
   "outputs": [],
   "source": [
    "# 21-2\n",
    "# string element들에 대해 '*' 연산 가능\n",
    "series_prod = series * 3\n",
    "print(series_prod)"
   ]
  },
  {
   "cell_type": "code",
   "execution_count": null,
   "id": "systematic-pontiac",
   "metadata": {},
   "outputs": [],
   "source": [
    "# 22-1\n",
    "# list element들에 대해서 '*' 연산 가능\n",
    "series = pd.Series([[1,2], [3,4], [5,6], [7,8], [9,10]])\n",
    "\n",
    "series_prod = series * 3 \n",
    "print(series_sum)"
   ]
  },
  {
   "cell_type": "code",
   "execution_count": null,
   "id": "5a17fd58-7abc-4a45-a3bd-613dd40625b3",
   "metadata": {},
   "outputs": [],
   "source": [
    "# 22-2\n",
    "# list element들에 대해서 '+'는 오류\n",
    "\n",
    "series_sum = series + [2,3]  # 오류 \n",
    "print(series_sum)"
   ]
  },
  {
   "cell_type": "code",
   "execution_count": null,
   "id": "dedicated-istanbul",
   "metadata": {},
   "outputs": [],
   "source": [
    "# 23-1\n",
    "# numpy array type에 맞춰서 연산 수행\n",
    "import numpy as np\n",
    "\n",
    "series = pd.Series([np.array([1,2]), np.array([1,2]), np.array([1,2]), \n",
    "                    np.array([1,2]), np.array([1,2])])\n",
    "\n",
    "series_sum = series + 2\n",
    "print(series_sum)"
   ]
  },
  {
   "cell_type": "code",
   "execution_count": null,
   "id": "1e0b089e-4b74-4c47-9de3-fcb85203417a",
   "metadata": {},
   "outputs": [],
   "source": [
    "# 23-2\n",
    "series_sum = series * 3\n",
    "print(series_sum)"
   ]
  },
  {
   "cell_type": "code",
   "execution_count": null,
   "id": "atlantic-stock",
   "metadata": {},
   "outputs": [],
   "source": [
    "# 24-1\n",
    "# Series 간 연산\n",
    "series1 = pd.Series([10, 20, 30, 40, 50])\n",
    "series2 = pd.Series([2, 3, 34, 5, 65])\n",
    "\n",
    "series_sum = series1 + series2\n",
    "print(series_sum)"
   ]
  },
  {
   "cell_type": "code",
   "execution_count": null,
   "id": "structured-singapore",
   "metadata": {},
   "outputs": [],
   "source": [
    "# 24-2\n",
    "series_prod = series1 * series2\n",
    "print(series_prod)"
   ]
  },
  {
   "cell_type": "code",
   "execution_count": null,
   "id": "korean-receipt",
   "metadata": {},
   "outputs": [],
   "source": [
    "# 24-3\n",
    "series_sub = series1 - series2\n",
    "print(series_sub)"
   ]
  },
  {
   "cell_type": "code",
   "execution_count": null,
   "id": "primary-portland",
   "metadata": {},
   "outputs": [],
   "source": [
    "# 24-4\n",
    "condition_series = series1 >= series2\n",
    "print(condition_series)"
   ]
  },
  {
   "cell_type": "code",
   "execution_count": null,
   "id": "restricted-regulation",
   "metadata": {},
   "outputs": [],
   "source": [
    "# 25-1\n",
    "# string data type도 연산 가능\n",
    "series1 = pd.Series(['10', '20', '30', '40', '50'])\n",
    "series2 = pd.Series(['2', '3', '34', '5', '65'])\n",
    "\n",
    "series_sum = series1 + series2\n",
    "print(series_sum)"
   ]
  },
  {
   "cell_type": "code",
   "execution_count": null,
   "id": "tight-camera",
   "metadata": {},
   "outputs": [],
   "source": [
    "# 25-2\n",
    "# string data type도 연산 가능\n",
    "series1 = pd.Series(['10', '20', '30', '40', '50'])\n",
    "series2 = pd.Series([1, 2, 3, 4, 5])\n",
    "\n",
    "series_sum = series1 * series2\n",
    "print(series_sum)"
   ]
  },
  {
   "cell_type": "code",
   "execution_count": null,
   "id": "assured-particular",
   "metadata": {},
   "outputs": [],
   "source": [
    "# 26-1 \n",
    "# list element들도 연산 가능\n",
    "series1 = pd.Series([[1,2]]*5)\n",
    "print(series1)\n",
    "\n",
    "series2 = pd.Series([[2,3]]*5)\n",
    "print(series2)\n",
    "\n",
    "series_sum = series1 + series2\n",
    "print(series_sum)"
   ]
  },
  {
   "cell_type": "code",
   "execution_count": null,
   "id": "institutional-steam",
   "metadata": {},
   "outputs": [],
   "source": [
    "# 27-1\n",
    "# label index가 있는 series 간 연산\n",
    "# label index의 순서가 서로 다른 series의 덧셈\n",
    "\n",
    "import pandas as pd\n",
    "\n",
    "series1 = pd.Series([1, 2, 3], index=['b', 'a', 'c'])\n",
    "print(series1)\n",
    "\n",
    "series2 = pd.Series([4, 5, 6], index=['a', 'b', 'c'])\n",
    "print(series2)\n",
    "\n",
    "add_series = series1 + series2 # index label이 동일한 element들끼리 덧셈\n",
    "print(add_series)"
   ]
  },
  {
   "cell_type": "code",
   "execution_count": null,
   "id": "egyptian-reynolds",
   "metadata": {},
   "outputs": [],
   "source": [
    "# 28\n",
    "# label index가 서로 다른 series의 덧셈\n",
    "\n",
    "import pandas as pd\n",
    "\n",
    "series1 = pd.Series([1, 2, 3], index=['a', 'b', 'c'])\n",
    "print(series1)\n",
    "\n",
    "series2 = pd.Series([4, 5], index=['a', 'd'])\n",
    "print(series2)\n",
    "\n",
    "add_series = series1 + series2\n",
    "print(add_series)"
   ]
  },
  {
   "cell_type": "code",
   "execution_count": null,
   "id": "previous-width",
   "metadata": {},
   "outputs": [],
   "source": [
    "# 29\n",
    "# boolean indexing\n",
    "series = pd.Series([10, 20, 30, 40, 50])\n",
    "print(\"Original Series:\")\n",
    "print(series)\n",
    "\n",
    "condition_series = pd.Series([False, False, True, True, True])\n",
    "# condition_series = pd.Series([0, 0, 1, 1, 1])\n",
    "result_series = series[condition_series]\n",
    "print(result_series)"
   ]
  },
  {
   "cell_type": "code",
   "execution_count": null,
   "id": "hollow-journey",
   "metadata": {},
   "outputs": [],
   "source": [
    "# 30-1\n",
    "import pandas as pd\n",
    "\n",
    "series = pd.Series([70, 50, 60, 45, 80], \n",
    "                   index = ['kang', 'kim', 'lee', 'hong', 'cho'])\n",
    "print(\"Original Series:\")\n",
    "print(series)\n",
    "\n",
    "print(\"after boolean indexing: search\")\n",
    "# boolean indexing: 조건에 부합하는 행만 추출하기\n",
    "print(series[series >= 60])  # value가 60보다 크거나 같은 행만 True가 되어 선택"
   ]
  },
  {
   "cell_type": "code",
   "execution_count": null,
   "id": "9ea5ccab-4a54-488b-90bf-8ffed0e86f96",
   "metadata": {},
   "outputs": [],
   "source": [
    "# 30-2\n",
    "print(\"after boolean indexing: replace\")\n",
    "# boolean indexing: 조건에 부합하는 행만 값을 바꾸기\n",
    "series[series < 60] = -10\n",
    "print(series)"
   ]
  },
  {
   "cell_type": "code",
   "execution_count": null,
   "id": "published-haven",
   "metadata": {},
   "outputs": [],
   "source": [
    "# 31\n",
    "# boolean indexing: 조건에 부합하는 행만 추출하기\n",
    "# 각 사람이 좋아하는 과일을 series로 관리\n",
    "favorites = pd.Series(['apple', 'peach', 'pear', 'orange', 'strawberry'], \n",
    "                      index = ['kang', 'kim', 'lee', 'hong', 'cho'])\n",
    "\n",
    "available = ['pear', 'apple']  # 현재 갖고 있는 과일 목록\n",
    "\n",
    "# 누구에게 어떤 과일을 줄 수 있을까\n",
    "print(dict(favorites[favorites.isin(available)]))"
   ]
  },
  {
   "cell_type": "markdown",
   "id": "emotional-austria",
   "metadata": {},
   "source": [
    "#### Methods"
   ]
  },
  {
   "cell_type": "code",
   "execution_count": null,
   "id": "natural-passport",
   "metadata": {},
   "outputs": [],
   "source": [
    "# 32-1\n",
    "sample_list= [170, 144, 156, 177, 181, 188, 181, 161]\n",
    "name_list=['kang', 'kim', 'lee', 'woo', 'cho', 'jang', 'park', 'choi']\n",
    "\n",
    "mySeries = pd.Series(sample_list, name_list)\n",
    "mySeries.name='height'\n",
    "\n",
    "print(mySeries)"
   ]
  },
  {
   "cell_type": "code",
   "execution_count": null,
   "id": "39b5212d-a483-478c-99ba-990f43dc2b72",
   "metadata": {},
   "outputs": [],
   "source": [
    "# 32-2\n",
    "# Series의 정보 확인\n",
    "print(mySeries.describe())"
   ]
  },
  {
   "cell_type": "code",
   "execution_count": null,
   "id": "27092a15-0dcb-4fee-b2d4-fad669b115cc",
   "metadata": {},
   "outputs": [],
   "source": [
    "# 32-3\n",
    "# 통계값 확인 \n",
    "print('mean is ', mySeries.mean())  \n",
    "print('median is ', mySeries.median())\n",
    "print('std is %0.3f' % mySeries.std())\n",
    "print('var is  %0.3f' % mySeries.var())\n",
    "print('sum is ', mySeries.sum()) \n",
    "print('min is ', mySeries.min()) \n",
    "print('max is ', mySeries.max())\n",
    "print('range is ', mySeries.max()-mySeries.min()) "
   ]
  },
  {
   "cell_type": "code",
   "execution_count": null,
   "id": "awful-emerald",
   "metadata": {},
   "outputs": [],
   "source": [
    "# 32-4\n",
    "value_counts_s=mySeries.value_counts(); \n",
    "print(value_counts_s)"
   ]
  },
  {
   "cell_type": "code",
   "execution_count": null,
   "id": "raised-bryan",
   "metadata": {},
   "outputs": [],
   "source": [
    "# 32-5\n",
    "value_counts_bins=mySeries.value_counts(bins=3); \n",
    "print(value_counts_bins)"
   ]
  },
  {
   "cell_type": "code",
   "execution_count": null,
   "id": "sublime-essence",
   "metadata": {},
   "outputs": [],
   "source": [
    "# 32-6\n",
    "value_counts_s_renew= value_counts_s.sort_index()\n",
    "print(value_counts_s_renew)"
   ]
  },
  {
   "cell_type": "code",
   "execution_count": null,
   "id": "aggregate-salmon",
   "metadata": {},
   "outputs": [],
   "source": [
    "# 32-7\n",
    "head_s= mySeries.head(3)\n",
    "print(head_s)"
   ]
  },
  {
   "cell_type": "code",
   "execution_count": null,
   "id": "curious-forestry",
   "metadata": {},
   "outputs": [],
   "source": [
    "# 32-8\n",
    "tail_s= mySeries.tail(3)\n",
    "print(tail_s)"
   ]
  },
  {
   "cell_type": "code",
   "execution_count": null,
   "id": "dominant-culture",
   "metadata": {},
   "outputs": [],
   "source": [
    "# 32-9\n",
    "print('n of unique is ',mySeries.nunique())\n",
    "unique_l = mySeries.unique()\n",
    "print(unique_l) "
   ]
  },
  {
   "cell_type": "code",
   "execution_count": null,
   "id": "maritime-chaos",
   "metadata": {},
   "outputs": [],
   "source": [
    "# 32-10\n",
    "value_sort_s = mySeries.sort_values()\n",
    "print(value_sort_s)\n",
    "print(value_sort_s.index)\n",
    "print(f\"smallest one is {value_sort_s.index[0]}\")"
   ]
  },
  {
   "cell_type": "code",
   "execution_count": null,
   "id": "hollow-raleigh",
   "metadata": {},
   "outputs": [],
   "source": [
    "# 32-11\n",
    "value_sort_s_r = mySeries.sort_values(ascending=False)\n",
    "print(value_sort_s_r)\n",
    "print(value_sort_s_r.index)\n",
    "print(f\"tallest one is {value_sort_s_r.index[0]}\")"
   ]
  },
  {
   "cell_type": "code",
   "execution_count": null,
   "id": "341bef84-2385-4bb2-bb92-d4cfbd60b6ff",
   "metadata": {},
   "outputs": [],
   "source": [
    "# 32-12\n",
    "# Series 내의 값 출력하기\n",
    "for key, value in mySeries.items():\n",
    "    print(f\"{key:<5s}: {value}\")"
   ]
  },
  {
   "cell_type": "code",
   "execution_count": null,
   "id": "9f2bc355-5d75-4526-8090-989ff76bd070",
   "metadata": {},
   "outputs": [],
   "source": [
    "# 참고용\n",
    "# Series data로 꺾은선 그래프 그리기\n",
    "\n",
    "import pandas as pd\n",
    "import matplotlib.pyplot as plt\n",
    "\n",
    "# 1. Pandas Series 데이터 생성\n",
    "data = pd.Series(\n",
    "    [35, 18, 30, 25, 22, 17, 45],\n",
    "    index=[\"Sun\", \"Mon\", \"Tue\", \"Wed\", \"Thu\", \n",
    "           \"Fri\", \"Sat\"]\n",
    ")\n",
    "\n",
    "# 2. 그래프 그리기\n",
    "plt.figure(figsize=(8, 5))  # 그래프 크기 설정\n",
    "data.plot(kind='line', marker='o', color='blue', label='Values')  # 라인 그래프\n",
    "plt.title('Weekly Data (Running time)')  # 제목\n",
    "plt.xlabel('Days')  # x축 레이블\n",
    "plt.ylabel('Running time')  # y축 레이블\n",
    "plt.grid(True)  # 그리드 추가\n",
    "plt.show()\n"
   ]
  },
  {
   "cell_type": "code",
   "execution_count": null,
   "id": "02db74ea-87c0-47de-90df-18005b3ca5c5",
   "metadata": {},
   "outputs": [],
   "source": [
    "# 참고용\n",
    "# Series data로 막대그래프 그리기\n",
    "\n",
    "import pandas as pd\n",
    "import matplotlib.pyplot as plt\n",
    "\n",
    "# 1. Pandas Series 데이터 생성\n",
    "data = pd.Series(\n",
    "    [35, 18, 30, 25, 22, 17, 45],\n",
    "    index=[\"Sun\", \"Mon\", \"Tue\", \"Wed\", \"Thu\", \"Fri\", \"Sat\"]\n",
    ")\n",
    "\n",
    "plt.figure(figsize=(8, 5))  # 그래프 크기 설정\n",
    "data.plot(kind='bar', color='skyblue', alpha=0.8, label='Values')  # 막대그래프\n",
    "plt.title('Weekly Data (Running time)')  # 제목\n",
    "plt.xlabel('Days')  # x축 레이블\n",
    "plt.ylabel('Running time')  # y축 레이블\n",
    "plt.xticks(rotation=0)  # x축 레이블 각도 조정\n",
    "plt.grid(axis='y', linestyle='--', alpha=0.7)  # y축 그리드 추가\n",
    "plt.tight_layout()  # 레이아웃 조정\n",
    "plt.show()"
   ]
  },
  {
   "cell_type": "code",
   "execution_count": null,
   "id": "5f0c5696-751d-4d8d-b1f6-0136f5736c0a",
   "metadata": {},
   "outputs": [],
   "source": [
    "# 참고용\n",
    "# Series data로 파이차트 그리기\n",
    "\n",
    "import pandas as pd\n",
    "import matplotlib.pyplot as plt\n",
    "\n",
    "# 1. Pandas Series 데이터 생성\n",
    "data = pd.Series(\n",
    "    [35, 18, 30, 25, 22, 17, 45],\n",
    "    index=[\"Sun\", \"Mon\", \"Tue\", \"Wed\", \"Thu\", \"Fri\", \"Sat\"]\n",
    ")\n",
    "\n",
    "plt.figure(figsize=(8, 8))  # 그래프 크기 설정\n",
    "data.plot(\n",
    "    kind='pie', \n",
    "    autopct='%1.1f%%',  # 퍼센트 표시\n",
    "    startangle=90,      # 시작 각도\n",
    "    colors=plt.cm.Paired.colors,  # 색상 팔레트\n",
    "    legend=True         # 범례 추가\n",
    ")\n",
    "plt.title('Weekly Data (Expenditure ratio)')  # 제목\n",
    "plt.ylabel('')  # y축 레이블 제거\n",
    "plt.show()"
   ]
  },
  {
   "cell_type": "code",
   "execution_count": null,
   "id": "aggressive-buddy",
   "metadata": {},
   "outputs": [],
   "source": [
    "# series 응용 사례\n",
    "# 주식 자산 정보 관리\n",
    "import pandas as pd\n",
    "\n",
    "# 주식 종목과 현재 주가\n",
    "stock_prices = {'AAPL': 150, 'MSFT': 200, 'GOOGL': 1200}\n",
    "\n",
    "# 보유 주식 수\n",
    "stock_holdings = {'AAPL': 10, 'MSFT': 5, 'GOOGL': 2}\n",
    "\n",
    "# Pandas Series로 변환\n",
    "prices_series = pd.Series(stock_prices)\n",
    "holdings_series = pd.Series(stock_holdings)\n",
    "print(prices_series)\n",
    "print(holdings_series)\n",
    "\n",
    "# 각 종목의 자산 가치 계산\n",
    "asset_values = prices_series * holdings_series\n",
    "print(\"각 종목의 자산 가치:\")\n",
    "print(asset_values)\n",
    "\n",
    "# 총 자산 가치 계산\n",
    "total_asset_value = asset_values.sum()\n",
    "print(\"\\n총 자산 가치: $\", total_asset_value)"
   ]
  }
 ],
 "metadata": {
  "kernelspec": {
   "display_name": "Python 3 (ipykernel)",
   "language": "python",
   "name": "python3"
  },
  "language_info": {
   "codemirror_mode": {
    "name": "ipython",
    "version": 3
   },
   "file_extension": ".py",
   "mimetype": "text/x-python",
   "name": "python",
   "nbconvert_exporter": "python",
   "pygments_lexer": "ipython3",
   "version": "3.11.6"
  }
 },
 "nbformat": 4,
 "nbformat_minor": 5
}
