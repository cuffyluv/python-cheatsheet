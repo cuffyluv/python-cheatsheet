{
 "cells": [
  {
   "cell_type": "code",
   "execution_count": 2,
   "id": "03570d0b-e41b-4dde-a229-439bda9b3dcd",
   "metadata": {},
   "outputs": [
    {
     "name": "stdout",
     "output_type": "stream",
     "text": [
      "c\n"
     ]
    }
   ],
   "source": [
    "print('c')"
   ]
  },
  {
   "cell_type": "code",
   "execution_count": 7,
   "id": "8c9ee3bb-c4b9-49bd-a770-34f7cd72a6e6",
   "metadata": {},
   "outputs": [],
   "source": [
    "a = 20"
   ]
  },
  {
   "cell_type": "code",
   "execution_count": 8,
   "id": "5570315b-dc9f-430a-b5f4-a1862f7b3b38",
   "metadata": {},
   "outputs": [],
   "source": [
    "b = 30"
   ]
  },
  {
   "cell_type": "code",
   "execution_count": 10,
   "id": "e4e9c66c-9917-4733-8692-eebae8a605f3",
   "metadata": {},
   "outputs": [
    {
     "name": "stdout",
     "output_type": "stream",
     "text": [
      "45\n"
     ]
    }
   ],
   "source": [
    "print(a + b)"
   ]
  },
  {
   "cell_type": "code",
   "execution_count": 9,
   "id": "53b36bbc-3dd6-4b99-8918-0fd61007ff2a",
   "metadata": {},
   "outputs": [],
   "source": [
    "a = 15"
   ]
  },
  {
   "cell_type": "code",
   "execution_count": 11,
   "id": "75f77492-1078-4212-8d35-45804117e885",
   "metadata": {},
   "outputs": [
    {
     "name": "stdin",
     "output_type": "stream",
     "text": [
      "enter your name:  123\n"
     ]
    },
    {
     "name": "stdout",
     "output_type": "stream",
     "text": [
      "123\n"
     ]
    }
   ],
   "source": [
    "name = input(\"enter your name: \")\n",
    "print(name)"
   ]
  },
  {
   "cell_type": "code",
   "execution_count": 20,
   "id": "1af416b3-3933-481b-a802-71fe1618ce05",
   "metadata": {},
   "outputs": [
    {
     "name": "stdin",
     "output_type": "stream",
     "text": [
      "enter your age:  1\n"
     ]
    },
    {
     "name": "stdout",
     "output_type": "stream",
     "text": [
      "1 <class 'str'>\n"
     ]
    }
   ],
   "source": [
    "age=input(\"enter your age: \")\n",
    "print(age, type(age))"
   ]
  },
  {
   "cell_type": "code",
   "execution_count": 21,
   "id": "2e50d7ed-e2f0-42a5-affa-9faadb7773d0",
   "metadata": {},
   "outputs": [
    {
     "name": "stdout",
     "output_type": "stream",
     "text": [
      "21\n"
     ]
    }
   ],
   "source": [
    "print (20 + int(age))\n"
   ]
  },
  {
   "cell_type": "code",
   "execution_count": 22,
   "id": "1e460424-58c5-447d-b72a-630cef8de769",
   "metadata": {},
   "outputs": [
    {
     "name": "stdin",
     "output_type": "stream",
     "text": [
      "Input your value: 34\n"
     ]
    },
    {
     "name": "stdout",
     "output_type": "stream",
     "text": [
      "34 ** 3434\n"
     ]
    }
   ],
   "source": [
    "i = input(\"Input your value:\")\n",
    "print(i, \"**\", i*2)\n"
   ]
  },
  {
   "cell_type": "code",
   "execution_count": 23,
   "id": "e239a9ce-0f22-4c2a-9492-b652887f4c6f",
   "metadata": {},
   "outputs": [
    {
     "name": "stdin",
     "output_type": "stream",
     "text": [
      "Input two numbers: 12 34\n"
     ]
    }
   ],
   "source": [
    "input_list = input(\"Input two numbers:\").split() "
   ]
  },
  {
   "cell_type": "code",
   "execution_count": 28,
   "id": "e9dd44ae-5541-4797-bc7a-533ca1dfd1f2",
   "metadata": {},
   "outputs": [
    {
     "name": "stdin",
     "output_type": "stream",
     "text": [
      "Input two numbers: 12 q\n"
     ]
    },
    {
     "name": "stdout",
     "output_type": "stream",
     "text": [
      "Invalid input\n"
     ]
    }
   ],
   "source": [
    "input_list = input(\"Input two numbers:\").split()\n",
    "try:\n",
    "    num1=int(input_list[0])\n",
    "    num2=int(input_list[1])\n",
    "    print(f\"{num1} + {num2} = {num1 + num2}\")\n",
    "except ValueError:\n",
    "    print(\"Invalid input\")"
   ]
  },
  {
   "cell_type": "code",
   "execution_count": 30,
   "id": "bda25092-841d-48cc-aa52-2ea192045ce0",
   "metadata": {},
   "outputs": [
    {
     "name": "stdin",
     "output_type": "stream",
     "text": [
      "Input two numbers: 12 34\n"
     ]
    },
    {
     "name": "stdout",
     "output_type": "stream",
     "text": [
      "12 + 34 = 46\n"
     ]
    }
   ],
   "source": [
    "# map은 파이썬 내장 함수로, 반복 가능한 객체의 각 요소에 특정 함수를 적용하여 새로운 반복 가능한 객체를 반환하는 역할을 합니다.\n",
    "try:\n",
    "    num1, num2 = map(int, input(\"Input two numbers:\").split())\n",
    "    print(f\"{num1} + {num2} = {num1 + num2}\")\n",
    "except ValueError:\n",
    "    print(\"Invalid input\")"
   ]
  },
  {
   "cell_type": "code",
   "execution_count": 37,
   "id": "67380695-2163-40b7-aea1-3a05feb11bc2",
   "metadata": {},
   "outputs": [
    {
     "name": "stdout",
     "output_type": "stream",
     "text": [
      "too\n",
      "short\n"
     ]
    }
   ],
   "source": [
    "print('too', end='\\n'); print('short')"
   ]
  },
  {
   "cell_type": "code",
   "execution_count": 1,
   "id": "284d9405-447c-456a-a377-13ae421373bd",
   "metadata": {},
   "outputs": [
    {
     "name": "stdout",
     "output_type": "stream",
     "text": [
      "True\n"
     ]
    }
   ],
   "source": [
    "print(not (4 - 4 and 4 - 3))\n"
   ]
  },
  {
   "cell_type": "code",
   "execution_count": 2,
   "id": "ab4dd464-8134-40f3-bc25-fb4c16004fca",
   "metadata": {},
   "outputs": [
    {
     "name": "stdout",
     "output_type": "stream",
     "text": [
      "2\n"
     ]
    }
   ],
   "source": [
    "number = 0b1010  # 이진수 1010 (10진수 10)\n",
    "mask = 0b0010    # 이진수 0010 (2번째 비트를 확인)\n",
    "\n",
    "result = number & mask\n",
    "print(result)    # 출력: 2 (10진수), 즉 0b0010"
   ]
  },
  {
   "cell_type": "code",
   "execution_count": 3,
   "id": "e8066eeb-c941-4075-ab91-80117667a14e",
   "metadata": {},
   "outputs": [
    {
     "ename": "ValueError",
     "evalue": "invalid literal for int() with base 10: 'c'",
     "output_type": "error",
     "traceback": [
      "\u001b[0;31m---------------------------------------------------------------------------\u001b[0m",
      "\u001b[0;31mValueError\u001b[0m                                Traceback (most recent call last)",
      "Cell \u001b[0;32mIn[3], line 1\u001b[0m\n\u001b[0;32m----> 1\u001b[0m \u001b[38;5;28mprint\u001b[39m ({} \u001b[38;5;129;01mor\u001b[39;00m \u001b[38;5;28;43mint\u001b[39;49m\u001b[43m(\u001b[49m\u001b[38;5;124;43m\"\u001b[39;49m\u001b[38;5;124;43mc\u001b[39;49m\u001b[38;5;124;43m\"\u001b[39;49m\u001b[43m)\u001b[49m) \n",
      "\u001b[0;31mValueError\u001b[0m: invalid literal for int() with base 10: 'c'"
     ]
    }
   ],
   "source": [
    "print ({} or int(\"c\")) "
   ]
  },
  {
   "cell_type": "code",
   "execution_count": 4,
   "id": "2a6631e4-e839-4aac-8ea3-40d54565f079",
   "metadata": {},
   "outputs": [
    {
     "name": "stdout",
     "output_type": "stream",
     "text": [
      "{1, 2, 5}\n"
     ]
    }
   ],
   "source": [
    "print ({} or {1, 2, 5})"
   ]
  },
  {
   "cell_type": "code",
   "execution_count": 6,
   "id": "ef049d31-2e22-4bdb-900c-4d84169b18fa",
   "metadata": {},
   "outputs": [
    {
     "name": "stdout",
     "output_type": "stream",
     "text": [
      "0\n"
     ]
    }
   ],
   "source": [
    "print (10 - 10 and 4 * 3)"
   ]
  },
  {
   "cell_type": "code",
   "execution_count": 3,
   "id": "3a588698-50f8-405b-b576-7fbf8039f9bf",
   "metadata": {},
   "outputs": [
    {
     "name": "stdout",
     "output_type": "stream",
     "text": [
      "$\n",
      "$$\n",
      "$$$\n"
     ]
    }
   ],
   "source": [
    "for i in range(3):\n",
    "    print('$' * (i+1))"
   ]
  },
  {
   "cell_type": "code",
   "execution_count": 1,
   "id": "2bc04d7d-09bf-4a16-b3ec-385d671da98c",
   "metadata": {},
   "outputs": [
    {
     "name": "stdout",
     "output_type": "stream",
     "text": [
      "dict_items([('a', 1), ('b', 2), ('c', 3)])\n",
      "[('a', 1), ('b', 2), ('c', 3)]\n"
     ]
    }
   ],
   "source": [
    "# 딕셔너리 예시\n",
    "my_dict = {'a': 1, 'b': 2, 'c': 3}\n",
    "\n",
    "# items() 메서드 사용\n",
    "items = my_dict.items()\n",
    "\n",
    "# items() 메서드의 결과는 dict_items 객체\n",
    "print(items)  # dict_items([('a', 1), ('b', 2), ('c', 3)])\n",
    "\n",
    "# 리스트로 변환하여 출력\n",
    "print(list(items))  # [('a', 1), ('b', 2), ('c', 3)]"
   ]
  },
  {
   "cell_type": "code",
   "execution_count": 2,
   "id": "0364ae2b-4a7c-4f18-bab5-1029b357b768",
   "metadata": {},
   "outputs": [
    {
     "name": "stdout",
     "output_type": "stream",
     "text": [
      "<zip object at 0x7f45885668c0>\n",
      "[('a', 1), ('b', 2), ('c', 3)]\n"
     ]
    }
   ],
   "source": [
    "# 두 개의 리스트\n",
    "list1 = ['a', 'b', 'c']\n",
    "list2 = [1, 2, 3]\n",
    "\n",
    "# zip() 함수 사용\n",
    "zipped = zip(list1, list2)\n",
    "\n",
    "# zip 객체 출력\n",
    "print(zipped)  # <zip object at 0x...>\n",
    "\n",
    "# 리스트로 변환하여 출력\n",
    "print(list(zipped))  # [('a', 1), ('b', 2), ('c', 3)]"
   ]
  },
  {
   "cell_type": "code",
   "execution_count": 6,
   "id": "90131b41-4bfd-4e18-93a5-672c51cc9a5b",
   "metadata": {},
   "outputs": [
    {
     "name": "stdout",
     "output_type": "stream",
     "text": [
      "[['a', 1], ['b', 2], ['c', 3]]\n",
      "{'a': 1, 'b': 2, 'c': 3}\n"
     ]
    }
   ],
   "source": [
    "items_list = [['a', 1], ['b', 2], ['c', 3]]\n",
    "print(items_list)\n",
    "dict_from_list = dict(items_list)\n",
    "print(dict_from_list)"
   ]
  },
  {
   "cell_type": "code",
   "execution_count": null,
   "id": "d7395aae-a980-46d4-b280-92d470f41425",
   "metadata": {},
   "outputs": [],
   "source": []
  }
 ],
 "metadata": {
  "kernelspec": {
   "display_name": "Python 3 (ipykernel)",
   "language": "python",
   "name": "python3"
  },
  "language_info": {
   "codemirror_mode": {
    "name": "ipython",
    "version": 3
   },
   "file_extension": ".py",
   "mimetype": "text/x-python",
   "name": "python",
   "nbconvert_exporter": "python",
   "pygments_lexer": "ipython3",
   "version": "3.11.6"
  }
 },
 "nbformat": 4,
 "nbformat_minor": 5
}
