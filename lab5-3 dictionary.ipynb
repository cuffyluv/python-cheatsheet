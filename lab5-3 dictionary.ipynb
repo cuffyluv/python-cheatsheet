{
 "cells": [
  {
   "cell_type": "markdown",
   "id": "ab72e23b-e740-4801-9cf8-ce94f12814dd",
   "metadata": {},
   "source": [
    "### 실습물 제출 가이드라인\n",
    "- 아래에 주어진 코드들을 실행해서 python의 동작 원리를 이해하시오. 그리고, # M 으로 주어진 부분은 코드를 작성하고 실행하시오.\n",
    "- 주어진 코드들을 다 실행해 보고 결과를 확인하면 3점을 부여합니다.\n",
    "- \"# M\"으로 주어진 문제는 정확한 답을 작성하면 표기된 점수가 부여됩니다."
   ]
  },
  {
   "cell_type": "markdown",
   "id": "figured-stress",
   "metadata": {},
   "source": [
    "## Dictionary "
   ]
  },
  {
   "cell_type": "code",
   "execution_count": 1,
   "id": "matched-finnish",
   "metadata": {},
   "outputs": [],
   "source": [
    "# dictionary 사례\n",
    "\n",
    "eng_ko_dict = {'apple':'사과', 'banana':'바나나', 'kiwi':'키위'}\n",
    "\n",
    "me = {'name':'kang', 'email address':'korykang@ajou.ac.kr', \n",
    "      'department':'Software', 'working years':21}\n",
    "\n",
    "my_book = {'title':'Jane Eyre', 'author':'Charlotte Brontë', \n",
    "           'publication year':1847, 'flavor':'citrusy' }\n",
    "\n",
    "my_favorite = {'fruit':[\"apple\",'banana'], 'sports':'baseball', \n",
    "               'book':'Воскресение', 'color':'green'}\n",
    "\n",
    "country_capitals = { \"Germany\": \"Berlin\", \"England\": \"London\", \n",
    "                    \"United States\": \"Washington D.C.\",  \"Italy\": \"Rome\" }\n",
    "\n",
    "sights = { '서울': ['경복궁', '서울타워', '인사동'], '부산':['해운대', '자갈치시장'],\n",
    "          '대구':['팔공산', '동성로', '수성못'], '인천':['차이나타운', '송도']}\n"
   ]
  },
  {
   "cell_type": "code",
   "execution_count": 2,
   "id": "technological-george",
   "metadata": {},
   "outputs": [
    {
     "name": "stdout",
     "output_type": "stream",
     "text": [
      "Воскресение\n",
      "{'fruit': ['apple', 'banana', 'peach'], 'sports': 'baseball', 'book': 'Jane Eyre', 'movie': 'GATTACA'}\n"
     ]
    }
   ],
   "source": [
    "# 1 \n",
    "# dictionary 기본 조작방법\n",
    "my_favorite = {'fruit':[\"apple\",'banana'], 'sports':'baseball', \n",
    "               'book':'Воскресение', 'color':'green'}\n",
    "\n",
    "print(my_favorite['book'])\n",
    "my_favorite['book'] = 'Jane Eyre'\n",
    "my_favorite['movie'] = 'GATTACA'\n",
    "my_favorite['fruit'].append('peach')\n",
    "del my_favorite['color']\n",
    "print(my_favorite)"
   ]
  },
  {
   "cell_type": "code",
   "execution_count": 58,
   "id": "coupled-financing",
   "metadata": {},
   "outputs": [
    {
     "name": "stdout",
     "output_type": "stream",
     "text": [
      "{'name': 'espresso', 'origin': 'Columbia', 'roast level': 'Light', 'flavor': 'citrusy', 'caffeine content': 'medium', 'price': 5000}\n"
     ]
    }
   ],
   "source": [
    "# M1\n",
    "# 커피에 대한 dictionary coffee_info를 만드시오.\n",
    "# 종류(name)는 'espresso', 원산지(origin)는 'Columbia', \n",
    "# 로스팅 단계(roast level)는 'light', \n",
    "# 맛(flavor)는 'citrusy'로 처음 만드시오. (0.1점)\n",
    "# 여기에, 카페인 함유량(caffeine content)는 'medium', \n",
    "# 가격은(price)는 5000이라는 정보를 추가하시오. (0.2점)\n",
    "\n",
    "coffee_info = {'name':'espresso', 'origin':'Columbia', 'roast level':'Light', 'flavor':'citrusy'}\n",
    "coffee_info['caffeine content'] = 'medium'\n",
    "coffee_info['price'] = 5000\n",
    "print(coffee_info)\n"
   ]
  },
  {
   "cell_type": "code",
   "execution_count": 4,
   "id": "confidential-reach",
   "metadata": {},
   "outputs": [
    {
     "name": "stdout",
     "output_type": "stream",
     "text": [
      "{'a': 1, 'b': 2, 'c': 3}\n"
     ]
    }
   ],
   "source": [
    "# 2\n",
    "# tuple list를 dictionary로 변환\n",
    "items_list = [('a', 1), ('b', 2), ('c', 3)]\n",
    "dict_from_list = dict(items_list)\n",
    "print(dict_from_list)"
   ]
  },
  {
   "cell_type": "code",
   "execution_count": 5,
   "id": "broadband-messenger",
   "metadata": {},
   "outputs": [
    {
     "name": "stdout",
     "output_type": "stream",
     "text": [
      "{'a': 1, 'b': 2, 'c': 3}\n"
     ]
    }
   ],
   "source": [
    "# 3\n",
    "# 두 개의 list를 합쳐서 dictionary로 변환\n",
    "keys_list = ['a', 'b', 'c']\n",
    "values_list = [1, 2, 3]\n",
    "dict_from_lists = dict(zip(keys_list, values_list))\n",
    "print(dict_from_lists)"
   ]
  },
  {
   "cell_type": "code",
   "execution_count": 6,
   "id": "stylish-launch",
   "metadata": {},
   "outputs": [
    {
     "name": "stdout",
     "output_type": "stream",
     "text": [
      "{'a': 1, 'c': 3, 'b': 2}\n"
     ]
    }
   ],
   "source": [
    "# 4\n",
    "# tuple set을 dictionary로 변환\n",
    "items_set = {('a', 1), ('b', 2), ('c', 3)}\n",
    "dict_from_set = dict(items_set)\n",
    "print(dict_from_set)"
   ]
  },
  {
   "cell_type": "code",
   "execution_count": 7,
   "id": "simple-pointer",
   "metadata": {},
   "outputs": [
    {
     "name": "stdout",
     "output_type": "stream",
     "text": [
      "{'a': 1, 'b': 2, 'c': 3}\n"
     ]
    }
   ],
   "source": [
    "# 5\n",
    "# tuple의 tuple을 dictionary로 변환\n",
    "items_tuple = (('a', 1), ('b', 2), ('c', 3))\n",
    "dict_from_tuple = dict(items_tuple)\n",
    "print(dict_from_tuple)"
   ]
  },
  {
   "cell_type": "code",
   "execution_count": 63,
   "id": "fresh-context",
   "metadata": {},
   "outputs": [
    {
     "name": "stdout",
     "output_type": "stream",
     "text": [
      "{'Paris': 1000, 'New York': 2000, 'Santa Babara': 1400, 'Amsterdam': 1800}\n"
     ]
    }
   ],
   "source": [
    "# M2\n",
    "# items = ['Paris', 'New York', 'Santa Babara', 'Amsterdam']\n",
    "# costs = [1000, 2000, 1400, 1800]\n",
    "# 위의 두 list를 합쳐서 \n",
    "# trips = {'Paris':1000, 'New York':2000, 'Santa Babara':1400, 'Amsterdam':1800}를 \n",
    "# 만드는 코드를 작성하시오. (0.1점)\n",
    "items = ['Paris', 'New York', 'Santa Babara', 'Amsterdam']\n",
    "costs = [1000, 2000, 1400, 1800]\n",
    "trips = dict(zip(items, costs))\n",
    "print(trips)\n"
   ]
  },
  {
   "cell_type": "code",
   "execution_count": 65,
   "id": "atomic-scheme",
   "metadata": {},
   "outputs": [
    {
     "name": "stdout",
     "output_type": "stream",
     "text": [
      "{'Lee': '010-1234-5678', 'Hong': '010-9876-5432', 'Song': '010-9876-5433'}\n"
     ]
    }
   ],
   "source": [
    "# M3 \n",
    "# 친구 Lee의 전화번호가 010-1234-5678, Hong의 전화번호가 010-9876-5432, \n",
    "# Song의 전화번호가 010-9876-5433와 같다.\n",
    "# 친구의 이름들을 list로 만들고, 친구들의 전화번호들을 list로 만들어서(0.1점),\n",
    "# 이 두 list를 활용해서 친구 전화번호부을 만들어 출력하시오.(0.2점)\n",
    "\n",
    "name_list = ['Lee', 'Hong', 'Song']\n",
    "phone_number_list = ['010-1234-5678', '010-9876-5432', '010-9876-5433']\n",
    "\n",
    "phone_book = dict(zip(name_list, phone_number_list))\n",
    "print(phone_book)\n"
   ]
  },
  {
   "cell_type": "code",
   "execution_count": 10,
   "id": "italic-setup",
   "metadata": {},
   "outputs": [
    {
     "name": "stdout",
     "output_type": "stream",
     "text": [
      "{'kang': 20, 'kim': 20, 'lee': 20}\n"
     ]
    }
   ],
   "source": [
    "# 6\n",
    "# dictionary 생성 시, value를 동일한 값으로 초기화\n",
    "\n",
    "users_info = {}\n",
    "user1, user2, user3 = ('kang', 'kim', 'lee')\n",
    "age = 20\n",
    "users_info[user1] = users_info[user2] = users_info[user3] = age\n",
    "print(users_info)"
   ]
  },
  {
   "cell_type": "code",
   "execution_count": 11,
   "id": "electoral-freedom",
   "metadata": {},
   "outputs": [
    {
     "name": "stdout",
     "output_type": "stream",
     "text": [
      "{'kang': 20, 'kim': 20, 'lee': 20}\n"
     ]
    }
   ],
   "source": [
    "# 7\n",
    "# dictionary 생성 시, value를 동일한 값으로 초기화\n",
    "# 이름들을 list로 정리, 하나씩 dictionary에 추가\n",
    "user_list = ['kang', 'kim', 'lee']\n",
    "age = 20\n",
    "users_info = {}\n",
    "for user in user_list:\n",
    "    users_info[user] = age\n",
    "print(users_info)"
   ]
  },
  {
   "cell_type": "code",
   "execution_count": 12,
   "id": "dirty-provision",
   "metadata": {},
   "outputs": [
    {
     "name": "stdout",
     "output_type": "stream",
     "text": [
      "{'kang': 20, 'kim': 20, 'lee': 20}\n"
     ]
    }
   ],
   "source": [
    "# 8\n",
    "# dictionary 생성 시, value를 동일한 값으로 초기화\n",
    "# 이름들을 list로 정리, dictionary comprehension \n",
    "user_list = ['kang', 'kim', 'lee']\n",
    "age = 20\n",
    "users_info = {user: age for user in user_list }\n",
    "print(users_info)"
   ]
  },
  {
   "cell_type": "code",
   "execution_count": 72,
   "id": "received-television",
   "metadata": {},
   "outputs": [
    {
     "name": "stdout",
     "output_type": "stream",
     "text": [
      "{'caffe latte': 5000, 'ice americano': 5000, 'cappuccino': 5000, 'macciato': 5000}\n"
     ]
    }
   ],
   "source": [
    "# M4\n",
    "# 카페의 메뉴 정보를 구성하고 있다. 품목 별 가격 정보를 정리하고 있다. \n",
    "# caffe latte, ice americano, cappuccino, macchiato를 모두 5000원으로 지정하려고 한다.\n",
    "# 이 정보를 담은 dictionary인 cafe_menu를 6~8에 제시된 방법 중 하나를 골라 만드시오. (0.2점)\n",
    "\n",
    "# Sol1)\n",
    "# item_list = ['caffe latte', 'ice americano', 'cappuccino', 'macciato']\n",
    "# price = 5000\n",
    "# cafe_menu = {}\n",
    "# for item in item_list:\n",
    "#     cafe_menu[item] = price\n",
    "# print(cafe_menu)\n",
    "\n",
    "# Sol2)\n",
    "item_list = ['caffe latte', 'ice americano', 'cappuccino', 'macciato']\n",
    "price = 5000\n",
    "cafe_menu = {item:price for item in item_list}\n",
    "print(cafe_menu)\n"
   ]
  },
  {
   "cell_type": "markdown",
   "id": "c0c476d6-9c96-4d49-813d-3bbcda0f01e4",
   "metadata": {},
   "source": [
    "#### Dictionary methods"
   ]
  },
  {
   "cell_type": "code",
   "execution_count": 14,
   "id": "sharing-binding",
   "metadata": {},
   "outputs": [],
   "source": [
    "# 9\n",
    "dict1 = {'name':'Hong Kildong', 'birth':1990, 'nationality':'KR' } "
   ]
  },
  {
   "cell_type": "code",
   "execution_count": 15,
   "id": "established-guide",
   "metadata": {},
   "outputs": [
    {
     "name": "stdout",
     "output_type": "stream",
     "text": [
      "name\n",
      "birth\n",
      "nationality\n",
      "-----\n",
      "False\n"
     ]
    }
   ],
   "source": [
    "# 9-1\n",
    "# keys()라는 method로 key들의 목록을 얻을 수 있음 \n",
    "for k in dict1.keys():\n",
    "    print(k)\n",
    "print('-'*5)\n",
    "print('family' in dict1.keys())  "
   ]
  },
  {
   "cell_type": "code",
   "execution_count": 16,
   "id": "regulated-panic",
   "metadata": {},
   "outputs": [
    {
     "name": "stdout",
     "output_type": "stream",
     "text": [
      "False\n",
      "-----\n",
      "Hong Kildong\n",
      "1990\n",
      "KR\n",
      "-----\n",
      "True\n"
     ]
    }
   ],
   "source": [
    "# 9-2\n",
    "# values()라는 method로 value들의 목록을 얻을 수 있음\n",
    "print('Hong Kildong' in dict1) \n",
    "print('-'*5)\n",
    "\n",
    "for v in dict1.values():\n",
    "    print(v)\n",
    "\n",
    "print('-'*5)\n",
    "print('Hong Kildong' in dict1.values())  "
   ]
  },
  {
   "cell_type": "code",
   "execution_count": 17,
   "id": "other-guinea",
   "metadata": {},
   "outputs": [
    {
     "name": "stdout",
     "output_type": "stream",
     "text": [
      "{'name': 'Hong Kildong', 'birth': 1990, 'nationality': 'KR', 'weight': 75}\n"
     ]
    }
   ],
   "source": [
    "# 9-3\n",
    "# dictionary에 item 추가하기 혹은 변경하기\n",
    "dict1['weight'] = 75\n",
    "print(dict1)"
   ]
  },
  {
   "cell_type": "code",
   "execution_count": 18,
   "id": "flying-cheat",
   "metadata": {},
   "outputs": [
    {
     "name": "stdout",
     "output_type": "stream",
     "text": [
      "{'name': 'Hong Kildong', 'birth': 1990, 'nationality': 'KR', 'weight': 75, 'family': ['father', 'mother', 'sister']}\n"
     ]
    }
   ],
   "source": [
    "# 9-4\n",
    "# dictionary에 item 추가하기 혹은 변경하기\n",
    "dict1['family'] = ['father', 'mother', 'sister']\n",
    "print(dict1)"
   ]
  },
  {
   "cell_type": "code",
   "execution_count": 19,
   "id": "cordless-blowing",
   "metadata": {},
   "outputs": [
    {
     "name": "stdout",
     "output_type": "stream",
     "text": [
      "Hong Kildong\n",
      "male\n"
     ]
    }
   ],
   "source": [
    "# 9-5\n",
    "# key에 해당하는 value 얻기\n",
    "print(dict1.get('name'))\n",
    "# 해당 key가 없으면 반환할 값을 지정할 수 있음\n",
    "print(dict1.get('gender', 'male'))"
   ]
  },
  {
   "cell_type": "code",
   "execution_count": 20,
   "id": "94b28a20-59bf-4dc2-8e18-9372a3dbdc58",
   "metadata": {},
   "outputs": [
    {
     "name": "stdout",
     "output_type": "stream",
     "text": [
      "('name', 'Hong Kildong')\n",
      "('birth', 1990)\n",
      "('nationality', 'KR')\n",
      "('weight', 75)\n",
      "('family', ['father', 'mother', 'sister'])\n"
     ]
    }
   ],
   "source": [
    "# 9-6\n",
    "# dictionary 내 item들 확인하기\n",
    "for item in dict1.items():\n",
    "    print(item)"
   ]
  },
  {
   "cell_type": "code",
   "execution_count": 21,
   "id": "e6f760be-9408-4384-b971-0ff46c0e2b04",
   "metadata": {},
   "outputs": [
    {
     "name": "stdout",
     "output_type": "stream",
     "text": [
      "name Hong Kildong\n",
      "birth 1990\n",
      "nationality KR\n",
      "weight 75\n",
      "family ['father', 'mother', 'sister']\n"
     ]
    }
   ],
   "source": [
    "# 9-7\n",
    "# dictionary 내 item의 key와 value를 별도의 변수에 할당\n",
    "for key, value in dict1.items():\n",
    "    print(key, value)"
   ]
  },
  {
   "cell_type": "code",
   "execution_count": 22,
   "id": "sharing-wayne",
   "metadata": {},
   "outputs": [
    {
     "name": "stdout",
     "output_type": "stream",
     "text": [
      "{'name': 'Hong Kildong', 'birth': 1990, 'nationality': 'KR', 'weight': 75, 'family': ['father', 'mother', 'sister'], 'street no': 65, 'hobby': ['swimming', 'football']}\n"
     ]
    }
   ],
   "source": [
    "# 9-8\n",
    "# dictionary에 item 추가하기 혹은 변경하기\n",
    "dict1.update({'street no': 65, 'hobby': ['swimming', 'football']}) \n",
    "print(dict1)"
   ]
  },
  {
   "cell_type": "code",
   "execution_count": 23,
   "id": "grateful-potter",
   "metadata": {},
   "outputs": [
    {
     "name": "stdout",
     "output_type": "stream",
     "text": [
      "75\n",
      "{'name': 'Hong Kildong', 'birth': 1990, 'nationality': 'KR', 'weight': 75, 'family': ['father', 'mother', 'sister'], 'street no': 65, 'hobby': ['swimming', 'football']}\n"
     ]
    }
   ],
   "source": [
    "# 9-9\n",
    "# Key가 ‘weight’인 element가 있으면 value를 출력, 아니면, ‘weight’:70 인 element 추가\n",
    "print(dict1.setdefault('weight', 70))\n",
    "print(dict1)"
   ]
  },
  {
   "cell_type": "code",
   "execution_count": 6,
   "id": "4491eb91-56b9-4566-b45a-4e47cbca3c1e",
   "metadata": {},
   "outputs": [
    {
     "name": "stdin",
     "output_type": "stream",
     "text": [
      "Enter the numbers: 1 2 3 3 3\n"
     ]
    },
    {
     "name": "stdout",
     "output_type": "stream",
     "text": [
      "Single numbers are [1, 2]\n"
     ]
    }
   ],
   "source": [
    "# M5\n",
    "#사용자로부터 정수 목록을 입력받고, 목록 내에 한 번만 등장하는 값을 출력하는 코드를 \n",
    "# dictionary, list comprehension을 사용하여 구현하시오 (0.7점)\n",
    "# 실행 예1)\n",
    "# Enter the numbers: 1 2 3 3 3 \n",
    "# Single numbers are [1, 2]\n",
    "# 실행 예2)\n",
    "# Enter the numbers: 1 1 2 2 3 3 3 \n",
    "# No single number\n",
    "num_list = list(map(int, input('Enter the numbers:').split()))\n",
    "\n",
    "count_dict = {num: num_list.count(num) for num in set(num_list)}\n",
    "\n",
    "single_num_list = [num for num, count in count_dict.items() if count == 1]\n",
    "\n",
    "if single_num_list:\n",
    "    print(f\"Single numbers are {single_num_list}\")\n",
    "else:\n",
    "    print(\"No single number\")\n"
   ]
  },
  {
   "cell_type": "code",
   "execution_count": 25,
   "id": "skilled-crime",
   "metadata": {},
   "outputs": [
    {
     "name": "stdout",
     "output_type": "stream",
     "text": [
      "** scores.items\n",
      "dict_items([('Rape Flower Festival', 84), ('Charcoal Grilling Festival', 90), ('True Flower Cultural Festival', 82), ('Tug of War Festival', 63), ('Cherry Blossom Festival', 75)])\n",
      "\n",
      "** evaluation\n",
      "{'Rape Flower Festival': 'excellent', 'Charcoal Grilling Festival': 'failed', 'True Flower Cultural Festival': 'excellent', 'Tug of War Festival': 'failed', 'Cherry Blossom Festival': 'acceptable'}\n"
     ]
    }
   ],
   "source": [
    "# 10\n",
    "# 행사별 참석자들의 평가가 아래와 같을 때, 평가를 정리한 score라는 dictionary와 \n",
    "# 축제별로 평가 결과에 따른 의견을 반영한 evaluation라는 dictionary를 만들자.\n",
    "# 유채꽃축제(Rape Flower Festival) 84, 숯불구이축제(Charcoal Grilling Festival) 90, \n",
    "# 참꽃문화제(True Flower Cultural Festival) 82, 줄다리기축제(Tug of War Festival) 92, \n",
    "# 벚꽃축제(Cherry Blossom Festival) 75\n",
    "# evaluation이라는 dictionary는 score라는 dictionary로부터 만들자.\n",
    "# 90 이상은 outstanding, 80~89는 excellent, 70~79는 acceptable, 69 미만은 failed\n",
    "\n",
    "scores = {'Rape Flower Festival': 84, 'Charcoal Grilling Festival':90, \n",
    "         'True Flower Cultural Festival':82, \n",
    "         'Tug of War Festival':63, 'Cherry Blossom Festival':75}\n",
    "evaluations = {}\n",
    "print('** scores.items')\n",
    "print(scores.items())\n",
    "for name, value in scores.items():\n",
    "    if value > 90:\n",
    "        evaluations[name] = 'outstanding'\n",
    "    elif 80 <= value <= 89:\n",
    "        evaluations[name] = 'excellent'\n",
    "    elif 70 <= value <= 79:\n",
    "        evaluations[name] = 'acceptable'\n",
    "    else:\n",
    "        evaluations[name] = 'failed'\n",
    "print('\\n** evaluation')\n",
    "print(evaluations)"
   ]
  },
  {
   "cell_type": "code",
   "execution_count": 26,
   "id": "incorrect-maximum",
   "metadata": {},
   "outputs": [
    {
     "name": "stdout",
     "output_type": "stream",
     "text": [
      "** score.items\n",
      "dict_items([('Rape Flower Festival', 84), ('Charcoal Grilling Festival', 90), ('True Flower Cultural Festival', 82), ('Tug of War Festival', 63), ('Cherry Blossom Festival', 75)])\n",
      "\n",
      "** comments.items\n",
      "dict_items([((90, 100), 'outstanding'), ((80, 89), 'excellent'), ((70, 79), 'acceptable'), ((0, 69), 'failed')])\n",
      "\n",
      "** evaluation\n",
      "{'Rape Flower Festival': 'excellent', 'Charcoal Grilling Festival': 'outstanding', 'True Flower Cultural Festival': 'excellent', 'Tug of War Festival': 'failed', 'Cherry Blossom Festival': 'acceptable'}\n"
     ]
    }
   ],
   "source": [
    "# 11 \n",
    "# 10에 점수 구간별 comment dictionary 추가 활용 version\n",
    "scores = {'Rape Flower Festival': 84, 'Charcoal Grilling Festival':90, \n",
    "         'True Flower Cultural Festival':82, \n",
    "         'Tug of War Festival':63, 'Cherry Blossom Festival':75}\n",
    "comments = {(90, 100): 'outstanding', (80, 89): 'excellent', (70, 79): 'acceptable',\n",
    "            (0, 69): 'failed'}\n",
    "\n",
    "print('** score.items')\n",
    "print(scores.items())\n",
    "print('\\n** comments.items')\n",
    "print(comments.items())\n",
    "\n",
    "evaluations = {}\n",
    "for key, value in scores.items():\n",
    "    for (low, high), comment in comments.items():\n",
    "        if  low <= value <= high:\n",
    "            evaluations[key]=comment\n",
    "            break\n",
    "print('\\n** evaluation')\n",
    "print(evaluations)"
   ]
  },
  {
   "cell_type": "markdown",
   "id": "59a00d77-da40-4d27-aa8b-8c0c9b4feec7",
   "metadata": {},
   "source": [
    "#### Dictionary comprehension"
   ]
  },
  {
   "cell_type": "code",
   "execution_count": 27,
   "id": "relevant-alliance",
   "metadata": {},
   "outputs": [
    {
     "name": "stdout",
     "output_type": "stream",
     "text": [
      "{1: 6, 2: 12, 3: 18, 4: 24, 5: 30, 6: 36, 7: 42, 8: 48, 9: 54}\n"
     ]
    }
   ],
   "source": [
    "# 12\n",
    "# dictionary comprehension \n",
    "six_multiplication = {number: number*6 for number in range(1,10)}\n",
    "print(six_multiplication)"
   ]
  },
  {
   "cell_type": "code",
   "execution_count": 28,
   "id": "blocked-increase",
   "metadata": {},
   "outputs": [
    {
     "name": "stdout",
     "output_type": "stream",
     "text": [
      "{1: 6, 2: 12, 3: 18, 4: 24, 5: 30, 6: 36, 7: 42, 8: 48, 9: 54}\n"
     ]
    }
   ],
   "source": [
    "# 13\n",
    "# 13번 코드의 dictionary comprehension을 사용하지 않은 방식\n",
    "six_multiplication  = {}\n",
    "for number in range(1,10):\n",
    "    six_multiplication[number]=number*6\n",
    "print(six_multiplication )"
   ]
  },
  {
   "cell_type": "code",
   "execution_count": 29,
   "id": "excess-model",
   "metadata": {},
   "outputs": [
    {
     "name": "stdout",
     "output_type": "stream",
     "text": [
      "{'kang': 10.0, 'kim': 20.0, 'lee': 15.0}\n"
     ]
    }
   ],
   "source": [
    "# 14\n",
    "# dictionary comprehension \n",
    "user_list = ['kang', 'kim', 'lee']\n",
    "purchase = [1000, 2000, 1500]\n",
    "\n",
    "mileage = {name : amount*0.01 for name, amount in zip(user_list, purchase)}\n",
    "print(mileage)"
   ]
  },
  {
   "cell_type": "code",
   "execution_count": 30,
   "id": "useful-validity",
   "metadata": {},
   "outputs": [
    {
     "name": "stdout",
     "output_type": "stream",
     "text": [
      "{'kang': 10.0, 'kim': 20.0, 'lee': 15.0}\n"
     ]
    }
   ],
   "source": [
    "# 15\n",
    "# 15번 코드의 dictionary comprehension을 사용하지 않은 방식\n",
    "user_list = ['kang', 'kim', 'lee']\n",
    "purchase = [1000, 2000, 1500]\n",
    "\n",
    "mileage = {}\n",
    "for name, amount in zip(user_list, purchase) :\n",
    "    mileage[name] = amount*0.01 \n",
    "print(mileage)"
   ]
  },
  {
   "cell_type": "code",
   "execution_count": 31,
   "id": "about-annotation",
   "metadata": {},
   "outputs": [
    {
     "name": "stdout",
     "output_type": "stream",
     "text": [
      "{'1번': 'Lee', '2번': 'Song', '3번': 'Kwon', '4번': 'Park', '5번': 'Shin', '6번': 'Kang', '7번': 'Cho', '8번': 'Yang'}\n"
     ]
    }
   ],
   "source": [
    "# 16\n",
    "# dictionary comprehension \n",
    "students = ['Lee', 'Song', 'Kwon', 'Park', 'Shin', 'Kang', 'Cho', 'Yang']\n",
    "students_dic = {\n",
    "    f'{number+1}번': name for number, name in \n",
    "    enumerate(students)\n",
    "}\n",
    "print(students_dic)"
   ]
  },
  {
   "cell_type": "code",
   "execution_count": 32,
   "id": "direct-tamil",
   "metadata": {},
   "outputs": [
    {
     "name": "stdout",
     "output_type": "stream",
     "text": [
      "{'1번': 'Lee', '2번': 'Song', '3번': 'Kwon', '4번': 'Park', '5번': 'Shin', '6번': 'Kang', '7번': 'Cho', '8번': 'Yang'}\n"
     ]
    }
   ],
   "source": [
    "# 17\n",
    "# 16번 코드의 dictionary comprehension을 사용하지 않은 방식\n",
    "students = ['Lee', 'Song', 'Kwon', 'Park', 'Shin', 'Kang', 'Cho', 'Yang']\n",
    "for number, name in enumerate(students):\n",
    "    id = f'{number+1}번'\n",
    "    students_dic[id] = name\n",
    "print(students_dic)"
   ]
  },
  {
   "cell_type": "code",
   "execution_count": 33,
   "id": "leading-explosion",
   "metadata": {},
   "outputs": [
    {
     "name": "stdout",
     "output_type": "stream",
     "text": [
      "{'Rape Flower Festival': 'excellent', 'Charcoal Grilling Festival': 'outstanding', 'True Flower Cultural Festival': 'excellent', 'Tug of War Festival': 'failed', 'Cherry Blossom Festival': 'acceptable'}\n"
     ]
    }
   ],
   "source": [
    "# 18 \n",
    "# 11의 dictionary comprehension version\n",
    "scores = {'Rape Flower Festival': 84, 'Charcoal Grilling Festival':90, \n",
    "         'True Flower Cultural Festival':82, \n",
    "         'Tug of War Festival':63, 'Cherry Blossom Festival':75}\n",
    "comments = {(90, 100): 'outstanding', (80, 89): 'excellent', (70, 79): 'acceptable',  \n",
    "            (0, 69): 'failed'}\n",
    "evaluations = {key: comment for key, value in scores.items()\n",
    "              for (low, high), comment in comments.items() \n",
    "               if low <= value <= high}\n",
    "print(evaluations)"
   ]
  },
  {
   "cell_type": "code",
   "execution_count": 7,
   "id": "important-peripheral",
   "metadata": {},
   "outputs": [
    {
     "name": "stdout",
     "output_type": "stream",
     "text": [
      "{11: 121, 12: 144, 13: 169, 14: 196, 15: 225, 16: 256, 17: 289, 18: 324, 19: 361}\n"
     ]
    }
   ],
   "source": [
    "# M6\n",
    "# dictionary comprehension으로  11에서 19까지의 정수에 대해 제곱값을 저장한 squares_table을 만들어\n",
    "# 출력하시오 (0.2점).\n",
    "# square_tables 출력 예시\n",
    "# {11:121, 12:144, 13:169, 14:196, 15:225, 16:256, 17:289, 18:324, 19:361}\n",
    "squares_table = {num: num**2 for num in range(11, 20)}\n",
    "print(squares_table)\n"
   ]
  },
  {
   "attachments": {},
   "cell_type": "markdown",
   "id": "ace51660-1e25-4aa3-bfa9-6fcc8e72346b",
   "metadata": {},
   "source": [
    "##### M7을 위한 표\n",
    "|item|oversea price (dollar)|domestic price (won)|\n",
    "|---|---|---|\n",
    "|bag|200|240000|\n",
    "|shoes|300|360000|\n",
    "|ring|350|420000|\n",
    "|pen|10|12000|\n"
   ]
  },
  {
   "cell_type": "code",
   "execution_count": 12,
   "id": "10ae0108-37ce-48c6-8881-9b01046500dc",
   "metadata": {},
   "outputs": [
    {
     "name": "stdout",
     "output_type": "stream",
     "text": [
      "{'bag': [200, 240000], 'shoes': [300, 360000], 'ring': [350, 420000], 'pen': [10, 12000]}\n"
     ]
    }
   ],
   "source": [
    "# M7-1\n",
    "# 수입 품목들에 대한 해외 원가와 국내가가 위의 표와 같다.\n",
    "# 위 정보를 prices라는 dictionary로 저장하는 코드를 작성하시오. \n",
    "# item 이름이 key, 해외 원가와 국내가의 짝이 value가 되도록 하시오.(0.2점)\n",
    "prices = {\n",
    "    \"bag\": [200, 240000],\n",
    "    \"shoes\": [300, 360000],\n",
    "    \"ring\": [350, 420000],\n",
    "    \"pen\": [10, 12000]\n",
    "}\n",
    "print(prices)"
   ]
  },
  {
   "cell_type": "code",
   "execution_count": 13,
   "id": "mineral-retirement",
   "metadata": {},
   "outputs": [
    {
     "name": "stdout",
     "output_type": "stream",
     "text": [
      "item: bag, oversea price: 200, domestic price: 260000\n",
      "item: shoes, oversea price: 300, domestic price: 390000\n",
      "item: ring, oversea price: 350, domestic price: 455000\n",
      "item: pen, oversea price: 10, domestic price: 13000\n"
     ]
    }
   ],
   "source": [
    "# M7-2\n",
    "# 1 달러 당 원화 가치가 1200에서 1300으로 변경되었다.\n",
    "# 환율을 반영하여 M7-1에서 만든 dictionary의 국내가를 변경해야 한다. \n",
    "# prices의 국내가를 새 환율에 맞추어 변경하고,\n",
    "# 변경된 prices의 item들을 출력하는 코드를 구현하시오.(0.3점)\n",
    "# 실행 사례)\n",
    "#item: bag, oversea price: 200, domestic price: 260000\n",
    "#item: shoes, oversea price: 300, domestic price: 390000\n",
    "#item: ring, oversea price: 350, domestic price: 455000\n",
    "#item: pen, oversea price: 10, domestic price: 13000\n",
    "\n",
    "new_exchange_rate = 1300\n",
    "\n",
    "for item, values in prices.items():\n",
    "    oversea_price = values[0] \n",
    "    prices[item][1] = int(oversea_price * new_exchange_rate)\n",
    "\n",
    "for item, (oversea_price, domestic_price) in prices.items():\n",
    "    print(f\"item: {item}, oversea price: {oversea_price}, domestic price: {domestic_price}\")"
   ]
  },
  {
   "cell_type": "code",
   "execution_count": 14,
   "id": "32c0abc2-4fb7-4a4c-8cc5-4eafdb94c364",
   "metadata": {},
   "outputs": [
    {
     "name": "stdout",
     "output_type": "stream",
     "text": [
      "item: bag, oversea price: 200, domestic price: 260000\n",
      "item: shoes, oversea price: 300, domestic price: 390000\n",
      "item: ring, oversea price: 350, domestic price: 455000\n",
      "item: pen, oversea price: 10, domestic price: 13000\n"
     ]
    }
   ],
   "source": [
    "# M7-3\n",
    "# M7-2의 기능을 하는 code를 dictionary comprehension을 사용하여 구현하시오.(0.3점)\n",
    "prices = {\n",
    "    \"bag\": [200, 240000],\n",
    "    \"shoes\": [300, 360000],\n",
    "    \"ring\": [350, 420000],\n",
    "    \"pen\": [10, 12000]\n",
    "} # M7-2에서 이미 수정해버렸으니, 새로 정의했음\n",
    "\n",
    "new_exchange_rate = 1300\n",
    "prices = {item: [values[0], int(values[0] * new_exchange_rate)] for item, values in prices.items()}\n",
    "for item, (oversea_price, domestic_price) in prices.items():\n",
    "    print(f\"item: {item}, oversea price: {oversea_price}, domestic price: {domestic_price}\")"
   ]
  },
  {
   "cell_type": "markdown",
   "id": "dd9bb7ec-dcd9-45e4-ab65-f0769323521c",
   "metadata": {},
   "source": [
    "#### Nested dictionary"
   ]
  },
  {
   "cell_type": "code",
   "execution_count": 41,
   "id": "98455236-a0f3-4611-81c0-115c33ea1863",
   "metadata": {},
   "outputs": [
    {
     "name": "stdin",
     "output_type": "stream",
     "text": [
      "Let me know your selection ('l' for latte, 'a' for americano, 'c' for cappucino):  l\n"
     ]
    },
    {
     "name": "stdout",
     "output_type": "stream",
     "text": [
      "name : Caffe Latte\n",
      "origin : Ethiopia\n",
      "roast level : light\n",
      "flavor : citrusy\n"
     ]
    }
   ],
   "source": [
    "# 19\n",
    "# 각 품목별 정보를 모아 dictionary인 cafe_menu가 아래와 같이 만들어져 있다.\n",
    "# 사용자로부터 품목명을 입력받아서 해당 품목의 구체적인 정보를 출력하는 코드\n",
    "\n",
    "caffe_latte = {'name': 'Caffe Latte', 'origin':'Ethiopia', 'roast level':'light', 'flavor':'citrusy'}\n",
    "americano = {'name': 'Americano','origin':'Ethiopia', 'roast level':'medium', 'flavor':'citrusy'}\n",
    "cappucino = {'name': 'Cappucino','origin':'Columbia', 'roast level':'medium', 'flavor':'citrusy'}\n",
    "cafe_menu = {'l':caffe_latte, 'a':americano, \n",
    "             'c':cappucino }\n",
    "pick = input(\"Let me know your selection ('l' for latte, 'a' for americano, 'c' for cappucino): \")\n",
    "for name, info in cafe_menu.items():\n",
    "    if name == pick:\n",
    "        for key, value in info.items():\n",
    "            print(key,\":\", value)\n",
    "        break\n",
    "else:\n",
    "    print(f\"{pick} is not available\")"
   ]
  },
  {
   "cell_type": "markdown",
   "id": "51bdd2f8-895c-4d67-b45e-b8ffe88015ad",
   "metadata": {},
   "source": [
    "#### Dictionary 응용하기"
   ]
  },
  {
   "cell_type": "code",
   "execution_count": 42,
   "id": "abandoned-girlfriend",
   "metadata": {},
   "outputs": [],
   "source": [
    "# 20\n",
    "dict_example = {\"a\": 1, \"b\": 2, \"c\": 3}"
   ]
  },
  {
   "cell_type": "code",
   "execution_count": 43,
   "id": "7b0c450e-5f29-4600-8976-84ba9f60400f",
   "metadata": {},
   "outputs": [
    {
     "name": "stdout",
     "output_type": "stream",
     "text": [
      "[('a', 1), ('b', 2), ('c', 3)]\n",
      "<class 'tuple'>\n"
     ]
    }
   ],
   "source": [
    "# 20-1\n",
    "### dictionary -> 하나의 list\n",
    "items_list = list(dict_example.items())  # dictionary의 각 item들이 tuple로 변환\n",
    "print(items_list) \n",
    "print(type(items_list[0]))"
   ]
  },
  {
   "cell_type": "code",
   "execution_count": 44,
   "id": "powered-geometry",
   "metadata": {},
   "outputs": [
    {
     "name": "stdout",
     "output_type": "stream",
     "text": [
      "['a', 'b', 'c']\n",
      "[1, 2, 3]\n"
     ]
    }
   ],
   "source": [
    "# 20-2\n",
    "### dictionary의 key와 value를 별도의 list로 추출\n",
    "keys_list = list(dict_example.keys())\n",
    "values_list = list(dict_example.values())\n",
    "print(keys_list)\n",
    "print(values_list)"
   ]
  },
  {
   "cell_type": "code",
   "execution_count": 45,
   "id": "extra-settlement",
   "metadata": {},
   "outputs": [],
   "source": [
    "# 21\n",
    "# 학생 정보를 list of dictionary로 관리하는 사례\n",
    "students_list = [\n",
    "    {\"name\": \"Hong\", \"age\": 21, \"department\": \"Software\"},\n",
    "    {\"name\": \"Lee\", \"age\": 22, \"department\": \"Cyber Security\"},\n",
    "    {\"name\": \"Kang\", \"age\": 21, \"department\": \"Digital Media\"}\n",
    "]"
   ]
  },
  {
   "cell_type": "code",
   "execution_count": 46,
   "id": "improved-croatia",
   "metadata": {},
   "outputs": [
    {
     "name": "stdout",
     "output_type": "stream",
     "text": [
      "Name: Hong, Age: 21, Department: Software\n",
      "Name: Lee, Age: 22, Department: Cyber Security\n",
      "Name: Kang, Age: 21, Department: Digital Media\n"
     ]
    }
   ],
   "source": [
    "# 21-1\n",
    "# 학생 전체 기록 출력\n",
    "for student in students_list:\n",
    "    print(f\"Name: {student['name']}, Age: {student['age']}, Department: {student['department']}\")\n",
    "    "
   ]
  },
  {
   "cell_type": "code",
   "execution_count": 47,
   "id": "gentle-substitute",
   "metadata": {},
   "outputs": [
    {
     "name": "stdout",
     "output_type": "stream",
     "text": [
      "Hong's department is Software.\n"
     ]
    }
   ],
   "source": [
    "# 21-2\n",
    "# 특정 이름을 가진 학생 정보 검색, list 전체 탐색 필요\n",
    "target_name = \"Hong\"\n",
    "for student in students_list:                            \n",
    "    if student[\"name\"] == target_name:\n",
    "        department = student['department']\n",
    "        print(f\"{target_name}'s department is {department}.\")\n",
    "        break\n",
    "else:\n",
    "    print(f\"{target_name} is not available.\")"
   ]
  },
  {
   "cell_type": "code",
   "execution_count": 48,
   "id": "sapphire-american",
   "metadata": {},
   "outputs": [
    {
     "name": "stdout",
     "output_type": "stream",
     "text": [
      "[{'name': 'Hong', 'age': 25, 'department': 'Software'}, {'name': 'Lee', 'age': 22, 'department': 'Cyber Security'}, {'name': 'Kang', 'age': 21, 'department': 'Digital Media'}]\n"
     ]
    }
   ],
   "source": [
    "# 21-3\n",
    "# 특정 순서에 있는 학생의 기록 변경\n",
    "target_index=0\n",
    "students_list[target_index]['age'] = 25\n",
    "print(students_list)"
   ]
  },
  {
   "cell_type": "code",
   "execution_count": 49,
   "id": "median-boundary",
   "metadata": {},
   "outputs": [
    {
     "name": "stdout",
     "output_type": "stream",
     "text": [
      "[{'name': 'Hong', 'age': 25, 'department': 'Software'}, {'name': 'Lee', 'age': 22, 'department': 'Cyber Security'}, {'name': 'Kang', 'age': 21, 'department': 'Digital Media'}, {'name': 'Kim', 'age': 22, 'department': 'Software'}]\n"
     ]
    }
   ],
   "source": [
    "# 21-4\n",
    "# 새 학생 정보 추가\n",
    "students_list.append({\"name\": \"Kim\", \"age\": 22, \"department\": \"Software\"})\n",
    "print(students_list)"
   ]
  },
  {
   "cell_type": "code",
   "execution_count": 50,
   "id": "intended-sample",
   "metadata": {},
   "outputs": [
    {
     "name": "stdout",
     "output_type": "stream",
     "text": [
      "[{'name': 'Hong', 'age': 25, 'department': 'Software'}, {'name': 'Kang', 'age': 21, 'department': 'Digital Media'}, {'name': 'Kim', 'age': 22, 'department': 'Software'}, {'name': 'Lee', 'age': 22, 'department': 'Cyber Security'}]\n"
     ]
    }
   ],
   "source": [
    "# 21-5\n",
    "# 학생 이름 순으로 기록 정렬\n",
    "students_list.sort(key=lambda x: x[\"name\"])\n",
    "print(students_list)"
   ]
  },
  {
   "cell_type": "code",
   "execution_count": 51,
   "id": "empty-letters",
   "metadata": {},
   "outputs": [],
   "source": [
    "# 22 \n",
    "# 학생 정보를 dictionary of dictionary로 관리하는 사례\n",
    "students_dict = {\n",
    "    \"Hong\":{\"age\": 21, \"department\": \"Software\"},\n",
    "    \"Lee\":{\"age\": 22, \"department\": \"Cyber Security\"},\n",
    "    \"Kang\":{\"age\": 21, \"department\": \"Digital Media\"}\n",
    "}"
   ]
  },
  {
   "cell_type": "code",
   "execution_count": 52,
   "id": "tired-diameter",
   "metadata": {},
   "outputs": [
    {
     "name": "stdout",
     "output_type": "stream",
     "text": [
      "Name: Hong, Age: 21, Department: Software\n",
      "Name: Lee, Age: 22, Department: Cyber Security\n",
      "Name: Kang, Age: 21, Department: Digital Media\n"
     ]
    }
   ],
   "source": [
    "# 22-1\n",
    "# 학생 전체 기록 출력\n",
    "for name, info in students_dict.items():\n",
    "    print(f\"Name: {name}, Age: {info['age']}, Department: {info['department']}\")\n"
   ]
  },
  {
   "cell_type": "code",
   "execution_count": 53,
   "id": "severe-imagination",
   "metadata": {},
   "outputs": [
    {
     "name": "stdout",
     "output_type": "stream",
     "text": [
      "Hong's department is Software.\n"
     ]
    }
   ],
   "source": [
    "# 22-2\n",
    "# 특정 이름을 가진 학생 정보 검색\n",
    "target_name = \"Hong\"\n",
    "if target_name in students_dict:   \n",
    "    department = students_dict[target_name][\"department\"]       # 한 번에 처리 가능\n",
    "    print(f\"{target_name}'s department is {department}.\")\n",
    "else:\n",
    "    print(f\"{target_name} is not available.\")"
   ]
  },
  {
   "cell_type": "code",
   "execution_count": 54,
   "id": "hungry-constraint",
   "metadata": {},
   "outputs": [
    {
     "name": "stdout",
     "output_type": "stream",
     "text": [
      "[('Hong', {'age': 21, 'department': 'Software'}), ('Lee', {'age': 22, 'department': 'Cyber Security'}), ('Kang', {'age': 21, 'department': 'Digital Media'})]\n",
      "{'Hong': {'age': 25, 'department': 'Software'}, 'Lee': {'age': 22, 'department': 'Cyber Security'}, 'Kang': {'age': 21, 'department': 'Digital Media'}}\n"
     ]
    }
   ],
   "source": [
    "# 22-3\n",
    "# 특정 순서에 있는 학생의 기록 변경\n",
    "target_index=0\n",
    "list_from_students_dict = list(students_dict.items())  # dictionary를 list로 변환\n",
    "print(list_from_students_dict)\n",
    "\n",
    "item = list_from_students_dict[target_index]       # (이름, {‘age’: x, ‘department’: y}) 구조 \n",
    "item[1]['age'] = 25;                    # item의 두 번째 요소의 ‘age’를 변경\n",
    "list_from_students_dict[target_index] = item       # 변경된 값으로 바꿔 넣기\n",
    "students_dict = dict(list_from_students_dict)   # list를 dictionary로 변경하기\n",
    "print(students_dict)"
   ]
  },
  {
   "cell_type": "code",
   "execution_count": 55,
   "id": "answering-daily",
   "metadata": {},
   "outputs": [],
   "source": [
    "# 22-4\n",
    "# 새 학생 정보 추가\n",
    "students_dict[\"Kim\"] = {\"age\": 22, \"department\": \"Software\"}"
   ]
  },
  {
   "cell_type": "code",
   "execution_count": 56,
   "id": "random-locator",
   "metadata": {},
   "outputs": [
    {
     "name": "stdout",
     "output_type": "stream",
     "text": [
      "{'Hong': {'age': 25, 'department': 'Software'}, 'Kang': {'age': 21, 'department': 'Digital Media'}, 'Kim': {'age': 22, 'department': 'Software'}, 'Lee': {'age': 22, 'department': 'Cyber Security'}}\n"
     ]
    }
   ],
   "source": [
    "# 22-5\n",
    "# 학생 이름 순으로 기록 정렬\n",
    "students_dict = dict(sorted(students_dict.items()))\n",
    "print(students_dict)"
   ]
  }
 ],
 "metadata": {
  "kernelspec": {
   "display_name": "Python 3 (ipykernel)",
   "language": "python",
   "name": "python3"
  },
  "language_info": {
   "codemirror_mode": {
    "name": "ipython",
    "version": 3
   },
   "file_extension": ".py",
   "mimetype": "text/x-python",
   "name": "python",
   "nbconvert_exporter": "python",
   "pygments_lexer": "ipython3",
   "version": "3.11.6"
  }
 },
 "nbformat": 4,
 "nbformat_minor": 5
}
