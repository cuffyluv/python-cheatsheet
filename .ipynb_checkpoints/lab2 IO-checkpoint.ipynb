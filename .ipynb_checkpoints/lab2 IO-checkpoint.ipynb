{
 "cells": [
  {
   "cell_type": "markdown",
   "id": "87b2caa0-8368-4208-9c44-6e8decc22521",
   "metadata": {},
   "source": [
    "### 실습물 제출 가이드라인\n",
    "- 아래에 주어진 코드들을 실행해서 python의 동작 원리를 이해하시오. 그리고, # M 으로 주어진 부분은 코드를 작성하고 실행하시오.\n",
    "- 주어진 코드들을 다 실행해 보고 결과를 확인하면 3점을 부여합니다.\n",
    "- \"# M\"으로 주어진 문제는 정확한 답을 작성하면 표기된 점수가 부여됩니다.\n"
   ]
  },
  {
   "cell_type": "markdown",
   "id": "honey-associate",
   "metadata": {},
   "source": [
    "## Console Input/output"
   ]
  },
  {
   "cell_type": "code",
   "execution_count": 29,
   "id": "random-childhood",
   "metadata": {},
   "outputs": [
    {
     "name": "stdin",
     "output_type": "stream",
     "text": [
      "Enter your name: sangwoo\n"
     ]
    },
    {
     "name": "stdout",
     "output_type": "stream",
     "text": [
      "sangwoo\n"
     ]
    }
   ],
   "source": [
    "# 1\n",
    "# 화면에 안내 메시지를 출력하고 사용자의 키보드 입력 받기\n",
    "name = input(\"Enter your name:\")\n",
    "print(name)"
   ]
  },
  {
   "cell_type": "code",
   "execution_count": 30,
   "id": "satisfactory-animation",
   "metadata": {},
   "outputs": [
    {
     "name": "stdin",
     "output_type": "stream",
     "text": [
      "Enter your age:  22\n"
     ]
    },
    {
     "name": "stdout",
     "output_type": "stream",
     "text": [
      "22 <class 'str'>\n"
     ]
    },
    {
     "ename": "TypeError",
     "evalue": "unsupported operand type(s) for +: 'int' and 'str'",
     "output_type": "error",
     "traceback": [
      "\u001b[0;31m---------------------------------------------------------------------------\u001b[0m",
      "\u001b[0;31mTypeError\u001b[0m                                 Traceback (most recent call last)",
      "Cell \u001b[0;32mIn[30], line 5\u001b[0m\n\u001b[1;32m      3\u001b[0m age \u001b[38;5;241m=\u001b[39m \u001b[38;5;28minput\u001b[39m(\u001b[38;5;124m\"\u001b[39m\u001b[38;5;124mEnter your age: \u001b[39m\u001b[38;5;124m\"\u001b[39m)\n\u001b[1;32m      4\u001b[0m \u001b[38;5;28mprint\u001b[39m(age, \u001b[38;5;28mtype\u001b[39m(age))\n\u001b[0;32m----> 5\u001b[0m \u001b[38;5;28mprint\u001b[39m(\u001b[38;5;241;43m20\u001b[39;49m\u001b[43m \u001b[49m\u001b[38;5;241;43m+\u001b[39;49m\u001b[43m \u001b[49m\u001b[43mage\u001b[49m)\n",
      "\u001b[0;31mTypeError\u001b[0m: unsupported operand type(s) for +: 'int' and 'str'"
     ]
    }
   ],
   "source": [
    "# 2\n",
    "# 사용자의 키보드 입력의 데이터타입은 string(문자열)\n",
    "age = input(\"Enter your age: \")\n",
    "print(age, type(age))\n",
    "print(20 + age)"
   ]
  },
  {
   "cell_type": "code",
   "execution_count": 31,
   "id": "double-membership",
   "metadata": {},
   "outputs": [
    {
     "name": "stdin",
     "output_type": "stream",
     "text": [
      "Enter your age:  22\n"
     ]
    },
    {
     "name": "stdout",
     "output_type": "stream",
     "text": [
      "22 <class 'int'>\n",
      "42\n"
     ]
    }
   ],
   "source": [
    "# 3\n",
    "# 사용자의 키보드 입력의 데이터타입은 string(문자열)이므로 int()로 정수 전환\n",
    "age = int(input(\"Enter your age: \"))\n",
    "print(age, type(age))\n",
    "print(20 + age)"
   ]
  },
  {
   "cell_type": "code",
   "execution_count": 32,
   "id": "cognitive-shower",
   "metadata": {},
   "outputs": [
    {
     "name": "stdin",
     "output_type": "stream",
     "text": [
      "Input your value: 34\n"
     ]
    },
    {
     "name": "stdout",
     "output_type": "stream",
     "text": [
      "34 ** 3434\n"
     ]
    }
   ],
   "source": [
    "# 4 \n",
    "# 사용자가  console을 통해 입력한 값은 string으로 처리\n",
    "# string type이므로 *로 글자를 반복해서 출력 \n",
    "i = input(\"Input your value:\")\n",
    "print(i, \"**\", i*2)"
   ]
  },
  {
   "cell_type": "code",
   "execution_count": 33,
   "id": "spare-overview",
   "metadata": {},
   "outputs": [
    {
     "name": "stdin",
     "output_type": "stream",
     "text": [
      "Input items: 12 34\n"
     ]
    },
    {
     "name": "stdout",
     "output_type": "stream",
     "text": [
      "['12', '34']\n"
     ]
    }
   ],
   "source": [
    "# 5 \n",
    "# 사용자로부터 여러 개의 입력을 받아서 이를 list로 변환하기\n",
    "input_list = input(\"Input items:\").split() \n",
    "print(input_list)"
   ]
  },
  {
   "cell_type": "code",
   "execution_count": 34,
   "id": "2c2d12aa-cf22-4502-980c-f0473711d6f7",
   "metadata": {},
   "outputs": [
    {
     "name": "stdin",
     "output_type": "stream",
     "text": [
      "Enter two strings:  hello hi\n"
     ]
    },
    {
     "name": "stdout",
     "output_type": "stream",
     "text": [
      "used characters: {'o', 'h', 'l', 'e', 'i'}\n"
     ]
    }
   ],
   "source": [
    "# M1 \n",
    "# 문자열을 두 개 입력받아서 두 문자열에 사용된 글자들을 출력하는 코드를 작성하시오 (0.2점)\n",
    "# 입력 안내문을 자유롭게 작성해도 됨.\n",
    "# 실행 예)\n",
    "# Enter two strings: hello hi\n",
    "# used characters: {'e', 'h', 'l', 'o', 'i'}\n",
    "\n",
    "list1, list2 = input('Enter two strings: ').split()\n",
    "used_characters = set(list1 + list2)\n",
    "print('used characters:', used_characters)"
   ]
  },
  {
   "cell_type": "code",
   "execution_count": 2,
   "id": "breeding-bearing",
   "metadata": {},
   "outputs": [
    {
     "name": "stdin",
     "output_type": "stream",
     "text": [
      "Input two numbers: ffdawf\n"
     ]
    },
    {
     "name": "stdout",
     "output_type": "stream",
     "text": [
      "Invalid input\n"
     ]
    }
   ],
   "source": [
    "# 6\n",
    "# 사용자로부터 여러 숫자를 입력받아서 이를 list로 변환하고 indexing을 사용해서 필요한 요소를 읽어 내기\n",
    "# 사용자가 숫자가 아닌 것을 입력한 경우에 오류 메시지를 출력하고 부드럽게 종료할 수 있게 한다\n",
    "input_list = input(\"Input two numbers:\").split() \n",
    "try:\n",
    "    num1 = int(input_list[0])\n",
    "    num2 = int(input_list[1])        \n",
    "    print(f\"{num1} + {num2} = {num1 + num2}\")\n",
    "except ValueError:\n",
    "    print(f\"Invalid input\")"
   ]
  },
  {
   "cell_type": "code",
   "execution_count": 36,
   "id": "31d9aeee-c7f3-4bf4-8dfc-04b63c8d125f",
   "metadata": {},
   "outputs": [
    {
     "name": "stdin",
     "output_type": "stream",
     "text": [
      "Input two numbers: 12 34\n"
     ]
    },
    {
     "name": "stdout",
     "output_type": "stream",
     "text": [
      "12 + 34 = 46\n"
     ]
    }
   ],
   "source": [
    "# 7\n",
    "try:\n",
    "    num1, num2 = map(int, input(\"Input two numbers:\").split())\n",
    "    print(f\"{num1} + {num2} = {num1 + num2}\")\n",
    "except ValueError:\n",
    "    print(\"Invalid input\")"
   ]
  },
  {
   "cell_type": "code",
   "execution_count": 37,
   "id": "assumed-liability",
   "metadata": {},
   "outputs": [
    {
     "name": "stdin",
     "output_type": "stream",
     "text": [
      "Input two numbers: 12 34\n"
     ]
    },
    {
     "name": "stdout",
     "output_type": "stream",
     "text": [
      "12 * 34 = 408\n"
     ]
    }
   ],
   "source": [
    "# M2 \n",
    "# 위의 코드들을 참고해서 숫자를 두 개 입력받아서 두 값의 곱을 출력하는 코드를 작성하시오. (0.2점)\n",
    "# map()을 사용하여 구현하시오.\n",
    "\n",
    "try:\n",
    "    num1, num2 = map(int, input('Input two numbers:').split())\n",
    "    print(f'{num1} * {num2} = {num1 * num2}')\n",
    "except ValueError:\n",
    "    print('Invalid input')\n",
    "    \n",
    "# 예외 처리 되도록 구현."
   ]
  },
  {
   "cell_type": "code",
   "execution_count": 38,
   "id": "automated-stereo",
   "metadata": {},
   "outputs": [
    {
     "name": "stdin",
     "output_type": "stream",
     "text": [
      "Enter the name of product and price: coffee 2000\n"
     ]
    },
    {
     "name": "stdout",
     "output_type": "stream",
     "text": [
      "The price of coffee is 2000. The tax is 200.\n"
     ]
    }
   ],
   "source": [
    "# M3\n",
    "# 품목명과 가격을 입력받아서, \n",
    "# \"The price of {품목명} is {가격}. The tax is {세금}.\" 이라고 출력하는 코드를 작성하시오 (0.5점)\n",
    "# 세금은 가격의 10%로 계산한다. map을 써도 되고 안써도 됨.\n",
    "# \n",
    "# 실행 예제)\n",
    "# Enter the name of product and price: coffee 2000\n",
    "# The price of coffee is 2000. The tax is 200.\n",
    "\n",
    "try:\n",
    "    item, price = input('Enter the name of product and price:').split()\n",
    "    price = int(price)\n",
    "    tax = price // 10\n",
    "    print(f'The price of {item} is {price}. The tax is {tax}.')\n",
    "except ValueError:\n",
    "    print('Invalid input')\n"
   ]
  },
  {
   "cell_type": "code",
   "execution_count": 39,
   "id": "announced-franchise",
   "metadata": {},
   "outputs": [
    {
     "name": "stdin",
     "output_type": "stream",
     "text": [
      "Enter two strings: hello hi\n"
     ]
    },
    {
     "name": "stdout",
     "output_type": "stream",
     "text": [
      "used characters: {'o', 'l', 'e', 'h', 'i'}\n",
      "common characters: {'h'}\n"
     ]
    }
   ],
   "source": [
    "# M4 \n",
    "# 문자열을 두 개 입력받아서 두 문자열에 사용된 글자, 공통으로 사용된 글자들을 출력하는 코드를 작성하시오 (0.2점)\n",
    "# map()을 사용해서 구현하시오. M1의 코드를 재활용해도 좋다.\n",
    "# 실행 예) \n",
    "# Enter two strings: hello hi\n",
    "# used characters: {'e', 'h', 'l', 'o', 'i'}\n",
    "# common characters: {'h'}\n",
    "\n",
    "try:\n",
    "    myset1, myset2 = map(set, input('Enter two strings:').split())\n",
    "    print(f'used characters: {myset1|myset2}')\n",
    "    print(f'common characters: {myset1&myset2}')\n",
    "except ValueError:\n",
    "    print('Invalid input')\n"
   ]
  },
  {
   "cell_type": "code",
   "execution_count": 40,
   "id": "regulation-colombia",
   "metadata": {},
   "outputs": [
    {
     "name": "stdout",
     "output_type": "stream",
     "text": [
      "lifeistooshort\n"
     ]
    }
   ],
   "source": [
    "# 8\n",
    "print (\"life\" \"is\" \"too\" \"short\")"
   ]
  },
  {
   "cell_type": "code",
   "execution_count": 41,
   "id": "agricultural-encyclopedia",
   "metadata": {},
   "outputs": [
    {
     "name": "stdout",
     "output_type": "stream",
     "text": [
      "life is too short\n"
     ]
    }
   ],
   "source": [
    "# 9\n",
    "print (\"life\", \"is\", \"too\", \"short\")"
   ]
  },
  {
   "cell_type": "code",
   "execution_count": 42,
   "id": "decent-quilt",
   "metadata": {},
   "outputs": [
    {
     "name": "stdout",
     "output_type": "stream",
     "text": [
      "lifeistooshort\n"
     ]
    }
   ],
   "source": [
    "# 10\n",
    "print (\"life\" + \"is\" + \"too\" + \"short\")"
   ]
  },
  {
   "cell_type": "code",
   "execution_count": 43,
   "id": "abstract-prototype",
   "metadata": {},
   "outputs": [
    {
     "name": "stdout",
     "output_type": "stream",
     "text": [
      "life\n",
      "is\n",
      "too\n",
      "short\n"
     ]
    }
   ],
   "source": [
    "# 11\n",
    "print (\"life\")\n",
    "print (\"is\")\n",
    "print(\"too\")\n",
    "print(\"short\")"
   ]
  },
  {
   "cell_type": "code",
   "execution_count": 44,
   "id": "meaning-publicity",
   "metadata": {},
   "outputs": [
    {
     "name": "stdout",
     "output_type": "stream",
     "text": [
      "life is too short\n"
     ]
    }
   ],
   "source": [
    "# 12\n",
    "# 서로 다른 print()이 한 줄에 이어서 출력될 수 있도록 \n",
    "print (\"life\", end=\" \")\n",
    "print (\"is\", end=\" \")\n",
    "print(\"too\", end=\" \")\n",
    "print(\"short\")"
   ]
  },
  {
   "cell_type": "code",
   "execution_count": 45,
   "id": "bacterial-chorus",
   "metadata": {},
   "outputs": [
    {
     "name": "stdout",
     "output_type": "stream",
     "text": [
      "Start with small successes\n",
      "Start with small successes\n",
      "Start with small successes\n",
      "Start with small successes\n"
     ]
    }
   ],
   "source": [
    "# M5 \n",
    "# \"Start\", \"with\", \"small\", \"successes\"를 조합하여 \n",
    "# \"Start with small successes\"를 출력하는 방법을 네 가지 제시하시오 (0.4점)\n",
    "\n",
    "# 첫 번째 방법\n",
    "print(\"Start\" \" \" \"with\" \" \" \"small\" \" \" \"successes\")\n",
    "\n",
    "# 두 번째 방법\n",
    "print(\"Start\", \"with\", \"small\", \"successes\")\n",
    "\n",
    "# 세 번째 방법\n",
    "print(\"Start\" + \" \" + \"with\" + \" \" + \"small\" + \" \" + \"successes\")\n",
    "\n",
    "# 네 번째 방법\n",
    "print(\"Start\", end = \" \")\n",
    "print(\"with\", end = \" \")\n",
    "print(\"small\", end = \" \")\n",
    "print(\"successes\")"
   ]
  },
  {
   "cell_type": "code",
   "execution_count": 46,
   "id": "attempted-crest",
   "metadata": {},
   "outputs": [
    {
     "name": "stdout",
     "output_type": "stream",
     "text": [
      "1 < 2 < 3\n"
     ]
    }
   ],
   "source": [
    "# 13\n",
    "# 한 줄에 여러 변수를 출력할 때 구분자를 지정할 수 있음\n",
    "a, b, c = 1, 2, 3\n",
    "print(a, b, c, sep=\" < \")"
   ]
  },
  {
   "cell_type": "code",
   "execution_count": 38,
   "id": "84853358-8ef4-47ea-aff7-356428fa68bd",
   "metadata": {},
   "outputs": [],
   "source": [
    "## File input/output"
   ]
  },
  {
   "cell_type": "code",
   "execution_count": 39,
   "id": "364d6a78-945c-4a74-82b9-bb8422497a9e",
   "metadata": {},
   "outputs": [
    {
     "name": "stdout",
     "output_type": "stream",
     "text": [
      "hello\n",
      "long time no see\n",
      "see you soon\n",
      "\n",
      "hello\n",
      "long time no see\n",
      "see you soon\n",
      "sincerely\n"
     ]
    }
   ],
   "source": [
    "# 14\n",
    "# test.txt file을 만들어서 글을 적고 닫기\n",
    "with open('test.txt', 'w') as f:\n",
    "    f.write(\"\"\"hello\n",
    "long time no see\n",
    "see you soon\n",
    "\"\"\")\n",
    "\n",
    "# test.txt file을 열어서 전체 내용을 읽고 맨 끝에 글 추가하고, 처음부터 다시 읽어서 출력하기\n",
    "with open('test.txt', 'r+') as f:\n",
    "    data = f.read()\n",
    "    print(data)  # 기존 내용을 출력\n",
    "    \n",
    "    f.write('sincerely')  # file 끝에 'sincerely' 추가\n",
    "    \n",
    "    f.seek(0)  # file 처음으로 이동\n",
    "    print(f.read())"
   ]
  },
  {
   "cell_type": "code",
   "execution_count": 40,
   "id": "765e1d6f-a3d7-43b0-bf75-9f188016590e",
   "metadata": {},
   "outputs": [],
   "source": [
    "# 15\n",
    "# test.txt file의 내용을 덮어 쓰기\n",
    "with open('test.txt', 'w') as f:\n",
    "    f.write(\"\"\"hello\n",
    "long time no see\n",
    "see you soon\n",
    "\"\"\")\n"
   ]
  },
  {
   "cell_type": "code",
   "execution_count": 41,
   "id": "3aa13348-2068-455b-b4eb-ddbe82a61dae",
   "metadata": {},
   "outputs": [
    {
     "name": "stdout",
     "output_type": "stream",
     "text": [
      "hello\n",
      "long time no see\n",
      "see you soon\n",
      "\n"
     ]
    }
   ],
   "source": [
    "# 16\n",
    "# file 내용 읽어들이는 방법 1\n",
    "with open('test.txt', 'r') as f:\n",
    "    data = f.read()\n",
    "print(data)"
   ]
  },
  {
   "cell_type": "code",
   "execution_count": 42,
   "id": "50aa2505-a8d2-4148-988b-cb7c6ca26f56",
   "metadata": {},
   "outputs": [
    {
     "name": "stdout",
     "output_type": "stream",
     "text": [
      "hello\n",
      "long time no see\n",
      "see you soon\n"
     ]
    }
   ],
   "source": [
    "# 17\n",
    "# file 내용 읽어들이는 방법 2\n",
    "with open('test.txt', 'r') as f:\n",
    "    while True:\n",
    "        line = f.readline()\n",
    "        if not line:\n",
    "            break\n",
    "        print(line, end=\"\")"
   ]
  },
  {
   "cell_type": "code",
   "execution_count": 43,
   "id": "2d87a0d3-397c-4c2d-b405-9fda5983b354",
   "metadata": {},
   "outputs": [
    {
     "name": "stdout",
     "output_type": "stream",
     "text": [
      "['hello\\n', 'long time no see\\n', 'see you soon\\n']\n"
     ]
    }
   ],
   "source": [
    "# 18\n",
    "# file 내용 읽어들이는 방법 3\n",
    "with open('test.txt', 'r') as f:\n",
    "    data = f.readlines()\n",
    "print(data)\n"
   ]
  },
  {
   "cell_type": "code",
   "execution_count": 44,
   "id": "6f800cb1-9ac2-437f-acb4-c132af783b58",
   "metadata": {},
   "outputs": [],
   "source": [
    "# M6  \n",
    "# 여러분의 원하는 이름으로 txt file을 하나 만들어서 아래의 세 줄 문장을 저장하고, \n",
    "# 이 file을 새로 열어서 저장된 문장들을 모두 읽어들여 화면에 출력하는 코드를 작성하시오. \n",
    "\n",
    "#If you really look closely, \n",
    "#most overnight successes \n",
    "#took a long time.\n",
    "# 위의 셀들에 있는 코드들을 참고하여 작성하시오. (0.3점)\n",
    "\n",
    "\n"
   ]
  },
  {
   "cell_type": "code",
   "execution_count": 45,
   "id": "f97de686-926d-4e0b-91c2-8f782749a3f6",
   "metadata": {},
   "outputs": [
    {
     "name": "stdout",
     "output_type": "stream",
     "text": [
      "good\n"
     ]
    }
   ],
   "source": [
    "# 19\n",
    "# text.txt에 글 적기\n",
    "with open('test.txt', 'w') as f:\n",
    "    f.write(\"\"\"hello\n",
    "long time no see\n",
    "see you soon\n",
    "\"\"\")\n",
    "\n",
    "# 텍스트 파일 덮어쓰기\n",
    "with open('test.txt', 'w+') as f:\n",
    "    f.write(\"good\")\n",
    "\n",
    "    # 파일 내용 변경 확인\n",
    "    f.seek(0)  # 파일의 처음으로 자리 이동\n",
    "    data = f.read()\n",
    "\n",
    "print(data)"
   ]
  },
  {
   "cell_type": "code",
   "execution_count": 46,
   "id": "46c725ff-da20-4a4d-841c-d925826ad53a",
   "metadata": {},
   "outputs": [
    {
     "name": "stdout",
     "output_type": "stream",
     "text": [
      "Good afternoon\n",
      "Good afternoon!!!\n"
     ]
    }
   ],
   "source": [
    "# 20\n",
    "# test.txt에 글 적기, test.txt 내용 준비하기\n",
    "with open('test.txt', 'w') as f:\n",
    "    f.write(\"Good\")\n",
    "\n",
    "\n",
    "######\n",
    "# test.txt의 끝에 글 추가하기\n",
    "with open('test.txt', 'a') as f:\n",
    "    f.write(\" afternoon\")\n",
    "\n",
    "# 'a'모드에서는 읽기가 불가하므로 따로 읽기 모드로 file 열어서 읽고 출력하기\n",
    "with open('test.txt', 'r') as f:\n",
    "    data = f.read()\n",
    "print(data)\n",
    "\n",
    "# 'a+'모드에서는 쓰기와 읽기가 모두 가능\n",
    "with open('test.txt', 'a+') as f:\n",
    "    f.write(\"!!!\")\n",
    "    f.seek(0) \n",
    "    print(f.read())"
   ]
  },
  {
   "cell_type": "code",
   "execution_count": 47,
   "id": "56217f31-7621-4e86-afd7-631604e3d217",
   "metadata": {},
   "outputs": [
    {
     "name": "stdout",
     "output_type": "stream",
     "text": [
      "There is no 'none'\n"
     ]
    }
   ],
   "source": [
    "# 21\n",
    "with open('test.txt', 'w') as f:\n",
    "    f.write(\"\"\"hello\n",
    "long time no see\n",
    "see you soon\n",
    "\"\"\")\n",
    "\n",
    "with open('test.txt', 'r+') as f:\n",
    "    data = f.read()\n",
    "    point = data.find(\"none\")\n",
    "    \n",
    "    if point >= 0:\n",
    "        f.seek(point)\n",
    "        f.write(\"long\")\n",
    "        f.seek(0)\n",
    "        print(f.read())\n",
    "    else:\n",
    "        print(\"There is no 'none'\")"
   ]
  },
  {
   "cell_type": "code",
   "execution_count": 48,
   "id": "0110f1df-1a93-432f-abe7-4581be70f6ff",
   "metadata": {},
   "outputs": [
    {
     "name": "stdout",
     "output_type": "stream",
     "text": [
      "first line\n",
      "second line\n",
      "third line\n",
      "\n"
     ]
    }
   ],
   "source": [
    "# 22\n",
    "lines = [\"first line\\n\", \"second line\\n\", \"third line\\n\"]\n",
    "\n",
    "# 'w+' 모드로 파일을 열고 내용을 작성한 후 읽기\n",
    "with open('test.txt', 'w+') as file:\n",
    "    file.writelines(lines)  # 리스트의 각 항목을 파일에 씀\n",
    "    file.seek(0)  # 파일 포인터를 맨 앞으로 이동\n",
    "    data = file.read()  # 파일 내용을 읽어 data에 저장\n",
    "print(data)  # 읽은 내용 출력"
   ]
  },
  {
   "cell_type": "code",
   "execution_count": 49,
   "id": "16a30a7e-c3e8-4205-a2e5-c5cccf37ac78",
   "metadata": {},
   "outputs": [
    {
     "name": "stdout",
     "output_type": "stream",
     "text": [
      "Hello, World!\n",
      "Bye.\n",
      "\n"
     ]
    }
   ],
   "source": [
    "# 23\n",
    "with open('test.txt', 'w+') as file:\n",
    "    print(\"Hello, World!\", file=file)\n",
    "    print(\"Bye.\", file=file)\n",
    "    file.seek(0)  # 화일 내용을 확인하기 위해 파일 포인터를 맨 앞으로 이동\n",
    "    data=file.read()\n",
    "print(data)"
   ]
  },
  {
   "cell_type": "code",
   "execution_count": 50,
   "id": "9844338a-40c5-43e6-983d-45c0cd7f5acb",
   "metadata": {},
   "outputs": [],
   "source": [
    "# M7  \n",
    "# M6에서 만든 txt file의 뒤에 \n",
    "# \"Patience is stronger than any skill\"를 추가하고,\n",
    "# file을 다시 열어서 전체를 읽어 들여 제대로 추가되었는지 확인하는 코드를 작성하시오.(0.3점) \n"
   ]
  },
  {
   "cell_type": "code",
   "execution_count": 51,
   "id": "8330bf50-8183-4afa-9967-dbd930e0c847",
   "metadata": {},
   "outputs": [
    {
     "name": "stdout",
     "output_type": "stream",
     "text": [
      "Hello\n",
      ". Lon\n",
      "30\n",
      "ou soon. H\n"
     ]
    }
   ],
   "source": [
    "# 24\n",
    "with open(\"example.txt\", 'w') as f:\n",
    "    f.write(\"\"\"Hello. Long time no see. See you soon. Have a nice day!\"\"\")\n",
    "\n",
    "with open(\"example.txt\", \"r\") as file:\n",
    "    print(file.read(5))  # 첫 5글자를 읽음, file pointer가 6번째 글자로 이동\n",
    "    print(file.read(5))  # 다음 5글자를 읽음, file pointer가 10번째 글자로 이동\n",
    "    \n",
    "    file.seek(30) # file pointer를 31번째 byte로 이동(seek)\n",
    "    print(file.tell()) # file pointer가 30, 즉, 31번째 byte에 있음\n",
    "    print(file.read(10))  # 31번째 byte부터 10글자 읽기\n"
   ]
  },
  {
   "cell_type": "code",
   "execution_count": 52,
   "id": "bd0bef5e-d684-40fb-a407-20ab445b0897",
   "metadata": {},
   "outputs": [
    {
     "name": "stdout",
     "output_type": "stream",
     "text": [
      "안녕하세요\n",
      ", 좋은 \n",
      "아침입니다\n",
      "39\n",
      "하세요\n"
     ]
    }
   ],
   "source": [
    "# 25\n",
    "with open(\"example.txt\", \"w\", encoding=\"utf-8\") as f:\n",
    "    f.write(\"안녕하세요, 좋은 아침입니다\")\n",
    "\n",
    "with open(\"example.txt\", \"r\", encoding=\"utf-8\") as file:\n",
    "    print(file.read(5))  # 첫 5글자를 읽음, 포인터가 6번째 글자로 이동\n",
    "    print(file.read(5))  # 다음 5글자를 읽음, 포인터가 11번째 글자로 이동\n",
    "    print(file.read(5))  # 다음 5글자를 읽음, 포인터가 16번째 글자로 이동\n",
    "    print(file.tell())\n",
    "    file.seek(6)         # file의 7번째 byte로 이동, seek는 byte 수\n",
    "    print(file.read(3))  # read는 글자 수"
   ]
  }
 ],
 "metadata": {
  "kernelspec": {
   "display_name": "Python 3 (ipykernel)",
   "language": "python",
   "name": "python3"
  },
  "language_info": {
   "codemirror_mode": {
    "name": "ipython",
    "version": 3
   },
   "file_extension": ".py",
   "mimetype": "text/x-python",
   "name": "python",
   "nbconvert_exporter": "python",
   "pygments_lexer": "ipython3",
   "version": "3.11.6"
  }
 },
 "nbformat": 4,
 "nbformat_minor": 5
}
