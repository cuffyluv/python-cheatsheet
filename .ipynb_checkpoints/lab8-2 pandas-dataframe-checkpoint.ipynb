{
 "cells": [
  {
   "cell_type": "markdown",
   "id": "b0b0af4d-ade9-4396-aa6c-c1fad2609c16",
   "metadata": {},
   "source": [
    "### 실습물 제출 가이드라인\n",
    "- 아래에 주어진 코드들을 실행해서 python의 동작 원리를 이해하시오. 그리고, # M 으로 주어진 부분은 코드를 작성하고 실행하시오.\n",
    "- 주어진 코드들을 다 실행해 보고 결과를 확인하면 3점을 부여합니다.\n",
    "- \"# M\"으로 주어진 문제는 정확한 답을 작성하면 표기된 점수가 부여됩니다."
   ]
  },
  {
   "cell_type": "markdown",
   "id": "satisfied-arbitration",
   "metadata": {},
   "source": [
    "## Pandas data frame"
   ]
  },
  {
   "cell_type": "code",
   "execution_count": null,
   "id": "bearing-addiction",
   "metadata": {},
   "outputs": [],
   "source": [
    "import pandas as pd\n",
    "import numpy as np"
   ]
  },
  {
   "cell_type": "code",
   "execution_count": null,
   "id": "enabling-migration",
   "metadata": {},
   "outputs": [],
   "source": [
    "# pandas DataFrame을 사용하지 않고 처리하기\n",
    "# 사용자로부터 주어진 data\n",
    "quiz1 = [('kim', 2), ('kang', 2), ('lee', 3), ('cho', 4), ('han', 5)]\n",
    "quiz2 = [('kim', 2), ('kang', 3), ('lee', 2), ('cho', 5), ('han', 2)]\n",
    "quiz3 = [('kim', 3), ('kang', 4), ('lee', 3), ('cho', 4), ('han', 3)]\n",
    "quiz4 = [('kim', 4), ('kang', 3), ('lee', 4), ('cho', 4), ('han', 2)]\n",
    "weights = [0.2, 0.3, 0.4, 0.1]\n",
    "\n",
    "# 사용자의 data 처리하기\n",
    "quiz_list = [quiz1, quiz2, quiz3, quiz4]\n",
    "n_of_students = len(quiz1)\n",
    "n_of_quizes = len(quiz_list)\n",
    "names = [key for key, value in quiz1]\n",
    "\n",
    "# weight를 부여서 각 학생의 점수 총합 정리한 list 만들기\n",
    "sum_list = []; avg_list = []\n",
    "for i in range(n_of_students):\n",
    "    total = 0\n",
    "    for j in range(n_of_quizes):\n",
    "        total += quiz_list[j][i][1]*weights[j]\n",
    "    sum_list.append((names[i], total))\n",
    "print(sum_list)\n",
    "\n",
    "# list comprehension version\n",
    "# sum_list = [(quiz1[i][0], sum(quiz[i][1]*weights[idx] for idx, quiz in enumerate(quiz_list))) for i in range(n_of_students)]\n",
    "# print(sum_list)\n",
    "\n",
    "# 각 quiz들에 대해 점수 두 배로 올리기\n",
    "for i in range(n_of_quizes):\n",
    "    quiz_list[i] = [(name, score*2) for name, score in quiz_list[i]]\n",
    "    print(quiz_list[i])"
   ]
  },
  {
   "cell_type": "code",
   "execution_count": null,
   "id": "broadband-warrior",
   "metadata": {},
   "outputs": [],
   "source": [
    "# pandas를 사용해서 처리하기\n",
    "\n",
    "# 사용자로부터 주어진 data\n",
    "quiz1 = [('kim', 2), ('kang', 2), ('lee', 3), ('cho', 4), ('han', 5)]\n",
    "quiz2 = [('kim', 2), ('kang', 3), ('lee', 2), ('cho', 5), ('han', 2)]\n",
    "quiz3 = [('kim', 3), ('kang', 4), ('lee', 3), ('cho', 4), ('han', 3)]\n",
    "quiz4 = [('kim', 4), ('kang', 3), ('lee', 4), ('cho', 4), ('han', 2)]\n",
    "weights = [0.2, 0.3, 0.4, 0.1]\n",
    "\n",
    "# 사용자의 data 처리하기\n",
    "user_scores = {'quiz1':[item[1] for item in quiz1], \n",
    "               'quiz2':[item[1] for item in quiz2],  \n",
    "               'quiz3':[item[1] for item in quiz3], \n",
    "               'quiz4':[item[1] for item in quiz3]}\n",
    "names = [item[0] for item in quiz1]\n",
    "\n",
    "# data frame 만들기\n",
    "df = pd.DataFrame(user_scores, index=names)\n",
    "\n",
    "print(df)\n",
    "# weight를 부여서 각 학생의 점수 총합 정리한 column추가\n",
    "df['total'] = df.dot(weights)\n",
    "\n",
    "# 각 quiz의 점수 2배로 올리기\n",
    "df = df*2\n",
    "print(df)\n",
    "print(df['quiz3'][1])"
   ]
  },
  {
   "cell_type": "markdown",
   "id": "macro-framing",
   "metadata": {},
   "source": [
    "#### DataFrame 만들기"
   ]
  },
  {
   "cell_type": "code",
   "execution_count": null,
   "id": "proprietary-profit",
   "metadata": {},
   "outputs": [],
   "source": [
    "# 노트북 실행 중 한 번 실행하면 충분\n",
    "import pandas as pd\n",
    "import numpy as np"
   ]
  },
  {
   "cell_type": "code",
   "execution_count": null,
   "id": "hazardous-bailey",
   "metadata": {},
   "outputs": [],
   "source": [
    "# 1\n",
    "df = pd.DataFrame([[1, 2, 3], [4, 5, 6], [7, 8, 9]])\n",
    "print(df)"
   ]
  },
  {
   "cell_type": "code",
   "execution_count": null,
   "id": "transsexual-strengthening",
   "metadata": {},
   "outputs": [],
   "source": [
    "# 2\n",
    "df = pd.DataFrame(data=np.array([[1, 2, 3], [4, 5, 6], [7, 8, 9]]), \n",
    "                  index=[2.5, 12.6, 4.8], columns=[48, 49, 50])\n",
    "print(df)"
   ]
  },
  {
   "cell_type": "code",
   "execution_count": null,
   "id": "standing-theorem",
   "metadata": {},
   "outputs": [],
   "source": [
    "# 3\n",
    "# row 중심 DataFrame 생성\n",
    "data_list = [['Alice', 25, 'Female'],  ['Bob', 30, 'Male'], ['Charlie', 22, 'Male']]\n",
    "columns = ['Name', 'Age', 'Gender']\n",
    "df1 = pd.DataFrame(data_list, columns=columns)\n",
    "print(df1)"
   ]
  },
  {
   "cell_type": "code",
   "execution_count": null,
   "id": "impressed-reward",
   "metadata": {},
   "outputs": [],
   "source": [
    "# 4\n",
    "# column 중심  DataFrame 생성\n",
    "data_dict = {'Name': ['Alice', 'Bob', 'Charlie'], 'Age': [25, 30, 22],\n",
    "    'Gender': ['Female', 'Male', 'Male']} \n",
    "\n",
    "df2 = pd.DataFrame(data_dict)\n",
    "print(df2)"
   ]
  },
  {
   "cell_type": "markdown",
   "id": "genuine-exclusion",
   "metadata": {},
   "source": [
    "#### indexing, slicing"
   ]
  },
  {
   "cell_type": "code",
   "execution_count": null,
   "id": "accepted-harmony",
   "metadata": {},
   "outputs": [],
   "source": [
    "# 6\n",
    "# DataFrame에 []를 사용해서 indexing, slicing 적용하기: 값 읽어내기, 바꾸기\n",
    "#\n",
    "# df[column label][index]\n",
    "# df[column label]\n",
    "# df[[column label1, column label2]]\n",
    "# df[row index1:row index2:step]\n",
    "\n",
    "base_info={'midterm':[80, 70, 65, 75], 'homework':[25, 20, 27, 23],\n",
    "          'final':[75, 80, 70, 80], 'report':[35, 30, 32, 27]}\n",
    "index_list=['202311111', '202322222', '202333333', '202344444']\n",
    "df_course=pd.DataFrame(base_info, index=index_list)"
   ]
  },
  {
   "cell_type": "code",
   "execution_count": null,
   "id": "5073a4ab-1002-4973-9843-966e47c3b029",
   "metadata": {},
   "outputs": [],
   "source": [
    "# 6-1 특정 열 읽어내기\n",
    "print(df_course['midterm'])  # Series"
   ]
  },
  {
   "cell_type": "code",
   "execution_count": null,
   "id": "bf44b39c-0e2f-4435-99af-f2fc683d21a4",
   "metadata": {},
   "outputs": [],
   "source": [
    "# 6-2\n",
    "print(df_course['midterm']['202333333']) # integer"
   ]
  },
  {
   "cell_type": "code",
   "execution_count": null,
   "id": "ca336027-82fb-4614-9961-6cb8a8ca41b1",
   "metadata": {},
   "outputs": [],
   "source": [
    "# 6-3\n",
    "print(df_course['midterm'][2]) # integer"
   ]
  },
  {
   "cell_type": "code",
   "execution_count": null,
   "id": "32a03c6b-51c8-441c-836c-942cbfc879dd",
   "metadata": {},
   "outputs": [],
   "source": [
    "# 6-4\n",
    "print(df_course[['midterm','report']])  # DataFrame"
   ]
  },
  {
   "cell_type": "code",
   "execution_count": null,
   "id": "cdb30708-f889-4559-9aaa-abfc71a96e74",
   "metadata": {},
   "outputs": [],
   "source": [
    "# 6-5\n",
    "print(df_course[1:3])  # DataFrame"
   ]
  },
  {
   "cell_type": "code",
   "execution_count": null,
   "id": "43f50536-fdec-4ef2-8b2a-8c51a5358393",
   "metadata": {},
   "outputs": [],
   "source": [
    "# 6-6\n",
    "print(df_course[1:3:2])  # DataFrame"
   ]
  },
  {
   "cell_type": "code",
   "execution_count": null,
   "id": "accepted-helen",
   "metadata": {},
   "outputs": [],
   "source": [
    "# 6-7\n",
    "# 값 바꾸기\n",
    "df_course['midterm'] = 90\n",
    "print(df_course)"
   ]
  },
  {
   "cell_type": "code",
   "execution_count": null,
   "id": "d0e3d51f-66e2-4a67-8d4f-f0f77bff98b1",
   "metadata": {},
   "outputs": [],
   "source": [
    "# 6-8\n",
    "# 구간을 동일한 값으로 변경하기\n",
    "df_course['202311111':'202333333'] = 90 \n",
    "print(df_course)"
   ]
  },
  {
   "cell_type": "code",
   "execution_count": null,
   "id": "73cdcbbb-26b9-4ebc-a65d-ee7b8e5afab9",
   "metadata": {},
   "outputs": [],
   "source": [
    "# 6-9\n",
    "# DataFrame 생성 단계에 없었던 column 생성 가능 (맨 끝에 추가)\n",
    "df_course['univeristy'] = 'Ajou'\n",
    "print(df_course)"
   ]
  },
  {
   "cell_type": "code",
   "execution_count": null,
   "id": "4fd89c6d-e432-48cd-b989-49003cef6707",
   "metadata": {},
   "outputs": [],
   "source": [
    "# 6-10\n",
    "# column을 결합하여 새로운 column 생성 가능\n",
    "df_course['test'] = df_course['midterm'] *0.5 + df_course['final']*0.5\n",
    "print(df_course)"
   ]
  },
  {
   "cell_type": "code",
   "execution_count": null,
   "id": "square-arena",
   "metadata": {},
   "outputs": [],
   "source": [
    "# 7\n",
    "# loc을 사용하여 indexing과 slicing : 값 읽기, 바꾸기\n",
    "#\n",
    "# df.loc[index label, column label]\n",
    "# df.loc[index label]\n",
    "# df.loc[index label][column label]\n",
    "# df.loc[index label1:index label2:step, column label1:column label2:step]\n",
    "# df.loc[index label list][column label list]\n",
    "\n",
    "base_info={'midterm':[80, 70, 65, 75], 'homework':[25, 20, 27, 23],\n",
    "          'final':[75, 80, 70, 80], 'report':[35, 30, 32, 27]}\n",
    "index_list=['202311111', '202322222', '202333333', '202344444']\n",
    "df_course=pd.DataFrame(base_info, index=index_list)"
   ]
  },
  {
   "cell_type": "code",
   "execution_count": null,
   "id": "93da8144-a790-4918-86de-5f6ba5477626",
   "metadata": {},
   "outputs": [],
   "source": [
    "# 7-1\n",
    "# loc을 사용하여 indexing과 slicing : 값 읽기, 바꾸기\n",
    "print(df_course.loc['202344444', 'midterm'])"
   ]
  },
  {
   "cell_type": "code",
   "execution_count": null,
   "id": "1ba8f42b-3004-4563-b651-39bf1e2f91b6",
   "metadata": {},
   "outputs": [],
   "source": [
    "# 7-2\n",
    "# loc을 사용하여 indexing과 slicing : 값 읽기, 바꾸기\n",
    "print(df_course.loc['202344444']) # Series"
   ]
  },
  {
   "cell_type": "code",
   "execution_count": null,
   "id": "55cfb15c-ee3d-4d84-93b6-c7f085701901",
   "metadata": {},
   "outputs": [],
   "source": [
    "# 7-3\n",
    "# loc을 사용하여 indexing과 slicing : 값 읽기, 바꾸기\n",
    "print(df_course.loc['202311111':'202344444':2]) "
   ]
  },
  {
   "cell_type": "code",
   "execution_count": null,
   "id": "16f75ed5-2c4b-4d8b-a764-ba1d8a41479b",
   "metadata": {},
   "outputs": [],
   "source": [
    "# 7-4\n",
    "# loc을 사용하여 indexing과 slicing : 값 읽기, 바꾸기\n",
    "print(df_course.loc[['202311111','202344444']]) "
   ]
  },
  {
   "cell_type": "code",
   "execution_count": null,
   "id": "bc0c8b78-91ad-4933-b616-38e741850234",
   "metadata": {},
   "outputs": [],
   "source": [
    "# 7-5\n",
    "# loc을 사용하여 indexing과 slicing : 값 읽기, 바꾸기\n",
    "print(df_course.loc[:, 'midterm']) # Series"
   ]
  },
  {
   "cell_type": "code",
   "execution_count": null,
   "id": "0d4c923b-4c0d-4f53-a47c-dde1799db3f0",
   "metadata": {},
   "outputs": [],
   "source": [
    "# 7-6\n",
    "# loc을 사용하여 indexing과 slicing : 값 읽기, 바꾸기\n",
    "print(df_course.loc['202311111':'202333333', 'midterm':'final'])  # DataFrame"
   ]
  },
  {
   "cell_type": "code",
   "execution_count": null,
   "id": "be746bdb-82bc-48a0-9645-5830e6a76faa",
   "metadata": {},
   "outputs": [],
   "source": [
    "# 7-7\n",
    "# loc을 사용하여 indexing과 slicing : 값 읽기, 바꾸기\n",
    "print(df_course.loc['202311111':'202333333':2, ['midterm','final']])"
   ]
  },
  {
   "cell_type": "code",
   "execution_count": null,
   "id": "1eb19940-c821-4162-99ef-d8382b196355",
   "metadata": {},
   "outputs": [],
   "source": [
    "# 7-8\n",
    "# loc을 사용하여 indexing과 slicing : 값 읽기, 바꾸기\n",
    "print(df_course.loc['202311111':'202311111', ['midterm']]) # dataframe"
   ]
  },
  {
   "cell_type": "code",
   "execution_count": null,
   "id": "dd43491d-dbbd-4436-bc2d-8dbc335f99c5",
   "metadata": {},
   "outputs": [],
   "source": [
    "# 7-9\n",
    "# loc을 사용하여 indexing과 slicing : 값 읽기, 바꾸기\n",
    "print(df_course.loc['202311111':'202311111', 'midterm']) # series"
   ]
  },
  {
   "cell_type": "code",
   "execution_count": null,
   "id": "5b91b021-3ce8-4e78-b0ea-32b5344e3cd2",
   "metadata": {},
   "outputs": [],
   "source": [
    "# 7-10\n",
    "# loc을 사용하여 indexing과 slicing : 값 읽기, 바꾸기\n",
    "print(df_course.loc['202311111', 'midterm']) # integer"
   ]
  },
  {
   "cell_type": "code",
   "execution_count": null,
   "id": "e6003159-a62c-4d65-ab49-faef0b1198ab",
   "metadata": {},
   "outputs": [],
   "source": [
    "# 7-11\n",
    "# loc을 사용하여 indexing과 slicing : 값 읽기, 바꾸기\n",
    "# 일부 행, 일부 열 읽기 (행 목록, 열 목록)\n",
    "print(df_course.loc[['202311111','202333333'], ['midterm','final']])"
   ]
  },
  {
   "cell_type": "code",
   "execution_count": null,
   "id": "d5c10d13-308d-400b-983c-ae948a8ef004",
   "metadata": {},
   "outputs": [],
   "source": [
    "# 7-12\n",
    "# loc을 사용하여 indexing과 slicing : 값 읽기, 바꾸기\n",
    "# 특정 행의 값을 한꺼번에 바꾸기\n",
    "df_course.loc['202333333'] = 90"
   ]
  },
  {
   "cell_type": "code",
   "execution_count": null,
   "id": "6ab07ab9-7d81-4b04-a374-f8ab554723ca",
   "metadata": {},
   "outputs": [],
   "source": [
    "# 7-13\n",
    "# loc을 사용하여 indexing과 slicing : 값 읽기, 바꾸기\n",
    "# 특정 행, 렬의 값을 바꾸기\n",
    "df_course.loc['202311111', 'report'] = 90"
   ]
  },
  {
   "cell_type": "code",
   "execution_count": null,
   "id": "ebc25655-f461-4e03-b7a9-ce7cbade2504",
   "metadata": {},
   "outputs": [],
   "source": [
    "# 7-14\n",
    "# loc을 사용하여 indexing과 slicing : 값 읽기, 바꾸기\n",
    "# 새로운 행 추가하기, 하나의 값으로 설정하거나, 열의 개수와 동일한 개수의 값 준비\n",
    "df_course.loc['202355555'] = (80, 30, 75, 90)"
   ]
  },
  {
   "cell_type": "code",
   "execution_count": null,
   "id": "11679d82-5969-4452-bc55-8b9a0a4ece9f",
   "metadata": {},
   "outputs": [],
   "source": [
    "# 7-15\n",
    "# loc을 사용하여 indexing과 slicing : 값 읽기, 바꾸기\n",
    "# 새로운 열을 만들고 동일한 값으로 설정하기\n",
    "df_course.loc[:,'university'] = 'Ajou'"
   ]
  },
  {
   "cell_type": "code",
   "execution_count": null,
   "id": "7979e4bd-acb2-47ca-8860-bff591b57264",
   "metadata": {},
   "outputs": [],
   "source": [
    "# 7-16\n",
    "# loc을 사용하여 indexing과 slicing : 값 읽기, 바꾸기\n",
    "# 기존 열의 값들을 사용해서 새로운 열의 값으로 설정하기\n",
    "df_course.loc[:,'exam'] = df_course.loc[:,'midterm'] *0.5 +\\\n",
    " df_course.loc[:,'final']*0.5"
   ]
  },
  {
   "cell_type": "code",
   "execution_count": null,
   "id": "affecting-target",
   "metadata": {},
   "outputs": [],
   "source": [
    "# 8\n",
    "# iloc을 사용하여 indexing과 slicing : 값 읽기, 바꾸기\n",
    "#\n",
    "# df.iloc[index, column]\n",
    "# df.iloc[index]\n",
    "# df.iloc[index][column]\n",
    "# df.iloc[index1:index2:step, column1:column2:step]\n",
    "# df.iloc[index list][column list]\n",
    "\n",
    "base_info={'midterm':[80, 70, 65, 75], 'homework':[25, 20, 27, 23],\n",
    "          'final':[75, 80, 70, 80], 'report':[35, 30, 32, 27]}\n",
    "index_list=['202311111', '202322222', '202333333', '202344444']\n",
    "df_course=pd.DataFrame(base_info, index=index_list)"
   ]
  },
  {
   "cell_type": "code",
   "execution_count": null,
   "id": "9518e727-d4c4-41b3-9639-69765a9f846d",
   "metadata": {},
   "outputs": [],
   "source": [
    "# 8-1\n",
    "# iloc을 사용하여 indexing과 slicing : 값 읽기, 바꾸기\n",
    "# 특정 행,열의 값 읽기\n",
    "print(df_course.iloc[2, 1])"
   ]
  },
  {
   "cell_type": "code",
   "execution_count": null,
   "id": "869a46c4-b734-4f07-9be7-d025f34a064c",
   "metadata": {},
   "outputs": [],
   "source": [
    "# 8-2\n",
    "# iloc을 사용하여 indexing과 slicing : 값 읽기, 바꾸기\n",
    "# 행 읽기\n",
    "print(df_course.iloc[2]) # series"
   ]
  },
  {
   "cell_type": "code",
   "execution_count": null,
   "id": "31a2c4d0-b29c-49a6-a18e-cbc795fe8e74",
   "metadata": {},
   "outputs": [],
   "source": [
    "# 8-3\n",
    "# iloc을 사용하여 indexing과 slicing : 값 읽기, 바꾸기\n",
    "# column 읽기\n",
    "print(df_course.iloc[:, 0]) # series"
   ]
  },
  {
   "cell_type": "code",
   "execution_count": null,
   "id": "a9369172-895d-420d-9e30-4f61189205fb",
   "metadata": {},
   "outputs": [],
   "source": [
    "# 8-4\n",
    "# iloc을 사용하여 indexing과 slicing : 값 읽기, 바꾸기\n",
    "# 일부 행, 일부 열 읽기 (행 구간, 열 구간), 구간의 ending index 미포함\n",
    "print(df_course.iloc[0:2, 0:2])"
   ]
  },
  {
   "cell_type": "code",
   "execution_count": null,
   "id": "0b9ac00d-2ed2-44fd-8307-2dc6f4cb546b",
   "metadata": {},
   "outputs": [],
   "source": [
    "# 8-5\n",
    "# iloc을 사용하여 indexing과 slicing : 값 읽기, 바꾸기\n",
    "# 일부 행, 일부 열 읽기 (행 구간, 열 목록), 구간의 ending index 미포함\n",
    "print(df_course.iloc[0:2:2, [0, 1]])"
   ]
  },
  {
   "cell_type": "code",
   "execution_count": null,
   "id": "86683e2e-f31e-40da-8069-8f6d6945407f",
   "metadata": {},
   "outputs": [],
   "source": [
    "# 8-6\n",
    "# iloc을 사용하여 indexing과 slicing : 값 읽기, 바꾸기\n",
    "# 일부 행, 일부 열 읽기 (행 목록, 열 목록)\n",
    "print(df_course.iloc[[0,2], [0, 2]])"
   ]
  },
  {
   "cell_type": "code",
   "execution_count": null,
   "id": "50decc53-a306-4079-bdc0-da9d7a6ecc6e",
   "metadata": {},
   "outputs": [],
   "source": [
    "# 8-7\n",
    "# iloc을 사용하여 indexing과 slicing : 값 읽기, 바꾸기\n",
    "# 특정 열의 값을 한꺼번에 바꾸기\n",
    "df_course.iloc[:, 1] = 90"
   ]
  },
  {
   "cell_type": "code",
   "execution_count": null,
   "id": "9a8646ad-133d-4276-a85a-4ae94e2cd0c9",
   "metadata": {},
   "outputs": [],
   "source": [
    "# 8-8\n",
    "# iloc을 사용하여 indexing과 slicing : 값 읽기, 바꾸기\n",
    "# 기존 열의 값들을 사용해서 새로운 열의 값으로 설정하기\n",
    "df_course['exam'] = 0 # 새로운 열을 만들고 0으로 초기화\n",
    "df_course.iloc[:, 4] = df_course.iloc[:, 0] *0.5 + df_course.iloc[:, 3]*0.5"
   ]
  },
  {
   "cell_type": "code",
   "execution_count": null,
   "id": "arranged-performer",
   "metadata": {},
   "outputs": [],
   "source": [
    "# 9\n",
    "# at, iat을 사용해서 indexing: 값 읽기, 바꾸기\n",
    "# slicing은 불가\n",
    "\n",
    "base_info={'midterm':[80, 70, 65, 75], 'homework':[25, 20, 27, 23],\n",
    "          'final', :[75, 80, 70, 80], 'report':[35, 30, 32, 27]}\n",
    "index_list=['202311111', '202322222', '202333333', '202344444']\n",
    "cols = ['midterm','homework','final',  'report']\n",
    "df_course=pd.DataFrame(base_info, index=index_list)"
   ]
  },
  {
   "cell_type": "code",
   "execution_count": null,
   "id": "58c6a98a-a943-4193-9a12-a1c3a308118a",
   "metadata": {},
   "outputs": [],
   "source": [
    "# 9-1\n",
    "# at, iat을 사용해서 indexing: 값 읽기, 바꾸기\n",
    "df_course.at['202311111', 'midterm'] = 90\n",
    "print(df_course.at['202311111', 'midterm'])"
   ]
  },
  {
   "cell_type": "code",
   "execution_count": null,
   "id": "77b24d0a-866c-40c2-9ea3-629c7542fcbd",
   "metadata": {},
   "outputs": [],
   "source": [
    "# 9-2\n",
    "# at, iat을 사용해서 indexing: 값 읽기, 바꾸기\n",
    "df_course.iat[1, 2] = 70\n",
    "print(df_course.iat[1, 2])"
   ]
  },
  {
   "cell_type": "markdown",
   "id": "solar-petroleum",
   "metadata": {},
   "source": [
    "#### DataFrame 모양 변경"
   ]
  },
  {
   "cell_type": "code",
   "execution_count": null,
   "id": "northern-current",
   "metadata": {},
   "outputs": [],
   "source": [
    "# 10-1\n",
    "data = {'name': ['Alice', 'Bob', 'Charlie'], 'age': [25, 30, 35]}\n",
    "df = pd.DataFrame(data, index=['lastborn', 'younger1', 'older1'])\n",
    "print('*** initial frame\\n', df)\n",
    "\n",
    "# 새로운 행 추가를 위한 DataFrame 생성\n",
    "new_row_df = pd.DataFrame(data ={'name': 'David', 'age': 28}, \n",
    "                          index=['younger2'])\n",
    "print('\\n*** a DataFrame for a new row\\n', new_row_df)\n",
    "\n",
    "# DataFrame 붙이기\n",
    "df = pd.concat([df, new_row_df])\n",
    "print('\\n*** add a new row\\n', df)"
   ]
  },
  {
   "cell_type": "code",
   "execution_count": null,
   "id": "lesbian-collect",
   "metadata": {},
   "outputs": [],
   "source": [
    "# 10-2\n",
    "# column 별로 수집된 data로 DataFrame을 만들어서 추가하기\n",
    "new_data = {'name': ['Eva', 'Frank'], 'age': [29, 22], 'sexuality': ['female', 'male']}\n",
    "new_df = pd.DataFrame(new_data, index=['younger3', 'younger4'])\n",
    "print('\\n*** new data frame\\n', new_df)\n",
    "\n",
    "df = pd.concat([df, new_df]);\n",
    "print('\\n*** attach new data frame\\n', df)"
   ]
  },
  {
   "cell_type": "code",
   "execution_count": null,
   "id": "unusual-portsmouth",
   "metadata": {},
   "outputs": [],
   "source": [
    "# 10-3\n",
    "# 특정 값을 바꾸기, 변경 전 : 변경 후 dictionary 형식으로 argument 제공\n",
    "df=df.replace({22:23, 25:26})\n",
    "print('\\n*** change value (22->23, 25->26)\\n', df)"
   ]
  },
  {
   "cell_type": "code",
   "execution_count": null,
   "id": "dc9d1fd6-60fe-4765-bb90-709101da5ecd",
   "metadata": {},
   "outputs": [],
   "source": [
    "# 10-4\n",
    "# 'city' 열 추가하기 (각 행의 값들을 제시)\n",
    "df['city'] = ['seoul','busan','suwon', 'suwon', 'suwon', 'pangyo']\n",
    "print('\\n*** add a new column \"city\"\\n', df)"
   ]
  },
  {
   "cell_type": "code",
   "execution_count": null,
   "id": "divine-nurse",
   "metadata": {},
   "outputs": [],
   "source": [
    "# 10-5\n",
    "df = df.drop(columns=['sexuality'], axis=1)\n",
    "print('\\n*** drop sexuality\\n', df)"
   ]
  },
  {
   "cell_type": "code",
   "execution_count": null,
   "id": "western-saskatchewan",
   "metadata": {},
   "outputs": [],
   "source": [
    "# 10-6\n",
    "df = df.drop(index=['younger3', 'younger4'])\n",
    "print('\\n*** drop two members\\n', df) "
   ]
  },
  {
   "cell_type": "code",
   "execution_count": null,
   "id": "regular-visibility",
   "metadata": {},
   "outputs": [],
   "source": [
    "# 10-7\n",
    "df = df.sort_values(by=['age'], ascending=[False])\n",
    "print('\\n*** sort by \"age\"\\n', df)"
   ]
  },
  {
   "cell_type": "code",
   "execution_count": null,
   "id": "01376af6-7eaf-4be5-b4d4-4b22cc3e5ee3",
   "metadata": {},
   "outputs": [],
   "source": [
    "# 10-8\n",
    "for idx, name, age, city in zip(df.index, df['name'], \n",
    "                                  df['age'], df['city']):\n",
    "    print(f\"{idx:<8s}:  Name={name:>7s}, Age={age}, Residence={city}\")"
   ]
  },
  {
   "cell_type": "code",
   "execution_count": null,
   "id": "structured-jungle",
   "metadata": {},
   "outputs": [],
   "source": [
    "# 11\n",
    "# dataframe 내 column간 연산해서 새로운 column 만들기\n",
    "\n",
    "# Apple과 Microsoft와 Google의 현재 주가는 각각 $150, $200, $1200이라고 가정하자.\n",
    "# Apple과 Microsoft와 Google의 주식을 각각 10주, 5주, 2주를 갖고 있다고 하자.\n",
    "# Pandas를 사용해서 내 주식 자산 가치를 관리하고 싶다 \n",
    "\n",
    "import pandas as pd\n",
    "\n",
    "# 데이터 준비\n",
    "data = {\n",
    "    'Price': [150, 200, 1200],\n",
    "    'Holdings': [10, 5, 2]\n",
    "}\n",
    "\n",
    "stocks = ['AAPL', 'MSFT', 'GOOGL']\n",
    "\n",
    "# DataFrame 생성 및 인덱스 설정\n",
    "stock_df = pd.DataFrame(data, index=stocks)\n",
    "stock_df.index.name = 'Stock'\n",
    "\n",
    "# 각 종목의 자산 가치 계산해서 column으로 추가\n",
    "stock_df['Asset Value'] = stock_df['Price'] * stock_df['Holdings']\n",
    "\n",
    "# 총 자산 가치 계산\n",
    "total_asset_value = stock_df['Asset Value'].sum()\n",
    "\n",
    "print(\"포트폴리오 자산 가치:\")\n",
    "print(stock_df)\n",
    "print(\"\\n총 자산 가치: $\", total_asset_value)"
   ]
  },
  {
   "cell_type": "markdown",
   "id": "average-denmark",
   "metadata": {},
   "source": [
    "#### data frame operation"
   ]
  },
  {
   "cell_type": "code",
   "execution_count": null,
   "id": "decreased-latvia",
   "metadata": {},
   "outputs": [],
   "source": [
    "# 12-1\n",
    "df1 = pd.DataFrame(data= [[1, 2, 3], [4, 5, 6], [7, 8, 9]], \n",
    "                  index= ['spring', 'summer', 'winter'], \n",
    "                  columns=['sun', 'mon', 'tue'])\n",
    "\n",
    "add_by_2 = df1 + 2\n",
    "print(add_by_2); "
   ]
  },
  {
   "cell_type": "code",
   "execution_count": null,
   "id": "structural-paste",
   "metadata": {},
   "outputs": [],
   "source": [
    "# 12-2\n",
    "mult_by_2 = df1 * 2\n",
    "print(mult_by_2); "
   ]
  },
  {
   "cell_type": "code",
   "execution_count": null,
   "id": "anonymous-belize",
   "metadata": {},
   "outputs": [],
   "source": [
    "# 12-3\n",
    "not_equal_2 = (df1 != 2)\n",
    "print(not_equal_2)"
   ]
  },
  {
   "cell_type": "code",
   "execution_count": null,
   "id": "objective-center",
   "metadata": {},
   "outputs": [],
   "source": [
    "# 13-1\n",
    "df2 = pd.DataFrame(data = [[4, 3, 2], [2, 3, 6], [1, 3, 2]], \n",
    "                  index = ['spring', 'summer', 'winter'], \n",
    "                  columns = ['sun', 'mon', 'tue'])\n",
    "\n",
    "sum_dfs = df1 + df2 \n",
    "print(sum_dfs)"
   ]
  },
  {
   "cell_type": "code",
   "execution_count": null,
   "id": "dynamic-plane",
   "metadata": {},
   "outputs": [],
   "source": [
    "# 13-2\n",
    "compare_dfs = (df1 < df2)\n",
    "print(compare_dfs)"
   ]
  },
  {
   "cell_type": "code",
   "execution_count": null,
   "id": "formed-navigator",
   "metadata": {},
   "outputs": [],
   "source": [
    "# 14\n",
    "import pandas as pd\n",
    "df1 = pd.DataFrame(data = [[1, 2, 3], [4, 5, 6], [7, 8, 9]], \n",
    "                  index = ['spring', 'summer', 'winter'], \n",
    "                  columns = ['sun', 'mon', 'tue'])\n",
    "\n",
    "df2 = pd.DataFrame(data = [[4, 3, 2], [2, 3, 6], [1, 3, 2]], \n",
    "                  index = ['spring', 'early summer', 'winter'], \n",
    "                  columns = ['sun', 'mon', 'wed'])\n",
    "\n",
    "print(df2)\n",
    "\n",
    "sum_dfs = df1 + df2\n",
    "print(sum_dfs)\n",
    "print(\"-\"*5)\n",
    "\n",
    "# sum_dfs의 NaN을 0으로 채우기\n",
    "sum_dfs = sum_dfs.fillna(0)\n",
    "print(sum_dfs);"
   ]
  },
  {
   "cell_type": "code",
   "execution_count": null,
   "id": "2200144e-51cb-4a7b-bf1d-072b48e52715",
   "metadata": {},
   "outputs": [],
   "source": [
    "# 15\n",
    "# boolean indexing\n",
    "df1 = pd.DataFrame(data= [[1, 2, 3], [4, 5, 6], [7, 8, 9]], \n",
    "                  index= ['spring', 'summer', 'winter'], \n",
    "                  columns=['sun', 'mon', 'tue'])\n",
    "\n",
    "print(df1[df1['sun'] != 3])"
   ]
  },
  {
   "cell_type": "code",
   "execution_count": null,
   "id": "solved-watts",
   "metadata": {},
   "outputs": [],
   "source": [
    "# 16\n",
    "# boolean indexing\n",
    "\n",
    "populations = [['한국',500],['미국', 450],['싱가폴', 705], ['호주', 878], ['베트남', 660], ['대만', 808]]\n",
    "\n",
    "df = pd.DataFrame(populations, columns = ['country', 'population'])"
   ]
  },
  {
   "cell_type": "code",
   "execution_count": null,
   "id": "9fa68df2-1432-4967-9320-088ba4e5f2c6",
   "metadata": {},
   "outputs": [],
   "source": [
    "# 16-1\n",
    "# boolean indexing\n",
    "# 한국과 호주 data만 추출\n",
    "korea_au=df[(df['country']=='한국') | (df['country']=='호주')]\n",
    "print(korea_au)"
   ]
  },
  {
   "cell_type": "code",
   "execution_count": null,
   "id": "87b0d6a4-b7e1-4409-b4d9-121e8c232550",
   "metadata": {},
   "outputs": [],
   "source": [
    "# 16-2\n",
    "# boolean indexing\n",
    "# population이 500보다 큰 나라명 출력\n",
    "big_countries = list(df[df['population']>500]['country'])\n",
    "print (big_countries) "
   ]
  },
  {
   "cell_type": "code",
   "execution_count": null,
   "id": "reported-arkansas",
   "metadata": {},
   "outputs": [],
   "source": [
    "# 16-3\n",
    "# boolean indexing\n",
    "# loc을 사용한 boolean indexing\n",
    "# 인구가 500 이상인 행 출력\n",
    "print(df.loc[df['population'] >= 500]) # print(df[df['population'] >= 500]) "
   ]
  },
  {
   "cell_type": "code",
   "execution_count": null,
   "id": "e1f1c4a3-778a-4258-915a-2164e8290ad3",
   "metadata": {},
   "outputs": [],
   "source": [
    "# 16-4\n",
    "# boolean indexing\n",
    "# ‘size’라는 열을 추가하고, 인구가 500이상이면 ‘big’, 그렇지 않으면 ‘small’ 값 부여\n",
    "df.loc[df['population'] >= 500, 'size'] = 'big'  \n",
    "df.loc[df['population'] < 500, 'size'] = 'small'  \n",
    "\n",
    "print(df)"
   ]
  },
  {
   "cell_type": "code",
   "execution_count": null,
   "id": "brazilian-retrieval",
   "metadata": {},
   "outputs": [],
   "source": [
    "# 17 \n",
    "# iloc을 사용한 boolean indexing\n",
    "\n",
    "data = {'items': ['apple', 'peach', 'pear', 'orange', 'strawberry'],\n",
    "'sales': [100, 130, 250, 210, 200]}\n",
    "df = pd.DataFrame(data)\n",
    "print(df)"
   ]
  },
  {
   "cell_type": "code",
   "execution_count": null,
   "id": "6cd192a2-6863-4f8a-8f3d-9f59693772a3",
   "metadata": {},
   "outputs": [],
   "source": [
    "# 17-1\n",
    "# iloc을 사용한 boolean indexing\n",
    "# 'state'라는 열을 추가하고 default로 'good' 부여\n",
    "df['state'] = 'good'   \n",
    "print(df)"
   ]
  },
  {
   "cell_type": "code",
   "execution_count": null,
   "id": "8fd1b79c-007c-4d9d-8e27-15f0d4ed56a5",
   "metadata": {},
   "outputs": [],
   "source": [
    "# 17-2 \n",
    "# iloc을 사용한 boolean indexing\n",
    "# sales가 150 미만인 항목에 대해서는 RangeIndex가 2인 column, 즉, state를 'bad'로 변경\n",
    "df.iloc[df['sales'] <150, 2] = 'bad' \n",
    "print(df)"
   ]
  },
  {
   "cell_type": "code",
   "execution_count": null,
   "id": "preceding-compilation",
   "metadata": {},
   "outputs": [],
   "source": [
    "# 18 \n",
    "# data frame 내 특정 값이 어디에 있는지 찾기\n",
    "import numpy as np\n",
    "\n",
    "# 기본 data\n",
    "fruits = ['apple', 'peach', 'pear', 'orange', 'strawberry']\n",
    "coffee = ['americano', 'latte', 'americano', 'capuccino', 'latte']\n",
    "color = ['green', 'blue', 'pink', 'red', 'blue']\n",
    "user_list = ['kang', 'kim', 'lee', 'hong', 'cho']\n",
    "\n",
    "# data frame을 만들기 위한 준비\n",
    "categories = ['fruits', 'coffee', 'color']\n",
    "items_list = [fruits, coffee, color]\n",
    "favorites = {categories[i]: items_list[i] for i in range(len(categories))}\n",
    "print(favorites)\n",
    "\n",
    "print(\"*\"*10)\n",
    "df = pd.DataFrame(favorites, index = user_list )\n",
    "print(df)"
   ]
  },
  {
   "cell_type": "code",
   "execution_count": null,
   "id": "1a1c8c4f-79cd-4faa-9898-37d26b452831",
   "metadata": {},
   "outputs": [],
   "source": [
    "# 18-1\n",
    "# data frame 내 특정 값이 어디에 있는지 찾기\n",
    "target = 'americano'\n",
    "\n",
    "record_df = df[df.isin([target]).any(axis=1)]\n",
    "print(record_df.index.tolist())  "
   ]
  },
  {
   "cell_type": "code",
   "execution_count": null,
   "id": "26d1224e-dd13-40e1-890d-b1f3c5a14378",
   "metadata": {},
   "outputs": [],
   "source": [
    "# 18-2\n",
    "# data frame 내 특정 값이 어디에 있는지 찾기\n",
    "target = 'americano'\n",
    "target_column = 'coffee'\n",
    "\n",
    "record_df = df[df[target_column] == target]\n",
    "print(record_df.index.tolist())"
   ]
  },
  {
   "cell_type": "code",
   "execution_count": null,
   "id": "2859f3fa-7f63-4982-8d91-9d987ba42ed4",
   "metadata": {},
   "outputs": [],
   "source": [
    "# 18-3\n",
    "# data frame 내 특정 값이 어디에 있는지 찾기\n",
    "target = 'americano'\n",
    "target_column = 'coffee'\n",
    "\n",
    "record_df = df.loc[df[target_column] == target]\n",
    "print(record_df.index.tolist())"
   ]
  },
  {
   "cell_type": "code",
   "execution_count": null,
   "id": "284f52aa-3c97-41e6-9426-b4df2ea439c0",
   "metadata": {},
   "outputs": [],
   "source": [
    "# 18-4\n",
    "# data frame 내 특정 값이 어디에 있는지 찾기\n",
    "target = 'americano'\n",
    "target_column = 'coffee'\n",
    "record_df = df[df[target_column].str.contains(target)]\n",
    "print(record_df.index.tolist())"
   ]
  },
  {
   "cell_type": "code",
   "execution_count": null,
   "id": "f85e9cd4-5e4e-4443-9c3b-6dcee226bdd3",
   "metadata": {},
   "outputs": [],
   "source": [
    "# 18-5 \n",
    "# data frame 내 특정 값이 어디에 있는지 찾기\n",
    "target = 'americano'\n",
    "target_column = 'coffee'\n",
    "record_df = df.query(f\"{target_column} == '{target}'\")\n",
    "print(record_df.index.tolist())"
   ]
  },
  {
   "cell_type": "code",
   "execution_count": null,
   "id": "integral-december",
   "metadata": {},
   "outputs": [],
   "source": [
    "# 19\n",
    "# data frame 내 특정 값이 어디에 있는지 찾기의 상세 과정 확인\n",
    "# 5명에 대해 과일, 커피, 색깔 선호도 조사 결과\n",
    "data = {'fruits': ['apple', 'peach', 'pear', 'orange', 'strawberry'], \n",
    "        'coffee': ['americano', 'latte', 'americano', 'capuccino', 'latte'], \n",
    "        'color': ['green', 'blue', 'pink', 'red', 'blue']}\n",
    "user_list = ['kang', 'kim', 'lee', 'hong', 'cho']\n",
    "df = pd.DataFrame(data, index=user_list)\n",
    "print(df)\n",
    "\n",
    "# favorite item이 target에 하나라도 속하는 사람 찾기\n",
    "target = ['americano', 'apple', 'blue']\n",
    "print(\"-\"*5)\n",
    "\n",
    "# dataframe 각 element들에 대해 target에 포함되는지 확인\n",
    "print(df.isin(target))\n",
    "print(\"-\"*5)\n",
    "\n",
    "# 열 값 중 하나라도 True인 경우에만 True이 series 생성\n",
    "print(df.isin(target).any(axis=1))\n",
    "print(\"-\"*5)\n",
    "\n",
    "# 열 값 중 하나라도 True인 행만 추출\n",
    "print(df[df.isin(target).any(axis=1)])\n",
    "print(\"-\"*5)\n",
    "\n",
    "# 열 값 중 하나라도 True인 행의 index label을 추출해서 list로 변환\n",
    "print(list(df[df.isin(target).any(axis=1)].index))"
   ]
  },
  {
   "cell_type": "code",
   "execution_count": null,
   "id": "sorted-disaster",
   "metadata": {},
   "outputs": [],
   "source": [
    "# 20\n",
    "# group별로 데이터 나누기\n",
    "data = {'Category': ['A', 'B', 'A', 'B', 'A', 'B'],\n",
    "'Value': [10, 15, 20, 25, 30, 35]}\n",
    "df = pd.DataFrame(data)"
   ]
  },
  {
   "cell_type": "code",
   "execution_count": null,
   "id": "623309dc-4df9-4503-a91e-de4bc2cb9794",
   "metadata": {},
   "outputs": [],
   "source": [
    "# 20-1\n",
    "# group별로 데이터 나누기\n",
    "grouped = df.groupby(['Category'])  \n",
    "print(grouped.groups.keys())  \n",
    "print(df.index)"
   ]
  },
  {
   "cell_type": "code",
   "execution_count": null,
   "id": "institutional-syndrome",
   "metadata": {},
   "outputs": [],
   "source": [
    "# 20-2\n",
    "# group별로 데이터 나누기\n",
    "A_df=grouped.get_group('A')  \n",
    "print(A_df)\n",
    "print(A_df.index)\n",
    "print(A_df.columns)"
   ]
  },
  {
   "cell_type": "code",
   "execution_count": null,
   "id": "shaped-stand",
   "metadata": {},
   "outputs": [],
   "source": [
    "# 20-3\n",
    "# group별로 데이터 나누기\n",
    "group_mean_df = grouped.mean() \n",
    "print(group_mean_df)\n",
    "print(group_mean_df.index)\n",
    "print(group_mean_df.columns)"
   ]
  },
  {
   "cell_type": "code",
   "execution_count": null,
   "id": "signal-identity",
   "metadata": {},
   "outputs": [],
   "source": [
    "# 20-4\n",
    "# group별로 데이터 나누기\n",
    "group_count_df = grouped.count()  \n",
    "print(group_count_df)\n",
    "print(group_count_df.index)\n",
    "print(group_count_df.columns)"
   ]
  },
  {
   "cell_type": "code",
   "execution_count": null,
   "id": "temporal-interface",
   "metadata": {},
   "outputs": [],
   "source": [
    "# 21\n",
    "# group별로 데이터 나누기, 다중 조건 사용하기\n",
    "\n",
    "import pandas as pd\n",
    "\n",
    "data = {'grade': [1, 2, 2, 3, 1, 3, 3], \n",
    "        'gender': ['M', 'F', 'M', 'F', 'F', 'M', 'F'], \n",
    "        'score': [80, 90, 70, 60, 85, 95, 75]}\n",
    "df = pd.DataFrame(data)\n",
    "\n",
    "# 학년로, 동일 학년에서는 성별로 그룹\n",
    "grouped = df.groupby(['grade', 'gender'])\n",
    "result = grouped['score'].agg(['mean', 'min', 'max', 'count'])\n",
    "print(result)\n",
    "\n",
    "# 성별로, 동일 성별에서는 학년별로 그룹\n",
    "grouped = df.groupby(['gender', 'grade']) \n",
    "result = grouped['score'].agg(['mean', 'min', 'max', 'count'])\n",
    "print(result)"
   ]
  },
  {
   "cell_type": "markdown",
   "id": "sweet-ladder",
   "metadata": {},
   "source": [
    "### 데이터 구조 비교"
   ]
  },
  {
   "cell_type": "code",
   "execution_count": null,
   "id": "documentary-trunk",
   "metadata": {},
   "outputs": [],
   "source": [
    "# 22\n",
    "# dictionary, numpy array, pandas series, pandas dataframe 비교\n",
    "# 생성 절차 비교\n",
    "scores = [[80, 25, 75, 35], [70, 20, 80, 30], [65, 27, 70, 32], [75, 23, 80, 27]]\n",
    "students = ['202311111', '202322222', '202333333', '202344444']\n",
    "metrics = ['중간고사', '과제', '기말고사', '보고서']\n",
    "\n",
    "score_dict = {students[i]:{metrics[j]:scores[i][j] for j in range(len(metrics))} \n",
    "              for i in range(len(students))}\n",
    "print(score_dict)\n",
    "\n",
    "import numpy as np\n",
    "score_array = np.array(scores)\n",
    "print(score_array)\n",
    "\n",
    "import pandas as pd\n",
    "score_series =[pd.Series(score, index=metrics, name=students[i]) \n",
    "               for i, score in enumerate(scores)]\n",
    "print(score_series)\n",
    "\n",
    "score_df = pd.DataFrame(scores, index=students, columns=metrics)\n",
    "print(score_df)"
   ]
  },
  {
   "cell_type": "code",
   "execution_count": null,
   "id": "canadian-newfoundland",
   "metadata": {},
   "outputs": [],
   "source": [
    "# 23\n",
    "# dictionary, numpy array, pandas series, pandas dataframe 비교\n",
    "# '202322222'의 '과제' 점수를 70으로 변경\n",
    "\n",
    "# Dictionary 업데이트\n",
    "score_dict['202322222']['과제'] = 70\n",
    "print(\"\\nUpdated Dictionary:\")\n",
    "print(score_dict)\n",
    "\n",
    "# Numpy Array 업데이트\n",
    "score_array[students.index('202322222'), metrics.index('과제')] = 70\n",
    "print(\"\\nUpdated array:\")\n",
    "print(score_array)\n",
    "\n",
    "# Pandas Series 업데이트\n",
    "for series in score_series:\n",
    "    if series.name == '202322222':\n",
    "        series['과제'] = 70\n",
    "print(\"\\nUpdated series:\")\n",
    "print(score_series)\n",
    "\n",
    "# Pandas dataframe update\n",
    "score_df.at['202322222', '과제'] = 70\n",
    "print(\"\\nUpdated dataframe:\")\n",
    "print(score_df)"
   ]
  },
  {
   "cell_type": "code",
   "execution_count": null,
   "id": "absent-church",
   "metadata": {},
   "outputs": [],
   "source": [
    "# 24\n",
    "# dictionary, numpy array, pandas series, pandas dataframe 비교\n",
    "# 총점 계산 (비율 적용)\n",
    "\n",
    "weights = {'중간고사': 0.3, '과제': 0.2, '기말고사': 0.3, '보고서': 0.2}\n",
    "\n",
    "# Dictionary 업데이트 (총점 추가)\n",
    "for student in students:\n",
    "    total_score = sum(score_dict[student][metric] * weights[metric] \n",
    "                        for metric in metrics)\n",
    "    score_dict[student]['총점'] = total_score\n",
    "print(\"\\nUpdated Dictionary with '총점':\")\n",
    "print(score_dict)\n",
    "\n",
    "# Numpy Array 업데이트 (총점 추가)\n",
    "total_scores = np.array([sum(row[j] * weights[metrics[j]] \n",
    "                           for j in range(len(metrics))) \n",
    "                               for row in score_array])\n",
    "new_score_array = np.hstack((score_array, total_scores.reshape(-1, 1)))\n",
    "\n",
    "print(\"\\nUpdated Numpy Array with '총점':\")\n",
    "print(new_score_array)\n",
    "\n",
    "# Pandas Series 업데이트 (총점 추가)\n",
    "for series in score_series:\n",
    "    total_score = sum(series[metric] * weights[metric] for metric in metrics)\n",
    "    series['총점'] = total_score\n",
    "\n",
    "print(\"\\nUpdated Pandas Series with '총점':\")\n",
    "for series in score_series:\n",
    "    print(series)\n",
    "\n",
    "# Pandas dataframe 업데이트 (총점 추가)\n",
    "score_df['총점'] = score_df.apply(lambda row: sum(row[metric] * weight \n",
    "                                                for metric, weight in \n",
    "                                                     weights.items()), axis=1)\n",
    "\n",
    "print(\"\\nDataFrame with '총점':\")\n",
    "print(score_df)"
   ]
  },
  {
   "cell_type": "code",
   "execution_count": null,
   "id": "minor-worker",
   "metadata": {},
   "outputs": [],
   "source": [
    "# 25\n",
    "# dictionary, numpy array, pandas series, pandas dataframe 비교\n",
    "# '과제' 점수가 90점 이상인 학생들에게 '마일리지' 10 부여\n",
    "\n",
    "threshold, points, default = 25, 10, 0\n",
    "\n",
    "# Dictionary 업데이트\n",
    "for student in students:\n",
    "    if score_dict[student]['과제'] >= threshold:\n",
    "        score_dict[student]['마일리지'] = points\n",
    "    else:\n",
    "        score_dict[student]['마일리지'] = default\n",
    "print(score_dict)\n",
    "        \n",
    "# Numpy Array 업데이트\n",
    "new_score_array = np.hstack((score_array, \n",
    "                             np.zeros((score_array.shape[0], 1), dtype=int)))\n",
    "for i, student in enumerate(students):\n",
    "    if score_array[i, metrics.index('과제')] >= threshold:\n",
    "        new_score_array[i, -1] = points \n",
    "print(new_score_array)\n",
    "\n",
    "# pandas series 업데이트\n",
    "for series in score_series:\n",
    "    series['마일리지'] = default\n",
    "    if series['과제'] >= threshold:\n",
    "        series['마일리지'] = points \n",
    "print(score_series)\n",
    "\n",
    "# data frame에  '마일리지' 열을 추가하고 기본 값을 0으로 설정\n",
    "score_df['마일리지'] = default\n",
    "score_df.loc[score_df['과제'] >= threshold, '마일리지'] = points \n",
    "print(score_df)"
   ]
  },
  {
   "cell_type": "code",
   "execution_count": null,
   "id": "scheduled-conjunction",
   "metadata": {},
   "outputs": [],
   "source": [
    "### data 분석 연습\n",
    "import pandas as pd\n",
    "import numpy as np\n",
    "\n",
    "item_list = ['Americano', 'Latte', 'Tea', 'Juice', 'Cake']  # 품목명\n",
    "user_list = ['Irene', 'Edith', 'Gaby', 'Anna', 'Erica', 'Charles', 'Bailey']  \n",
    "# 고객 이름\n",
    "\n",
    "user_purchase={}\n",
    "for item in item_list: # 각 품목의 구매액을 10,000~30,000 사이로 고객 수 만큼 생성\n",
    "    user_purchase[item] = np.random.randint(10, 31, len(user_list)) * 1000\n",
    "df = pd.DataFrame(user_purchase, index=user_list)  # data frame 생성\n",
    "print(df)"
   ]
  },
  {
   "cell_type": "code",
   "execution_count": null,
   "id": "distant-moisture",
   "metadata": {},
   "outputs": [],
   "source": [
    "# P1\n",
    "# 위에서 정의된 dataframe을 사용하여 문제를 푸시오\n",
    "# Console로 고객 이름과 품목 이름을 한 번에 입력 받아서 그 고객의 품목 구매액 출력하라 \n",
    "# 등록되지 않은 고객 이름이거나 품목 이름 입력 시 오류 메시지 출력\n",
    "#\n",
    "# 실행 사례1)\n",
    "# 고객 이름과 품목 입력: Edith Latte\n",
    "# ----------\n",
    "# Edith Latte 16000\n",
    "#\n",
    "# 실행 사례2)\n",
    "# 고객 이름과 품목 입력: Gaby Cocoa\n",
    "# 품목명 Cocoa 오류\n",
    "#\n",
    "# 실행 사례3)\n",
    "# 고객 이름과 품목 입력: Kang Cocoa\n",
    "# 고객명 Kang 오류     품목명 Cocoa 오류\n",
    "\n",
    "user, item=input(\"고객 이름과 품목 입력:\").split()\n",
    "if user in user_list and item in item_list:\n",
    "    purchase=df.loc[user, item]\n",
    "    print(\"-\"*10)\n",
    "    print(user, item, purchase)\n",
    "else:\n",
    "    if user not in user_list:\n",
    "        print(f\"고객명 {user} 오류\", end=\" \")\n",
    "    if item not in item_list:\n",
    "        print(f\"품목명 {item} 오류\")"
   ]
  },
  {
   "cell_type": "code",
   "execution_count": null,
   "id": "intimate-adolescent",
   "metadata": {},
   "outputs": [],
   "source": [
    "# P2\n",
    "# Console로 고객들 이름을 입력 받고, 품목 이름들을 입력 받아서, \n",
    "# 고객들의 품목별 구매액을 data frame으로 출력하라 \n",
    "# \n",
    "# 고객명이나 품목명에 오류가 있을 시 오류 메시지를 출력하시오 \n",
    "# 일부만 잘못된 입력의 경우, 정상적인 고객명과 품목명에 대해서 data frame으로 출력\n",
    "#\n",
    "# 실행 사례1)\n",
    "# 고객들 이름 입력: Erica Charles \n",
    "# 품목 목록 입력: Latte Tea\n",
    "# ----------\n",
    "#         Latte    Tea\n",
    "# Erica    20000  11000\n",
    "# Charles  15000  21000\n",
    "#\n",
    "# 실행 사례2)\n",
    "# 고객들 이름 입력: Erica Kang\n",
    "# 품목 목록 입력: Tea Cocoa\n",
    "# ----------\n",
    "#         Tea\n",
    "# Erica  11000\n",
    "# 고객명 ['Kang'] 오류\n",
    "# 품목명 ['Cocoa'] 오류\n",
    "\n",
    "users = input(\"고객들 이름 입력:\").split()\n",
    "items = input(\"품목 목록 입력:\").split()\n",
    "\n",
    "print(\"-\"*10)\n",
    "\n",
    "user_errors = [user for user in users if user not in user_list]\n",
    "item_errors = [item for item in items if item not in item_list]\n",
    "\n",
    "user_valid = [user for user in users if user in user_list]\n",
    "item_valid = [item for item in items if item in item_list]\n",
    "\n",
    "if user_valid and item_valid:\n",
    "    wanted=df.loc[user_valid, item_valid]\n",
    "    print(wanted)\n",
    "\n",
    "if user_errors:\n",
    "    print(f\"고객명 {user_errors} 오류\")\n",
    "\n",
    "if product_errors:\n",
    "    print(f\"품목명 {item_errors} 오류\")"
   ]
  },
  {
   "cell_type": "code",
   "execution_count": null,
   "id": "innocent-perception",
   "metadata": {},
   "outputs": [],
   "source": [
    "# P3\n",
    "# Console로 품목명과 차액을 입력받아서 해당 항목의 값을 모두 바꾸고, \n",
    "# 변경 전과 변경 후를 출력하시오\n",
    "# 입력 사례는, Latte -1000 , Latte +1000. \n",
    "# 등록되지 않은 품목 이름 입력 시 오류 메시지 출력\n",
    "# 실행 사례)\n",
    "# 품목 목록: ['Americano', 'Latte', 'Tea', 'Juice', 'Cake']\n",
    "# 품목명 차액 입력(예: Latte -1000): Juice -1000\n",
    "# 변경 전 Juice ----------\n",
    "# Irene      21000\n",
    "# Edith      14000\n",
    "# Gaby       24000\n",
    "# Anna       14000\n",
    "# Erica      17000\n",
    "# Charles    21000\n",
    "# Bailey     29000\n",
    "# Name: Juice, dtype: int64\n",
    "# 변경 후 Juice ----------\n",
    "# Irene      20000\n",
    "# Edith      13000\n",
    "# Gaby       23000\n",
    "# Anna       13000\n",
    "# Erica      16000\n",
    "# Charles    20000\n",
    "# Bailey     28000\n",
    "# Name: Juice, dtype: int64\n",
    "\n",
    "print(\"품목 목록:\", item_list)\n",
    "input_list=input(\"품목명과 차액 입력(예: Latte -1000):\").split()\n",
    "product, change_val = input_list \n",
    "if product in item_list:\n",
    "    print(\"변경 전\", product, \"-\"*10)\n",
    "    print(df[product])\n",
    "    df[product]+=int(change_val)\n",
    "    print(\"변경 후\",product, \"-\"*10)\n",
    "    print(df[product])\n",
    "else:\n",
    "    print(f\"품목명 {product} 오류\")\n"
   ]
  },
  {
   "cell_type": "code",
   "execution_count": null,
   "id": "assigned-commissioner",
   "metadata": {},
   "outputs": [],
   "source": [
    "# P4\n",
    "# 각 품목별 평균 구매액을 계산해서 정수로 출력하라 \n",
    "# 실행 사례)\n",
    "# * Americano 평균 판매액: 20000원\n",
    "# * Latte 평균 판매액: 23000원\n",
    "# * Tea 평균 판매액: 24285원\n",
    "# * Juice 평균 판매액: 19000원\n",
    "# * Cake 평균 판매액: 24142원\n",
    "\n",
    "for item in item_list:\n",
    "    print(f\"* {item} 평균 판매액: {int(df[item].mean())}원\")"
   ]
  },
  {
   "cell_type": "code",
   "execution_count": null,
   "id": "american-event",
   "metadata": {},
   "outputs": [],
   "source": [
    "# P5\n",
    "# Console로 품목과 기준금액을 입력 받아서 \n",
    "# 그 금액 이상 해당 품목을 구매한 고객 이름과 구매액을 구매액 크기 역순으로 \n",
    "# 출력하라 \n",
    "# 실행 사례\n",
    "# 품목과 기준 금액 입력: Latte 15000\n",
    "# ----------\n",
    "# Charles    26000\n",
    "# Anna       24000\n",
    "# Edith      20000\n",
    "# Erica      17000\n",
    "# Bailey     17000\n",
    "# Name: Latte, dtype: int64\n",
    "\n",
    "product_threshold=input(\"품목과 기준 금액 입력:\").split()\n",
    "product = product_threshold[0]; threshold=int(product_threshold[1])\n",
    "print(\"-\"*10)\n",
    "if product in item_list:\n",
    "    df_heavy_user = df[df[product]>=threshold].sort_values(by=product, ascending=False)\n",
    "    if df_heavy_user.empty:\n",
    "        print(f\"{product}을 {threshold}원 이상 구매한 고객이 없습니다\")\n",
    "    else:\n",
    "        print(df_heavy_user[product])\n",
    "else:\n",
    "    print(f\"품목명 {product} 오류\")"
   ]
  },
  {
   "cell_type": "code",
   "execution_count": null,
   "id": "synthetic-landscape",
   "metadata": {},
   "outputs": [],
   "source": [
    "# P6\n",
    "# 기준 금액보다 구매액이 낮은 고객이 3명 이상이면 해당 품목 판매를 중단하고자 한다.  \n",
    "# 기준 금액을 입력받아서, 판매 중단할 품목이 무엇인지 출력하라 \n",
    "# 실행 사례1) \n",
    "# 기준 금액 입력: 10000\n",
    "# ----------\n",
    "# 판매 중단 대상이 없습니다\n",
    "# 실행 사례2)\n",
    "# 기준 금액 입력: 20000\n",
    "# ----------\n",
    "# 판매 중단 품목은 ['Americano', 'Juice'] 입니다\n",
    "\n",
    "threshold=int(input(\"기준 금액 입력:\"))\n",
    "stop_list = []; threshold_count=3\n",
    "for item in item_list:\n",
    "    num_below_threshold = (df[item] <= threshold).sum() # True=1, False=0\n",
    "    if num_below_threshold >= threshold_count:\n",
    "        stop_list.append(item)\n",
    "print(\"-\"*10)\n",
    "if stop_list:\n",
    "    print(\"판매 중단 품목은\", stop_list, \"입니다\")\n",
    "else:\n",
    "    print(\"판매 중단 대상이 없습니다\")"
   ]
  }
 ],
 "metadata": {
  "kernelspec": {
   "display_name": "Python 3 (ipykernel)",
   "language": "python",
   "name": "python3"
  },
  "language_info": {
   "codemirror_mode": {
    "name": "ipython",
    "version": 3
   },
   "file_extension": ".py",
   "mimetype": "text/x-python",
   "name": "python",
   "nbconvert_exporter": "python",
   "pygments_lexer": "ipython3",
   "version": "3.11.6"
  }
 },
 "nbformat": 4,
 "nbformat_minor": 5
}
