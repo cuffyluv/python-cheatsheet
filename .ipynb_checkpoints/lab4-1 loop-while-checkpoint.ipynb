{
 "cells": [
  {
   "cell_type": "markdown",
   "id": "8bf9a1ad-5f45-45bd-b6d9-8b26a410da90",
   "metadata": {},
   "source": [
    "### 실습물 제출 가이드라인\n",
    "- 아래에 주어진 코드들을 실행해서 python의 동작 원리를 이해하시오. 그리고, # M 으로 주어진 부분은 코드를 작성하고 실행하시오.\n",
    "- 주어진 코드들을 다 실행해 보고 결과를 확인하면 3점을 부여합니다.\n",
    "- \"# M\"으로 주어진 문제는 정확한 답을 작성하면 표기된 점수가 부여됩니다.# M0 날짜, 학번, 이름 적기 (영어로 작성하기)\n"
   ]
  },
  {
   "cell_type": "markdown",
   "id": "premium-coaching",
   "metadata": {},
   "source": [
    "## Loop"
   ]
  },
  {
   "cell_type": "markdown",
   "id": "secret-retreat",
   "metadata": {},
   "source": [
    "### while "
   ]
  },
  {
   "cell_type": "code",
   "execution_count": 1,
   "id": "hispanic-burke",
   "metadata": {},
   "outputs": [
    {
     "name": "stdout",
     "output_type": "stream",
     "text": [
      "Adding from 1 to 100 yields 5050\n"
     ]
    }
   ],
   "source": [
    "# 1   \n",
    "# 1부터 100까지의 합 구하기\n",
    "i, total = 1, 0\n",
    "while i <= 100:\n",
    "    total += i\n",
    "    i += 1\n",
    "print (f\"Adding from 1 to 100 yields {total}\")"
   ]
  },
  {
   "cell_type": "code",
   "execution_count": 2,
   "id": "2f638764-b0ec-487a-a143-d7863973e20c",
   "metadata": {},
   "outputs": [
    {
     "name": "stdout",
     "output_type": "stream",
     "text": [
      "*\n",
      "**\n",
      "***\n",
      "****\n",
      "*****\n"
     ]
    }
   ],
   "source": [
    "# 2\n",
    "# 5줄짜리 별 삼각형 그리기\n",
    "repeat, max_repeat = 1, 5\n",
    "while repeat <= max_repeat:\n",
    "    print('*'*repeat)\n",
    "    repeat += 1"
   ]
  },
  {
   "cell_type": "code",
   "execution_count": 3,
   "id": "textile-vessel",
   "metadata": {},
   "outputs": [
    {
     "name": "stdout",
     "output_type": "stream",
     "text": [
      "10495\n",
      "The sum of the squares of 10 through 40 is 10495\n"
     ]
    }
   ],
   "source": [
    "# 3 \n",
    "# 10부터 40 사이의 홀수 제곱 덧셈\n",
    "now, end = 10, 40\n",
    "sum_square = 0\n",
    "while now <= end:\n",
    "    if now % 2:\n",
    "        sum_square += now*now\n",
    "    now += 1\n",
    "print(sum_square)\n",
    "\n",
    "now, end = 10, 40\n",
    "sum_square = 0\n",
    "while now <= end:\n",
    "    if now % 2:\n",
    "        sum_square += now*now\n",
    "    now += 1\n",
    "print(\"The sum of the squares of 10 through 40 is\", sum_square)"
   ]
  },
  {
   "cell_type": "code",
   "execution_count": 23,
   "id": "thorough-slovenia",
   "metadata": {},
   "outputs": [
    {
     "name": "stdout",
     "output_type": "stream",
     "text": [
      "3 6 9 12 15 18 "
     ]
    }
   ],
   "source": [
    "# M1\n",
    "# 1부터 20까지의 숫자 중에서 3의 배수만 한 줄에 출력하는 코드를 while을 사용해서 작성하시오. (0.3점)\n",
    "# continue를 사용하지 마시오\n",
    "# 실행 예)\n",
    "# 3 6 9 12 15 18\n",
    "\n",
    "\n",
    "i = 1\n",
    "while i < 20:\n",
    "    if not i % 3:\n",
    "        print(f'{i}', end = ' ')\n",
    "    i += 1\n",
    "\n",
    "\n",
    "# i = 1\n",
    "# while i < 20:\n",
    "#     if not i % 3:\n",
    "#         print('%d' % i, end = ' ')\n",
    "#     i += 1\n",
    "# 위 방법도 가능"
   ]
  },
  {
   "cell_type": "code",
   "execution_count": 26,
   "id": "grand-greece",
   "metadata": {},
   "outputs": [
    {
     "name": "stdout",
     "output_type": "stream",
     "text": [
      "3 6 9 12 15 18 "
     ]
    }
   ],
   "source": [
    "# M2\n",
    "# 1부터 20까지의 숫자 중에서 3의 배수만 출력하는 코드를 while을 사용해서 작성하시오. (0.3점)\n",
    "# 3의 배수가 아닌 상황을 처리할 때 continue를 사용하시오. \n",
    "# 실행 예)\n",
    "# 3 6 9 12 15 18\n",
    "\n",
    "i = 1\n",
    "while i < 20:\n",
    "    if i % 3:\n",
    "        i += 1\n",
    "        continue\n",
    "    print(f'{i}', end = ' ')\n",
    "    i += 1"
   ]
  },
  {
   "cell_type": "code",
   "execution_count": 27,
   "id": "d272db56-4a85-429d-9754-15983e8434fe",
   "metadata": {},
   "outputs": [
    {
     "name": "stdin",
     "output_type": "stream",
     "text": [
      "Press any key ('q' to quit):  1\n"
     ]
    },
    {
     "name": "stdout",
     "output_type": "stream",
     "text": [
      "Your input is 1\n"
     ]
    },
    {
     "name": "stdin",
     "output_type": "stream",
     "text": [
      "Press any key ('q' to quit):  2\n"
     ]
    },
    {
     "name": "stdout",
     "output_type": "stream",
     "text": [
      "Your input is 2\n"
     ]
    },
    {
     "name": "stdin",
     "output_type": "stream",
     "text": [
      "Press any key ('q' to quit):  q\n"
     ]
    },
    {
     "name": "stdout",
     "output_type": "stream",
     "text": [
      "Your input is q\n",
      "End of loop\n"
     ]
    }
   ],
   "source": [
    "## 4 \n",
    "# flag 변수를 정의해서 loop 종료 설정\n",
    "continue_loop = True\n",
    "while continue_loop:\n",
    "    user_input = input(\"Press any key ('q' to quit): \")\n",
    "    if user_input == \"q\":\n",
    "        continue_loop = False  # flag를 False로 설정하여 루프 종료\n",
    "    print(\"Your input is\", user_input)\n",
    "print(\"End of loop\")"
   ]
  },
  {
   "cell_type": "code",
   "execution_count": 28,
   "id": "perfect-region",
   "metadata": {},
   "outputs": [
    {
     "name": "stdout",
     "output_type": "stream",
     "text": [
      "I'm chopping a tree...\n"
     ]
    },
    {
     "name": "stdin",
     "output_type": "stream",
     "text": [
      "Press any key to try \n"
     ]
    },
    {
     "name": "stdout",
     "output_type": "stream",
     "text": [
      "once\n"
     ]
    },
    {
     "name": "stdin",
     "output_type": "stream",
     "text": [
      "Press any key to try \n"
     ]
    },
    {
     "name": "stdout",
     "output_type": "stream",
     "text": [
      "twice\n"
     ]
    },
    {
     "name": "stdin",
     "output_type": "stream",
     "text": [
      "Press any key to try \n"
     ]
    },
    {
     "name": "stdout",
     "output_type": "stream",
     "text": [
      "3 times\n"
     ]
    },
    {
     "name": "stdin",
     "output_type": "stream",
     "text": [
      "Press any key to try \n"
     ]
    },
    {
     "name": "stdout",
     "output_type": "stream",
     "text": [
      "4 times\n"
     ]
    },
    {
     "name": "stdin",
     "output_type": "stream",
     "text": [
      "Press any key to try \n"
     ]
    },
    {
     "name": "stdout",
     "output_type": "stream",
     "text": [
      "5 times\n"
     ]
    },
    {
     "name": "stdin",
     "output_type": "stream",
     "text": [
      "Press any key to try \n"
     ]
    },
    {
     "name": "stdout",
     "output_type": "stream",
     "text": [
      "6 times\n"
     ]
    },
    {
     "name": "stdin",
     "output_type": "stream",
     "text": [
      "Press any key to try \n"
     ]
    },
    {
     "name": "stdout",
     "output_type": "stream",
     "text": [
      "7 times\n"
     ]
    },
    {
     "name": "stdin",
     "output_type": "stream",
     "text": [
      "Press any key to try \n"
     ]
    },
    {
     "name": "stdout",
     "output_type": "stream",
     "text": [
      "8 times\n"
     ]
    },
    {
     "name": "stdin",
     "output_type": "stream",
     "text": [
      "Press any key to try \n"
     ]
    },
    {
     "name": "stdout",
     "output_type": "stream",
     "text": [
      "9 times\n"
     ]
    },
    {
     "name": "stdin",
     "output_type": "stream",
     "text": [
      "Press any key to try \n"
     ]
    },
    {
     "name": "stdout",
     "output_type": "stream",
     "text": [
      "10 times\n",
      "The tree is falling.\n"
     ]
    }
   ],
   "source": [
    "# 5 \n",
    "# 10번 찍어 안 넘어가는 나무 없다\n",
    "max_try = 10\n",
    "treeHit = 1\n",
    "print(\"I'm chopping a tree...\")\n",
    "while treeHit <= max_try:\n",
    "    input(\"Press any key to try\")\n",
    "    if treeHit == 1:\n",
    "        print(\"once\")\n",
    "    elif treeHit == 2:\n",
    "        print(\"twice\")\n",
    "    else:\n",
    "        print(\"%d times\" % treeHit)\n",
    "    treeHit += 1\n",
    "print(\"The tree is falling.\")"
   ]
  },
  {
   "cell_type": "code",
   "execution_count": 29,
   "id": "6a1d5b0b-a03f-4f1d-8577-7d3ff590517d",
   "metadata": {},
   "outputs": [
    {
     "name": "stdout",
     "output_type": "stream",
     "text": [
      "I'm chopping a tree...\n"
     ]
    },
    {
     "name": "stdin",
     "output_type": "stream",
     "text": [
      "Press any key to try \n"
     ]
    },
    {
     "name": "stdout",
     "output_type": "stream",
     "text": [
      "once\n"
     ]
    },
    {
     "name": "stdin",
     "output_type": "stream",
     "text": [
      "Press any key to try \n"
     ]
    },
    {
     "name": "stdout",
     "output_type": "stream",
     "text": [
      "3 times\n"
     ]
    },
    {
     "name": "stdin",
     "output_type": "stream",
     "text": [
      "Press any key to try \n"
     ]
    },
    {
     "name": "stdout",
     "output_type": "stream",
     "text": [
      "5 times\n"
     ]
    },
    {
     "name": "stdin",
     "output_type": "stream",
     "text": [
      "Press any key to try \n"
     ]
    },
    {
     "name": "stdout",
     "output_type": "stream",
     "text": [
      "7 times\n"
     ]
    },
    {
     "name": "stdin",
     "output_type": "stream",
     "text": [
      "Press any key to try \n"
     ]
    },
    {
     "name": "stdout",
     "output_type": "stream",
     "text": [
      "9 times\n",
      "The tree is falling.\n"
     ]
    }
   ],
   "source": [
    "# 6\n",
    "# 10번 찍어 안 넘어가는 나무 없다. continue 사용 사례\n",
    "max_try = 10\n",
    "treeHit = 0\n",
    "print(\"I'm chopping a tree...\")\n",
    "while treeHit < max_try:\n",
    "    treeHit += 1\n",
    "    if not treeHit % 2:\n",
    "        continue\n",
    "    input(\"Press any key to try\")\n",
    "    if treeHit == 1:\n",
    "        print(\"once\")\n",
    "    else:\n",
    "        print(\"%d times\" % treeHit)\n",
    "print(\"The tree is falling.\")"
   ]
  },
  {
   "cell_type": "code",
   "execution_count": 47,
   "id": "65d29a62-a4d0-44cc-8cbc-cc6fdd3604b4",
   "metadata": {},
   "outputs": [
    {
     "name": "stdin",
     "output_type": "stream",
     "text": [
      "Enter the size of a rectangle ( > 2): 3\n"
     ]
    },
    {
     "name": "stdout",
     "output_type": "stream",
     "text": [
      "***\n",
      "* *\n",
      "***\n"
     ]
    }
   ],
   "source": [
    "###### M3\n",
    "# 사용자로부터 3보다 큰 숫자를 입력 받아서 별 정사각형을 그리는 코드를 작성하시오. (0.5점)\n",
    "# 실행 예1)\n",
    "# Enter the size of a rectangle ( > 2): 3\n",
    "# ***\n",
    "# * *\n",
    "# ***\n",
    "# 실행 예2)\n",
    "# Enter the size of a rectangle ( > 2): 2\n",
    "# I cannot draw a rectangle\n",
    "\n",
    "len = int(input('Enter the size of a rectangle ( > 2):'))\n",
    "i = 1 # ex. 1부터 1 2 3\n",
    "while i <= len:\n",
    "    if len <= 2:\n",
    "        print('I cannot draw a rectangle')\n",
    "        break\n",
    "    if i == 1 or i == len:\n",
    "        print('*' * len)\n",
    "        i += 1\n",
    "    else:\n",
    "        print('*', end = '')\n",
    "        print(' ' * (len - 2), end = '')\n",
    "        print('*')\n",
    "        i += 1"
   ]
  },
  {
   "cell_type": "code",
   "execution_count": 3,
   "id": "governmental-single",
   "metadata": {},
   "outputs": [
    {
     "name": "stdout",
     "output_type": "stream",
     "text": [
      "*\n"
     ]
    },
    {
     "name": "stdin",
     "output_type": "stream",
     "text": [
      " \n"
     ]
    },
    {
     "name": "stdout",
     "output_type": "stream",
     "text": [
      "**\n"
     ]
    },
    {
     "name": "stdin",
     "output_type": "stream",
     "text": [
      " 1\n"
     ]
    },
    {
     "name": "stdout",
     "output_type": "stream",
     "text": [
      "***\n"
     ]
    },
    {
     "name": "stdin",
     "output_type": "stream",
     "text": [
      " q\n"
     ]
    },
    {
     "name": "stdout",
     "output_type": "stream",
     "text": [
      "Bye\n"
     ]
    }
   ],
   "source": [
    "# 7 \n",
    "# 5줄짜리 별 삼각형을 그리는데, 사용자가 'q'혹은 'Q'를 입력하면 중단\n",
    "# 5줄짜리 별 삼각형을 다 그리면, \n",
    "repeat, max_repeat = 1, 5\n",
    "\n",
    "while repeat <= max_repeat:\n",
    "    print('*'*repeat)\n",
    "    repeat += 1\n",
    "    key=input()\n",
    "    if key == 'q' or key == 'Q':\n",
    "        break\n",
    "else:\n",
    "    print(f\"Completed {repeat-1} steps\")  # 5줄을 모두 출력했을 때, repeat=6\n",
    "print(\"Bye\")"
   ]
  },
  {
   "cell_type": "code",
   "execution_count": 49,
   "id": "proved-antenna",
   "metadata": {},
   "outputs": [
    {
     "name": "stdout",
     "output_type": "stream",
     "text": [
      "Count down from 5, press q to stop\n",
      "5\n"
     ]
    },
    {
     "name": "stdin",
     "output_type": "stream",
     "text": [
      " \n"
     ]
    },
    {
     "name": "stdout",
     "output_type": "stream",
     "text": [
      "4\n"
     ]
    },
    {
     "name": "stdin",
     "output_type": "stream",
     "text": [
      " \n"
     ]
    },
    {
     "name": "stdout",
     "output_type": "stream",
     "text": [
      "3\n"
     ]
    },
    {
     "name": "stdin",
     "output_type": "stream",
     "text": [
      " \n"
     ]
    },
    {
     "name": "stdout",
     "output_type": "stream",
     "text": [
      "2\n"
     ]
    },
    {
     "name": "stdin",
     "output_type": "stream",
     "text": [
      " \n"
     ]
    },
    {
     "name": "stdout",
     "output_type": "stream",
     "text": [
      "1\n"
     ]
    },
    {
     "name": "stdin",
     "output_type": "stream",
     "text": [
      " \n"
     ]
    },
    {
     "name": "stdout",
     "output_type": "stream",
     "text": [
      "발사!\n",
      "End of game\n"
     ]
    }
   ],
   "source": [
    "# 8  \n",
    "# 5,4,3,2,1로 countdown해서 '발사'를 출력하고자 하는데, \n",
    "# 중간에 사용자가 'stop'을 압력하면 break를 사용해서 코드 실행 중단 \n",
    "print('Count down from 5, press q to stop')\n",
    "\n",
    "countdown = 5\n",
    "while countdown > 0:\n",
    "    print(countdown)\n",
    "    countdown -= 1\n",
    "    if input().lower() == 'q': # input().lower() 사용자 입력을 소문자로 변환\n",
    "         break\n",
    "else:\n",
    "    print('발사!')\n",
    "print('End of game')"
   ]
  },
  {
   "cell_type": "code",
   "execution_count": 8,
   "id": "brief-geneva",
   "metadata": {},
   "outputs": [
    {
     "name": "stdout",
     "output_type": "stream",
     "text": [
      "Count down from 5, press q to stop\n",
      "1\n"
     ]
    },
    {
     "name": "stdin",
     "output_type": "stream",
     "text": [
      " \n"
     ]
    },
    {
     "name": "stdout",
     "output_type": "stream",
     "text": [
      "2\n"
     ]
    },
    {
     "name": "stdin",
     "output_type": "stream",
     "text": [
      " \n"
     ]
    },
    {
     "name": "stdout",
     "output_type": "stream",
     "text": [
      "3\n"
     ]
    },
    {
     "name": "stdin",
     "output_type": "stream",
     "text": [
      " q\n"
     ]
    },
    {
     "name": "stdout",
     "output_type": "stream",
     "text": [
      "End of game\n"
     ]
    }
   ],
   "source": [
    "# M4\n",
    "# 8의 코드를 복사해서 countdown을 countup으로 변경하여 1부터 시작해서 countup이 5가 되거나 \n",
    "# 사용자가 'q'을 입력할 때 중단하도록 코드를 작성하시오. (0.2점)\n",
    "print('Count down from 5, press q to stop')\n",
    "\n",
    "countup = 1\n",
    "while countup <= 5:\n",
    "    print(countup)\n",
    "    countup += 1\n",
    "    if input().lower() == 'q': # input().lower() 사용자 입력을 소문자로 변환\n",
    "         break\n",
    "else:\n",
    "    print('발사!')\n",
    "print('End of game')\n",
    "\n",
    "# 실행 예1)\n",
    "# Count from 1 to 5, press q to stop\n",
    "# 1\n",
    "# \n",
    "# 2\n",
    "#  q\n",
    "# End of game\n",
    "#\n",
    "# 실행 예2)\n",
    "# Count from 1 to 5, press q to stop\n",
    "# 1\n",
    "# \n",
    "# 2\n",
    "#  \n",
    "# 3\n",
    "#  \n",
    "# 4\n",
    "#  \n",
    "# 5\n",
    "#  \n",
    "# 발사!\n",
    "# End of game"
   ]
  },
  {
   "cell_type": "code",
   "execution_count": 9,
   "id": "fitting-clearance",
   "metadata": {},
   "outputs": [
    {
     "name": "stdin",
     "output_type": "stream",
     "text": [
      "Press any key \n",
      "Press any key \n",
      "Press any key \n",
      "Press any key \n",
      "Press any key y\n"
     ]
    },
    {
     "name": "stdout",
     "output_type": "stream",
     "text": [
      "Bye\n"
     ]
    }
   ],
   "source": [
    "# 9 \n",
    "# 무한 loop \n",
    "# 사용자 입력이 'y'일 때까지 계속해서 key 입력 받기, 'y'가 아니면 중단하기\n",
    "while True:\n",
    "    key=input(\"Press any key\")\n",
    "    if key == 'y' or key == 'Y':\n",
    "        break\n",
    "print(\"Bye\")"
   ]
  },
  {
   "cell_type": "code",
   "execution_count": 51,
   "id": "precise-nightmare",
   "metadata": {},
   "outputs": [
    {
     "name": "stdin",
     "output_type": "stream",
     "text": [
      "Enter a number: 11\n"
     ]
    },
    {
     "name": "stdout",
     "output_type": "stream",
     "text": [
      "11 is multiple of 11\n",
      "End of loop\n"
     ]
    }
   ],
   "source": [
    "# 10\n",
    "# 무한 loop\n",
    "# 사용자에게 숫자를 입력받는데 11의 배수를 받을 때까지 반복\n",
    "while True:\n",
    "    num = int(input(\"Enter a number:\"))\n",
    "    if not (num % 11):\n",
    "        print(f\"{num} is multiple of 11\")\n",
    "        break\n",
    "print(\"End of loop\")"
   ]
  },
  {
   "cell_type": "code",
   "execution_count": 12,
   "id": "electrical-notion",
   "metadata": {},
   "outputs": [
    {
     "name": "stdin",
     "output_type": "stream",
     "text": [
      "Enter a number: 1\n"
     ]
    },
    {
     "name": "stdout",
     "output_type": "stream",
     "text": [
      "The square is 1\n"
     ]
    },
    {
     "name": "stdin",
     "output_type": "stream",
     "text": [
      "Enter a number: q\n"
     ]
    },
    {
     "name": "stdout",
     "output_type": "stream",
     "text": [
      "bye\n"
     ]
    }
   ],
   "source": [
    "# M5\n",
    "# 9, 10의 코드를 참고해서, \n",
    "# 사용자로부터 숫자를 하나 입력받아서 이 값의 제곱을 출력해 주는 코드를 작성하시오. (0.5점)\n",
    "# 사용자가 'q' 혹은 'Q'를 입력하면 반복문을 중단하고 'Bye'를 출력하시오.\n",
    "# while True:를 사용하시오 \n",
    "# 실행 예1)\n",
    "# Enter a number: 14\n",
    "# The square is 196\n",
    "# Enter a number: 87\n",
    "# The square is 7569\n",
    "# Enter a number: q\n",
    "# Bye\n",
    "while True:\n",
    "    num = input('Enter a number:')\n",
    "    if num == 'q' or num == 'Q':\n",
    "        print('bye')\n",
    "        break\n",
    "    num = int(num)\n",
    "    print(f'The square is {num**2}')\n",
    "    \n"
   ]
  },
  {
   "cell_type": "code",
   "execution_count": 16,
   "id": "aging-logging",
   "metadata": {},
   "outputs": [
    {
     "name": "stdin",
     "output_type": "stream",
     "text": [
      "Enter a single digit number (q to stop): 1\n",
      "Enter a single digit number (q to stop): 2\n",
      "Enter a single digit number (q to stop): 3\n",
      "Enter a single digit number (q to stop): q\n"
     ]
    },
    {
     "name": "stdout",
     "output_type": "stream",
     "text": [
      "You have typed {1, 2, 3}\n"
     ]
    }
   ],
   "source": [
    "# M6\n",
    "# 5의 코드를 참고해서, \n",
    "# 사용자로부터 한 자리 숫자를 입력받아서 어떤 숫자들을 입력했는지 출력하는 코드를 작성하시오.(0.5점)\n",
    "# 사용자가 'q'를 입력하면 반복문을 중단하시오. \n",
    "# while True:를 사용하시오. 빈 집합을 만들 때는 set()을 사용하면 됩니다.\n",
    "# \n",
    "# 실행 사례)\n",
    "# Enter a single digit number (q to stop): 1\n",
    "# Enter a single digit number (q to stop): 1\n",
    "# Enter a single digit number (q to stop): 2\n",
    "# Enter a single digit number (q to stop): q\n",
    "# You have typed {1, 2}\n",
    "\n",
    "numset = set()\n",
    "while True:\n",
    "    num = input('Enter a single digit number (q to stop):')\n",
    "    if num == 'q':\n",
    "        # 숫자들 출력\n",
    "        print(f'You have typed {numset}')\n",
    "        break\n",
    "    numset.add(int(num))\n"
   ]
  },
  {
   "cell_type": "code",
   "execution_count": 52,
   "id": "focused-addiction",
   "metadata": {},
   "outputs": [
    {
     "name": "stdout",
     "output_type": "stream",
     "text": [
      "Guess my favorite:::\n"
     ]
    },
    {
     "name": "stdin",
     "output_type": "stream",
     "text": [
      "Which one (latte, americano, juice, hub, espresso)? latte\n"
     ]
    },
    {
     "name": "stdout",
     "output_type": "stream",
     "text": [
      "You are bright\n",
      "End of game\n"
     ]
    }
   ],
   "source": [
    "# 11\n",
    "# 좋아하는 음료수 맞추기\n",
    "# 사전에 my_favorite에 좋아하는 음료수를 지정해 두고,\n",
    "# 음료수 후보를 제시하면서 사용자의 입력을 기다리고,\n",
    "# 사용자 입력이 my_favorite과 일치하면 “you are bright”라고 출력하고 종료\n",
    "# 일치하지 않으면, “try again”이라고 메시지를 출력하고 입력 기다리기\n",
    "\n",
    "my_favorite = \"latte\"\n",
    "print(\"Guess my favorite:::\")\n",
    "while True:\n",
    "    guess = input(\"Which one (latte, americano, juice, hub, espresso)?\")\n",
    "    if guess == my_favorite:\n",
    "        print(\"You are bright\")\n",
    "        break\n",
    "    print(\"Try again\")\n",
    "print(\"End of game\")"
   ]
  },
  {
   "cell_type": "code",
   "execution_count": 22,
   "id": "frank-stuart",
   "metadata": {},
   "outputs": [
    {
     "name": "stdin",
     "output_type": "stream",
     "text": [
      "Guess a number (1~20): 3\n"
     ]
    },
    {
     "name": "stdout",
     "output_type": "stream",
     "text": [
      "Go higher\n"
     ]
    },
    {
     "name": "stdin",
     "output_type": "stream",
     "text": [
      "Guess a number (1~20): 4\n"
     ]
    },
    {
     "name": "stdout",
     "output_type": "stream",
     "text": [
      "Go higher\n"
     ]
    },
    {
     "name": "stdin",
     "output_type": "stream",
     "text": [
      "Guess a number (1~20): 5\n"
     ]
    },
    {
     "name": "stdout",
     "output_type": "stream",
     "text": [
      "Go higher\n"
     ]
    },
    {
     "name": "stdin",
     "output_type": "stream",
     "text": [
      "Guess a number (1~20): 6\n"
     ]
    },
    {
     "name": "stdout",
     "output_type": "stream",
     "text": [
      "Go higher\n"
     ]
    },
    {
     "name": "stdin",
     "output_type": "stream",
     "text": [
      "Guess a number (1~20): 7\n"
     ]
    },
    {
     "name": "stdout",
     "output_type": "stream",
     "text": [
      "Time is over. The answer is 9\n"
     ]
    }
   ],
   "source": [
    "# M7\n",
    "# 숫자 맞추기 게임 (1점)\n",
    "#\n",
    "# 사용자가 입력한 값(guess)이 컴퓨터가 고른 값(target)과 같으면 \"you got it\"을 출력하고 종료하는 코드 작성하기.\n",
    "# 값이 다르면 다르다고 안내하고 새 입력을 기다리기. 사용자가 숫자가 아닌 것을 입력하면 중단하기. \n",
    "# guess가 target보다 크면 \"go lower\"를\n",
    "# guess가 target보다 작으면 \"go higher\"를 출력하고 사용자의 새 입력 기다리기.\n",
    "# 5회 입력에도 못 맞추면 \"time is over\"라고 출력하면서 target 값을 함께 출력하며 종료하기\n",
    "# 실행 사례1) \n",
    "# Guess a number (1~20): 5\n",
    "# Go higher\n",
    "# Guess a number (1~20): 7\n",
    "# Go lower\n",
    "# Guess a number (1~20): 6\n",
    "# You got it\n",
    "#\n",
    "# 실행 사례1) \n",
    "# Guess a number (1~20): 1\n",
    "# Go higher\n",
    "# Guess a number (1~20): 14\n",
    "# Go lower\n",
    "# Guess a number (1~20): 4\n",
    "# Go higher\n",
    "# Guess a number (1~20): 7\n",
    "# Go higher\n",
    "# Guess a number (1~20): 9\n",
    "# Time is over. The answer is 12.\n",
    "\n",
    "# target을 임의값으로 설정하기 위해서는 아래 코드를 활용한다\n",
    "import random\n",
    "start, last = 1, 20\n",
    "target=random.randint(start, last)\n",
    "\n",
    "count = 1\n",
    "while count <= 5:\n",
    "    guess = int(input('Guess a number (1~20):'))\n",
    "    if guess == target:\n",
    "        print('You got it')\n",
    "        break\n",
    "    elif count == 5:\n",
    "        print(f'Time is over. The answer is {target}')\n",
    "        break\n",
    "    elif guess > target:\n",
    "        print('Go lower')\n",
    "    elif guess < target:\n",
    "        print('Go higher')\n",
    "    count += 1\n",
    "    "
   ]
  },
  {
   "cell_type": "code",
   "execution_count": 53,
   "id": "personalized-holocaust",
   "metadata": {},
   "outputs": [
    {
     "name": "stdout",
     "output_type": "stream",
     "text": [
      "Adding from 1 to 5 yields 15\n",
      "Adding from 2 to 5 yields 14\n",
      "Adding from 3 to 5 yields 12\n",
      "Adding from 4 to 5 yields 9\n",
      "Adding from 5 to 5 yields 5\n",
      "End of loop\n"
     ]
    }
   ],
   "source": [
    "# 12  \n",
    "# loop이 겹쳐지는 사례\n",
    "i, end = 1, 5\n",
    "while i <= end:\n",
    "    total, j = 0, i\n",
    "    while j <= end:\n",
    "        total += j\n",
    "        j += 1\n",
    "    print (f\"Adding from {i} to {end} yields {total}\")\n",
    "    i += 1\n",
    "print('End of loop')"
   ]
  },
  {
   "cell_type": "code",
   "execution_count": null,
   "id": "72e05036-b184-4c48-9199-97d9e965655e",
   "metadata": {},
   "outputs": [],
   "source": []
  },
  {
   "cell_type": "code",
   "execution_count": null,
   "id": "0ff8a283-834f-4c63-8655-966db8b8e1cb",
   "metadata": {},
   "outputs": [],
   "source": []
  }
 ],
 "metadata": {
  "kernelspec": {
   "display_name": "Python 3 (ipykernel)",
   "language": "python",
   "name": "python3"
  },
  "language_info": {
   "codemirror_mode": {
    "name": "ipython",
    "version": 3
   },
   "file_extension": ".py",
   "mimetype": "text/x-python",
   "name": "python",
   "nbconvert_exporter": "python",
   "pygments_lexer": "ipython3",
   "version": "3.11.6"
  }
 },
 "nbformat": 4,
 "nbformat_minor": 5
}
