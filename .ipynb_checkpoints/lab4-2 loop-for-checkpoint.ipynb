{
 "cells": [
  {
   "cell_type": "markdown",
   "id": "15157e42-4918-49c8-84e8-0d60fb3200f2",
   "metadata": {},
   "source": [
    "### 실습물 제출 가이드라인\n",
    "- 아래에 주어진 코드들을 실행해서 python의 동작 원리를 이해하시오. 그리고, # M 으로 주어진 부분은 코드를 작성하고 실행하시오.\n",
    "- 주어진 코드들을 다 실행해 보고 결과를 확인하면 3점을 부여합니다.\n",
    "- \"# M\"으로 주어진 문제는 정확한 답을 작성하면 표기된 점수가 부여됩니다."
   ]
  },
  {
   "cell_type": "markdown",
   "id": "dominican-canal",
   "metadata": {},
   "source": [
    "## Loop"
   ]
  },
  {
   "cell_type": "markdown",
   "id": "promising-ethnic",
   "metadata": {},
   "source": [
    "### for "
   ]
  },
  {
   "cell_type": "code",
   "execution_count": 1,
   "id": "elder-inspection",
   "metadata": {},
   "outputs": [
    {
     "name": "stdout",
     "output_type": "stream",
     "text": [
      "red\n",
      "blue\n",
      "green\n"
     ]
    }
   ],
   "source": [
    "# 1\n",
    "# for 기본 사례 \n",
    "for i in ['red', 'blue', 'green']:\n",
    "    print (i)"
   ]
  },
  {
   "cell_type": "code",
   "execution_count": 2,
   "id": "advisory-switch",
   "metadata": {},
   "outputs": [
    {
     "name": "stdout",
     "output_type": "stream",
     "text": [
      "2 4 6 8 10 12 14 16 18 "
     ]
    }
   ],
   "source": [
    "# 2\n",
    "# for 기본 사례 \n",
    "for i in range(1,10):\n",
    "    print(i*2, end=\" \")"
   ]
  },
  {
   "cell_type": "code",
   "execution_count": 3,
   "id": "administrative-killer",
   "metadata": {},
   "outputs": [
    {
     "name": "stdout",
     "output_type": "stream",
     "text": [
      "30 42 54 66 78 "
     ]
    }
   ],
   "source": [
    "# 3\n",
    "# for 기본 사례 \n",
    "for i in range(11, 40, 2):\n",
    "    if not i % 3:\n",
    "        print(i*2, end=\" \")"
   ]
  },
  {
   "cell_type": "code",
   "execution_count": 4,
   "id": "olympic-chase",
   "metadata": {},
   "outputs": [
    {
     "name": "stdout",
     "output_type": "stream",
     "text": [
      "==:==:==:==:\n",
      "==:==:==:==:==:\n",
      "==:==:==:==:==:==:\n",
      "==:==:==:==:==:==:==:\n"
     ]
    }
   ],
   "source": [
    "# 4\n",
    "# for 기본 사례 \n",
    "for i in (4, 5, 6, 7):\n",
    "    print(\"==:\"*i)"
   ]
  },
  {
   "cell_type": "code",
   "execution_count": 5,
   "id": "external-retro",
   "metadata": {},
   "outputs": [
    {
     "name": "stdout",
     "output_type": "stream",
     "text": [
      "8 10 12 14 "
     ]
    }
   ],
   "source": [
    "# 5\n",
    "# for 기본 사례 \n",
    "for i in {4, 5, 6, 7}:\n",
    "    print(i*2, end=\" \")"
   ]
  },
  {
   "cell_type": "code",
   "execution_count": 6,
   "id": "waiting-louis",
   "metadata": {},
   "outputs": [
    {
     "name": "stdout",
     "output_type": "stream",
     "text": [
      "hh ee ll ll oo "
     ]
    }
   ],
   "source": [
    "# 6\n",
    "# for 기본 사례 \n",
    "for i in \"hello\":\n",
    "    print(i*2, end=\" \")"
   ]
  },
  {
   "cell_type": "code",
   "execution_count": 7,
   "id": "polyphonic-chicago",
   "metadata": {},
   "outputs": [
    {
     "name": "stdout",
     "output_type": "stream",
     "text": [
      "8 10 12 14 "
     ]
    }
   ],
   "source": [
    "# 7\n",
    "# for 기본 사례\n",
    "for i in {4:8, 5:10, 6:12, 7:14}:\n",
    "    print(i*2, end=\" \")  # key 값만 인식"
   ]
  },
  {
   "cell_type": "code",
   "execution_count": 8,
   "id": "medieval-ballet",
   "metadata": {},
   "outputs": [
    {
     "name": "stdout",
     "output_type": "stream",
     "text": [
      "I'm chopping a tree...\n"
     ]
    },
    {
     "name": "stdin",
     "output_type": "stream",
     "text": [
      "press any key to try \n"
     ]
    },
    {
     "name": "stdout",
     "output_type": "stream",
     "text": [
      "once\n"
     ]
    },
    {
     "name": "stdin",
     "output_type": "stream",
     "text": [
      "press any key to try \n"
     ]
    },
    {
     "name": "stdout",
     "output_type": "stream",
     "text": [
      "twice\n"
     ]
    },
    {
     "name": "stdin",
     "output_type": "stream",
     "text": [
      "press any key to try \n"
     ]
    },
    {
     "name": "stdout",
     "output_type": "stream",
     "text": [
      "3 times\n"
     ]
    },
    {
     "name": "stdin",
     "output_type": "stream",
     "text": [
      "press any key to try \n"
     ]
    },
    {
     "name": "stdout",
     "output_type": "stream",
     "text": [
      "4 times\n"
     ]
    },
    {
     "name": "stdin",
     "output_type": "stream",
     "text": [
      "press any key to try \n"
     ]
    },
    {
     "name": "stdout",
     "output_type": "stream",
     "text": [
      "5 times\n"
     ]
    },
    {
     "name": "stdin",
     "output_type": "stream",
     "text": [
      "press any key to try \n"
     ]
    },
    {
     "name": "stdout",
     "output_type": "stream",
     "text": [
      "6 times\n"
     ]
    },
    {
     "name": "stdin",
     "output_type": "stream",
     "text": [
      "press any key to try \n"
     ]
    },
    {
     "name": "stdout",
     "output_type": "stream",
     "text": [
      "7 times\n"
     ]
    },
    {
     "name": "stdin",
     "output_type": "stream",
     "text": [
      "press any key to try \n"
     ]
    },
    {
     "name": "stdout",
     "output_type": "stream",
     "text": [
      "8 times\n"
     ]
    },
    {
     "name": "stdin",
     "output_type": "stream",
     "text": [
      "press any key to try \n"
     ]
    },
    {
     "name": "stdout",
     "output_type": "stream",
     "text": [
      "9 times\n"
     ]
    },
    {
     "name": "stdin",
     "output_type": "stream",
     "text": [
      "press any key to try \n"
     ]
    },
    {
     "name": "stdout",
     "output_type": "stream",
     "text": [
      "10 times\n",
      "The tree is falling.\n"
     ]
    }
   ],
   "source": [
    "# 8 \n",
    "# “나무를 찍는다”는 메시지를 10번 출력하고, 10번째에는 “나무가 쓰러진다”는 메시지를 출력하는 코드 만들기\n",
    "print(\"I'm chopping a tree...\")\n",
    "for treeHit in range(1, 11):\n",
    "    input(\"press any key to try\")\n",
    "    if treeHit == 1:\n",
    "        print(\"once\")\n",
    "    elif treeHit == 2:\n",
    "        print(\"twice\")\n",
    "    else:\n",
    "        print(\"%d times\" % treeHit)\n",
    "print(\"The tree is falling.\")"
   ]
  },
  {
   "cell_type": "code",
   "execution_count": 47,
   "id": "angry-signal",
   "metadata": {},
   "outputs": [
    {
     "name": "stdout",
     "output_type": "stream",
     "text": [
      "3 6 9 12 15 18 "
     ]
    }
   ],
   "source": [
    "# M1\n",
    "# 1부터 20까지의 숫자 중에서 3의 배수만 한 줄에 출력하는 코드를 for를 사용해서 작성하시오. (0.2점)\n",
    "# 실행 예) 3 6 9 12 15 18\n",
    "for i in range(1, 21):\n",
    "    if not i % 3:\n",
    "        print(i, end = ' ')"
   ]
  },
  {
   "cell_type": "code",
   "execution_count": 63,
   "id": "09c9346c-bd89-49b8-97ea-f6d7a2671b2d",
   "metadata": {},
   "outputs": [
    {
     "name": "stdin",
     "output_type": "stream",
     "text": [
      "Enter your numbers: 234 127 98 384 927\n"
     ]
    },
    {
     "name": "stdout",
     "output_type": "stream",
     "text": [
      "['234', '127', '98', '384', '927']\n",
      "234 127 927 "
     ]
    }
   ],
   "source": [
    "# M2 \n",
    "# 사용자로부터 여러 숫자들을 입력 받고,\n",
    "# 입력된 숫자들 중에서 2가 포함된 숫자만 한 줄에 출력하는 코드를 작성하시오. (0.3점)\n",
    "# 실행 예)\n",
    "# Enter your numbers: 234 127 98 384 927\n",
    "# 234 127 927 \n",
    "num_list = input('Enter your numbers:').split()\n",
    "print(num_list)\n",
    "for num in num_list:\n",
    "    if '2' in num:\n",
    "        print(num, end = ' ')"
   ]
  },
  {
   "cell_type": "code",
   "execution_count": 1,
   "id": "whole-miniature",
   "metadata": {},
   "outputs": [
    {
     "name": "stdin",
     "output_type": "stream",
     "text": [
      "Height: 5\n",
      "Pattern: &\n"
     ]
    },
    {
     "name": "stdout",
     "output_type": "stream",
     "text": [
      "&\n",
      "&&\n",
      "&&&\n",
      "&&&&\n",
      "&&&&&\n"
     ]
    }
   ],
   "source": [
    "# 9 \n",
    "# 직각 삼각형 그리기\n",
    "# 사용자가 입력한 높이와 패턴을 사용해서 직각 삼각형 그리기\n",
    "height = int(input(\"Height:\"))\n",
    "pattern = input(\"Pattern:\")\n",
    "for i in range(1, height+1):\n",
    "    print(pattern*i)"
   ]
  },
  {
   "cell_type": "code",
   "execution_count": 23,
   "id": "4d86c220-cc51-438c-9164-57eb903665f5",
   "metadata": {},
   "outputs": [
    {
     "name": "stdin",
     "output_type": "stream",
     "text": [
      "Enter a string: happy\n"
     ]
    },
    {
     "name": "stdout",
     "output_type": "stream",
     "text": [
      "h\n",
      "aa\n",
      "ppp\n",
      "pppp\n",
      "yyyyy\n"
     ]
    }
   ],
   "source": [
    "# M3\n",
    "# 사용자가 입력한 string 내의 글자를 사용해서 직각삼각형을 그리는 코드를 for를 사용해서 작성하시오.\n",
    "# 실행 예)\n",
    "# Enter a string: happy\n",
    "# h\n",
    "# aa\n",
    "# ppp\n",
    "# pppp\n",
    "# yyyyy\n",
    "iter = 1\n",
    "str = tuple(input('Enter a string:'))\n",
    "for char in str:\n",
    "    print(char*iter, end = '')\n",
    "    iter += 1\n",
    "    print('')\n",
    "\n"
   ]
  },
  {
   "cell_type": "code",
   "execution_count": 16,
   "id": "ec0cc65a-097e-436d-b251-c7da3fb63525",
   "metadata": {},
   "outputs": [
    {
     "name": "stdin",
     "output_type": "stream",
     "text": [
      "Enter a number: 5\n",
      "Enter a number: 2\n",
      "Enter a number: 3\n"
     ]
    },
    {
     "name": "stdout",
     "output_type": "stream",
     "text": [
      "The largest number is 5\n"
     ]
    }
   ],
   "source": [
    "# 10\n",
    "# 사용자로부터 세 개의 숫자를 입력 받아서 제일 큰 숫자 출력\n",
    "# 한 번에 하나씩 숫자를 입력받아서 숫자로 변환하기\n",
    "\n",
    "maximum = 0\n",
    "for _ in range(3):           \n",
    "    num = int(input(\"Enter a number:\"))\n",
    "    if num > maximum:\n",
    "        maximum = num\n",
    "print(f\"The largest number is {maximum}\")"
   ]
  },
  {
   "cell_type": "code",
   "execution_count": 17,
   "id": "fef11621-0bc8-48c8-84a0-8641e3ea9423",
   "metadata": {},
   "outputs": [
    {
     "name": "stdin",
     "output_type": "stream",
     "text": [
      "Enter three numbers: 2 3 4\n"
     ]
    },
    {
     "name": "stdout",
     "output_type": "stream",
     "text": [
      "The largest number is 4\n"
     ]
    }
   ],
   "source": [
    "# 11\n",
    "# 사용자로부터 한 번에 세 개의 숫자를 입력 받아서 제일 큰 숫자 출력\n",
    "# string의 split()을 사용해서 한 번에 여러 입력을 받아 분할하여 list로 변환\n",
    "# 첫번째 값을 최대값의 초기값으로 설정\n",
    "# for를 사용해서 나머지 숫자들과 크기 비교, for loop 안에서 숫자로 변환\n",
    "\n",
    "input_numbers = input(\"Enter three numbers:\")\n",
    "num_str_list = input_numbers.split()\n",
    "maximum = int(num_str_list[0])\n",
    "\n",
    "for num_str in num_str_list[1:]: \n",
    "    num = int(num_str)\n",
    "    if num > maximum:\n",
    "        maximum = num\n",
    "print(f\"The largest number is {maximum}\")"
   ]
  },
  {
   "cell_type": "code",
   "execution_count": 18,
   "id": "80c2bc9f-ee31-4aee-81e3-a36d53e528ef",
   "metadata": {},
   "outputs": [
    {
     "name": "stdin",
     "output_type": "stream",
     "text": [
      "Enter three numbers:  2 3 45\n"
     ]
    },
    {
     "name": "stdout",
     "output_type": "stream",
     "text": [
      "The largest number is 45\n"
     ]
    }
   ],
   "source": [
    "# 12\n",
    "# 사용자로부터 한 번에 세 개의 숫자를 입력 받아서 제일 큰 숫자 출력\n",
    "# string의 split()을 사용해서 한 번에 여러 입력을 받아 분할하여 list로 변환\n",
    "# map()을 사용해서 list 내 모든 element에 int()를 적용해서 숫자로 변환\n",
    "# 첫번째 숫자를 최대값의 초기값으로 설정\n",
    "# for를 사용해서 나머지 숫자들과 크기 비교, index를 사용해서 list 내 element 꺼내보기\n",
    "\n",
    "num_list = list(map(int, input(\"Enter three numbers: \").split()))\n",
    "maximum = num_list[0]\n",
    "\n",
    "for i in range(1, 3):\n",
    "    if num_list[i] > maximum:\n",
    "        maximum = num_list[i]\n",
    "\n",
    "print(f\"The largest number is {maximum}\")"
   ]
  },
  {
   "cell_type": "code",
   "execution_count": 19,
   "id": "lovely-sector",
   "metadata": {},
   "outputs": [
    {
     "name": "stdin",
     "output_type": "stream",
     "text": [
      "Enter three numbers:  2 3 45\n"
     ]
    },
    {
     "name": "stdout",
     "output_type": "stream",
     "text": [
      "The largest number is 45\n"
     ]
    }
   ],
   "source": [
    "# 13\n",
    "# 사용자로부터 한 번에 세 개의 숫자를 입력 받아서 제일 큰 숫자 출력\n",
    "# string의 split()을 사용해서 한 번에 여러 입력을 받아 분할하여 list로 변환\n",
    "# map()을 사용해서 list 내 모든 element에 int()를 적용해서 숫자로 변환\n",
    "# 첫번째 element를 최대값의 초기값으로 설정\n",
    "# for를 list에 적용해서 list 내 나머지 요소들을 점검\n",
    "\n",
    "numbers = list(map(int, input(\"Enter three numbers: \").split()))\n",
    "maximum = numbers[0]\n",
    "\n",
    "for num in numbers[1:]:\n",
    "    if num > maximum:\n",
    "        maximum = num\n",
    "\n",
    "print(f\"The largest number is {maximum}\")"
   ]
  },
  {
   "cell_type": "code",
   "execution_count": 20,
   "id": "1de33e8e-3f03-4cfb-bfc8-1c9394c69ce5",
   "metadata": {},
   "outputs": [
    {
     "name": "stdin",
     "output_type": "stream",
     "text": [
      "Enter the numbers:  25 654 2 777\n"
     ]
    },
    {
     "name": "stdout",
     "output_type": "stream",
     "text": [
      "The largest number is 777\n"
     ]
    }
   ],
   "source": [
    "# 14\n",
    "# 사용자로부터 여러 개의 숫자를 입력 받아서 제일 큰 숫자 출력\n",
    "# string의 split()을 사용해서 사용자의 입력을 분할하여 list로 변환\n",
    "# map()을 사용해서 list 내 모든 element에 int()를 적용해서 숫자로 변환\n",
    "# index를 사용해서 list내 요소 접근\n",
    "# 첫번째 element를 최대값의 초기값으로 설정\n",
    "# for를 입력된 나머지 숫자의 갯수만큼 반복\n",
    "\n",
    "num_list = list(map(int, input(\"Enter the numbers: \").split()))\n",
    "maximum = num_list[0]\n",
    "\n",
    "for i in range(1, len(num_list)):\n",
    "    if num_list[i] > maximum:\n",
    "        maximum = num_list[i]\n",
    "\n",
    "print(f\"The largest number is {maximum}\")"
   ]
  },
  {
   "cell_type": "code",
   "execution_count": 21,
   "id": "7f648c1d-26c2-4abb-89a1-159398d31f0a",
   "metadata": {},
   "outputs": [
    {
     "name": "stdin",
     "output_type": "stream",
     "text": [
      "Enter the numbers:  2 4 64 252 56 35\n"
     ]
    },
    {
     "name": "stdout",
     "output_type": "stream",
     "text": [
      "The largest number is 252 at index 3\n"
     ]
    }
   ],
   "source": [
    "# 15\n",
    "# 사용자로부터 여러 개의 숫자를 입력 받아서 제일 큰 숫자와 위치 번호를 출력\n",
    "# string의 split()을 사용해서 한 번에 여러 입략을 받아 분할하여 list로 변환\n",
    "# map()을 사용해서 list 내 모든 element에 int()를 적용해서 숫자로 변환\n",
    "# 첫번째 element를 최대값의 초기값으로 설정\n",
    "# list의 길이를 사용함으로써 index 정보 관리 가능\n",
    "\n",
    "num_list = list(map(int, input(\"Enter the numbers: \").split()))\n",
    "position = 0\n",
    "maximum = num_list[position]\n",
    "\n",
    "for i in range(1, len(num_list)):\n",
    "    if num_list[i] > maximum:\n",
    "        maximum = num_list[i]\n",
    "        position = i\n",
    "\n",
    "print(f\"The largest number is {maximum} at index {position}\")"
   ]
  },
  {
   "cell_type": "code",
   "execution_count": 22,
   "id": "loaded-heart",
   "metadata": {},
   "outputs": [
    {
     "name": "stdin",
     "output_type": "stream",
     "text": [
      "enter items: clover\n"
     ]
    },
    {
     "name": "stdout",
     "output_type": "stream",
     "text": [
      "clover : you are lucky\n",
      "bye\n"
     ]
    }
   ],
   "source": [
    "# 16\n",
    "# 사용자가 입력한 단어들이 주어진 list 내에 있으면 \"you are lucky\" 메시지 출력 \n",
    "\n",
    "lucky_items = [\"clover\", \"photo\", \"bookmark\", \"pen\", \"fork\", \"spoon\"]\n",
    "input_list=input(\"enter items:\").split()\n",
    "for item in input_list:\n",
    "    if item in lucky_items:\n",
    "         print(item, \": you are lucky\")\n",
    "print(\"bye\")"
   ]
  },
  {
   "cell_type": "code",
   "execution_count": 23,
   "id": "therapeutic-lebanon",
   "metadata": {},
   "outputs": [
    {
     "name": "stdout",
     "output_type": "stream",
     "text": [
      "Congratulations: ID 1 has passed\n",
      "Congratulations: ID 3 has passed\n",
      "Congratulations: ID 5 has passed\n",
      "Total score of passed students: 237\n",
      "Average score of passed students: 79.0\n"
     ]
    }
   ],
   "source": [
    "# 17 \n",
    "# for loop의 continue 사례\n",
    "# 점수를 담은 list에서 60점 이상에 대해서만 합격 축하 메시지 출력\n",
    "\n",
    "marks = [90, 25, 67, 45, 80]\n",
    "\n",
    "count, total = 0, 0\n",
    "for i in range(len(marks)):\n",
    "    mark = marks[i]\n",
    "    if mark < 60:\n",
    "        continue\n",
    "    print(f\"Congratulations: ID {i+1} has passed\")\n",
    "    total += mark\n",
    "    count += 1\n",
    "print(\"Total score of passed students:\", total)\n",
    "print(\"Average score of passed students:\", total/count)"
   ]
  },
  {
   "cell_type": "code",
   "execution_count": 24,
   "id": "reasonable-louis",
   "metadata": {},
   "outputs": [
    {
     "name": "stdout",
     "output_type": "stream",
     "text": [
      "0.1: The system is out of order.\n",
      "Completed the test.\n"
     ]
    }
   ],
   "source": [
    "# 18 \n",
    "# for loop의 break 사례\n",
    "# 2.0보다 낮은 값은 비정상 사례로 판단하고 평가 중단\n",
    "\n",
    "observations = [0.1, 2.3, 4.1, 3.2, 2.1, 5.3]\n",
    "lower_bound = 2.0\n",
    "for item in observations:\n",
    "    if item < lower_bound:\n",
    "        print(f\"{item}: The system is out of order.\")\n",
    "        break\n",
    "print(\"Completed the test.\")"
   ]
  },
  {
   "cell_type": "code",
   "execution_count": 25,
   "id": "exact-freight",
   "metadata": {},
   "outputs": [
    {
     "name": "stdout",
     "output_type": "stream",
     "text": [
      "The system is perfect.\n",
      "Completed the test.\n"
     ]
    }
   ],
   "source": [
    "# 19\n",
    "# for loop의 break, else 사례\n",
    "# 5.5보다 큰 값은 비정상 사례로 판단하고 평가 중단\n",
    "\n",
    "observations = [2.1, 3.2, 4.1, 3.2, 2.1, 5.3, 4.3, 2.3, 4.5, 3.7]\n",
    "upper_bound = 5.5\n",
    "for item in observations:\n",
    "    if item > upper_bound:\n",
    "        print(f\"{item}: The system is out of order.\")\n",
    "        break\n",
    "else:\n",
    "    print(\"The system is perfect.\")\n",
    "print(\"Completed the test.\")"
   ]
  },
  {
   "cell_type": "code",
   "execution_count": 7,
   "id": "e267b5de-cc8f-4f85-a9b5-a7385872f17a",
   "metadata": {},
   "outputs": [
    {
     "name": "stdin",
     "output_type": "stream",
     "text": [
      "Enter more than two numbers: 1 5 2 8\n"
     ]
    },
    {
     "name": "stdout",
     "output_type": "stream",
     "text": [
      "Even number is available: 2\n"
     ]
    }
   ],
   "source": [
    "# M4 (0.7점)\n",
    "# 2개 이상의 정수를 입력 받고,\n",
    "# 사용자의 입력 중에서 첫 짝수를 발견하면 \"Even number is available\"이라는 메시지와 그 값을 출력하고 종료하고 (0.2점),\n",
    "# 모두 홀수이면 \"Odd numbers only\"라고 출력한다 (0.3점)\n",
    "# for-else를 사용하시오.\n",
    "#\n",
    "# 실행 사례 1)\n",
    "# Enter more than two numbers: 1 3 5\n",
    "# Odd numbers only\n",
    "#\n",
    "# 실행 사례 2)\n",
    "# Enter more than two numbers: 1 5 2 8\n",
    "# Even number is available: 2\n",
    "\n",
    "num_list = list(map(int, input('Enter more than two numbers:').split()))\n",
    "for num in num_list:\n",
    "    if not num % 2:\n",
    "        print(f'Even number is available: {num}')\n",
    "        break\n",
    "else:\n",
    "    print('Odd numbers only')\n",
    "\n"
   ]
  },
  {
   "cell_type": "code",
   "execution_count": 29,
   "id": "funny-welding",
   "metadata": {},
   "outputs": [
    {
     "name": "stdin",
     "output_type": "stream",
     "text": [
      " 12 25 8 6\n"
     ]
    },
    {
     "name": "stdout",
     "output_type": "stream",
     "text": [
      "1\n",
      "2\n",
      "2\n",
      "5\n",
      "8\n",
      "End of for loop\n"
     ]
    }
   ],
   "source": [
    "# 20\n",
    "# for loop의 continue, else 사례\n",
    "\n",
    "in_tuple = tuple(input())\n",
    "for x in in_tuple:\n",
    "    if not x.isdigit():\n",
    "        continue\n",
    "    if int(x) % 3:\n",
    "        print(x)\n",
    "    else:\n",
    "        break\n",
    "else:\n",
    "     print(\"Scanned all elements of the tuple\")\n",
    "print(\"End of for loop\")"
   ]
  },
  {
   "cell_type": "code",
   "execution_count": 22,
   "id": "2be29b93-4da9-432a-95e8-6765dd62ae63",
   "metadata": {},
   "outputs": [
    {
     "name": "stdout",
     "output_type": "stream",
     "text": [
      "Guess a word starting with 'h' and the length is smaller than 6\n"
     ]
    },
    {
     "name": "stdin",
     "output_type": "stream",
     "text": [
      "Type the letters of the word one by one: h\n"
     ]
    },
    {
     "name": "stdout",
     "output_type": "stream",
     "text": [
      "continue\n"
     ]
    },
    {
     "name": "stdin",
     "output_type": "stream",
     "text": [
      "Type the letters of the word one by one: e\n"
     ]
    },
    {
     "name": "stdout",
     "output_type": "stream",
     "text": [
      "Fail\n"
     ]
    }
   ],
   "source": [
    "# M6 -> 여기까지.\n",
    "# 단어 맞추기 게임 (1점)\n",
    "# 아래에 주어진 코드를 사용해서 단어 맞추기 게임을 만들어 보자.\n",
    "# \n",
    "# 사용자가 단어를 추론하게 하되, \n",
    "# 한 글자씩 입력 받아서 입력된 글자로 만들어지는 단어가 \n",
    "# 단어 set에 있는 단어와 앞부분이 일치하는 것이 있으면 \"continue\"라고 출력하고,\n",
    "# 없으면 \"fail\"이라고 출력하고 종료하고,\n",
    "# 맞아 떨어지는 단어가 있으면 \"success\"와 단어를 출력하고 종료하시오.\n",
    "\n",
    "# 실행 예1) \n",
    "# Guess a word starting with 'h' and the length is smaller than 6\n",
    "# Type the letters of the word one by one: h\n",
    "# continue\n",
    "# Type the letters of the word one by one: o\n",
    "# continue\n",
    "# Type the letters of the word one by one: p\n",
    "# continue\n",
    "# Type the letters of the word one by one: e\n",
    "# success! hope\n",
    "\n",
    "# 실행 예2)\n",
    "# Guess a word starting with 'h' and the length is smaller than 6\n",
    "# Type the letters of the word one by one: h\n",
    "# continue\n",
    "# Type the letters of the word one by one: x\n",
    "# Fail\n",
    "\n",
    "# target을 임의값으로 설정하기 위해서는 아래 코드를 활용한다\n",
    "import random\n",
    "words = [\"happy\", \"hello\", \"hippo\", \"hope\", \"hug\", \"hide\", \"hen\", \"hat\", \"home\", \"hash\"]\n",
    "target_word = words[random.randint(0, len(words)-1)]\n",
    "\n",
    "# print(target_word)\n",
    "print(f\"Guess a word starting with '{target_word[0]}' and the length is smaller than 6\")\n",
    "for i in range(len(target_word)):\n",
    "    letter = input('Type the letters of the word one by one:')\n",
    "    if letter == target_word[i]:\n",
    "        if i == len(target_word) - 1:\n",
    "            print(f'success! {target_word}')\n",
    "            break\n",
    "        print('continue')\n",
    "        continue\n",
    "    else:\n",
    "        print('Fail')\n",
    "        break\n",
    "\n"
   ]
  },
  {
   "cell_type": "code",
   "execution_count": 72,
   "id": "relevant-biography",
   "metadata": {},
   "outputs": [
    {
     "name": "stdout",
     "output_type": "stream",
     "text": [
      "1 does pass\n",
      "2 does not pass\n",
      "3 does pass\n",
      "4 does not pass\n",
      "5 does pass\n"
     ]
    }
   ],
   "source": [
    "# 21\n",
    "# enumerate()을 사용해서 list에 자리 번호 붙이기\n",
    "marks = [90, 25, 67, 45, 80]\n",
    "\n",
    "for number, mark in enumerate(marks, start=1):\n",
    "    if mark >= 60:\n",
    "        print(f\"{number} does pass\")\n",
    "    else:\n",
    "        print(f\"{number} does not pass\")"
   ]
  },
  {
   "cell_type": "code",
   "execution_count": 31,
   "id": "fabulous-haiti",
   "metadata": {},
   "outputs": [],
   "source": [
    "# M5 (0.5점)\n",
    "# 과일 이름 영어 단어 5개로 구성된 list를 만들고 (예, ['kiwi','apple','peach','pear','melon']),\n",
    "# 사용자로부터 과일 이름을 입력받아서, \n",
    "# 해당 과일 이름이 앞에서 만든 list에 포함되어 있으면 'yes'와 해당 단어의 위치번호를 출력하고 (0.3점),  \n",
    "# 없으면 'not avialable'를 출력하는 코드를 작성하시오 (0.2점).\n",
    "# enumerate()을 사용하여 구현하시오.\n",
    "# \n",
    "# 실행 사례 1)\n",
    "# fruits = ['kiwi','apple','peach','pear','melon']\n",
    "# fruit name: apple\n",
    "# yes, available at 1\n",
    "# \n",
    "# 실행 사례 2)\n",
    "# fruit name: coconut\n",
    "# not available"
   ]
  },
  {
   "cell_type": "code",
   "execution_count": 33,
   "id": "recovered-energy",
   "metadata": {},
   "outputs": [
    {
     "name": "stdout",
     "output_type": "stream",
     "text": [
      "(i,j)= ( 3, 0 )\n",
      "(i,j)= ( 3, 1 )\n",
      "(i,j)= ( 3, 2 )\n",
      "(i,j)= ( 2, 0 )\n",
      "(i,j)= ( 2, 1 )\n",
      "(i,j)= ( 2, 2 )\n",
      "(i,j)= ( 1, 0 )\n",
      "(i,j)= ( 1, 1 )\n",
      "(i,j)= ( 1, 2 )\n"
     ]
    }
   ],
   "source": [
    "# 22\n",
    "# for문 중첩\n",
    "\n",
    "for i in range(3, 0, -1):\n",
    "    for j in range(0, 3):\n",
    "       print (f\"(i,j)= ( {i}, {j} )\")"
   ]
  },
  {
   "cell_type": "code",
   "execution_count": 34,
   "id": "mature-addiction",
   "metadata": {},
   "outputs": [
    {
     "name": "stdout",
     "output_type": "stream",
     "text": [
      "2 4 6 8 10 12 14 16 18  \n",
      "4 8 12 16 20 24 28 32 36  \n",
      "6 12 18 24 30 36 42 48 54  \n",
      "8 16 24 32 40 48 56 64 72  \n"
     ]
    }
   ],
   "source": [
    "# 23\n",
    "# for문 중첩 사례\n",
    "for i in range(2, 10, 2):\n",
    "    for j in range (1, 10):\n",
    "        print (i*j, end=\" \")\n",
    "    print(\" \")"
   ]
  },
  {
   "cell_type": "markdown",
   "id": "corrected-macintosh",
   "metadata": {},
   "source": [
    "### for 와 while 비교 (적절한 상황 찾기)"
   ]
  },
  {
   "cell_type": "code",
   "execution_count": 35,
   "id": "friendly-plymouth",
   "metadata": {},
   "outputs": [
    {
     "name": "stdout",
     "output_type": "stream",
     "text": [
      "12 18 "
     ]
    }
   ],
   "source": [
    "# 24\n",
    "# while문과 for문을 사용하기에 적절한 사례 찾기\n",
    "# list에서 20보다 작은 3의 배수 한 줄에 출력, while 문을 사용하는 사례\n",
    "list1 = [13, 21, 12, 14, 30, 18]\n",
    "i = 0\n",
    "while i < len(list1):\n",
    "    item = list1[i]; i += 1\n",
    "    if not (item % 3) and item < 20:\n",
    "        print(item, end=\" \")"
   ]
  },
  {
   "cell_type": "code",
   "execution_count": 36,
   "id": "round-guarantee",
   "metadata": {},
   "outputs": [
    {
     "name": "stdout",
     "output_type": "stream",
     "text": [
      "12 18 "
     ]
    }
   ],
   "source": [
    "# 25\n",
    "# while문과 for문을 사용하기에 적절한 사례 찾기\n",
    "# list에서 20보다 작은 3의 배수 한 줄에 출력, for 문을 사용하는 사례\n",
    "list1 = [13, 21, 12, 14, 30, 18]\n",
    "for item in list1:\n",
    "    if not (item % 3) and item < 20:\n",
    "        print(item, end=\" \")"
   ]
  },
  {
   "cell_type": "code",
   "execution_count": 37,
   "id": "typical-retrieval",
   "metadata": {},
   "outputs": [],
   "source": [
    "# M7\n",
    "# 사용자로부터 여러 개의 숫자를 한 번에 입력받아서 짝수의 제곱의 합을 구하는 코드를 \n",
    "# while을 사용해서 구현하시오 (0.5점)\n",
    "# 실행 사례) \n",
    "# Enter the numbers: 4 6 1\n",
    "# The sum of squares of even numbers: 52\n",
    "\n"
   ]
  },
  {
   "cell_type": "code",
   "execution_count": 38,
   "id": "affiliated-zealand",
   "metadata": {},
   "outputs": [],
   "source": [
    "# M8\n",
    "# 사용자로부터 여러 개의 숫자를 한 번에 입력받아서 짝수의 제곱의 합을 구하는 코드를 \n",
    "# for를 사용해서 구현하시오 (0.3점)\n",
    "# 실행 사례) \n",
    "# Enter the numbers: 4 6 1\n",
    "# The sum of squares of even numbers: 52\n"
   ]
  }
 ],
 "metadata": {
  "kernelspec": {
   "display_name": "Python 3 (ipykernel)",
   "language": "python",
   "name": "python3"
  },
  "language_info": {
   "codemirror_mode": {
    "name": "ipython",
    "version": 3
   },
   "file_extension": ".py",
   "mimetype": "text/x-python",
   "name": "python",
   "nbconvert_exporter": "python",
   "pygments_lexer": "ipython3",
   "version": "3.11.6"
  }
 },
 "nbformat": 4,
 "nbformat_minor": 5
}
