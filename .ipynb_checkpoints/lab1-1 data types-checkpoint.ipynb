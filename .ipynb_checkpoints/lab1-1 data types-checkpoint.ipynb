{
 "cells": [
  {
   "cell_type": "markdown",
   "id": "declared-introduction",
   "metadata": {},
   "source": [
    "### 실습물 제출 가이드라인\n",
    "- 아래에 주어진 코드들을 실행해서 python의 동작 원리를 이해하시오. 그리고, # M 으로 주어진 부분은 코드를 작성하고 실행하시오.\n",
    "- 주어진 코드들을 다 실행해 보고 결과를 확인하면 3점을 부여합니다.\n",
    "- \"# M\"으로 주어진 문제는 정확한 답을 작성하면 괄호 안에 표기된 점수가 부여됩니다."
   ]
  },
  {
   "cell_type": "markdown",
   "id": "small-pharmacology",
   "metadata": {},
   "source": [
    "## Variable and data types"
   ]
  },
  {
   "cell_type": "code",
   "execution_count": 50,
   "id": "crude-patent",
   "metadata": {},
   "outputs": [
    {
     "name": "stdout",
     "output_type": "stream",
     "text": [
      "19.5\n"
     ]
    }
   ],
   "source": [
    "# 1.1 변수는 할당문으로 생성한다\n",
    "my_age = 19.5\n",
    "print(my_age)"
   ]
  },
  {
   "cell_type": "code",
   "execution_count": 51,
   "id": "proved-handy",
   "metadata": {},
   "outputs": [
    {
     "name": "stdout",
     "output_type": "stream",
     "text": [
      "19\n"
     ]
    }
   ],
   "source": [
    "# 1.2 변수의 데이터 타입은 고정되지 않고 할당되는 값에 따라 변한다\n",
    "my_age = 19\n",
    "print(my_age)"
   ]
  },
  {
   "cell_type": "code",
   "execution_count": 52,
   "id": "canadian-champagne",
   "metadata": {},
   "outputs": [
    {
     "name": "stdout",
     "output_type": "stream",
     "text": [
      "19\n"
     ]
    }
   ],
   "source": [
    "# 2 다른 변수에 값을 복사할 수 있다\n",
    "your_age = my_age\n",
    "print(your_age)"
   ]
  },
  {
   "cell_type": "code",
   "execution_count": 53,
   "id": "norwegian-antarctica",
   "metadata": {
    "scrolled": true
   },
   "outputs": [
    {
     "name": "stdout",
     "output_type": "stream",
     "text": [
      "21 21\n"
     ]
    }
   ],
   "source": [
    "# 3   두 개 이상의 변수에 동일한 값을 할당할 수 있다\n",
    "his_age = her_age = 21\n",
    "print(his_age, her_age)"
   ]
  },
  {
   "cell_type": "code",
   "execution_count": 54,
   "id": "romance-removal",
   "metadata": {},
   "outputs": [
    {
     "name": "stdout",
     "output_type": "stream",
     "text": [
      "22 21\n"
     ]
    }
   ],
   "source": [
    "# 4.1 하나의 문장으로 두 개 이상의 변수에 다른 값을 할당할 수 있다\n",
    "his_age, her_age = 22, 21\n",
    "print(his_age, her_age)"
   ]
  },
  {
   "cell_type": "code",
   "execution_count": 55,
   "id": "fiscal-justice",
   "metadata": {},
   "outputs": [
    {
     "name": "stdout",
     "output_type": "stream",
     "text": [
      "22 22 21 21\n"
     ]
    }
   ],
   "source": [
    "# 4.2 하나의 문장으로 두 개 이상의 변수에 다른 변수의 값을 할당할 수 있다\n",
    "my_age, your_age = his_age, her_age\n",
    "print(my_age, his_age, your_age, her_age)"
   ]
  },
  {
   "cell_type": "code",
   "execution_count": 56,
   "id": "moved-switzerland",
   "metadata": {},
   "outputs": [
    {
     "name": "stdout",
     "output_type": "stream",
     "text": [
      "Jane Eyre The Old Man and the Sea Pride and Prejudice Anne of Green Gables\n"
     ]
    }
   ],
   "source": [
    "# M1 \n",
    "# 4.2와 같이, 하나의 문장으로 my_book에 \"Jane Eyre\", \n",
    "# your_book에 \"The Old Man and the Sea\"를 \n",
    "# his_book에 \"Pride and Prejudice\"를 \n",
    "# her_book에 \"Anne of Green Gables\"를 할당하시오. (0.2점)\n",
    "my_book, your_book, his_book, her_book = \"Jane Eyre\", \"The Old Man and the Sea\", \"Pride and Prejudice\", \"Anne of Green Gables\"\n",
    "print(my_book, your_book, his_book, her_book)\n",
    "\n"
   ]
  },
  {
   "cell_type": "code",
   "execution_count": 57,
   "id": "coral-boost",
   "metadata": {},
   "outputs": [
    {
     "ename": "NameError",
     "evalue": "name 'his_age' is not defined",
     "output_type": "error",
     "traceback": [
      "\u001b[0;31m---------------------------------------------------------------------------\u001b[0m",
      "\u001b[0;31mNameError\u001b[0m                                 Traceback (most recent call last)",
      "Cell \u001b[0;32mIn[57], line 3\u001b[0m\n\u001b[1;32m      1\u001b[0m \u001b[38;5;66;03m# 5\u001b[39;00m\n\u001b[1;32m      2\u001b[0m \u001b[38;5;28;01mdel\u001b[39;00m his_age \u001b[38;5;66;03m# his_age 라는 변수를 삭제하는 코드. 오류나는게 정상\u001b[39;00m\n\u001b[0;32m----> 3\u001b[0m \u001b[38;5;28mprint\u001b[39m(\u001b[43mhis_age\u001b[49m)\n",
      "\u001b[0;31mNameError\u001b[0m: name 'his_age' is not defined"
     ]
    }
   ],
   "source": [
    "# 5\n",
    "del his_age # his_age 라는 변수를 삭제하는 코드. 오류나는게 정상\n",
    "print(his_age)"
   ]
  },
  {
   "cell_type": "markdown",
   "id": "angry-humanitarian",
   "metadata": {},
   "source": [
    "### Numeric data"
   ]
  },
  {
   "cell_type": "code",
   "execution_count": 58,
   "id": "honey-cholesterol",
   "metadata": {},
   "outputs": [
    {
     "name": "stdout",
     "output_type": "stream",
     "text": [
      "5 + 13 = 18\n",
      "5 - 13 = -8\n",
      "5 * 13 = 65\n",
      "5 / 13 = 0.38461538461538464\n",
      "5 // 13 = 0\n",
      "5 % 13 = 5\n",
      "5 ** 13 = 1220703125\n"
     ]
    }
   ],
   "source": [
    "# 6.1 정수 연산\n",
    "a, b = 5, 13\n",
    "\n",
    "# arithmetic operations\n",
    "addition = a + b;          print(f\"{a} + {b} = {addition}\") # 한 줄에 여러 문장 쓰기 위해 세미콜론 사용        \n",
    "subtraction = a - b;       print(f\"{a} - {b} = {subtraction}\")        \n",
    "multiplication = a * b;    print(f\"{a} * {b} = {multiplication}\")      \n",
    "division = a / b;          print(f\"{a} / {b} = {division}\")            \n",
    "floor_division = a // b;   print(f\"{a} // {b} = {floor_division}\")     \n",
    "remainder = a % b;         print(f\"{a} % {b} = {remainder}\")           \n",
    "exponentiation = a ** b;   print(f\"{a} ** {b} = {exponentiation}\")      "
   ]
  },
  {
   "cell_type": "code",
   "execution_count": 59,
   "id": "6753abe0-fc28-4d85-a3c3-bc66e2fd592c",
   "metadata": {},
   "outputs": [
    {
     "name": "stdout",
     "output_type": "stream",
     "text": [
      "9\n"
     ]
    }
   ],
   "source": [
    "# M2 \n",
    "# 25를 4로 나눈 몫과 38을 7로 나눈 나머지를 더해서 출력하는 코드를 작성하시오 (0.1점)\n",
    "print(25//4 + 38%7) # 우선순위때메 안에 소괄호 안써도 됨\n"
   ]
  },
  {
   "cell_type": "code",
   "execution_count": 60,
   "id": "bf9cf4b1-a09d-46e7-8aab-2cfefe875ab3",
   "metadata": {},
   "outputs": [
    {
     "name": "stdout",
     "output_type": "stream",
     "text": [
      "(5 == 13) = False\n",
      "(5 != 13) = True\n",
      "(5 < 13) = True\n",
      "(5 > 13) = False\n",
      "(5 <= 13) = True\n",
      "(5 >= 13) = False\n"
     ]
    }
   ],
   "source": [
    "# 6.2 정수 연산\n",
    "a, b = 5, 13\n",
    "# comparative operations\n",
    "equal = a == b;               print(f\"({a} == {b}) = {equal}\")                     \n",
    "not_equal = a != b;           print(f\"({a} != {b}) = {not_equal}\")               \n",
    "less_than = a < b;            print(f\"({a} < {b}) = {less_than}\")              \n",
    "greater_than = a > b;         print(f\"({a} > {b}) = {greater_than}\")             \n",
    "less_than_or_equal = a <= b;  print(f\"({a} <= {b}) = {less_than_or_equal}\")      \n",
    "greater_than_or_equal = a >= b; print(f\"({a} >= {b}) = {greater_than_or_equal}\")  "
   ]
  },
  {
   "cell_type": "code",
   "execution_count": 61,
   "id": "7430c299-de9e-44df-9a05-5bb60e7bd06e",
   "metadata": {},
   "outputs": [
    {
     "name": "stdout",
     "output_type": "stream",
     "text": [
      "(5 and 13) = 13\n",
      "(5 or 13) = 5\n",
      "(not 5) = False\n"
     ]
    }
   ],
   "source": [
    "# 6.3 정수 연산\n",
    "a, b = 5, 13\n",
    "# logical operations\n",
    "logic_and = a and b;           print(f\"({a} and {b}) = {logic_and}\")         \n",
    "logic_or = a or b;             print(f\"({a} or {b}) = {logic_or}\")         \n",
    "logic_not = not a;             print(f\"(not {a}) = {logic_not}\")      "
   ]
  },
  {
   "cell_type": "code",
   "execution_count": 62,
   "id": "c3fd512c-03be-4425-ab24-dd4c41b6b05b",
   "metadata": {},
   "outputs": [
    {
     "name": "stdout",
     "output_type": "stream",
     "text": [
      "False\n"
     ]
    }
   ],
   "source": [
    "# M3\n",
    "# a와 b에 12와 16, c와 d에 -1과 -2를 할당하고 \n",
    "# a가 b보다 작거나 같은지 비교한 값과,\n",
    "# c가 d보다 작거나 같은지 비교한 값에 대해 \n",
    "# and를 적용한 결과를 출력하는 코드를 작성하시오 (0.2점)\n",
    "a, b = 12, 16\n",
    "c, d = -1, -2\n",
    "print(a<=b and c<=d) # 우선순위때메 안에 소괄호 안써도 됨"
   ]
  },
  {
   "cell_type": "code",
   "execution_count": 81,
   "id": "15223c61-2935-4788-a9ee-67f495eb834e",
   "metadata": {},
   "outputs": [
    {
     "name": "stdout",
     "output_type": "stream",
     "text": [
      "(5 | 13) = 13\n",
      "(5 & 13) = 5\n",
      "(~ 5) = -6\n"
     ]
    }
   ],
   "source": [
    "# 6.4 정수 연산\n",
    "a, b = 5, 13\n",
    "# 5  = 00000000 00000000 00000000 00000101\n",
    "# 13 = 00000000 00000000 00000000 00001101\n",
    "# bitwise operations \n",
    "bit_or = a | b;                print(f\"({a} | {b}) = {bit_or}\")            \n",
    "bit_and = a & b;               print(f\"({a} & {b}) = {bit_and}\")          \n",
    "bit_not = ~ a;                 print(f\"(~ {a}) = {bit_not}\")  \n",
    "# 2의 보수 사용"
   ]
  },
  {
   "cell_type": "code",
   "execution_count": 82,
   "id": "7c4e0489-58a7-4db6-b693-2932992a250c",
   "metadata": {},
   "outputs": [
    {
     "name": "stdout",
     "output_type": "stream",
     "text": [
      "7\n"
     ]
    }
   ],
   "source": [
    "# M4\n",
    "# c와 d에 15와 7을 할당하고, \n",
    "# c와 d를 bitwise and 연산을 적용한 결과를 출력하는 코드를 작성하시오. (0.1점) \n",
    "c, d = 15, 7\n",
    "print(c & d)"
   ]
  },
  {
   "cell_type": "code",
   "execution_count": 83,
   "id": "growing-transparency",
   "metadata": {},
   "outputs": [
    {
     "name": "stdout",
     "output_type": "stream",
     "text": [
      "12.2 + 7.5 = 19.7\n",
      "12.2 - 7.5 = 4.699999999999999\n",
      "12.2 * 7.5 = 91.5\n",
      "12.2 / 7.5 = 1.6266666666666665\n",
      "12.2 ** 7.5 = 140507248.76547894\n"
     ]
    }
   ],
   "source": [
    "# 7.1 실수 연산\n",
    "a, b = 12.2, 7.5\n",
    "\n",
    "# arithmetic operations\n",
    "addition = a + b;         print(f\"{a} + {b} = {addition}\")              \n",
    "subtraction = a - b;      print(f\"{a} - {b} = {subtraction}\")         \n",
    "multiplication = a * b;   print(f\"{a} * {b} = {multiplication}\")      \n",
    "division = a / b;         print(f\"{a} / {b} = {division}\")                \n",
    "exponentiation = a ** b;  print(f\"{a} ** {b} = {exponentiation}\")"
   ]
  },
  {
   "cell_type": "code",
   "execution_count": 84,
   "id": "e6b8009c-af66-48cf-84bd-42ea5ca39908",
   "metadata": {},
   "outputs": [
    {
     "name": "stdout",
     "output_type": "stream",
     "text": [
      "121.59999999999998\n"
     ]
    }
   ],
   "source": [
    "# M5\n",
    "# c와 d에 15.2와 7.2를 할당하고, \n",
    "# c와 d의 차이를 구해서 c에 곱한 결과를 출력하는 코드를 작성하시오. (0.1점) # M3\n",
    "c, d = 15.2, 7.2\n",
    "print((c-d) * c)"
   ]
  },
  {
   "cell_type": "code",
   "execution_count": 47,
   "id": "1c8d00eb-640a-45a5-ad99-7698fc80d8ee",
   "metadata": {},
   "outputs": [
    {
     "name": "stdout",
     "output_type": "stream",
     "text": [
      "(12.2 == 7.5) = False\n",
      "(12.2 != 7.5) = True\n",
      "(12.2 < 7.5) = False\n",
      "(12.2 > 7.5) = True\n",
      "(12.2 <= 7.5) = False\n",
      "(12.2 >= 7.5) = True\n"
     ]
    }
   ],
   "source": [
    "# 7.2 실수 연산\n",
    "a, b = 12.2, 7.5\n",
    "# comparative operations\n",
    "equal = a == b;               print(f\"({a} == {b}) = {equal}\")                     \n",
    "not_equal = a != b;           print(f\"({a} != {b}) = {not_equal}\")               \n",
    "less_than = a < b;            print(f\"({a} < {b}) = {less_than}\")              \n",
    "greater_than = a > b;         print(f\"({a} > {b}) = {greater_than}\")             \n",
    "less_than_or_equal = a <= b;  print(f\"({a} <= {b}) = {less_than_or_equal}\")      \n",
    "greater_than_or_equal = a >= b; print(f\"({a} >= {b}) = {greater_than_or_equal}\")  "
   ]
  },
  {
   "cell_type": "code",
   "execution_count": 48,
   "id": "1572a1a5-4302-4f03-ab61-d6ae9a271c75",
   "metadata": {},
   "outputs": [
    {
     "name": "stdout",
     "output_type": "stream",
     "text": [
      "(12.2 and 7.5) = 7.5\n",
      "(12.2 or 7.5) = 12.2\n",
      "(not 12.2) = False\n"
     ]
    }
   ],
   "source": [
    "# 7.3 실수 연산\n",
    "a, b = 12.2, 7.5\n",
    "# logical operations\n",
    "logic_and = a and b;           print(f\"({a} and {b}) = {logic_and}\")         \n",
    "logic_or = a or b;             print(f\"({a} or {b}) = {logic_or}\")         \n",
    "logic_not = not a;             print(f\"(not {a}) = {logic_not}\")     "
   ]
  },
  {
   "cell_type": "code",
   "execution_count": 86,
   "id": "87f0f6d8-2fb7-4817-80ff-9a5119ad690e",
   "metadata": {},
   "outputs": [
    {
     "name": "stdout",
     "output_type": "stream",
     "text": [
      "False\n"
     ]
    }
   ],
   "source": [
    "# M6 \n",
    "# a와 b에 12.5와 16.1, c와 d에 -1.2과 -2.3를 할당하고 \n",
    "# a가 b보다 작거나 같은지 비교한 값과,\n",
    "# c가 d보다 작거나 같은지 비교한 값에 대해 and를 적용한 결과를 출력하는 코드를 작성하시오 (0.2점)\n",
    "a, b = 12.5, 16.1\n",
    "c, d = -1.2, -2.3\n",
    "print(a<=b and c<=d) # 우선순위 때문에 괄호없이 가능"
   ]
  },
  {
   "cell_type": "code",
   "execution_count": 87,
   "id": "laden-folder",
   "metadata": {},
   "outputs": [
    {
     "name": "stdout",
     "output_type": "stream",
     "text": [
      "(4+3j) + (3+4j) = (7+7j)\n",
      "(4+3j) - (3+4j) = (1-1j)\n",
      "(4+3j) * (3+4j) = 25j\n",
      "(4+3j) / (3+4j) = (0.96-0.28j)\n",
      "(4+3j) ** (3+4j) = (-4.687194290598313+8.29617477460759j)\n"
     ]
    }
   ],
   "source": [
    "# 8.1 복소수 연산\n",
    "a, b =  4+3j, 3+4j\n",
    "\n",
    "# arithmetic operations\n",
    "addition = a + b;         print(f\"{a} + {b} = {addition}\")            \n",
    "subtraction = a - b;      print(f\"{a} - {b} = {subtraction}\")        \n",
    "multiplication = a * b;   print(f\"{a} * {b} = {multiplication}\")      \n",
    "division = a / b;         print(f\"{a} / {b} = {division}\")           \n",
    "exponentiation = a ** b;  print(f\"{a} ** {b} = {exponentiation}\")  "
   ]
  },
  {
   "cell_type": "code",
   "execution_count": 88,
   "id": "7668d336-a21d-444e-b087-1667fad26947",
   "metadata": {},
   "outputs": [
    {
     "name": "stdout",
     "output_type": "stream",
     "text": [
      "((4+3j) == (3+4j)) = False\n",
      "((4+3j) != (3+4j)) = True\n"
     ]
    }
   ],
   "source": [
    "# 8.2 복소수 연산\n",
    "a, b =  4+3j, 3+4j\n",
    "\n",
    "# comparative operations\n",
    "equal = a == b;               print(f\"({a} == {b}) = {equal}\")                     \n",
    "not_equal = a != b;           print(f\"({a} != {b}) = {not_equal}\")      "
   ]
  },
  {
   "cell_type": "code",
   "execution_count": 89,
   "id": "2378b05f-8501-4ac7-90e5-4f38e65c042d",
   "metadata": {},
   "outputs": [
    {
     "name": "stdout",
     "output_type": "stream",
     "text": [
      "((4+3j) and (3+4j)) = (3+4j)\n",
      "((4+3j) or (3+4j)) = (4+3j)\n",
      "(not (4+3j)) = False\n"
     ]
    }
   ],
   "source": [
    "# 8.3 복소수 연산\n",
    "a, b =  4+3j, 3+4j\n",
    "\n",
    "# logical operations \n",
    "# 파이썬에서, and 할 때 앞에 인자가 0이 아니면 뒤에 인자를 그대로 출력함.\n",
    "# 파이썬에서, or 할 때 앞에 인자가 1이 아니면 뒤에 인자를 그대로 출력함.\n",
    "logic_and = a and b;           print(f\"({a} and {b}) = {logic_and}\") \n",
    "logic_or = a or b;             print(f\"({a} or {b}) = {logic_or}\")         \n",
    "logic_not = not a;             print(f\"(not {a}) = {logic_not}\") "
   ]
  },
  {
   "cell_type": "code",
   "execution_count": 90,
   "id": "biblical-clarity",
   "metadata": {},
   "outputs": [
    {
     "name": "stdout",
     "output_type": "stream",
     "text": [
      "21.5 + 3 = 24.5\n",
      "21.5 - 3 = 18.5\n",
      "21.5 * 3 = 64.5\n",
      "21.5 / 3 = 7.166666666666667\n",
      "21.5 ** 3 = 9938.375\n"
     ]
    }
   ],
   "source": [
    "# 9.1 실수와 정수 연산\n",
    "a, b = 21.5, 3\n",
    "\n",
    "# arithmetic operations\n",
    "addition = a + b;         print(f\"{a} + {b} = {addition}\")            \n",
    "subtraction = a - b;      print(f\"{a} - {b} = {subtraction}\")        \n",
    "multiplication = a * b;   print(f\"{a} * {b} = {multiplication}\")      \n",
    "division = a / b;         print(f\"{a} / {b} = {division}\")            \n",
    "exponentiation = a ** b;  print(f\"{a} ** {b} = {exponentiation}\")   "
   ]
  },
  {
   "cell_type": "code",
   "execution_count": 91,
   "id": "85b19978-5cd4-4372-8d9c-66ec1ad49e55",
   "metadata": {},
   "outputs": [
    {
     "name": "stdout",
     "output_type": "stream",
     "text": [
      "(21.5 == 3) = False\n",
      "(21.5 != 3) = True\n",
      "(21.5 < 3) = False\n",
      "(21.5 > 3) = True\n",
      "(21.5 <= 3) = False\n",
      "(21.5 >= 3) = True\n"
     ]
    }
   ],
   "source": [
    "# 9.2 실수와 정수 연산\n",
    "a, b = 21.5, 3\n",
    "\n",
    "# comparative operations\n",
    "equal = a == b;               print(f\"({a} == {b}) = {equal}\")                     \n",
    "not_equal = a != b;           print(f\"({a} != {b}) = {not_equal}\")               \n",
    "less_than = a < b;            print(f\"({a} < {b}) = {less_than}\")              \n",
    "greater_than = a > b;         print(f\"({a} > {b}) = {greater_than}\")             \n",
    "less_than_or_equal = a <= b;  print(f\"({a} <= {b}) = {less_than_or_equal}\")      \n",
    "greater_than_or_equal = a >= b; print(f\"({a} >= {b}) = {greater_than_or_equal}\")  "
   ]
  },
  {
   "cell_type": "code",
   "execution_count": 92,
   "id": "macro-liquid",
   "metadata": {},
   "outputs": [
    {
     "name": "stdout",
     "output_type": "stream",
     "text": [
      "(3+2j) + 12.5 = (15.5+2j)\n",
      "(3+2j) - 12.5 = (-9.5+2j)\n",
      "(3+2j) * 12.5 = (37.5+25j)\n",
      "(3+2j) / 12.5 = (0.24+0.16j)\n",
      "(3+2j) ** 12.5 = (4425800.815086066+8025878.62320465j)\n"
     ]
    }
   ],
   "source": [
    "# 10.1 실수와 복소수 연산\n",
    "a, b = 3+2j, 12.5\n",
    "\n",
    "# arithmetic operations\n",
    "addition = a + b;         print(f\"{a} + {b} = {addition}\")            \n",
    "subtraction = a - b;      print(f\"{a} - {b} = {subtraction}\")        \n",
    "multiplication = a * b;   print(f\"{a} * {b} = {multiplication}\")      \n",
    "division = a / b;         print(f\"{a} / {b} = {division}\")            \n",
    "exponentiation = a ** b;  print(f\"{a} ** {b} = {exponentiation}\")   "
   ]
  },
  {
   "cell_type": "code",
   "execution_count": 93,
   "id": "2ff20664-9e3d-417e-995d-a2db6283198d",
   "metadata": {},
   "outputs": [
    {
     "name": "stdout",
     "output_type": "stream",
     "text": [
      "((3+2j) == 12.5) = False\n",
      "((3+2j) != 12.5) = True\n"
     ]
    }
   ],
   "source": [
    "# 10.2 실수와 복소수 연산\n",
    "a, b = 3+2j, 12.5\n",
    "\n",
    "# comparative operations\n",
    "equal = a == b;               print(f\"({a} == {b}) = {equal}\")                     \n",
    "not_equal = a != b;           print(f\"({a} != {b}) = {not_equal}\")    "
   ]
  },
  {
   "cell_type": "markdown",
   "id": "d1036b0c-0de6-40d9-889d-1d54e4ce5132",
   "metadata": {},
   "source": [
    "## String"
   ]
  },
  {
   "cell_type": "code",
   "execution_count": 94,
   "id": "b73e1d0f-d4f1-4435-acf8-8827b1a26705",
   "metadata": {},
   "outputs": [
    {
     "name": "stdout",
     "output_type": "stream",
     "text": [
      "Python's favorite food is perl\n"
     ]
    }
   ],
   "source": [
    "# 11\n",
    "string1 = \"Python's favorite food is perl\"\n",
    "print(string1)"
   ]
  },
  {
   "cell_type": "code",
   "execution_count": 95,
   "id": "b7c3de0e-1aec-4ae4-b856-8ec70ff29924",
   "metadata": {},
   "outputs": [
    {
     "name": "stdout",
     "output_type": "stream",
     "text": [
      "\"Python is very easy.\" he says.\n"
     ]
    }
   ],
   "source": [
    "# 12\n",
    "string2 = '\"Python is very easy.\" he says.'\n",
    "print(string2)"
   ]
  },
  {
   "cell_type": "code",
   "execution_count": 96,
   "id": "8cc29ba5-26ec-4595-936d-c9489370f24f",
   "metadata": {},
   "outputs": [
    {
     "name": "stdout",
     "output_type": "stream",
     "text": [
      "\"Python is very easy.\" he says.\n"
     ]
    }
   ],
   "source": [
    "# 13\n",
    "string3 = \"\"\"\"Python is very easy.\" he says.\"\"\"\n",
    "print(string3)"
   ]
  },
  {
   "cell_type": "code",
   "execution_count": 11,
   "id": "ef2fbbae-128a-4dc3-b1c1-e19f4110df6f",
   "metadata": {},
   "outputs": [
    {
     "name": "stdout",
     "output_type": "stream",
     "text": [
      "He says \"Today's sales are very good.\"\n"
     ]
    }
   ],
   "source": [
    "# M7\n",
    "# review라는 변수에\n",
    "# He says \"Today's sales are very good.\" 이라는 영어 문장을 할당하고,\n",
    "# 출력하는 코드를 작성하시오. (0.2점)\n",
    "review = '''He says \"Today's sales are very good.\"'''\n",
    "print(review)"
   ]
  },
  {
   "cell_type": "code",
   "execution_count": 12,
   "id": "df2df2ab-746a-4d63-9fef-dec05b979552",
   "metadata": {},
   "outputs": [
    {
     "name": "stdout",
     "output_type": "stream",
     "text": [
      "Dear Professor, \n",
      "My name is Jong-Chan. \n",
      "Nice to see you. \n"
     ]
    }
   ],
   "source": [
    "# 14\n",
    "string4 = '''Dear Professor, \n",
    "My name is Jong-Chan. \n",
    "Nice to see you. ''' \n",
    "print(string4)"
   ]
  },
  {
   "cell_type": "code",
   "execution_count": 13,
   "id": "298586f9-2f0f-4fae-a02d-c33769dde5e7",
   "metadata": {},
   "outputs": [
    {
     "name": "stdout",
     "output_type": "stream",
     "text": [
      "Dear Professor, \n",
      "My name is Jong-Chan. \n",
      "Nice to see you. \n"
     ]
    }
   ],
   "source": [
    "# 15\n",
    "string5 = \"\"\"Dear Professor, \n",
    "My name is Jong-Chan. \n",
    "Nice to see you. \"\"\" \n",
    "print(string5)"
   ]
  },
  {
   "cell_type": "code",
   "execution_count": 14,
   "id": "f7cf972e-f725-49fd-82c0-7735730d67de",
   "metadata": {},
   "outputs": [
    {
     "name": "stdout",
     "output_type": "stream",
     "text": [
      "\"All grown-ups were once children. But,\n",
      "only few of them remember it.\"\n"
     ]
    }
   ],
   "source": [
    "# M8\n",
    "# phrase라는 변수에 \n",
    "# \"All grown-ups were once children. But, only few of them remember it.\"을 \n",
    "# ','에서 줄바꿈이 되도록 저장하고 출력하는 코드를 작성하시오. (0.2점)\n",
    "phrase = '''\"All grown-ups were once children. But,\n",
    "only few of them remember it.\"'''\n",
    "print(phrase)\n"
   ]
  },
  {
   "cell_type": "code",
   "execution_count": 19,
   "id": "330148cb-3fd7-4e35-b3ba-055ed4df5fa0",
   "metadata": {},
   "outputs": [
    {
     "name": "stdout",
     "output_type": "stream",
     "text": [
      "Kyungran Kang\n"
     ]
    }
   ],
   "source": [
    "# 16\n",
    "myName = \"Kyungran\"\n",
    "mySurname = \"Kang\"\n",
    "myFullname = myName + \" \" + mySurname\n",
    "print(myFullname)"
   ]
  },
  {
   "cell_type": "code",
   "execution_count": 16,
   "id": "d9fcf13c-dff5-4c00-b7c3-12009db36047",
   "metadata": {},
   "outputs": [
    {
     "name": "stdout",
     "output_type": "stream",
     "text": [
      "Sangwoo Joo\n"
     ]
    }
   ],
   "source": [
    "# M9\n",
    "# 16번 코드를 복사해 와서 본인의 이름을 성과 이름으로 구분하여 정의하고 결합해서 하나의 string으로 만드시오. (0.1점)\n",
    "myName = \"Sangwoo\"\n",
    "mySurname = \"Joo\"\n",
    "myFullname = myName + \" \" + mySurname\n",
    "print(myFullname)"
   ]
  },
  {
   "cell_type": "code",
   "execution_count": 20,
   "id": "b58c9124-d0b3-4073-9a90-3c0d20d115d8",
   "metadata": {},
   "outputs": [
    {
     "name": "stdout",
     "output_type": "stream",
     "text": [
      "Kyungran Kang is 20\n"
     ]
    }
   ],
   "source": [
    "# 17\n",
    "myAge = 20\n",
    "full_str  = myFullname + \" is \" + str(myAge)\n",
    "print(full_str)"
   ]
  },
  {
   "cell_type": "code",
   "execution_count": 17,
   "id": "f30639e2-4974-4ace-8041-120b2a7b488b",
   "metadata": {},
   "outputs": [
    {
     "name": "stdout",
     "output_type": "stream",
     "text": [
      "Sangwoo Joo is 22\n"
     ]
    }
   ],
   "source": [
    "# M10 \n",
    "# 17번 코드를 복사해서 본인의 이름과 나이를 반영해서 수정하시오.(0.1점)\n",
    "myAge = 22\n",
    "full_str  = myFullname + \" is \" + str(myAge)\n",
    "print(full_str)"
   ]
  },
  {
   "cell_type": "code",
   "execution_count": 21,
   "id": "587b1912-9d0b-4815-b0b2-c5648112eb3c",
   "metadata": {},
   "outputs": [
    {
     "name": "stdout",
     "output_type": "stream",
     "text": [
      "=^=^=^=^=^=^=^=^=^=^=^=^=^=^=^=^=^=^=^=^\n"
     ]
    }
   ],
   "source": [
    "# 18\n",
    "header = 20 * \"=^\"\n",
    "print (header)"
   ]
  },
  {
   "cell_type": "code",
   "execution_count": 24,
   "id": "0d7e3072-2502-4e2c-8c5a-d347889d06e1",
   "metadata": {},
   "outputs": [
    {
     "name": "stdout",
     "output_type": "stream",
     "text": [
      "*-*-*-*-*-*-*-*-*-*-*-*-*-*-*-\n"
     ]
    }
   ],
   "source": [
    "# M11 \n",
    "# *-가 15번 반복되는 string을 만들어 출력하시오.(0.1점)\n",
    "tmpstr = 15 * \"*-\"\n",
    "print(tmpstr)\n"
   ]
  },
  {
   "cell_type": "markdown",
   "id": "a1db3583-ce0a-43a3-a092-23077ea2f904",
   "metadata": {},
   "source": [
    "## range"
   ]
  },
  {
   "cell_type": "code",
   "execution_count": 35,
   "id": "4d1cb27d-f1dc-43b3-8649-51e6cf7c842b",
   "metadata": {},
   "outputs": [
    {
     "name": "stdout",
     "output_type": "stream",
     "text": [
      "range(0, 10)\n"
     ]
    }
   ],
   "source": [
    "# 19\n",
    "a = range(10)\n",
    "print(a[3])"
   ]
  },
  {
   "cell_type": "code",
   "execution_count": 34,
   "id": "e32cad9c-019b-40d8-b9a1-b2d10c68d1a0",
   "metadata": {},
   "outputs": [
    {
     "data": {
      "text/plain": [
       "False"
      ]
     },
     "execution_count": 34,
     "metadata": {},
     "output_type": "execute_result"
    }
   ],
   "source": [
    "# 20\n",
    "8 in a\n",
    "11 in a"
   ]
  },
  {
   "cell_type": "code",
   "execution_count": 38,
   "id": "9b184b65-3e03-441e-aea4-cb93a2b4978c",
   "metadata": {},
   "outputs": [
    {
     "name": "stdout",
     "output_type": "stream",
     "text": [
      "8\n",
      "True\n"
     ]
    }
   ],
   "source": [
    "# M12 \n",
    "# 2에서 20까지의 range 변수 aa를 정의하고 \n",
    "# 네 번째 요소를 출력하고, \n",
    "# 12가 aa에 포함되었는지 출력하는 코드를 작성하시오.(0.3점)\n",
    "aa = range(2, 20, 2) # aa에는 2 4 6 8 10 12 24 16 18 이 들어감.\n",
    "print(aa[3])\n",
    "print(12 in aa)"
   ]
  },
  {
   "cell_type": "code",
   "execution_count": 39,
   "id": "35fa3151-bb3b-4b72-b247-3f9b9e463a19",
   "metadata": {},
   "outputs": [
    {
     "name": "stdout",
     "output_type": "stream",
     "text": [
      "5\n"
     ]
    }
   ],
   "source": [
    "# 21\n",
    "b = range(1, 20, 2)\n",
    "print(b[2])"
   ]
  },
  {
   "cell_type": "code",
   "execution_count": 40,
   "id": "ce7117db-abfa-4b26-b915-17960af472fe",
   "metadata": {},
   "outputs": [
    {
     "data": {
      "text/plain": [
       "True"
      ]
     },
     "execution_count": 40,
     "metadata": {},
     "output_type": "execute_result"
    }
   ],
   "source": [
    "# 22\n",
    "12 in b\n",
    "13 in b"
   ]
  },
  {
   "cell_type": "code",
   "execution_count": 45,
   "id": "0173e945-13af-43d1-bcb0-09bc41ce5b45",
   "metadata": {},
   "outputs": [
    {
     "name": "stdout",
     "output_type": "stream",
     "text": [
      "15\n",
      "True\n"
     ]
    }
   ],
   "source": [
    "# M13 \n",
    "# 3에서 25까지의 3의 배수를 담은 range인 변수 bb를 정의하고 \n",
    "# 다섯 번째 요소를 출력하고, \n",
    "# 9가 bb에 포함되었는지 확인하시오. (0.3점)\n",
    "# 3 6 9 ... 24를 포함해야함.\n",
    "bb = range(3, 25, 3)\n",
    "print(bb[4])\n",
    "print(9 in bb)"
   ]
  },
  {
   "cell_type": "code",
   "execution_count": 46,
   "id": "7d6b5ff5-9182-4497-935d-949cfb2f7704",
   "metadata": {},
   "outputs": [
    {
     "name": "stdout",
     "output_type": "stream",
     "text": [
      "-4\n"
     ]
    }
   ],
   "source": [
    "# 23\n",
    "c=range(0, -10, -2)\n",
    "print(c[2])"
   ]
  },
  {
   "cell_type": "code",
   "execution_count": 114,
   "id": "e8a73361-a557-4147-b953-a77c7c76bc41",
   "metadata": {},
   "outputs": [
    {
     "data": {
      "text/plain": [
       "False"
      ]
     },
     "execution_count": 114,
     "metadata": {},
     "output_type": "execute_result"
    }
   ],
   "source": [
    "# 24\n",
    "-2 in c\n",
    "-5 in c"
   ]
  },
  {
   "cell_type": "code",
   "execution_count": 49,
   "id": "41aabaf3-074f-41e7-9f41-809a152c94fc",
   "metadata": {},
   "outputs": [
    {
     "name": "stdout",
     "output_type": "stream",
     "text": [
      "5\n",
      "True\n"
     ]
    }
   ],
   "source": [
    "# M14 \n",
    "# 10부터 -10 사이의 홀수를 담은 range인 변수 cc를 정의하고, \n",
    "# 세 번째 요소를 출력하고,\n",
    "# -3이 cc에 포함되었는지 확인하시오. (0.3점)\n",
    "cc = range(9, -10, -2)\n",
    "print(cc[2])\n",
    "print(-3 in cc)"
   ]
  }
 ],
 "metadata": {
  "kernelspec": {
   "display_name": "Python 3 (ipykernel)",
   "language": "python",
   "name": "python3"
  },
  "language_info": {
   "codemirror_mode": {
    "name": "ipython",
    "version": 3
   },
   "file_extension": ".py",
   "mimetype": "text/x-python",
   "name": "python",
   "nbconvert_exporter": "python",
   "pygments_lexer": "ipython3",
   "version": "3.11.6"
  }
 },
 "nbformat": 4,
 "nbformat_minor": 5
}
