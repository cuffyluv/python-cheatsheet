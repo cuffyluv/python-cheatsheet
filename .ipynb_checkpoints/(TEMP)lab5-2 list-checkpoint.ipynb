{
 "cells": [
  {
   "cell_type": "markdown",
   "id": "2601d29d-0f08-4109-ae69-cc35e7c18711",
   "metadata": {},
   "source": [
    "### 실습물 제출 가이드라인\n",
    "- 아래에 주어진 코드들을 실행해서 python의 동작 원리를 이해하시오. 그리고, # M 으로 주어진 부분은 코드를 작성하고 실행하시오.\n",
    "- 주어진 코드들을 다 실행해 보고 결과를 확인하면 3점을 부여합니다.\n",
    "- \"# M\"으로 주어진 문제는 정확한 답을 작성하면 표기된 점수가 부여됩니다."
   ]
  },
  {
   "cell_type": "markdown",
   "id": "supported-kernel",
   "metadata": {},
   "source": [
    "## List"
   ]
  },
  {
   "cell_type": "markdown",
   "id": "detected-relevance",
   "metadata": {},
   "source": [
    "#### list 만들기"
   ]
  },
  {
   "cell_type": "code",
   "execution_count": 1,
   "id": "north-strand",
   "metadata": {},
   "outputs": [
    {
     "name": "stdout",
     "output_type": "stream",
     "text": [
      "[1, 3, 5, 7, 9]\n"
     ]
    }
   ],
   "source": [
    "# 1-1\n",
    "# range()를 사용해서 등차수열 list 만들기\n",
    "odd = list(range(1,10,2))\n",
    "print(odd)"
   ]
  },
  {
   "cell_type": "code",
   "execution_count": 2,
   "id": "1616a0e7-a114-4765-a3a2-d05a8af93803",
   "metadata": {},
   "outputs": [
    {
     "name": "stdout",
     "output_type": "stream",
     "text": [
      "[2, 4, 6, 8]\n"
     ]
    }
   ],
   "source": [
    "# 1-2\n",
    "even = list(range(2,10,2))\n",
    "print(even)"
   ]
  },
  {
   "cell_type": "code",
   "execution_count": 3,
   "id": "d5747627-f7b0-41e8-8048-5b10e0e018ea",
   "metadata": {},
   "outputs": [
    {
     "name": "stdout",
     "output_type": "stream",
     "text": [
      "[1, 3, 5, 7, 9, 2, 4, 6, 8]\n"
     ]
    }
   ],
   "source": [
    "# 1-3\n",
    "# list를 '+' 연산자로 연이어 붙이기\n",
    "num = odd + even\n",
    "print(num)"
   ]
  },
  {
   "cell_type": "code",
   "execution_count": 4,
   "id": "8e270590-c422-433d-9783-ef64aaa6a074",
   "metadata": {},
   "outputs": [
    {
     "name": "stdout",
     "output_type": "stream",
     "text": [
      "['g', 'o', 'o', 'd', ' ', 'm', 'o', 'r', 'n', 'i', 'n', 'g']\n"
     ]
    }
   ],
   "source": [
    "# 2 \n",
    "# string을 list로 변환하기\n",
    "char_list = list(\"good morning\")\n",
    "print(char_list)"
   ]
  },
  {
   "cell_type": "code",
   "execution_count": 5,
   "id": "duplicate-security",
   "metadata": {},
   "outputs": [
    {
     "name": "stdout",
     "output_type": "stream",
     "text": [
      "[0, 0, 0, 0, 0, 0, 0, 0, 0, 0]\n"
     ]
    }
   ],
   "source": [
    "# 3\n",
    "# 기존 list를 중복해서 새로운 list만들기\n",
    "zeros = [0]*10\n",
    "print(zeros)"
   ]
  },
  {
   "cell_type": "code",
   "execution_count": 21,
   "id": "featured-piano",
   "metadata": {},
   "outputs": [
    {
     "name": "stdout",
     "output_type": "stream",
     "text": [
      "[12, 24]\n"
     ]
    }
   ],
   "source": [
    "# M1\n",
    "# 1과 35 사이의 3과 4의 공배수 목록을 다음의 단계를 거쳐 만드시오.(0.5점)\n",
    "# range()를 사용해서 1에서 35사이의 3의 배수 목록을 만드시오\n",
    "# range()를 사용해서 1에서 35사이의 4의 배수 목록을 만드시오\n",
    "# 이 두 list와 set()을 사용해서 1과 30 사이의 3과 4의 공배수 목록을 만드시오. \n",
    "mul3 = list(range(3, 36, 3))\n",
    "mul4 = list(range(4, 36, 4))\n",
    "common_mul = list(set(mul3) & set(mul4))\n",
    "common_mul.sort()\n",
    "print(common_mul)\n"
   ]
  },
  {
   "cell_type": "markdown",
   "id": "indie-refund",
   "metadata": {},
   "source": [
    "#### list indexing, slicing"
   ]
  },
  {
   "cell_type": "code",
   "execution_count": 7,
   "id": "helpful-dialogue",
   "metadata": {},
   "outputs": [],
   "source": [
    "# 3\n",
    "words_list = ['This', 'is', 'very' ,'nice', 'day ']"
   ]
  },
  {
   "cell_type": "code",
   "execution_count": 8,
   "id": "comprehensive-confidence",
   "metadata": {},
   "outputs": [
    {
     "name": "stdout",
     "output_type": "stream",
     "text": [
      "['This', 'is', 'very', 'nice', 'month']\n"
     ]
    }
   ],
   "source": [
    "# 3-1\n",
    "words_list[len(words_list)-1] = 'month' # len()은 길이, 즉, item 갯수 반환\n",
    "print(words_list)"
   ]
  },
  {
   "cell_type": "code",
   "execution_count": 9,
   "id": "widespread-silly",
   "metadata": {},
   "outputs": [
    {
     "name": "stdout",
     "output_type": "stream",
     "text": [
      "['This', 'is', 'very', 'nice', 'year']\n"
     ]
    }
   ],
   "source": [
    "# 3-2\n",
    "words_list[-1] = 'year'\n",
    "print(words_list)"
   ]
  },
  {
   "cell_type": "code",
   "execution_count": 10,
   "id": "exciting-manitoba",
   "metadata": {},
   "outputs": [
    {
     "name": "stdout",
     "output_type": "stream",
     "text": [
      "['This', 'is', 'very', 'happy', 'year']\n"
     ]
    }
   ],
   "source": [
    "# 3-3\n",
    "words_list[-2] = 'happy'\n",
    "print(words_list)"
   ]
  },
  {
   "cell_type": "code",
   "execution_count": 11,
   "id": "adolescent-major",
   "metadata": {},
   "outputs": [
    {
     "name": "stdout",
     "output_type": "stream",
     "text": [
      "['This', 'is', 'happy', 'year']\n"
     ]
    }
   ],
   "source": [
    "# 3-4\n",
    "# 특정 위치의 element 삭제하기\n",
    "del words_list[2]\n",
    "print(words_list)"
   ]
  },
  {
   "cell_type": "code",
   "execution_count": 28,
   "id": "taken-editor",
   "metadata": {},
   "outputs": [
    {
     "name": "stdin",
     "output_type": "stream",
     "text": [
      "Enter items: 1 2 3 4 5 6 7\n"
     ]
    },
    {
     "name": "stdout",
     "output_type": "stream",
     "text": [
      "4\n"
     ]
    }
   ],
   "source": [
    "# M2\n",
    "# 사용자로부터 item 목록을 입력 받고, 중앙에 있는 item의 값을 출력하는 \n",
    "# 코드를 작성하시오.(0.2점)\n",
    "# 예를 들어, 길이가 6이면 3번째 item, 7이면 4번째 item을 출력하게 하시오. \n",
    "\n",
    "items = input(\"Enter items:\").split()\n",
    "middle_index = (len(items) - 1) // 2\n",
    "print(items[middle_index])\n"
   ]
  },
  {
   "cell_type": "code",
   "execution_count": 13,
   "id": "1aff57b4-151c-47a0-bc7a-eaa69cc0fd06",
   "metadata": {},
   "outputs": [],
   "source": [
    "# 4\n",
    "int_list = list(range(10))"
   ]
  },
  {
   "cell_type": "code",
   "execution_count": 14,
   "id": "lyric-estimate",
   "metadata": {},
   "outputs": [
    {
     "name": "stdout",
     "output_type": "stream",
     "text": [
      "first_part = [1, 2, 3, 4]\n"
     ]
    }
   ],
   "source": [
    "# 4-1\n",
    "# list 내 일부 구간 잘라내기\n",
    "int_list_part1 = int_list[1:5]\n",
    "print(\"first_part =\",int_list_part1)"
   ]
  },
  {
   "cell_type": "code",
   "execution_count": 15,
   "id": "political-saver",
   "metadata": {},
   "outputs": [
    {
     "name": "stdout",
     "output_type": "stream",
     "text": [
      "int_list_part2 = [3, 5, 7, 9]\n"
     ]
    }
   ],
   "source": [
    "# 4-2\n",
    "# 일부 구간 잘라내기\n",
    "int_list_part2 = int_list[3:10:2]\n",
    "print(\"int_list_part2 =\", int_list_part2)"
   ]
  },
  {
   "cell_type": "code",
   "execution_count": 16,
   "id": "2bdc92e3-b99d-4f72-b8a9-217e165ad782",
   "metadata": {},
   "outputs": [
    {
     "name": "stdout",
     "output_type": "stream",
     "text": [
      "[5, 4, 3, 2, 1, 0]\n"
     ]
    }
   ],
   "source": [
    "# 4-3\n",
    "# 일부 구간 순서 뒤집기\n",
    "int_list_part_reversed = int_list[5::-1] \n",
    "print(int_list_part_reversed)"
   ]
  },
  {
   "cell_type": "code",
   "execution_count": 17,
   "id": "e049f1dd-2da2-4d2f-8f20-d7935216e9ba",
   "metadata": {},
   "outputs": [
    {
     "name": "stdout",
     "output_type": "stream",
     "text": [
      "[0, 1, 2, 3, 4, 7]\n"
     ]
    }
   ],
   "source": [
    "# 4-4\n",
    "# 구간의 값을 바꾸기\n",
    "# 구간의 길이보다 할당하는 item이 적은 경우 \n",
    "int_list[5:] = [7] \n",
    "print(int_list)"
   ]
  },
  {
   "cell_type": "code",
   "execution_count": 18,
   "id": "2af8fbf0-8b3e-4015-8949-cf304cd8cd67",
   "metadata": {},
   "outputs": [
    {
     "name": "stdout",
     "output_type": "stream",
     "text": [
      "[0, 1, 3, 4, 5, 6, 4, 7]\n"
     ]
    }
   ],
   "source": [
    "# 4-5\n",
    "# 구간의 값을 바꾸기\n",
    "# 구간의 길이보다 할당하는 item이 많은 경우\n",
    "int_list[2:4] = [3, 4, 5, 6] \n",
    "print(int_list)"
   ]
  },
  {
   "cell_type": "code",
   "execution_count": 19,
   "id": "expired-lounge",
   "metadata": {},
   "outputs": [
    {
     "name": "stdout",
     "output_type": "stream",
     "text": [
      "before deletion: [0, 1, 3, 4, 5, 6, 4, 7]\n",
      "after deletion: [0, 1, 3, 5, 4]\n"
     ]
    }
   ],
   "source": [
    "# 4-6\n",
    "# list 내 여러 element를 한꺼번에 삭제\n",
    "print(\"before deletion:\",int_list)\n",
    "del int_list[3:9:2]\n",
    "print(\"after deletion:\",int_list)"
   ]
  },
  {
   "cell_type": "code",
   "execution_count": 99,
   "id": "scheduled-medline",
   "metadata": {},
   "outputs": [
    {
     "name": "stdout",
     "output_type": "stream",
     "text": [
      "original list: [1, 2, 3, 4, 5, 6, 7, 8, 9, 10, 11, 12, 13, 14, 15, 16, 17, 18, 19, 20, 21, 22, 23, 24, 25, 26, 27, 28, 29, 30]\n",
      "edited list: [1, 2, 4, 5, 7, 8, 10, 11, 13, 14, 16, 17, 19, 20, 22, 23, 25, 26, 28, 29]\n"
     ]
    }
   ],
   "source": [
    "# M3\n",
    "# 1부터 30까지의 정수를 저장한 list를 range()를 사용해서 만들고,\n",
    "# 해당 list에서 3의 배수인 item만 삭제한 새로운 list로 만들어 출력하는 코드를 작성하시오. (0.2점) \n",
    "# 실행 사례)\n",
    "# [1, 2, 4, 5, 7, 8, 10, 11, 13, 14, 16, 17, 19, 20, 22, 23, 25, 26, 28, 29]\n",
    "# slicing을 사용하여 구현하시오.\n",
    "int_list = list(range(1, 31))\n",
    "print(f'original list: {int_list}')\n",
    "del int_list[2:31:3]\n",
    "print(f'edited list: {int_list}')"
   ]
  },
  {
   "cell_type": "markdown",
   "id": "express-harvest",
   "metadata": {},
   "source": [
    "#### list methods"
   ]
  },
  {
   "cell_type": "code",
   "execution_count": 21,
   "id": "variable-communist",
   "metadata": {},
   "outputs": [],
   "source": [
    "# 5\n",
    "fruits = [\"apple\", \"banana\", \"cherry\", \"apple\", \"cherry\", \"apple\", \"kiwi\"]"
   ]
  },
  {
   "cell_type": "code",
   "execution_count": 22,
   "id": "productive-muscle",
   "metadata": {},
   "outputs": [
    {
     "name": "stdout",
     "output_type": "stream",
     "text": [
      "'apple'의 개수: 3\n",
      "'orange'의 개수: 0\n"
     ]
    }
   ],
   "source": [
    "# 5-1\n",
    "# 특정 element 갯수 세기\n",
    "\n",
    "apple_count = fruits.count(\"apple\")\n",
    "print(f\"'apple'의 개수: {apple_count}\")\n",
    "\n",
    "# 리스트에 없는 과일의 개수 세기 (예: 'orange')\n",
    "orange_count = fruits.count(\"orange\")\n",
    "print(f\"'orange'의 개수: {orange_count}\")"
   ]
  },
  {
   "cell_type": "code",
   "execution_count": 23,
   "id": "ba10a5c4-dd3f-4299-a7c4-429b227c5eec",
   "metadata": {},
   "outputs": [
    {
     "name": "stdout",
     "output_type": "stream",
     "text": [
      "0\n",
      "3\n",
      "3\n"
     ]
    }
   ],
   "source": [
    "# 5-2\n",
    "# 특정 element의 첫 등장 위치 찾기\n",
    "# 없으면 오류\n",
    "apple_1st_pos = fruits.index('apple')\n",
    "print(apple_1st_pos)\n",
    "\n",
    "# 시작점을 지정해서 찾기 가능\n",
    "apple_2nd_pos = fruits.index('apple', apple_1st_pos + 1)\n",
    "print(apple_2nd_pos)\n",
    "\n",
    "# 구간을 지정해서 찾기 가능\n",
    "apple_any_pos = fruits.index('apple', 3, 6)\n",
    "print(apple_any_pos)"
   ]
  },
  {
   "cell_type": "code",
   "execution_count": 24,
   "id": "herbal-fifty",
   "metadata": {},
   "outputs": [
    {
     "name": "stdout",
     "output_type": "stream",
     "text": [
      "['apple', 'banana', 'cherry', 'apple', 'cherry', 'apple', 'kiwi', 'orange']\n"
     ]
    }
   ],
   "source": [
    "# 5-3\n",
    "# list의 맨 뒤에 item 추가하기\n",
    "fruits.append('orange') # fruits += ['orange']\n",
    "print(fruits)"
   ]
  },
  {
   "cell_type": "code",
   "execution_count": 25,
   "id": "administrative-brain",
   "metadata": {},
   "outputs": [
    {
     "name": "stdout",
     "output_type": "stream",
     "text": [
      "['apple', 'banana', 'cherry', 'apple', 'cherry', 'apple', 'kiwi', 'orange', 'pear', 'lime', 'lemon']\n"
     ]
    }
   ],
   "source": [
    "# 5-4\n",
    "# 다른 list를 풀어서 추가하기\n",
    "fruits_box = ['pear', 'lime', 'lemon']\n",
    "fruits.extend(fruits_box)\n",
    "print(fruits)"
   ]
  },
  {
   "cell_type": "code",
   "execution_count": 26,
   "id": "liable-integration",
   "metadata": {},
   "outputs": [
    {
     "name": "stdout",
     "output_type": "stream",
     "text": [
      "['apple', 'banana', 'cherry', 'apple', 'cherry', 'apple', 'kiwi', 'grape', 'orange', 'pear', 'lime', 'lemon']\n"
     ]
    }
   ],
   "source": [
    "# 5-5\n",
    "# list 내 특정 item이 처음 나타나는 위치 찾고 그 자리에 새 item 추가\n",
    "pos = fruits.index('orange')\n",
    "fruits.insert(pos, 'grape')\n",
    "print(fruits)"
   ]
  },
  {
   "cell_type": "code",
   "execution_count": 27,
   "id": "blessed-design",
   "metadata": {},
   "outputs": [
    {
     "name": "stdout",
     "output_type": "stream",
     "text": [
      "['banana', 'cherry', 'apple', 'cherry', 'apple', 'kiwi', 'grape', 'orange', 'pear', 'lime', 'lemon']\n"
     ]
    }
   ],
   "source": [
    "# 5-6\n",
    "# list 내 특정 item 삭제하기. 없는 item을 지우려고 하면 오류 발생\n",
    "# 동일 item이 여럿 있다면 첫번째 것만 삭제\n",
    "fruits.remove('apple')\n",
    "print(fruits)"
   ]
  },
  {
   "cell_type": "code",
   "execution_count": 5,
   "id": "statutory-estimate",
   "metadata": {},
   "outputs": [
    {
     "name": "stdin",
     "output_type": "stream",
     "text": [
      "Enter a list of items:  phone book note mouse\n"
     ]
    },
    {
     "name": "stdout",
     "output_type": "stream",
     "text": [
      "['phone', 'book', 'note', 'mouse']\n",
      "no items to print\n"
     ]
    }
   ],
   "source": [
    "# M4\n",
    "# 사용자로부터 item 목록을 입력 받고, 'o'가 포함된 요소들만 제외한 list를 만들어 \n",
    "# 출력하는 코드를 작성하시오. 출력할 목록이 없으면, 없다고 메시지를 출력하시오. (0.3점)\n",
    "# for와 append()를 사용하는 것을 추천함.\n",
    "#\n",
    "# 실행 사례1)\n",
    "# Enter a list of items:  book phone mouse key cup pad note\n",
    "# ['key', 'cup', 'pad']\n",
    "#\n",
    "# 실행 사례2)\n",
    "# Enter a list of items:  phone book note mouse\n",
    "# no items to print\n",
    "\n",
    "item_list = input('Enter a list of items: ').split()\n",
    "# print(item_list)\n",
    "\n",
    "filtered_items = []\n",
    "\n",
    "for item in item_list:\n",
    "     if 'o' not in item:\n",
    "        filtered_items.append(item)\n",
    "\n",
    "if filtered_items:\n",
    "    print(filtered_items)\n",
    "else:\n",
    "    print(\"no items to print\")\n"
   ]
  },
  {
   "cell_type": "code",
   "execution_count": 7,
   "id": "b2561b41-63df-4e26-8c28-86b5a728bac8",
   "metadata": {},
   "outputs": [
    {
     "name": "stdin",
     "output_type": "stream",
     "text": [
      "Enter a list of items:  a a a a a b c\n"
     ]
    },
    {
     "name": "stdout",
     "output_type": "stream",
     "text": [
      "List with no duplicates: a b c "
     ]
    }
   ],
   "source": [
    "# M5\n",
    "# 사용자가 입력한 목록에서 중복된 것들을 제거하여 출력하는 코드를 작성하시오.\n",
    "# for, in과 append()를 사용하여 구현하시오. (0.3점)\n",
    "# 출력 시에도 for를 사용하여 아래의 예시와 같이 출력하시오. (0.2점)\n",
    "# 실행 사례)\n",
    "# Enter a list of items: a a a a a b c\n",
    "# List with no duplicates: a b c \n",
    "item_list = input(\"Enter a list of items: \").split()\n",
    "\n",
    "unique_items = []\n",
    "for item in item_list:\n",
    "    if item not in unique_items: \n",
    "        unique_items.append(item)\n",
    "\n",
    "# 결과 출력\n",
    "print(\"List with no duplicates:\", end=\" \")\n",
    "for item in unique_items: \n",
    "    print(item, end=\" \")"
   ]
  },
  {
   "cell_type": "code",
   "execution_count": 8,
   "id": "everyday-morocco",
   "metadata": {},
   "outputs": [
    {
     "name": "stdout",
     "output_type": "stream",
     "text": [
      "[96, 84, 72, 60, 48, 36, 24, 12]\n"
     ]
    }
   ],
   "source": [
    "# M6\n",
    "# 1과 100 사이의 3과 4의 공배수 목록을 만들어 역순으로 출력하는 코드를 작성하시오. (0.3점)\n",
    "# for와 insert()를 사용하여 구현하시오.\n",
    "# 실행 사례)\n",
    "# [96, 84, 72, 60, 48, 36, 24, 12]\n",
    "\n",
    "multiples = []\n",
    "for i in range(1, 101):\n",
    "    if i % 3 == 0 and i % 4 == 0:\n",
    "        multiples.insert(0, i)\n",
    "\n",
    "print(multiples)"
   ]
  },
  {
   "cell_type": "code",
   "execution_count": 31,
   "id": "wanted-prime",
   "metadata": {},
   "outputs": [],
   "source": [
    "# 6\n",
    "my_favorites = ['apple', 'peach', 'latte', 'pizza', 'pasta', 'cookies', 'egg tart']"
   ]
  },
  {
   "cell_type": "code",
   "execution_count": 32,
   "id": "floating-tribune",
   "metadata": {},
   "outputs": [
    {
     "name": "stdout",
     "output_type": "stream",
     "text": [
      "before reversing: ['apple', 'peach', 'latte', 'pizza', 'pasta', 'cookies', 'egg tart']\n",
      "after reversing: ['egg tart', 'cookies', 'pasta', 'pizza', 'latte', 'peach', 'apple']\n"
     ]
    }
   ],
   "source": [
    "# 6-1\n",
    "# list 뒤집기 (위치 순서를 거꾸로 배치하기)\n",
    "print(\"before reversing:\", my_favorites)\n",
    "my_favorites.reverse()\n",
    "print(\"after reversing:\", my_favorites)"
   ]
  },
  {
   "cell_type": "code",
   "execution_count": 33,
   "id": "valued-trance",
   "metadata": {},
   "outputs": [
    {
     "name": "stdout",
     "output_type": "stream",
     "text": [
      "before sorting: ['egg tart', 'cookies', 'pasta', 'pizza', 'latte', 'peach', 'apple']\n",
      "after sorting: ['apple', 'cookies', 'egg tart', 'latte', 'pasta', 'peach', 'pizza']\n"
     ]
    }
   ],
   "source": [
    "# 6-2\n",
    "# list sorting, 상호 크기 비교 연산이 가능한 data type들의 경우만 가능\n",
    "print('before sorting:', my_favorites)\n",
    "my_favorites.sort()  # 반환하는 값은 없고 my_favorite이 정렬됨\n",
    "# 역순 정렬을 원하면, my_favorite.sort(reverse=True)\n",
    "print('after sorting:', my_favorites)"
   ]
  },
  {
   "cell_type": "code",
   "execution_count": 34,
   "id": "fresh-bulgaria",
   "metadata": {},
   "outputs": [
    {
     "name": "stdout",
     "output_type": "stream",
     "text": [
      "before popping: ['apple', 'cookies', 'egg tart', 'latte', 'pasta', 'peach', 'pizza']\n",
      "pizza was popped\n",
      "after popping: ['apple', 'cookies', 'egg tart', 'latte', 'pasta', 'peach']\n"
     ]
    }
   ],
   "source": [
    "# 6-3\n",
    "# 제일 뒤에 있는 원소 꺼내기. list에서 삭제하기\n",
    "print('before popping:', my_favorites)          \n",
    "removed_item = my_favorites.pop()\n",
    "print(removed_item, 'was popped')   \n",
    "print('after popping:', my_favorites)          "
   ]
  },
  {
   "cell_type": "code",
   "execution_count": 35,
   "id": "arctic-collection",
   "metadata": {},
   "outputs": [
    {
     "name": "stdout",
     "output_type": "stream",
     "text": [
      "before popping: ['apple', 'cookies', 'egg tart', 'latte', 'pasta', 'peach']\n",
      "cookies was popped\n",
      "after popping: ['apple', 'egg tart', 'latte', 'pasta', 'peach']\n"
     ]
    }
   ],
   "source": [
    "# 6-4\n",
    "# 지정한 index에 있는 원소 꺼내기, list에서 삭제하기\n",
    "print('before popping:', my_favorites)          \n",
    "removed_item = my_favorites.pop(1)\n",
    "print(removed_item, 'was popped')   \n",
    "print('after popping:', my_favorites)        "
   ]
  },
  {
   "cell_type": "code",
   "execution_count": 9,
   "id": "accepting-winter",
   "metadata": {},
   "outputs": [
    {
     "name": "stdout",
     "output_type": "stream",
     "text": [
      "fruits:  ['apple', 'banana', 'cherry', 'kiwi', 'grape', 'strawberry']\n"
     ]
    },
    {
     "name": "stdin",
     "output_type": "stream",
     "text": [
      "Enter an index to pop: 1\n"
     ]
    },
    {
     "name": "stdout",
     "output_type": "stream",
     "text": [
      "'banana' popped\n",
      "----------\n",
      "fruits:  ['apple', 'cherry', 'kiwi', 'grape', 'strawberry']\n"
     ]
    },
    {
     "name": "stdin",
     "output_type": "stream",
     "text": [
      "Enter an index to pop: 2\n"
     ]
    },
    {
     "name": "stdout",
     "output_type": "stream",
     "text": [
      "'kiwi' popped\n",
      "----------\n",
      "fruits:  ['apple', 'cherry', 'grape', 'strawberry']\n"
     ]
    },
    {
     "name": "stdin",
     "output_type": "stream",
     "text": [
      "Enter an index to pop: -1\n"
     ]
    },
    {
     "name": "stdout",
     "output_type": "stream",
     "text": [
      "----------\n",
      "popped items: ['banana', 'kiwi']\n",
      "Bye\n"
     ]
    }
   ],
   "source": [
    "# M7 (0.7점)\n",
    "# fruits = [\"apple\", \"banana\", \"cherry\", \"kiwi\", \"grape\", \"strawberry\"]에 대해서,\n",
    "# 사용자가 원하는 순서 번호의 요소를 꺼내서 이들을 모아 list를 만드는 코드를 작성하시오.\n",
    "# 사용자가 '-1'를 입력하거나 list의 길이가 사용자가 지정한 index보다 작으면 종료하고 \n",
    "# popped item들을 모은 list를 출력하시오.\n",
    "# 아래의 예시를 참고하시오.\n",
    "# pop(), append()를 사용하는 것을 추천함\n",
    "#\n",
    "# 실행 사례 1) \n",
    "# fruits:  ['apple', 'banana', 'cherry', 'kiwi', 'grape', 'strawberry']\n",
    "# Enter an index to pop: 1\n",
    "# 'banana' popped\n",
    "# ----------\n",
    "# fruits:  ['apple', 'cherry', 'kiwi', 'grape', 'strawberry']\n",
    "# Enter an index to pop: 2\n",
    "# 'kiwi' popped\n",
    "# ----------\n",
    "# fruits:  ['apple', 'cherry', 'grape', 'strawberry']\n",
    "# Enter an index to pop: -1\n",
    "# ----------\n",
    "# popped items: ['banana', 'kiwi']\n",
    "# Bye\n",
    "\n",
    "fruits = [\"apple\", \"banana\", \"cherry\", \"kiwi\", \"grape\", \"strawberry\"]\n",
    "popped_items = []\n",
    "\n",
    "while True:\n",
    "    print(\"fruits: \", fruits)\n",
    "    index = int(input(\"Enter an index to pop:\"))\n",
    "    \n",
    "    if index == -1 or index >= len(fruits):\n",
    "        print(\"----------\")\n",
    "        break\n",
    "    \n",
    "    item = fruits.pop(index)\n",
    "    popped_items.append(item)\n",
    "    print(f\"'{item}' popped\")\n",
    "    print(\"----------\")\n",
    "\n",
    "print(\"popped items:\", popped_items)\n",
    "print(\"Bye\")\n",
    "\n"
   ]
  },
  {
   "cell_type": "code",
   "execution_count": 37,
   "id": "former-protocol",
   "metadata": {},
   "outputs": [
    {
     "name": "stdout",
     "output_type": "stream",
     "text": [
      "['apple', 'banana', 'green tea', 'kiwi', 'latte', 'mint', 'orange', 'peach']\n",
      "['peach', 'orange', 'mint', 'latte', 'kiwi', 'green tea', 'banana', 'apple']\n",
      "['apple', 'banana', 'green tea', 'kiwi', 'latte', 'mint', 'orange', 'peach']\n"
     ]
    }
   ],
   "source": [
    "# 7\n",
    "my_favorite=['peach', 'orange', 'mint', 'latte', 'kiwi', 'green tea', 'banana', 'apple'] \n",
    "\n",
    "# 새 memory 공간을 확보하고 값을 복사하기\n",
    "your_favorite = my_favorite.copy()\n",
    "his_favorite = my_favorite\n",
    "my_favorite.reverse()\n",
    "\n",
    "print(my_favorite)\n",
    "print(your_favorite)\n",
    "print(his_favorite)"
   ]
  },
  {
   "cell_type": "markdown",
   "id": "accompanied-musical",
   "metadata": {},
   "source": [
    "#### list comprehension"
   ]
  },
  {
   "cell_type": "code",
   "execution_count": 38,
   "id": "mighty-anthony",
   "metadata": {},
   "outputs": [
    {
     "name": "stdout",
     "output_type": "stream",
     "text": [
      "[2, 4, 6, 8, 10]\n"
     ]
    }
   ],
   "source": [
    "# 8\n",
    "# 1부터 5까지의 숫자에 대해 두 배한 값을 list로 만들고자 함\n",
    "# sample=[]\n",
    "# for num in range(1,6):\n",
    "#   sample.append(num*2)\n",
    "# print(sample)\n",
    "\n",
    "sample = [num*2 for num in range(1, 6)]\n",
    "print(sample)"
   ]
  },
  {
   "cell_type": "code",
   "execution_count": 10,
   "id": "effective-feeding",
   "metadata": {},
   "outputs": [
    {
     "name": "stdout",
     "output_type": "stream",
     "text": [
      "[1, 4, 9, 16, 25, 36, 49, 64, 81, 100]\n"
     ]
    }
   ],
   "source": [
    "# M8\n",
    "# 1부터 10까지의 숫자에 대해서 (10 포함) 제곱을 모은 square_list를\n",
    "# list comprehension으로 만들어 출력하시오. (0.2점)\n",
    "square_list = [i**2 for i in range(1, 11)]\n",
    "print(square_list)"
   ]
  },
  {
   "cell_type": "code",
   "execution_count": 40,
   "id": "scheduled-yield",
   "metadata": {},
   "outputs": [
    {
     "name": "stdout",
     "output_type": "stream",
     "text": [
      "[1, 3, 5, 7, 9]\n"
     ]
    }
   ],
   "source": [
    "# 9\n",
    "# 1부터 10 까지의 홀수 모으기\n",
    "# size = 10\n",
    "# arr = []\n",
    "# for n in range(1, size+1):\n",
    "#   if n % 2 == 1:\n",
    "#       arr.append(n)\n",
    "# print(arr)\n",
    "\n",
    "size = 10\n",
    "arr = [n for n in range(1, size+1) if n % 2 == 1]\n",
    "print(arr)\n"
   ]
  },
  {
   "cell_type": "code",
   "execution_count": 41,
   "id": "therapeutic-translator",
   "metadata": {},
   "outputs": [
    {
     "name": "stdout",
     "output_type": "stream",
     "text": [
      "[0, 4, 8, 12, 16]\n"
     ]
    }
   ],
   "source": [
    "# 10\n",
    "# 1부터 9까지 중에서 짝수에 대해 2배 값을 목록으로 만들기\n",
    "# sample = []\n",
    "# for i in range(10):\n",
    "#   if i % 2 == 0:\n",
    "#       sample.append(2*i)\n",
    "# print(sample)\n",
    "\n",
    "sample = [2*i for i in range(10) if i % 2 == 0]\n",
    "print (sample)"
   ]
  },
  {
   "cell_type": "code",
   "execution_count": 13,
   "id": "suburban-difference",
   "metadata": {},
   "outputs": [
    {
     "name": "stdout",
     "output_type": "stream",
     "text": [
      "[15, 30]\n"
     ]
    }
   ],
   "source": [
    "# M9-1\n",
    "# 1에서 40까지의 수에서 3과 5의 공배수를 모은 common_multiples라는 list를 만드시오.\n",
    "# 1) for와 range()를 사용해서 구현하시오. (0.2점),\n",
    "common_multiples = []\n",
    "for i in range(1, 41):\n",
    "    if i % 3 == 0 and i % 5 == 0:\n",
    "        common_multiples.append(i)\n",
    "print(common_multiples)"
   ]
  },
  {
   "cell_type": "code",
   "execution_count": 11,
   "id": "human-brooks",
   "metadata": {},
   "outputs": [
    {
     "name": "stdout",
     "output_type": "stream",
     "text": [
      "[15, 30]\n"
     ]
    }
   ],
   "source": [
    "# M9-2\n",
    "# 1에서 40까지의 수에서 3과 5의 공배수를 모은 common_multiples라는 list를 만드시오.\n",
    "# 2) list comprehension을 사용해서 구현하시오 (0.3점).\n",
    "common_multiples = [i for i in range(1, 41) if i % 3 == 0 and i % 5 == 0]\n",
    "print(common_multiples)"
   ]
  },
  {
   "cell_type": "code",
   "execution_count": 44,
   "id": "encouraging-inspector",
   "metadata": {},
   "outputs": [
    {
     "name": "stdout",
     "output_type": "stream",
     "text": [
      "['comprehension', 'python']\n"
     ]
    }
   ],
   "source": [
    "# 11\n",
    "# list 내 string 길이가 4보다 큰 경우만 모으기\n",
    "str_array=['List', 'comprehension', 'python']\n",
    "sample = [string for string in str_array if len(string) > 4]\n",
    "print (sample)"
   ]
  },
  {
   "cell_type": "code",
   "execution_count": 45,
   "id": "effective-fifty",
   "metadata": {},
   "outputs": [
    {
     "name": "stdout",
     "output_type": "stream",
     "text": [
      "[(3, 2), (6, 2), (6, 4), (9, 2), (9, 4), (9, 8)]\n"
     ]
    }
   ],
   "source": [
    "# 12\n",
    "# 주어진 두 list에 대해 첫 list의 값이 두번째 list의 대응하는 값보다 큰 경우만 모으기\n",
    "num_list1 = [1, 3, 6, 9]\n",
    "num_list2 = [2, 4, 8, 10]\n",
    "pair_list=[(num1, num2) for num1 in num_list1 for num2 in num_list2 \n",
    "           if num1 > num2]\n",
    "print(pair_list)"
   ]
  },
  {
   "cell_type": "code",
   "execution_count": 47,
   "id": "floating-question",
   "metadata": {},
   "outputs": [
    {
     "name": "stdin",
     "output_type": "stream",
     "text": [
      "input data(eg. cookie,10,apple,5): cookie,10,apple,5\n"
     ]
    },
    {
     "name": "stdout",
     "output_type": "stream",
     "text": [
      "before processing: ['cookie', '10', 'apple', '5']\n",
      "after processing: ['cookie', 10, 'apple', 5]\n"
     ]
    }
   ],
   "source": [
    "# 14\n",
    "# 사용자가 ','를 구분자로 여러 아이템들을 입력했을 시 숫자만 숫자로 변환\n",
    "input_list = input(\"input data(eg. cookie,10,apple,5):\").split(',')\n",
    "print(\"before processing:\", input_list)\n",
    "new_list = [int(item) if item.isdigit() else item \n",
    "            for item in input_list]\n",
    "print(\"after processing:\", new_list)"
   ]
  },
  {
   "cell_type": "code",
   "execution_count": 48,
   "id": "imperial-neutral",
   "metadata": {},
   "outputs": [
    {
     "name": "stdin",
     "output_type": "stream",
     "text": [
      "Input data(eg. 바나나, 천혜향, 포도,파인애플): 바나나, 천혜향, 포도,파인애플\n"
     ]
    },
    {
     "name": "stdout",
     "output_type": "stream",
     "text": [
      "before processing: ['바나나', ' 천혜향', ' 포도', '파인애플']\n",
      "after processing: ['바나나', '천혜향', '포도', '파인애플']\n"
     ]
    }
   ],
   "source": [
    "# 15\n",
    "# 문자열을 ','로 분리한 후, 3글자 이상 단어만 각 요소의 앞뒤 공백을 제거하고 리스트로 만듦\n",
    "input_list = input(\"Input data(eg. 바나나, 천혜향, 포도,파인애플):\").split(\",\")\n",
    "print(\"before processing:\", input_list)\n",
    "item_list = [item.strip() for item in input_list if len(item) > 2]\n",
    "print(\"after processing:\", item_list)"
   ]
  },
  {
   "cell_type": "code",
   "execution_count": 14,
   "id": "d5431c10-6c86-4e5e-8fd0-8ca2c1bf041e",
   "metadata": {},
   "outputs": [
    {
     "name": "stdin",
     "output_type": "stream",
     "text": [
      "Input your items:  apple banana cherry apple cherry\n"
     ]
    },
    {
     "name": "stdout",
     "output_type": "stream",
     "text": [
      "List of unique ones: ['banana']\n"
     ]
    }
   ],
   "source": [
    "# M10\n",
    "# 사용자 입력한 item 중에서 한 번만 목록에 등장한 item을 출력하는 코드를 \n",
    "# list comprehension을 사용해서 구현하시오. (0.3점)\n",
    "# 실행 사례1)\n",
    "# Input your items: apple banana cherry apple cherry\n",
    "# List of unique ones: ['banana']\n",
    "items = input(\"Input your items: \").split()\n",
    "unique_items = [item for item in items if items.count(item) == 1]\n",
    "print(\"List of unique ones:\", unique_items)"
   ]
  },
  {
   "cell_type": "code",
   "execution_count": 15,
   "id": "southeast-candle",
   "metadata": {},
   "outputs": [
    {
     "name": "stdin",
     "output_type": "stream",
     "text": [
      "Enter words:  apple pear book cherry\n"
     ]
    },
    {
     "name": "stdout",
     "output_type": "stream",
     "text": [
      "Words in fruits: ['apple', 'pear', 'cherry']\n"
     ]
    }
   ],
   "source": [
    "# M11 <- 여기까지\n",
    "# fruits=['apple', 'orange', 'peach', 'pear', 'banana', 'coconut', 'strawberry', 'cherry', 'kiwi', 'durian']\n",
    "# 으로 주어졌을 때, \n",
    "# 사용자로부터 입력받은 여러 단어들 중에서 fruits에 있는 단어만 추려서 출력하는 코드를 작성하시오. (0.3점)\n",
    "# list comprehension을 사용하여 구현하시오.\n",
    "# 실행 사례1)\n",
    "# Enter words: apple pear book cherry\n",
    "# Words in fruits: ['apple', 'pear', 'cherry']\n",
    "\n",
    "fruits=['apple', 'orange', 'peach', 'pear', 'banana', 'coconut', 'strawberry', 'cherry', 'kiwi', 'durian']\n",
    "words = input(\"Enter words: \").split()\n",
    "words_in_fruits = [word for word in words if word in fruits]\n",
    "print(\"Words in fruits:\", words_in_fruits)\n",
    "\n",
    "\n"
   ]
  },
  {
   "cell_type": "code",
   "execution_count": 51,
   "id": "horizontal-irish",
   "metadata": {},
   "outputs": [
    {
     "name": "stdin",
     "output_type": "stream",
     "text": [
      "Enter a list of integers separated by spaces:  1 2 3 8 66 152 44\n"
     ]
    },
    {
     "name": "stdout",
     "output_type": "stream",
     "text": [
      "[0, 1, 2, 3, 5, 6, 4]\n"
     ]
    }
   ],
   "source": [
    "# 참고\n",
    "# 정수 목록을 입력받아서 각 숫자에 대해 목록 내 자기보다 작은 숫자의 갯수 출력\n",
    "# 사용자로부터 정수 입력받기 (공백으로 구분된 문자열)\n",
    "input_str = input(\"Enter a list of integers separated by spaces: \")\n",
    "\n",
    "# 입력받은 문자열을 정수 목록으로 변환\n",
    "int_list = list(map(int, input_str.split()))\n",
    "\n",
    "# 각 정수에 대해 자신보다 작은 정수의 개수 세기\n",
    "count_list = [sum(1 for x in int_list if x < num) for num in int_list]\n",
    "print(count_list)"
   ]
  },
  {
   "cell_type": "markdown",
   "id": "a6b91a7a-f78a-474c-a24f-c726366df63f",
   "metadata": {},
   "source": [
    "#### List 탐색하기"
   ]
  },
  {
   "cell_type": "code",
   "execution_count": 52,
   "id": "secure-police",
   "metadata": {},
   "outputs": [
    {
     "name": "stdout",
     "output_type": "stream",
     "text": [
      "'cherry' is available at 2\n"
     ]
    }
   ],
   "source": [
    "# 16\n",
    "# list 내 특정 item 찾기 (존재 여부 확인)\n",
    "fruits = [\"apple\", \"banana\", \"cherry\", \"apple\", \"cherry\", \"apple\", \"kiwi\"]\n",
    "\n",
    "target = \"cherry\"\n",
    "try:\n",
    "    idx = fruits.index(target)  # index()는 찾는 data가 없으면 오류 발생\n",
    "    print(f\"'{target}' is available at {idx}\")\n",
    "except ValueError:\n",
    "    print(f\"'{target}' is not available.\")"
   ]
  },
  {
   "cell_type": "code",
   "execution_count": 53,
   "id": "weighted-criminal",
   "metadata": {},
   "outputs": [
    {
     "name": "stdout",
     "output_type": "stream",
     "text": [
      "coconut is not available\n"
     ]
    }
   ],
   "source": [
    "# 17\n",
    "# item이 있는지 없는지 자신이 없을 때, try-except를 사용하지 않으면서 찾기\n",
    "fruits = [\"apple\", \"banana\", \"cherry\", \"apple\", \"cherry\", \"apple\", \"kiwi\"]\n",
    "\n",
    "target = \"coconut\"\n",
    "for id, item in enumerate(fruits):\n",
    "    if item == target:\n",
    "        print(f\"{target} is available at {id}\")\n",
    "        break\n",
    "else: # target이 fruits 내에 없어서 끝까지 다 탐색한 경우\n",
    "    print(f\"{target} is not available\")"
   ]
  },
  {
   "cell_type": "code",
   "execution_count": 54,
   "id": "surrounded-translation",
   "metadata": {},
   "outputs": [
    {
     "name": "stdout",
     "output_type": "stream",
     "text": [
      "found cherry at 2\n",
      "found cherry at 4\n"
     ]
    }
   ],
   "source": [
    "# 18\n",
    "# list 내 특정 item 찾기\n",
    "# list 내의 각 element에 대해서 값을 비교해서 일치하는 경우마다 출력\n",
    "fruits = [\"apple\", \"banana\", \"cherry\", \"apple\", \"cherry\", \"apple\", \"kiwi\"]\n",
    "target = 'cherry'\n",
    "\n",
    "# list 내의 각 요소에 대해서 값을 비교해서 일치하는 경우마다 index 출력\n",
    "for idx, item in enumerate(fruits):\n",
    "    if item == target: \n",
    "        print(f\"found {target} at {idx}\")"
   ]
  },
  {
   "cell_type": "code",
   "execution_count": 55,
   "id": "royal-turtle",
   "metadata": {},
   "outputs": [
    {
     "name": "stdout",
     "output_type": "stream",
     "text": [
      "cherry appears at 2\n",
      "cherry appears at 4\n"
     ]
    }
   ],
   "source": [
    "# 19\n",
    "# list 내 특정 item 찾기\n",
    "# list 내의 각 element에 대해서 값을 비교해서 일치하는 경우마다 출력\n",
    "# 특정 item이 없다면 오류 메시지 출력\n",
    "fruits = [\"apple\", \"banana\", \"cherry\", \"apple\", \"cherry\", \"apple\", \"kiwi\"]\n",
    "target = 'cherry'\n",
    "found = False\n",
    "for id, item in enumerate(fruits):\n",
    "    if item == target:\n",
    "        print(f\"{target} appears at {id}\")\n",
    "        found = True\n",
    "if not found:\n",
    "    print(f\"{target} is not available\")"
   ]
  },
  {
   "cell_type": "code",
   "execution_count": 56,
   "id": "phantom-velvet",
   "metadata": {},
   "outputs": [
    {
     "name": "stdout",
     "output_type": "stream",
     "text": [
      "[2, 4]\n"
     ]
    }
   ],
   "source": [
    "# 20\n",
    "fruits = [\"apple\", \"banana\", \"cherry\", \"apple\", \"cherry\", \"apple\", \"date\"]\n",
    "target = 'cherry'\n",
    "\n",
    "# list 내 특정 item의 위치를 적은 list 만들기\n",
    "index_list = [idx for idx, item in enumerate(fruits) if item == target]\n",
    "if index_list:\n",
    "    print(index_list)\n",
    "else:\n",
    "    print(f'{target} is not available')"
   ]
  },
  {
   "cell_type": "markdown",
   "id": "later-nancy",
   "metadata": {},
   "source": [
    "#### nested list"
   ]
  },
  {
   "cell_type": "code",
   "execution_count": 57,
   "id": "transsexual-publisher",
   "metadata": {},
   "outputs": [
    {
     "name": "stdout",
     "output_type": "stream",
     "text": [
      "[['apple', 'orange', 'peach', 'banana'], ['milk tea', 'mint', 'green tea']]\n"
     ]
    }
   ],
   "source": [
    "# 21\n",
    "# 두 개의 list를 모아 중접된 list 만들기\n",
    "fruits=['apple', 'orange', 'peach', 'banana']\n",
    "tea=['milk tea', 'mint', 'green tea']\n",
    "my_favorites=[fruits,tea]\n",
    "print(my_favorites)"
   ]
  },
  {
   "cell_type": "code",
   "execution_count": 58,
   "id": "unlimited-customer",
   "metadata": {},
   "outputs": [
    {
     "name": "stdout",
     "output_type": "stream",
     "text": [
      "[['apple', 'orange', 'peach', 'banana'], ['milk tea', 'mint', 'green tea'], ['americano', 'cafe latte']]\n"
     ]
    }
   ],
   "source": [
    "# 22\n",
    "# list를 기존 list의 요소로 추가하기\n",
    "coffee=['americano', 'cafe latte']\n",
    "my_favorites.append(coffee)\n",
    "print(my_favorites)"
   ]
  },
  {
   "cell_type": "code",
   "execution_count": 59,
   "id": "necessary-disorder",
   "metadata": {},
   "outputs": [
    {
     "name": "stdout",
     "output_type": "stream",
     "text": [
      "[['apple', 'orange', 'peach', 'banana'], ['milk tea', 'mint', 'green tea'], ['Jane Eyre', 'Citadel', 'Pride and Prejudice'], ['americano', 'cafe latte']]\n"
     ]
    }
   ],
   "source": [
    "# 23\n",
    "# list를 기존 list의 특정 위치로 끼워넣기\n",
    "books=['Jane Eyre', 'Citadel', 'Pride and Prejudice']\n",
    "my_favorites.insert(2, books)\n",
    "print(my_favorites)"
   ]
  },
  {
   "cell_type": "code",
   "execution_count": 60,
   "id": "conceptual-spray",
   "metadata": {},
   "outputs": [
    {
     "name": "stdout",
     "output_type": "stream",
     "text": [
      "['milk tea', 'mint', 'green tea']\n",
      "mint\n"
     ]
    }
   ],
   "source": [
    "# 24\n",
    "# 중첩 list 내 특정 item에 접근하기 위해서는 다단계 indexing 필요\n",
    "print(my_favorites[1])\n",
    "print(my_favorites[1][1])"
   ]
  },
  {
   "cell_type": "code",
   "execution_count": 61,
   "id": "attended-highland",
   "metadata": {},
   "outputs": [
    {
     "name": "stdout",
     "output_type": "stream",
     "text": [
      "['apple', 'orange', 'kiwi', 'banana']\n"
     ]
    }
   ],
   "source": [
    "# 25\n",
    "# 중첩 list 내 특정 item에 접근하기 위해서는 다단계 indexing 필요\n",
    "my_favorites[0][2]='kiwi'\n",
    "print(my_favorites[0])"
   ]
  },
  {
   "cell_type": "code",
   "execution_count": 62,
   "id": "outstanding-ground",
   "metadata": {},
   "outputs": [
    {
     "name": "stdout",
     "output_type": "stream",
     "text": [
      "[['apple', 'orange', 'kiwi', 'banana'], ['milk tea', 'mint', 'green tea'], ['Citadel', 'Jane Eyre', 'Pride and Prejudice'], ['americano', 'cafe latte']]\n"
     ]
    }
   ],
   "source": [
    "# 26\n",
    "# 중첩 list sorting하기. 개별 list 내 sorting은 이루어지지 않음\n",
    "my_favorites[2].sort()\n",
    "print(my_favorites)"
   ]
  },
  {
   "cell_type": "code",
   "execution_count": 63,
   "id": "narrow-classic",
   "metadata": {},
   "outputs": [
    {
     "name": "stdout",
     "output_type": "stream",
     "text": [
      "[[0, 1, 2, 3, 4], [0, 1, 2, 3, 4], [0, 1, 2, 3, 4], [0, 1, 2, 3, 4], [0, 1, 2, 3, 4]]\n"
     ]
    }
   ],
   "source": [
    "# 참고용\n",
    "# 각 행이 0,1,2,3,4으로 5번 반복되는 행렬 생성 \n",
    "matrix = [[j for j in range(5)] for i in range(5)]\n",
    "print(matrix)"
   ]
  },
  {
   "cell_type": "code",
   "execution_count": 64,
   "id": "knowing-scanner",
   "metadata": {},
   "outputs": [
    {
     "name": "stdout",
     "output_type": "stream",
     "text": [
      "[[1, 2], [3, 4], [5, 6]]\n"
     ]
    }
   ],
   "source": [
    "# 참고용\n",
    "# 기존 list 내 요소 두 개를 묶어서 하위 list 만들기\n",
    "list1 = [1, 2, 3, 4, 5, 6]\n",
    "list2 = [[list1[i], list1[i+1]] for i in range(0, len(list1), 2)]\n",
    "print(list2)"
   ]
  },
  {
   "cell_type": "code",
   "execution_count": 65,
   "id": "turkish-spyware",
   "metadata": {},
   "outputs": [],
   "source": [
    "# 참고용\n",
    "num = [[1], [2, 4], [3,2,1], [7,5,6,9]]\n",
    "\n",
    "# 중첩된 list 풀기\n",
    "f_list = [value for sub in num for value in sub]"
   ]
  },
  {
   "cell_type": "code",
   "execution_count": 66,
   "id": "golden-briefs",
   "metadata": {},
   "outputs": [
    {
     "name": "stdout",
     "output_type": "stream",
     "text": [
      "(0, 1)\n",
      "(1, 2)\n"
     ]
    }
   ],
   "source": [
    "# 참고용\n",
    "# 중첩된 list 내에 특정 값을 갖는 요소가 있는지 점검하고 있으면 위치 출력\n",
    "my_list=[['red','orange'],['apple','banana','orange'],['carrot']]\n",
    "for sub_list in my_list:\n",
    "    if 'orange' in sub_list:\n",
    "        print((my_list.index(sub_list),sub_list.index('orange')))"
   ]
  },
  {
   "cell_type": "code",
   "execution_count": 67,
   "id": "utility-forty",
   "metadata": {},
   "outputs": [
    {
     "name": "stdout",
     "output_type": "stream",
     "text": [
      "True\n",
      "False\n"
     ]
    }
   ],
   "source": [
    "# 참고용\n",
    "# 중첩된 list 내에 특정 값을 갖는 요소가 있는지 출력하기\n",
    "n1=[['red','orange','yellow'],['apple','banana'],['carrot']]\n",
    "\n",
    "# 중첩 list 내 각 요소 list에 대해 특정 값이 있는지 확인\n",
    "# 그 중에 어느 한 경우에라도 True이면 True를 출력하는 any() 사용 \n",
    "print(any('apple' in inner_list for inner_list in n1))\n",
    "print(any('strawberry' in inner_list for inner_list in n1))"
   ]
  }
 ],
 "metadata": {
  "kernelspec": {
   "display_name": "Python 3 (ipykernel)",
   "language": "python",
   "name": "python3"
  },
  "language_info": {
   "codemirror_mode": {
    "name": "ipython",
    "version": 3
   },
   "file_extension": ".py",
   "mimetype": "text/x-python",
   "name": "python",
   "nbconvert_exporter": "python",
   "pygments_lexer": "ipython3",
   "version": "3.11.6"
  }
 },
 "nbformat": 4,
 "nbformat_minor": 5
}
