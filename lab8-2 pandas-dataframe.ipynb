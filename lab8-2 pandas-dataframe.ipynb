{
 "cells": [
  {
   "cell_type": "markdown",
   "id": "b0b0af4d-ade9-4396-aa6c-c1fad2609c16",
   "metadata": {},
   "source": [
    "### 실습물 제출 가이드라인\n",
    "- 아래에 주어진 코드들을 실행해서 python의 동작 원리를 이해하시오. 그리고, # M 으로 주어진 부분은 코드를 작성하고 실행하시오.\n",
    "- 주어진 코드들을 다 실행해 보고 결과를 확인하면 3점을 부여합니다.\n",
    "- \"# M\"으로 주어진 문제는 정확한 답을 작성하면 표기된 점수가 부여됩니다."
   ]
  },
  {
   "cell_type": "markdown",
   "id": "satisfied-arbitration",
   "metadata": {},
   "source": [
    "## Pandas data frame"
   ]
  },
  {
   "cell_type": "code",
   "execution_count": 22,
   "id": "bearing-addiction",
   "metadata": {},
   "outputs": [],
   "source": [
    "import pandas as pd\n",
    "import numpy as np"
   ]
  },
  {
   "cell_type": "code",
   "execution_count": 23,
   "id": "enabling-migration",
   "metadata": {},
   "outputs": [
    {
     "name": "stdout",
     "output_type": "stream",
     "text": [
      "[('kim', 2.6), ('kang', 3.2), ('lee', 2.8000000000000003), ('cho', 4.3), ('han', 3.0000000000000004)]\n",
      "[('kim', 4), ('kang', 4), ('lee', 6), ('cho', 8), ('han', 10)]\n",
      "[('kim', 4), ('kang', 6), ('lee', 4), ('cho', 10), ('han', 4)]\n",
      "[('kim', 6), ('kang', 8), ('lee', 6), ('cho', 8), ('han', 6)]\n",
      "[('kim', 8), ('kang', 6), ('lee', 8), ('cho', 8), ('han', 4)]\n"
     ]
    }
   ],
   "source": [
    "# pandas DataFrame을 사용하지 않고 처리하기\n",
    "# 사용자로부터 주어진 data\n",
    "quiz1 = [('kim', 2), ('kang', 2), ('lee', 3), ('cho', 4), ('han', 5)]\n",
    "quiz2 = [('kim', 2), ('kang', 3), ('lee', 2), ('cho', 5), ('han', 2)]\n",
    "quiz3 = [('kim', 3), ('kang', 4), ('lee', 3), ('cho', 4), ('han', 3)]\n",
    "quiz4 = [('kim', 4), ('kang', 3), ('lee', 4), ('cho', 4), ('han', 2)]\n",
    "weights = [0.2, 0.3, 0.4, 0.1]\n",
    "\n",
    "# 사용자의 data 처리하기\n",
    "quiz_list = [quiz1, quiz2, quiz3, quiz4]\n",
    "n_of_students = len(quiz1)\n",
    "n_of_quizes = len(quiz_list)\n",
    "names = [key for key, value in quiz1]\n",
    "\n",
    "# weight를 부여서 각 학생의 점수 총합 정리한 list 만들기\n",
    "sum_list = []; avg_list = []\n",
    "for i in range(n_of_students):\n",
    "    total = 0\n",
    "    for j in range(n_of_quizes):\n",
    "        total += quiz_list[j][i][1]*weights[j]\n",
    "    sum_list.append((names[i], total))\n",
    "print(sum_list)\n",
    "\n",
    "# list comprehension version\n",
    "# sum_list = [(quiz1[i][0], sum(quiz[i][1]*weights[idx] for idx, quiz in enumerate(quiz_list))) for i in range(n_of_students)]\n",
    "# print(sum_list)\n",
    "\n",
    "# 각 quiz들에 대해 점수 두 배로 올리기\n",
    "for i in range(n_of_quizes):\n",
    "    quiz_list[i] = [(name, score*2) for name, score in quiz_list[i]]\n",
    "    print(quiz_list[i])"
   ]
  },
  {
   "cell_type": "code",
   "execution_count": 24,
   "id": "broadband-warrior",
   "metadata": {},
   "outputs": [
    {
     "name": "stdout",
     "output_type": "stream",
     "text": [
      "      quiz1  quiz2  quiz3  quiz4\n",
      "kim       2      2      3      3\n",
      "kang      2      3      4      4\n",
      "lee       3      2      3      3\n",
      "cho       4      5      4      4\n",
      "han       5      2      3      3\n",
      "      quiz1  quiz2  quiz3  quiz4  total\n",
      "kim       4      4      6      6    5.0\n",
      "kang      4      6      8      8    6.6\n",
      "lee       6      4      6      6    5.4\n",
      "cho       8     10      8      8    8.6\n",
      "han      10      4      6      6    6.2\n",
      "8\n"
     ]
    },
    {
     "name": "stderr",
     "output_type": "stream",
     "text": [
      "/tmp/ipykernel_1190/2644070495.py:27: FutureWarning: Series.__getitem__ treating keys as positions is deprecated. In a future version, integer keys will always be treated as labels (consistent with DataFrame behavior). To access a value by position, use `ser.iloc[pos]`\n",
      "  print(df['quiz3'][1])\n"
     ]
    }
   ],
   "source": [
    "# pandas를 사용해서 처리하기\n",
    "\n",
    "# 사용자로부터 주어진 data\n",
    "quiz1 = [('kim', 2), ('kang', 2), ('lee', 3), ('cho', 4), ('han', 5)]\n",
    "quiz2 = [('kim', 2), ('kang', 3), ('lee', 2), ('cho', 5), ('han', 2)]\n",
    "quiz3 = [('kim', 3), ('kang', 4), ('lee', 3), ('cho', 4), ('han', 3)]\n",
    "quiz4 = [('kim', 4), ('kang', 3), ('lee', 4), ('cho', 4), ('han', 2)]\n",
    "weights = [0.2, 0.3, 0.4, 0.1]\n",
    "\n",
    "# 사용자의 data 처리하기\n",
    "user_scores = {'quiz1':[item[1] for item in quiz1], \n",
    "               'quiz2':[item[1] for item in quiz2],  \n",
    "               'quiz3':[item[1] for item in quiz3], \n",
    "               'quiz4':[item[1] for item in quiz3]}\n",
    "names = [item[0] for item in quiz1]\n",
    "\n",
    "# data frame 만들기\n",
    "df = pd.DataFrame(user_scores, index=names)\n",
    "\n",
    "print(df)\n",
    "# weight를 부여서 각 학생의 점수 총합 정리한 column추가\n",
    "df['total'] = df.dot(weights)\n",
    "\n",
    "# 각 quiz의 점수 2배로 올리기\n",
    "df = df*2\n",
    "print(df)\n",
    "print(df['quiz3'][1])"
   ]
  },
  {
   "cell_type": "markdown",
   "id": "macro-framing",
   "metadata": {},
   "source": [
    "#### DataFrame 만들기"
   ]
  },
  {
   "cell_type": "code",
   "execution_count": 25,
   "id": "proprietary-profit",
   "metadata": {},
   "outputs": [],
   "source": [
    "# 노트북 실행 중 한 번 실행하면 충분\n",
    "import pandas as pd\n",
    "import numpy as np"
   ]
  },
  {
   "cell_type": "code",
   "execution_count": 26,
   "id": "hazardous-bailey",
   "metadata": {},
   "outputs": [
    {
     "name": "stdout",
     "output_type": "stream",
     "text": [
      "   0  1  2\n",
      "0  1  2  3\n",
      "1  4  5  6\n",
      "2  7  8  9\n"
     ]
    }
   ],
   "source": [
    "# 1\n",
    "df = pd.DataFrame([[1, 2, 3], [4, 5, 6], [7, 8, 9]])\n",
    "print(df)"
   ]
  },
  {
   "cell_type": "code",
   "execution_count": 27,
   "id": "transsexual-strengthening",
   "metadata": {},
   "outputs": [
    {
     "name": "stdout",
     "output_type": "stream",
     "text": [
      "      48  49  50\n",
      "2.5    1   2   3\n",
      "12.6   4   5   6\n",
      "4.8    7   8   9\n"
     ]
    }
   ],
   "source": [
    "# 2\n",
    "df = pd.DataFrame(data=np.array([[1, 2, 3], [4, 5, 6], [7, 8, 9]]), \n",
    "                  index=[2.5, 12.6, 4.8], columns=[48, 49, 50])\n",
    "print(df)"
   ]
  },
  {
   "cell_type": "code",
   "execution_count": 28,
   "id": "standing-theorem",
   "metadata": {},
   "outputs": [
    {
     "name": "stdout",
     "output_type": "stream",
     "text": [
      "      Name  Age  Gender\n",
      "0    Alice   25  Female\n",
      "1      Bob   30    Male\n",
      "2  Charlie   22    Male\n"
     ]
    }
   ],
   "source": [
    "# 3\n",
    "# row 중심 DataFrame 생성\n",
    "data_list = [['Alice', 25, 'Female'],  ['Bob', 30, 'Male'], ['Charlie', 22, 'Male']]\n",
    "columns = ['Name', 'Age', 'Gender']\n",
    "df1 = pd.DataFrame(data_list, columns=columns)\n",
    "print(df1)"
   ]
  },
  {
   "cell_type": "code",
   "execution_count": 29,
   "id": "impressed-reward",
   "metadata": {},
   "outputs": [
    {
     "name": "stdout",
     "output_type": "stream",
     "text": [
      "      Name  Age  Gender\n",
      "0    Alice   25  Female\n",
      "1      Bob   30    Male\n",
      "2  Charlie   22    Male\n"
     ]
    }
   ],
   "source": [
    "# 4\n",
    "# column 중심  DataFrame 생성\n",
    "data_dict = {'Name': ['Alice', 'Bob', 'Charlie'], 'Age': [25, 30, 22],\n",
    "    'Gender': ['Female', 'Male', 'Male']} \n",
    "\n",
    "df2 = pd.DataFrame(data_dict)\n",
    "print(df2)"
   ]
  },
  {
   "cell_type": "markdown",
   "id": "genuine-exclusion",
   "metadata": {},
   "source": [
    "#### indexing, slicing"
   ]
  },
  {
   "cell_type": "code",
   "execution_count": 30,
   "id": "accepted-harmony",
   "metadata": {},
   "outputs": [],
   "source": [
    "# 6\n",
    "# DataFrame에 []를 사용해서 indexing, slicing 적용하기: 값 읽어내기, 바꾸기\n",
    "#\n",
    "# df[column label][index]\n",
    "# df[column label]\n",
    "# df[[column label1, column label2]]\n",
    "# df[row index1:row index2:step]\n",
    "\n",
    "base_info={'midterm':[80, 70, 65, 75], 'homework':[25, 20, 27, 23],\n",
    "          'final':[75, 80, 70, 80], 'report':[35, 30, 32, 27]}\n",
    "index_list=['202311111', '202322222', '202333333', '202344444']\n",
    "df_course=pd.DataFrame(base_info, index=index_list)"
   ]
  },
  {
   "cell_type": "code",
   "execution_count": 31,
   "id": "5073a4ab-1002-4973-9843-966e47c3b029",
   "metadata": {},
   "outputs": [
    {
     "name": "stdout",
     "output_type": "stream",
     "text": [
      "202311111    80\n",
      "202322222    70\n",
      "202333333    65\n",
      "202344444    75\n",
      "Name: midterm, dtype: int64\n"
     ]
    }
   ],
   "source": [
    "# 6-1 특정 열 읽어내기\n",
    "print(df_course['midterm'])  # Series"
   ]
  },
  {
   "cell_type": "code",
   "execution_count": 32,
   "id": "bf44b39c-0e2f-4435-99af-f2fc683d21a4",
   "metadata": {},
   "outputs": [
    {
     "name": "stdout",
     "output_type": "stream",
     "text": [
      "65\n"
     ]
    }
   ],
   "source": [
    "# 6-2\n",
    "print(df_course['midterm']['202333333']) # integer"
   ]
  },
  {
   "cell_type": "code",
   "execution_count": 33,
   "id": "ca336027-82fb-4614-9961-6cb8a8ca41b1",
   "metadata": {},
   "outputs": [
    {
     "name": "stdout",
     "output_type": "stream",
     "text": [
      "65\n"
     ]
    },
    {
     "name": "stderr",
     "output_type": "stream",
     "text": [
      "/tmp/ipykernel_1190/3922793187.py:2: FutureWarning: Series.__getitem__ treating keys as positions is deprecated. In a future version, integer keys will always be treated as labels (consistent with DataFrame behavior). To access a value by position, use `ser.iloc[pos]`\n",
      "  print(df_course['midterm'][2]) # integer\n"
     ]
    }
   ],
   "source": [
    "# 6-3\n",
    "print(df_course['midterm'][2]) # integer"
   ]
  },
  {
   "cell_type": "code",
   "execution_count": 34,
   "id": "32a03c6b-51c8-441c-836c-942cbfc879dd",
   "metadata": {},
   "outputs": [
    {
     "name": "stdout",
     "output_type": "stream",
     "text": [
      "           midterm  report\n",
      "202311111       80      35\n",
      "202322222       70      30\n",
      "202333333       65      32\n",
      "202344444       75      27\n"
     ]
    }
   ],
   "source": [
    "# 6-4\n",
    "print(df_course[['midterm','report']])  # DataFrame"
   ]
  },
  {
   "cell_type": "code",
   "execution_count": 35,
   "id": "cdb30708-f889-4559-9aaa-abfc71a96e74",
   "metadata": {},
   "outputs": [
    {
     "name": "stdout",
     "output_type": "stream",
     "text": [
      "           midterm  homework  final  report\n",
      "202322222       70        20     80      30\n",
      "202333333       65        27     70      32\n"
     ]
    }
   ],
   "source": [
    "# 6-5\n",
    "print(df_course[1:3])  # DataFrame"
   ]
  },
  {
   "cell_type": "code",
   "execution_count": 36,
   "id": "43f50536-fdec-4ef2-8b2a-8c51a5358393",
   "metadata": {},
   "outputs": [
    {
     "name": "stdout",
     "output_type": "stream",
     "text": [
      "           midterm  homework  final  report\n",
      "202322222       70        20     80      30\n"
     ]
    }
   ],
   "source": [
    "# 6-6\n",
    "print(df_course[1:3:2])  # DataFrame"
   ]
  },
  {
   "cell_type": "code",
   "execution_count": 37,
   "id": "accepted-helen",
   "metadata": {},
   "outputs": [
    {
     "name": "stdout",
     "output_type": "stream",
     "text": [
      "           midterm  homework  final  report\n",
      "202311111       90        25     75      35\n",
      "202322222       90        20     80      30\n",
      "202333333       90        27     70      32\n",
      "202344444       90        23     80      27\n"
     ]
    }
   ],
   "source": [
    "# 6-7\n",
    "# 값 바꾸기\n",
    "df_course['midterm'] = 90\n",
    "print(df_course)"
   ]
  },
  {
   "cell_type": "code",
   "execution_count": 38,
   "id": "d0e3d51f-66e2-4a67-8d4f-f0f77bff98b1",
   "metadata": {},
   "outputs": [
    {
     "name": "stdout",
     "output_type": "stream",
     "text": [
      "           midterm  homework  final  report\n",
      "202311111       90        90     90      90\n",
      "202322222       90        90     90      90\n",
      "202333333       90        90     90      90\n",
      "202344444       90        23     80      27\n"
     ]
    }
   ],
   "source": [
    "# 6-8\n",
    "# 구간을 동일한 값으로 변경하기\n",
    "df_course['202311111':'202333333'] = 90 \n",
    "print(df_course)"
   ]
  },
  {
   "cell_type": "code",
   "execution_count": 39,
   "id": "73cdcbbb-26b9-4ebc-a65d-ee7b8e5afab9",
   "metadata": {},
   "outputs": [
    {
     "name": "stdout",
     "output_type": "stream",
     "text": [
      "           midterm  homework  final  report univeristy\n",
      "202311111       90        90     90      90       Ajou\n",
      "202322222       90        90     90      90       Ajou\n",
      "202333333       90        90     90      90       Ajou\n",
      "202344444       90        23     80      27       Ajou\n"
     ]
    }
   ],
   "source": [
    "# 6-9\n",
    "# DataFrame 생성 단계에 없었던 column 생성 가능 (맨 끝에 추가)\n",
    "df_course['univeristy'] = 'Ajou'\n",
    "print(df_course)"
   ]
  },
  {
   "cell_type": "code",
   "execution_count": 40,
   "id": "4fd89c6d-e432-48cd-b989-49003cef6707",
   "metadata": {},
   "outputs": [
    {
     "name": "stdout",
     "output_type": "stream",
     "text": [
      "           midterm  homework  final  report univeristy  test\n",
      "202311111       90        90     90      90       Ajou  90.0\n",
      "202322222       90        90     90      90       Ajou  90.0\n",
      "202333333       90        90     90      90       Ajou  90.0\n",
      "202344444       90        23     80      27       Ajou  85.0\n"
     ]
    }
   ],
   "source": [
    "# 6-10\n",
    "# column을 결합하여 새로운 column 생성 가능\n",
    "df_course['test'] = df_course['midterm'] *0.5 + df_course['final']*0.5\n",
    "print(df_course)"
   ]
  },
  {
   "cell_type": "code",
   "execution_count": 41,
   "id": "square-arena",
   "metadata": {},
   "outputs": [
    {
     "name": "stdout",
     "output_type": "stream",
     "text": [
      "           midterm  homework  final  report\n",
      "202311111       80        25     75      35\n",
      "202322222       70        20     80      30\n",
      "202333333       65        27     70      32\n",
      "202344444       75        23     80      27\n",
      "           midterm  homework  final  report\n",
      "202322222       70        20     80      30\n",
      "202333333       65        27     70      32\n"
     ]
    }
   ],
   "source": [
    "# 7\n",
    "# loc을 사용하여 indexing과 slicing : 값 읽기, 바꾸기\n",
    "#\n",
    "# df.loc[index label, column label]\n",
    "# df.loc[index label]\n",
    "# df.loc[index label][column label]\n",
    "# df.loc[index label1:index label2:step, column label1:column label2:step]\n",
    "# df.loc[index label list][column label list]\n",
    "\n",
    "base_info={'midterm':[80, 70, 65, 75], 'homework':[25, 20, 27, 23],\n",
    "          'final':[75, 80, 70, 80], 'report':[35, 30, 32, 27]}\n",
    "index_list=['202311111', '202322222', '202333333', '202344444']\n",
    "df_course=pd.DataFrame(base_info, index=index_list)\n",
    "print(df_course)\n",
    "print(df_course[1:3])"
   ]
  },
  {
   "cell_type": "code",
   "execution_count": 42,
   "id": "93da8144-a790-4918-86de-5f6ba5477626",
   "metadata": {},
   "outputs": [
    {
     "name": "stdout",
     "output_type": "stream",
     "text": [
      "75\n"
     ]
    }
   ],
   "source": [
    "# 7-1\n",
    "# loc을 사용하여 indexing과 slicing : 값 읽기, 바꾸기\n",
    "print(df_course.loc['202344444', 'midterm'])"
   ]
  },
  {
   "cell_type": "code",
   "execution_count": 43,
   "id": "1ba8f42b-3004-4563-b651-39bf1e2f91b6",
   "metadata": {},
   "outputs": [
    {
     "name": "stdout",
     "output_type": "stream",
     "text": [
      "midterm     75\n",
      "homework    23\n",
      "final       80\n",
      "report      27\n",
      "Name: 202344444, dtype: int64\n"
     ]
    }
   ],
   "source": [
    "# 7-2\n",
    "# loc을 사용하여 indexing과 slicing : 값 읽기, 바꾸기\n",
    "print(df_course.loc['202344444']) # Series"
   ]
  },
  {
   "cell_type": "code",
   "execution_count": 44,
   "id": "55cfb15c-ee3d-4d84-93b6-c7f085701901",
   "metadata": {},
   "outputs": [
    {
     "name": "stdout",
     "output_type": "stream",
     "text": [
      "           midterm  homework  final  report\n",
      "202311111       80        25     75      35\n",
      "202333333       65        27     70      32\n"
     ]
    }
   ],
   "source": [
    "# 7-3\n",
    "# loc을 사용하여 indexing과 slicing : 값 읽기, 바꾸기\n",
    "print(df_course.loc['202311111':'202344444':2]) "
   ]
  },
  {
   "cell_type": "code",
   "execution_count": 45,
   "id": "16f75ed5-2c4b-4d8b-a764-ba1d8a41479b",
   "metadata": {},
   "outputs": [
    {
     "name": "stdout",
     "output_type": "stream",
     "text": [
      "           midterm  homework  final  report\n",
      "202311111       80        25     75      35\n",
      "202344444       75        23     80      27\n"
     ]
    }
   ],
   "source": [
    "# 7-4\n",
    "# loc을 사용하여 indexing과 slicing : 값 읽기, 바꾸기\n",
    "print(df_course.loc[['202311111','202344444']]) "
   ]
  },
  {
   "cell_type": "code",
   "execution_count": 46,
   "id": "bc0c8b78-91ad-4933-b616-38e741850234",
   "metadata": {},
   "outputs": [
    {
     "name": "stdout",
     "output_type": "stream",
     "text": [
      "202311111    80\n",
      "202322222    70\n",
      "202333333    65\n",
      "202344444    75\n",
      "Name: midterm, dtype: int64\n"
     ]
    }
   ],
   "source": [
    "# 7-5\n",
    "# loc을 사용하여 indexing과 slicing : 값 읽기, 바꾸기\n",
    "print(df_course.loc[:, 'midterm']) # Series"
   ]
  },
  {
   "cell_type": "code",
   "execution_count": 47,
   "id": "0d4c923b-4c0d-4f53-a47c-dde1799db3f0",
   "metadata": {},
   "outputs": [
    {
     "name": "stdout",
     "output_type": "stream",
     "text": [
      "           midterm  homework  final\n",
      "202311111       80        25     75\n",
      "202322222       70        20     80\n",
      "202333333       65        27     70\n"
     ]
    }
   ],
   "source": [
    "# 7-6\n",
    "# loc을 사용하여 indexing과 slicing : 값 읽기, 바꾸기\n",
    "print(df_course.loc['202311111':'202333333', 'midterm':'final'])  # DataFrame"
   ]
  },
  {
   "cell_type": "code",
   "execution_count": 48,
   "id": "be746bdb-82bc-48a0-9645-5830e6a76faa",
   "metadata": {},
   "outputs": [
    {
     "name": "stdout",
     "output_type": "stream",
     "text": [
      "           midterm  final\n",
      "202311111       80     75\n",
      "202333333       65     70\n"
     ]
    }
   ],
   "source": [
    "# 7-7\n",
    "# loc을 사용하여 indexing과 slicing : 값 읽기, 바꾸기\n",
    "print(df_course.loc['202311111':'202333333':2, ['midterm','final']])"
   ]
  },
  {
   "cell_type": "code",
   "execution_count": 49,
   "id": "1eb19940-c821-4162-99ef-d8382b196355",
   "metadata": {},
   "outputs": [
    {
     "name": "stdout",
     "output_type": "stream",
     "text": [
      "           midterm\n",
      "202311111       80\n"
     ]
    }
   ],
   "source": [
    "# 7-8\n",
    "# loc을 사용하여 indexing과 slicing : 값 읽기, 바꾸기\n",
    "print(df_course.loc['202311111':'202311111', ['midterm']]) # dataframe"
   ]
  },
  {
   "cell_type": "code",
   "execution_count": 50,
   "id": "dd43491d-dbbd-4436-bc2d-8dbc335f99c5",
   "metadata": {},
   "outputs": [
    {
     "name": "stdout",
     "output_type": "stream",
     "text": [
      "202311111    80\n",
      "Name: midterm, dtype: int64\n"
     ]
    }
   ],
   "source": [
    "# 7-9\n",
    "# loc을 사용하여 indexing과 slicing : 값 읽기, 바꾸기\n",
    "print(df_course.loc['202311111':'202311111', 'midterm']) # series"
   ]
  },
  {
   "cell_type": "code",
   "execution_count": 51,
   "id": "5b91b021-3ce8-4e78-b0ea-32b5344e3cd2",
   "metadata": {},
   "outputs": [
    {
     "name": "stdout",
     "output_type": "stream",
     "text": [
      "80\n"
     ]
    }
   ],
   "source": [
    "# 7-10\n",
    "# loc을 사용하여 indexing과 slicing : 값 읽기, 바꾸기\n",
    "print(df_course.loc['202311111', 'midterm']) # integer"
   ]
  },
  {
   "cell_type": "code",
   "execution_count": 52,
   "id": "e6003159-a62c-4d65-ab49-faef0b1198ab",
   "metadata": {},
   "outputs": [
    {
     "name": "stdout",
     "output_type": "stream",
     "text": [
      "           midterm  final\n",
      "202311111       80     75\n",
      "202333333       65     70\n"
     ]
    }
   ],
   "source": [
    "# 7-11\n",
    "# loc을 사용하여 indexing과 slicing : 값 읽기, 바꾸기\n",
    "# 일부 행, 일부 열 읽기 (행 목록, 열 목록)\n",
    "print(df_course.loc[['202311111','202333333'], ['midterm','final']])"
   ]
  },
  {
   "cell_type": "code",
   "execution_count": 53,
   "id": "d5c10d13-308d-400b-983c-ae948a8ef004",
   "metadata": {},
   "outputs": [],
   "source": [
    "# 7-12\n",
    "# loc을 사용하여 indexing과 slicing : 값 읽기, 바꾸기\n",
    "# 특정 행의 값을 한꺼번에 바꾸기\n",
    "df_course.loc['202333333'] = 90"
   ]
  },
  {
   "cell_type": "code",
   "execution_count": 54,
   "id": "6ab07ab9-7d81-4b04-a374-f8ab554723ca",
   "metadata": {},
   "outputs": [],
   "source": [
    "# 7-13\n",
    "# loc을 사용하여 indexing과 slicing : 값 읽기, 바꾸기\n",
    "# 특정 행, 렬의 값을 바꾸기\n",
    "df_course.loc['202311111', 'report'] = 90"
   ]
  },
  {
   "cell_type": "code",
   "execution_count": 55,
   "id": "ebc25655-f461-4e03-b7a9-ce7cbade2504",
   "metadata": {},
   "outputs": [],
   "source": [
    "# 7-14\n",
    "# loc을 사용하여 indexing과 slicing : 값 읽기, 바꾸기\n",
    "# 새로운 행 추가하기, 하나의 값으로 설정하거나, 열의 개수와 동일한 개수의 값 준비\n",
    "df_course.loc['202355555'] = (80, 30, 75, 90)"
   ]
  },
  {
   "cell_type": "code",
   "execution_count": 56,
   "id": "11679d82-5969-4452-bc55-8b9a0a4ece9f",
   "metadata": {},
   "outputs": [],
   "source": [
    "# 7-15\n",
    "# loc을 사용하여 indexing과 slicing : 값 읽기, 바꾸기\n",
    "# 새로운 열을 만들고 동일한 값으로 설정하기\n",
    "df_course.loc[:,'university'] = 'Ajou'"
   ]
  },
  {
   "cell_type": "code",
   "execution_count": 57,
   "id": "7979e4bd-acb2-47ca-8860-bff591b57264",
   "metadata": {},
   "outputs": [],
   "source": [
    "# 7-16\n",
    "# loc을 사용하여 indexing과 slicing : 값 읽기, 바꾸기\n",
    "# 기존 열의 값들을 사용해서 새로운 열의 값으로 설정하기\n",
    "df_course.loc[:,'exam'] = df_course.loc[:,'midterm'] *0.5 +\\\n",
    " df_course.loc[:,'final']*0.5"
   ]
  },
  {
   "cell_type": "code",
   "execution_count": 58,
   "id": "affecting-target",
   "metadata": {},
   "outputs": [],
   "source": [
    "# 8\n",
    "# iloc을 사용하여 indexing과 slicing : 값 읽기, 바꾸기\n",
    "#\n",
    "# df.iloc[index, column]\n",
    "# df.iloc[index]\n",
    "# df.iloc[index][column]\n",
    "# df.iloc[index1:index2:step, column1:column2:step]\n",
    "# df.iloc[index list][column list]\n",
    "\n",
    "base_info={'midterm':[80, 70, 65, 75], 'homework':[25, 20, 27, 23],\n",
    "          'final':[75, 80, 70, 80], 'report':[35, 30, 32, 27]}\n",
    "index_list=['202311111', '202322222', '202333333', '202344444']\n",
    "df_course=pd.DataFrame(base_info, index=index_list)"
   ]
  },
  {
   "cell_type": "code",
   "execution_count": 59,
   "id": "9518e727-d4c4-41b3-9639-69765a9f846d",
   "metadata": {},
   "outputs": [
    {
     "name": "stdout",
     "output_type": "stream",
     "text": [
      "27\n"
     ]
    }
   ],
   "source": [
    "# 8-1\n",
    "# iloc을 사용하여 indexing과 slicing : 값 읽기, 바꾸기\n",
    "# 특정 행,열의 값 읽기\n",
    "print(df_course.iloc[2, 1])"
   ]
  },
  {
   "cell_type": "code",
   "execution_count": 60,
   "id": "869a46c4-b734-4f07-9be7-d025f34a064c",
   "metadata": {},
   "outputs": [
    {
     "name": "stdout",
     "output_type": "stream",
     "text": [
      "midterm     65\n",
      "homework    27\n",
      "final       70\n",
      "report      32\n",
      "Name: 202333333, dtype: int64\n"
     ]
    }
   ],
   "source": [
    "# 8-2\n",
    "# iloc을 사용하여 indexing과 slicing : 값 읽기, 바꾸기\n",
    "# 행 읽기\n",
    "print(df_course.iloc[2]) # series"
   ]
  },
  {
   "cell_type": "code",
   "execution_count": 61,
   "id": "31a2c4d0-b29c-49a6-a18e-cbc795fe8e74",
   "metadata": {},
   "outputs": [
    {
     "name": "stdout",
     "output_type": "stream",
     "text": [
      "202311111    80\n",
      "202322222    70\n",
      "202333333    65\n",
      "202344444    75\n",
      "Name: midterm, dtype: int64\n"
     ]
    }
   ],
   "source": [
    "# 8-3\n",
    "# iloc을 사용하여 indexing과 slicing : 값 읽기, 바꾸기\n",
    "# column 읽기\n",
    "print(df_course.iloc[:, 0]) # series"
   ]
  },
  {
   "cell_type": "code",
   "execution_count": 62,
   "id": "a9369172-895d-420d-9e30-4f61189205fb",
   "metadata": {},
   "outputs": [
    {
     "name": "stdout",
     "output_type": "stream",
     "text": [
      "           midterm  homework\n",
      "202311111       80        25\n",
      "202322222       70        20\n"
     ]
    }
   ],
   "source": [
    "# 8-4\n",
    "# iloc을 사용하여 indexing과 slicing : 값 읽기, 바꾸기\n",
    "# 일부 행, 일부 열 읽기 (행 구간, 열 구간), 구간의 ending index 미포함\n",
    "print(df_course.iloc[0:2, 0:2])"
   ]
  },
  {
   "cell_type": "code",
   "execution_count": 63,
   "id": "0b9ac00d-2ed2-44fd-8307-2dc6f4cb546b",
   "metadata": {},
   "outputs": [
    {
     "name": "stdout",
     "output_type": "stream",
     "text": [
      "           midterm  homework\n",
      "202311111       80        25\n"
     ]
    }
   ],
   "source": [
    "# 8-5\n",
    "# iloc을 사용하여 indexing과 slicing : 값 읽기, 바꾸기\n",
    "# 일부 행, 일부 열 읽기 (행 구간, 열 목록), 구간의 ending index 미포함\n",
    "print(df_course.iloc[0:2:2, [0, 1]])"
   ]
  },
  {
   "cell_type": "code",
   "execution_count": 64,
   "id": "86683e2e-f31e-40da-8069-8f6d6945407f",
   "metadata": {},
   "outputs": [
    {
     "name": "stdout",
     "output_type": "stream",
     "text": [
      "           midterm  final\n",
      "202311111       80     75\n",
      "202333333       65     70\n"
     ]
    }
   ],
   "source": [
    "# 8-6\n",
    "# iloc을 사용하여 indexing과 slicing : 값 읽기, 바꾸기\n",
    "# 일부 행, 일부 열 읽기 (행 목록, 열 목록)\n",
    "print(df_course.iloc[[0,2], [0, 2]])"
   ]
  },
  {
   "cell_type": "code",
   "execution_count": 65,
   "id": "50decc53-a306-4079-bdc0-da9d7a6ecc6e",
   "metadata": {},
   "outputs": [],
   "source": [
    "# 8-7\n",
    "# iloc을 사용하여 indexing과 slicing : 값 읽기, 바꾸기\n",
    "# 특정 열의 값을 한꺼번에 바꾸기\n",
    "df_course.iloc[:, 1] = 90"
   ]
  },
  {
   "cell_type": "code",
   "execution_count": 66,
   "id": "9a8646ad-133d-4276-a85a-4ae94e2cd0c9",
   "metadata": {},
   "outputs": [],
   "source": [
    "# 8-8\n",
    "# iloc을 사용하여 indexing과 slicing : 값 읽기, 바꾸기\n",
    "# 기존 열의 값들을 사용해서 새로운 열의 값으로 설정하기\n",
    "df_course['exam'] = 0 # 새로운 열을 만들고 0으로 초기화\n",
    "df_course.iloc[:, 4] = df_course.iloc[:, 0] *0.5 + df_course.iloc[:, 3]*0.5"
   ]
  },
  {
   "cell_type": "code",
   "execution_count": 67,
   "id": "arranged-performer",
   "metadata": {},
   "outputs": [
    {
     "ename": "SyntaxError",
     "evalue": "':' expected after dictionary key (2971890609.py, line 6)",
     "output_type": "error",
     "traceback": [
      "\u001b[0;36m  Cell \u001b[0;32mIn[67], line 6\u001b[0;36m\u001b[0m\n\u001b[0;31m    'final', :[75, 80, 70, 80], 'report':[35, 30, 32, 27]}\u001b[0m\n\u001b[0m          ^\u001b[0m\n\u001b[0;31mSyntaxError\u001b[0m\u001b[0;31m:\u001b[0m ':' expected after dictionary key\n"
     ]
    }
   ],
   "source": [
    "# 9\n",
    "# at, iat을 사용해서 indexing: 값 읽기, 바꾸기\n",
    "# slicing은 불가\n",
    "\n",
    "base_info={'midterm':[80, 70, 65, 75], 'homework':[25, 20, 27, 23],\n",
    "          'final', :[75, 80, 70, 80], 'report':[35, 30, 32, 27]}\n",
    "index_list=['202311111', '202322222', '202333333', '202344444']\n",
    "cols = ['midterm','homework','final',  'report']\n",
    "df_course=pd.DataFrame(base_info, index=index_list)"
   ]
  },
  {
   "cell_type": "code",
   "execution_count": 68,
   "id": "58c6a98a-a943-4193-9a12-a1c3a308118a",
   "metadata": {},
   "outputs": [
    {
     "name": "stdout",
     "output_type": "stream",
     "text": [
      "90\n"
     ]
    }
   ],
   "source": [
    "# 9-1\n",
    "# at, iat을 사용해서 indexing: 값 읽기, 바꾸기\n",
    "df_course.at['202311111', 'midterm'] = 90\n",
    "print(df_course.at['202311111', 'midterm'])"
   ]
  },
  {
   "cell_type": "code",
   "execution_count": 69,
   "id": "77b24d0a-866c-40c2-9ea3-629c7542fcbd",
   "metadata": {},
   "outputs": [
    {
     "name": "stdout",
     "output_type": "stream",
     "text": [
      "70\n"
     ]
    }
   ],
   "source": [
    "# 9-2\n",
    "# at, iat을 사용해서 indexing: 값 읽기, 바꾸기\n",
    "df_course.iat[1, 2] = 70\n",
    "print(df_course.iat[1, 2])"
   ]
  },
  {
   "cell_type": "markdown",
   "id": "solar-petroleum",
   "metadata": {},
   "source": [
    "#### DataFrame 모양 변경"
   ]
  },
  {
   "cell_type": "code",
   "execution_count": 70,
   "id": "northern-current",
   "metadata": {},
   "outputs": [
    {
     "name": "stdout",
     "output_type": "stream",
     "text": [
      "*** initial frame\n",
      "              name  age\n",
      "lastborn    Alice   25\n",
      "younger1      Bob   30\n",
      "older1    Charlie   35\n",
      "\n",
      "*** a DataFrame for a new row\n",
      "            name  age\n",
      "younger2  David   28\n",
      "\n",
      "*** add a new row\n",
      "              name  age\n",
      "lastborn    Alice   25\n",
      "younger1      Bob   30\n",
      "older1    Charlie   35\n",
      "younger2    David   28\n"
     ]
    }
   ],
   "source": [
    "# 10-1\n",
    "data = {'name': ['Alice', 'Bob', 'Charlie'], 'age': [25, 30, 35]}\n",
    "df = pd.DataFrame(data, index=['lastborn', 'younger1', 'older1'])\n",
    "print('*** initial frame\\n', df)\n",
    "\n",
    "# 새로운 행 추가를 위한 DataFrame 생성\n",
    "new_row_df = pd.DataFrame(data ={'name': 'David', 'age': 28}, \n",
    "                          index=['younger2'])\n",
    "print('\\n*** a DataFrame for a new row\\n', new_row_df)\n",
    "\n",
    "# DataFrame 붙이기\n",
    "df = pd.concat([df, new_row_df])\n",
    "print('\\n*** add a new row\\n', df)"
   ]
  },
  {
   "cell_type": "code",
   "execution_count": 71,
   "id": "lesbian-collect",
   "metadata": {},
   "outputs": [
    {
     "name": "stdout",
     "output_type": "stream",
     "text": [
      "\n",
      "*** new data frame\n",
      "            name  age sexuality\n",
      "younger3    Eva   29    female\n",
      "younger4  Frank   22      male\n",
      "\n",
      "*** attach new data frame\n",
      "              name  age sexuality\n",
      "lastborn    Alice   25       NaN\n",
      "younger1      Bob   30       NaN\n",
      "older1    Charlie   35       NaN\n",
      "younger2    David   28       NaN\n",
      "younger3      Eva   29    female\n",
      "younger4    Frank   22      male\n"
     ]
    }
   ],
   "source": [
    "# 10-2\n",
    "# column 별로 수집된 data로 DataFrame을 만들어서 추가하기\n",
    "new_data = {'name': ['Eva', 'Frank'], 'age': [29, 22], 'sexuality': ['female', 'male']}\n",
    "new_df = pd.DataFrame(new_data, index=['younger3', 'younger4'])\n",
    "print('\\n*** new data frame\\n', new_df)\n",
    "\n",
    "df = pd.concat([df, new_df]);\n",
    "print('\\n*** attach new data frame\\n', df)"
   ]
  },
  {
   "cell_type": "code",
   "execution_count": 72,
   "id": "unusual-portsmouth",
   "metadata": {},
   "outputs": [
    {
     "name": "stdout",
     "output_type": "stream",
     "text": [
      "\n",
      "*** change value (22->23, 25->26)\n",
      "              name  age sexuality\n",
      "lastborn    Alice   26       NaN\n",
      "younger1      Bob   30       NaN\n",
      "older1    Charlie   35       NaN\n",
      "younger2    David   28       NaN\n",
      "younger3      Eva   29    female\n",
      "younger4    Frank   23      male\n"
     ]
    }
   ],
   "source": [
    "# 10-3\n",
    "# 특정 값을 바꾸기, 변경 전 : 변경 후 dictionary 형식으로 argument 제공\n",
    "df=df.replace({22:23, 25:26})\n",
    "print('\\n*** change value (22->23, 25->26)\\n', df)"
   ]
  },
  {
   "cell_type": "code",
   "execution_count": 73,
   "id": "dc9d1fd6-60fe-4765-bb90-709101da5ecd",
   "metadata": {},
   "outputs": [
    {
     "name": "stdout",
     "output_type": "stream",
     "text": [
      "\n",
      "*** add a new column \"city\"\n",
      "              name  age sexuality    city\n",
      "lastborn    Alice   26       NaN   seoul\n",
      "younger1      Bob   30       NaN   busan\n",
      "older1    Charlie   35       NaN   suwon\n",
      "younger2    David   28       NaN   suwon\n",
      "younger3      Eva   29    female   suwon\n",
      "younger4    Frank   23      male  pangyo\n"
     ]
    }
   ],
   "source": [
    "# 10-4\n",
    "# 'city' 열 추가하기 (각 행의 값들을 제시)\n",
    "df['city'] = ['seoul','busan','suwon', 'suwon', 'suwon', 'pangyo']\n",
    "print('\\n*** add a new column \"city\"\\n', df)"
   ]
  },
  {
   "cell_type": "code",
   "execution_count": 74,
   "id": "divine-nurse",
   "metadata": {},
   "outputs": [
    {
     "name": "stdout",
     "output_type": "stream",
     "text": [
      "\n",
      "*** drop sexuality\n",
      "              name  age    city\n",
      "lastborn    Alice   26   seoul\n",
      "younger1      Bob   30   busan\n",
      "older1    Charlie   35   suwon\n",
      "younger2    David   28   suwon\n",
      "younger3      Eva   29   suwon\n",
      "younger4    Frank   23  pangyo\n"
     ]
    }
   ],
   "source": [
    "# 10-5\n",
    "df = df.drop(columns=['sexuality'], axis=1)\n",
    "print('\\n*** drop sexuality\\n', df)"
   ]
  },
  {
   "cell_type": "code",
   "execution_count": 3,
   "id": "western-saskatchewan",
   "metadata": {},
   "outputs": [
    {
     "ename": "NameError",
     "evalue": "name 'df' is not defined",
     "output_type": "error",
     "traceback": [
      "\u001b[0;31m---------------------------------------------------------------------------\u001b[0m",
      "\u001b[0;31mNameError\u001b[0m                                 Traceback (most recent call last)",
      "Cell \u001b[0;32mIn[3], line 2\u001b[0m\n\u001b[1;32m      1\u001b[0m \u001b[38;5;66;03m# 10-6\u001b[39;00m\n\u001b[0;32m----> 2\u001b[0m df \u001b[38;5;241m=\u001b[39m \u001b[43mdf\u001b[49m\u001b[38;5;241m.\u001b[39mdrop(index\u001b[38;5;241m=\u001b[39m[\u001b[38;5;124m'\u001b[39m\u001b[38;5;124myounger3\u001b[39m\u001b[38;5;124m'\u001b[39m, \u001b[38;5;124m'\u001b[39m\u001b[38;5;124myounger4\u001b[39m\u001b[38;5;124m'\u001b[39m])\n\u001b[1;32m      3\u001b[0m \u001b[38;5;28mprint\u001b[39m(\u001b[38;5;124m'\u001b[39m\u001b[38;5;130;01m\\n\u001b[39;00m\u001b[38;5;124m*** drop two members\u001b[39m\u001b[38;5;130;01m\\n\u001b[39;00m\u001b[38;5;124m'\u001b[39m, df) \n",
      "\u001b[0;31mNameError\u001b[0m: name 'df' is not defined"
     ]
    }
   ],
   "source": [
    "# 10-6\n",
    "df = df.drop(index=['younger3', 'younger4'])\n",
    "print('\\n*** drop two members\\n', df) "
   ]
  },
  {
   "cell_type": "code",
   "execution_count": null,
   "id": "regular-visibility",
   "metadata": {},
   "outputs": [],
   "source": [
    "# 10-7\n",
    "df = df.sort_values(by=['age'], ascending=[False])\n",
    "print('\\n*** sort by \"age\"\\n', df)"
   ]
  },
  {
   "cell_type": "code",
   "execution_count": 2,
   "id": "01376af6-7eaf-4be5-b4d4-4b22cc3e5ee3",
   "metadata": {},
   "outputs": [
    {
     "ename": "NameError",
     "evalue": "name 'df' is not defined",
     "output_type": "error",
     "traceback": [
      "\u001b[0;31m---------------------------------------------------------------------------\u001b[0m",
      "\u001b[0;31mNameError\u001b[0m                                 Traceback (most recent call last)",
      "Cell \u001b[0;32mIn[2], line 2\u001b[0m\n\u001b[1;32m      1\u001b[0m \u001b[38;5;66;03m# 10-8\u001b[39;00m\n\u001b[0;32m----> 2\u001b[0m \u001b[38;5;28;01mfor\u001b[39;00m idx, name, age, city \u001b[38;5;129;01min\u001b[39;00m \u001b[38;5;28mzip\u001b[39m(\u001b[43mdf\u001b[49m\u001b[38;5;241m.\u001b[39mindex, df[\u001b[38;5;124m'\u001b[39m\u001b[38;5;124mname\u001b[39m\u001b[38;5;124m'\u001b[39m], \n\u001b[1;32m      3\u001b[0m                                   df[\u001b[38;5;124m'\u001b[39m\u001b[38;5;124mage\u001b[39m\u001b[38;5;124m'\u001b[39m], df[\u001b[38;5;124m'\u001b[39m\u001b[38;5;124mcity\u001b[39m\u001b[38;5;124m'\u001b[39m]):\n\u001b[1;32m      4\u001b[0m     \u001b[38;5;28mprint\u001b[39m(\u001b[38;5;124mf\u001b[39m\u001b[38;5;124m\"\u001b[39m\u001b[38;5;132;01m{\u001b[39;00midx\u001b[38;5;132;01m:\u001b[39;00m\u001b[38;5;124m<8s\u001b[39m\u001b[38;5;132;01m}\u001b[39;00m\u001b[38;5;124m:  Name=\u001b[39m\u001b[38;5;132;01m{\u001b[39;00mname\u001b[38;5;132;01m:\u001b[39;00m\u001b[38;5;124m>7s\u001b[39m\u001b[38;5;132;01m}\u001b[39;00m\u001b[38;5;124m, Age=\u001b[39m\u001b[38;5;132;01m{\u001b[39;00mage\u001b[38;5;132;01m}\u001b[39;00m\u001b[38;5;124m, Residence=\u001b[39m\u001b[38;5;132;01m{\u001b[39;00mcity\u001b[38;5;132;01m}\u001b[39;00m\u001b[38;5;124m\"\u001b[39m)\n",
      "\u001b[0;31mNameError\u001b[0m: name 'df' is not defined"
     ]
    }
   ],
   "source": [
    "# 10-8\n",
    "for idx, name, age, city in zip(df.index, df['name'], \n",
    "                                  df['age'], df['city']):\n",
    "    print(f\"{idx:<8s}:  Name={name:>7s}, Age={age}, Residence={city}\")"
   ]
  },
  {
   "cell_type": "code",
   "execution_count": 78,
   "id": "structured-jungle",
   "metadata": {},
   "outputs": [
    {
     "name": "stdout",
     "output_type": "stream",
     "text": [
      "포트폴리오 자산 가치:\n",
      "       Price  Holdings  Asset Value\n",
      "Stock                              \n",
      "AAPL     150        10         1500\n",
      "MSFT     200         5         1000\n",
      "GOOGL   1200         2         2400\n",
      "\n",
      "총 자산 가치: $ 4900\n"
     ]
    }
   ],
   "source": [
    "# 11\n",
    "# dataframe 내 column간 연산해서 새로운 column 만들기\n",
    "\n",
    "# Apple과 Microsoft와 Google의 현재 주가는 각각 $150, $200, $1200이라고 가정하자.\n",
    "# Apple과 Microsoft와 Google의 주식을 각각 10주, 5주, 2주를 갖고 있다고 하자.\n",
    "# Pandas를 사용해서 내 주식 자산 가치를 관리하고 싶다 \n",
    "\n",
    "import pandas as pd\n",
    "\n",
    "# 데이터 준비\n",
    "data = {\n",
    "    'Price': [150, 200, 1200],\n",
    "    'Holdings': [10, 5, 2]\n",
    "}\n",
    "\n",
    "stocks = ['AAPL', 'MSFT', 'GOOGL']\n",
    "\n",
    "# DataFrame 생성 및 인덱스 설정\n",
    "stock_df = pd.DataFrame(data, index=stocks)\n",
    "stock_df.index.name = 'Stock'\n",
    "\n",
    "# 각 종목의 자산 가치 계산해서 column으로 추가\n",
    "stock_df['Asset Value'] = stock_df['Price'] * stock_df['Holdings']\n",
    "\n",
    "# 총 자산 가치 계산\n",
    "total_asset_value = stock_df['Asset Value'].sum()\n",
    "\n",
    "print(\"포트폴리오 자산 가치:\")\n",
    "print(stock_df)\n",
    "print(\"\\n총 자산 가치: $\", total_asset_value)"
   ]
  },
  {
   "cell_type": "markdown",
   "id": "average-denmark",
   "metadata": {},
   "source": [
    "#### data frame operation"
   ]
  },
  {
   "cell_type": "code",
   "execution_count": 79,
   "id": "decreased-latvia",
   "metadata": {},
   "outputs": [
    {
     "name": "stdout",
     "output_type": "stream",
     "text": [
      "        sun  mon  tue\n",
      "spring    3    4    5\n",
      "summer    6    7    8\n",
      "winter    9   10   11\n"
     ]
    }
   ],
   "source": [
    "# 12-1\n",
    "df1 = pd.DataFrame(data= [[1, 2, 3], [4, 5, 6], [7, 8, 9]], \n",
    "                  index= ['spring', 'summer', 'winter'], \n",
    "                  columns=['sun', 'mon', 'tue'])\n",
    "\n",
    "add_by_2 = df1 + 2\n",
    "print(add_by_2); "
   ]
  },
  {
   "cell_type": "code",
   "execution_count": 80,
   "id": "structural-paste",
   "metadata": {},
   "outputs": [
    {
     "name": "stdout",
     "output_type": "stream",
     "text": [
      "        sun  mon  tue\n",
      "spring    2    4    6\n",
      "summer    8   10   12\n",
      "winter   14   16   18\n"
     ]
    }
   ],
   "source": [
    "# 12-2\n",
    "mult_by_2 = df1 * 2\n",
    "print(mult_by_2); "
   ]
  },
  {
   "cell_type": "code",
   "execution_count": 81,
   "id": "anonymous-belize",
   "metadata": {},
   "outputs": [
    {
     "name": "stdout",
     "output_type": "stream",
     "text": [
      "         sun    mon   tue\n",
      "spring  True  False  True\n",
      "summer  True   True  True\n",
      "winter  True   True  True\n"
     ]
    }
   ],
   "source": [
    "# 12-3\n",
    "not_equal_2 = (df1 != 2)\n",
    "print(not_equal_2)"
   ]
  },
  {
   "cell_type": "code",
   "execution_count": 82,
   "id": "objective-center",
   "metadata": {},
   "outputs": [
    {
     "name": "stdout",
     "output_type": "stream",
     "text": [
      "        sun  mon  tue\n",
      "spring    5    5    5\n",
      "summer    6    8   12\n",
      "winter    8   11   11\n"
     ]
    }
   ],
   "source": [
    "# 13-1\n",
    "df2 = pd.DataFrame(data = [[4, 3, 2], [2, 3, 6], [1, 3, 2]], \n",
    "                  index = ['spring', 'summer', 'winter'], \n",
    "                  columns = ['sun', 'mon', 'tue'])\n",
    "\n",
    "sum_dfs = df1 + df2 \n",
    "print(sum_dfs)"
   ]
  },
  {
   "cell_type": "code",
   "execution_count": 83,
   "id": "dynamic-plane",
   "metadata": {},
   "outputs": [
    {
     "name": "stdout",
     "output_type": "stream",
     "text": [
      "          sun    mon    tue\n",
      "spring   True   True  False\n",
      "summer  False  False  False\n",
      "winter  False  False  False\n"
     ]
    }
   ],
   "source": [
    "# 13-2\n",
    "compare_dfs = (df1 < df2)\n",
    "print(compare_dfs)"
   ]
  },
  {
   "cell_type": "code",
   "execution_count": 84,
   "id": "formed-navigator",
   "metadata": {},
   "outputs": [
    {
     "name": "stdout",
     "output_type": "stream",
     "text": [
      "              sun  mon  wed\n",
      "spring          4    3    2\n",
      "early summer    2    3    6\n",
      "winter          1    3    2\n",
      "               mon  sun  tue  wed\n",
      "early summer   NaN  NaN  NaN  NaN\n",
      "spring         5.0  5.0  NaN  NaN\n",
      "summer         NaN  NaN  NaN  NaN\n",
      "winter        11.0  8.0  NaN  NaN\n",
      "-----\n",
      "               mon  sun  tue  wed\n",
      "early summer   0.0  0.0  0.0  0.0\n",
      "spring         5.0  5.0  0.0  0.0\n",
      "summer         0.0  0.0  0.0  0.0\n",
      "winter        11.0  8.0  0.0  0.0\n"
     ]
    }
   ],
   "source": [
    "# 14\n",
    "import pandas as pd\n",
    "df1 = pd.DataFrame(data = [[1, 2, 3], [4, 5, 6], [7, 8, 9]], \n",
    "                  index = ['spring', 'summer', 'winter'], \n",
    "                  columns = ['sun', 'mon', 'tue'])\n",
    "\n",
    "df2 = pd.DataFrame(data = [[4, 3, 2], [2, 3, 6], [1, 3, 2]], \n",
    "                  index = ['spring', 'early summer', 'winter'], \n",
    "                  columns = ['sun', 'mon', 'wed'])\n",
    "\n",
    "print(df2)\n",
    "\n",
    "sum_dfs = df1 + df2\n",
    "print(sum_dfs)\n",
    "print(\"-\"*5)\n",
    "\n",
    "# sum_dfs의 NaN을 0으로 채우기\n",
    "sum_dfs = sum_dfs.fillna(0)\n",
    "print(sum_dfs);"
   ]
  },
  {
   "cell_type": "code",
   "execution_count": 85,
   "id": "2200144e-51cb-4a7b-bf1d-072b48e52715",
   "metadata": {},
   "outputs": [
    {
     "name": "stdout",
     "output_type": "stream",
     "text": [
      "        sun  mon  tue\n",
      "spring    1    2    3\n",
      "summer    4    5    6\n",
      "winter    7    8    9\n"
     ]
    }
   ],
   "source": [
    "# 15\n",
    "# boolean indexing\n",
    "df1 = pd.DataFrame(data= [[1, 2, 3], [4, 5, 6], [7, 8, 9]], \n",
    "                  index= ['spring', 'summer', 'winter'], \n",
    "                  columns=['sun', 'mon', 'tue'])\n",
    "\n",
    "print(df1[df1['sun'] != 3])"
   ]
  },
  {
   "cell_type": "code",
   "execution_count": 86,
   "id": "solved-watts",
   "metadata": {},
   "outputs": [],
   "source": [
    "# 16\n",
    "# boolean indexing\n",
    "\n",
    "populations = [['한국',500],['미국', 450],['싱가폴', 705], ['호주', 878], ['베트남', 660], ['대만', 808]]\n",
    "\n",
    "df = pd.DataFrame(populations, columns = ['country', 'population'])"
   ]
  },
  {
   "cell_type": "code",
   "execution_count": 87,
   "id": "9fa68df2-1432-4967-9320-088ba4e5f2c6",
   "metadata": {},
   "outputs": [
    {
     "name": "stdout",
     "output_type": "stream",
     "text": [
      "  country  population\n",
      "0      한국         500\n",
      "3      호주         878\n"
     ]
    }
   ],
   "source": [
    "# 16-1\n",
    "# boolean indexing\n",
    "# 한국과 호주 data만 추출\n",
    "korea_au=df[(df['country']=='한국') | (df['country']=='호주')]\n",
    "print(korea_au)"
   ]
  },
  {
   "cell_type": "code",
   "execution_count": 88,
   "id": "87b0d6a4-b7e1-4409-b4d9-121e8c232550",
   "metadata": {},
   "outputs": [
    {
     "name": "stdout",
     "output_type": "stream",
     "text": [
      "['싱가폴', '호주', '베트남', '대만']\n"
     ]
    }
   ],
   "source": [
    "# 16-2\n",
    "# boolean indexing\n",
    "# population이 500보다 큰 나라명 출력\n",
    "big_countries = list(df[df['population']>500]['country'])\n",
    "print (big_countries) "
   ]
  },
  {
   "cell_type": "code",
   "execution_count": 89,
   "id": "reported-arkansas",
   "metadata": {},
   "outputs": [
    {
     "name": "stdout",
     "output_type": "stream",
     "text": [
      "  country  population\n",
      "0      한국         500\n",
      "2     싱가폴         705\n",
      "3      호주         878\n",
      "4     베트남         660\n",
      "5      대만         808\n"
     ]
    }
   ],
   "source": [
    "# 16-3\n",
    "# boolean indexing\n",
    "# loc을 사용한 boolean indexing\n",
    "# 인구가 500 이상인 행 출력\n",
    "print(df.loc[df['population'] >= 500]) # print(df[df['population'] >= 500]) "
   ]
  },
  {
   "cell_type": "code",
   "execution_count": 90,
   "id": "e1f1c4a3-778a-4258-915a-2164e8290ad3",
   "metadata": {},
   "outputs": [
    {
     "name": "stdout",
     "output_type": "stream",
     "text": [
      "  country  population   size\n",
      "0      한국         500    big\n",
      "1      미국         450  small\n",
      "2     싱가폴         705    big\n",
      "3      호주         878    big\n",
      "4     베트남         660    big\n",
      "5      대만         808    big\n"
     ]
    },
    {
     "name": "stderr",
     "output_type": "stream",
     "text": [
      "/tmp/ipykernel_1190/2557146637.py:4: FutureWarning: Setting an item of incompatible dtype is deprecated and will raise in a future error of pandas. Value 'big' has dtype incompatible with float64, please explicitly cast to a compatible dtype first.\n",
      "  df.loc[df['population'] >= 500, 'size'] = 'big'\n"
     ]
    }
   ],
   "source": [
    "# 16-4\n",
    "# boolean indexing\n",
    "# ‘size’라는 열을 추가하고, 인구가 500이상이면 ‘big’, 그렇지 않으면 ‘small’ 값 부여\n",
    "df.loc[df['population'] >= 500, 'size'] = 'big'  \n",
    "df.loc[df['population'] < 500, 'size'] = 'small'  \n",
    "\n",
    "print(df)"
   ]
  },
  {
   "cell_type": "code",
   "execution_count": 91,
   "id": "brazilian-retrieval",
   "metadata": {},
   "outputs": [
    {
     "name": "stdout",
     "output_type": "stream",
     "text": [
      "        items  sales\n",
      "0       apple    100\n",
      "1       peach    130\n",
      "2        pear    250\n",
      "3      orange    210\n",
      "4  strawberry    200\n"
     ]
    }
   ],
   "source": [
    "# 17 \n",
    "# iloc을 사용한 boolean indexing\n",
    "\n",
    "data = {'items': ['apple', 'peach', 'pear', 'orange', 'strawberry'],\n",
    "'sales': [100, 130, 250, 210, 200]}\n",
    "df = pd.DataFrame(data)\n",
    "print(df)"
   ]
  },
  {
   "cell_type": "code",
   "execution_count": 92,
   "id": "6cd192a2-6863-4f8a-8f3d-9f59693772a3",
   "metadata": {},
   "outputs": [
    {
     "name": "stdout",
     "output_type": "stream",
     "text": [
      "        items  sales state\n",
      "0       apple    100  good\n",
      "1       peach    130  good\n",
      "2        pear    250  good\n",
      "3      orange    210  good\n",
      "4  strawberry    200  good\n"
     ]
    }
   ],
   "source": [
    "# 17-1\n",
    "# iloc을 사용한 boolean indexing\n",
    "# 'state'라는 열을 추가하고 default로 'good' 부여\n",
    "df['state'] = 'good'   \n",
    "print(df)"
   ]
  },
  {
   "cell_type": "code",
   "execution_count": 93,
   "id": "8fd1b79c-007c-4d9d-8e27-15f0d4ed56a5",
   "metadata": {},
   "outputs": [
    {
     "name": "stdout",
     "output_type": "stream",
     "text": [
      "        items  sales state\n",
      "0       apple    100   bad\n",
      "1       peach    130   bad\n",
      "2        pear    250  good\n",
      "3      orange    210  good\n",
      "4  strawberry    200  good\n"
     ]
    }
   ],
   "source": [
    "# 17-2 \n",
    "# iloc을 사용한 boolean indexing\n",
    "# sales가 150 미만인 항목에 대해서는 RangeIndex가 2인 column, 즉, state를 'bad'로 변경\n",
    "df.iloc[df['sales'] <150, 2] = 'bad' \n",
    "print(df)"
   ]
  },
  {
   "cell_type": "code",
   "execution_count": 94,
   "id": "preceding-compilation",
   "metadata": {},
   "outputs": [
    {
     "name": "stdout",
     "output_type": "stream",
     "text": [
      "{'fruits': ['apple', 'peach', 'pear', 'orange', 'strawberry'], 'coffee': ['americano', 'latte', 'americano', 'capuccino', 'latte'], 'color': ['green', 'blue', 'pink', 'red', 'blue']}\n",
      "**********\n",
      "          fruits     coffee  color\n",
      "kang       apple  americano  green\n",
      "kim        peach      latte   blue\n",
      "lee         pear  americano   pink\n",
      "hong      orange  capuccino    red\n",
      "cho   strawberry      latte   blue\n"
     ]
    }
   ],
   "source": [
    "# 18 \n",
    "# data frame 내 특정 값이 어디에 있는지 찾기\n",
    "import numpy as np\n",
    "\n",
    "# 기본 data\n",
    "fruits = ['apple', 'peach', 'pear', 'orange', 'strawberry']\n",
    "coffee = ['americano', 'latte', 'americano', 'capuccino', 'latte']\n",
    "color = ['green', 'blue', 'pink', 'red', 'blue']\n",
    "user_list = ['kang', 'kim', 'lee', 'hong', 'cho']\n",
    "\n",
    "# data frame을 만들기 위한 준비\n",
    "categories = ['fruits', 'coffee', 'color']\n",
    "items_list = [fruits, coffee, color]\n",
    "favorites = {categories[i]: items_list[i] for i in range(len(categories))}\n",
    "print(favorites)\n",
    "\n",
    "print(\"*\"*10)\n",
    "df = pd.DataFrame(favorites, index = user_list )\n",
    "print(df)"
   ]
  },
  {
   "cell_type": "code",
   "execution_count": 95,
   "id": "1a1c8c4f-79cd-4faa-9898-37d26b452831",
   "metadata": {},
   "outputs": [
    {
     "name": "stdout",
     "output_type": "stream",
     "text": [
      "['kang', 'lee']\n"
     ]
    }
   ],
   "source": [
    "# 18-1\n",
    "# data frame 내 특정 값이 어디에 있는지 찾기\n",
    "target = 'americano'\n",
    "\n",
    "record_df = df[df.isin([target]).any(axis=1)]\n",
    "print(record_df.index.tolist())  "
   ]
  },
  {
   "cell_type": "code",
   "execution_count": 96,
   "id": "26d1224e-dd13-40e1-890d-b1f3c5a14378",
   "metadata": {},
   "outputs": [
    {
     "name": "stdout",
     "output_type": "stream",
     "text": [
      "['kang', 'lee']\n"
     ]
    }
   ],
   "source": [
    "# 18-2\n",
    "# data frame 내 특정 값이 어디에 있는지 찾기\n",
    "target = 'americano'\n",
    "target_column = 'coffee'\n",
    "\n",
    "record_df = df[df[target_column] == target]\n",
    "print(record_df.index.tolist())"
   ]
  },
  {
   "cell_type": "code",
   "execution_count": 97,
   "id": "2859f3fa-7f63-4982-8d91-9d987ba42ed4",
   "metadata": {},
   "outputs": [
    {
     "name": "stdout",
     "output_type": "stream",
     "text": [
      "['kang', 'lee']\n"
     ]
    }
   ],
   "source": [
    "# 18-3\n",
    "# data frame 내 특정 값이 어디에 있는지 찾기\n",
    "target = 'americano'\n",
    "target_column = 'coffee'\n",
    "\n",
    "record_df = df.loc[df[target_column] == target]\n",
    "print(record_df.index.tolist())"
   ]
  },
  {
   "cell_type": "code",
   "execution_count": 98,
   "id": "284f52aa-3c97-41e6-9426-b4df2ea439c0",
   "metadata": {},
   "outputs": [
    {
     "name": "stdout",
     "output_type": "stream",
     "text": [
      "['kang', 'lee']\n"
     ]
    }
   ],
   "source": [
    "# 18-4\n",
    "# data frame 내 특정 값이 어디에 있는지 찾기\n",
    "target = 'americano'\n",
    "target_column = 'coffee'\n",
    "record_df = df[df[target_column].str.contains(target)]\n",
    "print(record_df.index.tolist())"
   ]
  },
  {
   "cell_type": "code",
   "execution_count": 99,
   "id": "f85e9cd4-5e4e-4443-9c3b-6dcee226bdd3",
   "metadata": {},
   "outputs": [
    {
     "name": "stdout",
     "output_type": "stream",
     "text": [
      "['kang', 'lee']\n"
     ]
    }
   ],
   "source": [
    "# 18-5 \n",
    "# data frame 내 특정 값이 어디에 있는지 찾기\n",
    "target = 'americano'\n",
    "target_column = 'coffee'\n",
    "record_df = df.query(f\"{target_column} == '{target}'\")\n",
    "print(record_df.index.tolist())"
   ]
  },
  {
   "cell_type": "code",
   "execution_count": 100,
   "id": "integral-december",
   "metadata": {},
   "outputs": [
    {
     "name": "stdout",
     "output_type": "stream",
     "text": [
      "          fruits     coffee  color\n",
      "kang       apple  americano  green\n",
      "kim        peach      latte   blue\n",
      "lee         pear  americano   pink\n",
      "hong      orange  capuccino    red\n",
      "cho   strawberry      latte   blue\n",
      "-----\n",
      "      fruits  coffee  color\n",
      "kang    True    True  False\n",
      "kim    False   False   True\n",
      "lee    False    True  False\n",
      "hong   False   False  False\n",
      "cho    False   False   True\n",
      "-----\n",
      "kang     True\n",
      "kim      True\n",
      "lee      True\n",
      "hong    False\n",
      "cho      True\n",
      "dtype: bool\n",
      "-----\n",
      "          fruits     coffee  color\n",
      "kang       apple  americano  green\n",
      "kim        peach      latte   blue\n",
      "lee         pear  americano   pink\n",
      "cho   strawberry      latte   blue\n",
      "-----\n",
      "['kang', 'kim', 'lee', 'cho']\n"
     ]
    }
   ],
   "source": [
    "# 19\n",
    "# data frame 내 특정 값이 어디에 있는지 찾기의 상세 과정 확인\n",
    "# 5명에 대해 과일, 커피, 색깔 선호도 조사 결과\n",
    "data = {'fruits': ['apple', 'peach', 'pear', 'orange', 'strawberry'], \n",
    "        'coffee': ['americano', 'latte', 'americano', 'capuccino', 'latte'], \n",
    "        'color': ['green', 'blue', 'pink', 'red', 'blue']}\n",
    "user_list = ['kang', 'kim', 'lee', 'hong', 'cho']\n",
    "df = pd.DataFrame(data, index=user_list)\n",
    "print(df)\n",
    "\n",
    "# favorite item이 target에 하나라도 속하는 사람 찾기\n",
    "target = ['americano', 'apple', 'blue']\n",
    "print(\"-\"*5)\n",
    "\n",
    "# dataframe 각 element들에 대해 target에 포함되는지 확인\n",
    "print(df.isin(target))\n",
    "print(\"-\"*5)\n",
    "\n",
    "# 열 값 중 하나라도 True인 경우에만 True이 series 생성\n",
    "print(df.isin(target).any(axis=1))\n",
    "print(\"-\"*5)\n",
    "\n",
    "# 열 값 중 하나라도 True인 행만 추출\n",
    "print(df[df.isin(target).any(axis=1)])\n",
    "print(\"-\"*5)\n",
    "\n",
    "# 열 값 중 하나라도 True인 행의 index label을 추출해서 list로 변환\n",
    "print(list(df[df.isin(target).any(axis=1)].index))"
   ]
  },
  {
   "cell_type": "code",
   "execution_count": 101,
   "id": "sorted-disaster",
   "metadata": {},
   "outputs": [],
   "source": [
    "# 20\n",
    "# group별로 데이터 나누기\n",
    "data = {'Category': ['A', 'B', 'A', 'B', 'A', 'B'],\n",
    "'Value': [10, 15, 20, 25, 30, 35]}\n",
    "df = pd.DataFrame(data)"
   ]
  },
  {
   "cell_type": "code",
   "execution_count": 102,
   "id": "623309dc-4df9-4503-a91e-de4bc2cb9794",
   "metadata": {},
   "outputs": [
    {
     "name": "stdout",
     "output_type": "stream",
     "text": [
      "dict_keys(['A', 'B'])\n",
      "RangeIndex(start=0, stop=6, step=1)\n"
     ]
    }
   ],
   "source": [
    "# 20-1\n",
    "# group별로 데이터 나누기\n",
    "grouped = df.groupby(['Category'])  \n",
    "print(grouped.groups.keys())  \n",
    "print(df.index)"
   ]
  },
  {
   "cell_type": "code",
   "execution_count": 103,
   "id": "institutional-syndrome",
   "metadata": {},
   "outputs": [
    {
     "name": "stdout",
     "output_type": "stream",
     "text": [
      "  Category  Value\n",
      "0        A     10\n",
      "2        A     20\n",
      "4        A     30\n",
      "Index([0, 2, 4], dtype='int64')\n",
      "Index(['Category', 'Value'], dtype='object')\n"
     ]
    }
   ],
   "source": [
    "# 20-2\n",
    "# group별로 데이터 나누기\n",
    "A_df=grouped.get_group('A')  \n",
    "print(A_df)\n",
    "print(A_df.index)\n",
    "print(A_df.columns)"
   ]
  },
  {
   "cell_type": "code",
   "execution_count": 104,
   "id": "shaped-stand",
   "metadata": {},
   "outputs": [
    {
     "name": "stdout",
     "output_type": "stream",
     "text": [
      "          Value\n",
      "Category       \n",
      "A          20.0\n",
      "B          25.0\n",
      "Index(['A', 'B'], dtype='object', name='Category')\n",
      "Index(['Value'], dtype='object')\n"
     ]
    }
   ],
   "source": [
    "# 20-3\n",
    "# group별로 데이터 나누기\n",
    "group_mean_df = grouped.mean() \n",
    "print(group_mean_df)\n",
    "print(group_mean_df.index)\n",
    "print(group_mean_df.columns)"
   ]
  },
  {
   "cell_type": "code",
   "execution_count": 105,
   "id": "signal-identity",
   "metadata": {},
   "outputs": [
    {
     "name": "stdout",
     "output_type": "stream",
     "text": [
      "          Value\n",
      "Category       \n",
      "A             3\n",
      "B             3\n",
      "Index(['A', 'B'], dtype='object', name='Category')\n",
      "Index(['Value'], dtype='object')\n"
     ]
    }
   ],
   "source": [
    "# 20-4\n",
    "# group별로 데이터 나누기\n",
    "group_count_df = grouped.count()  \n",
    "print(group_count_df)\n",
    "print(group_count_df.index)\n",
    "print(group_count_df.columns)"
   ]
  },
  {
   "cell_type": "code",
   "execution_count": 106,
   "id": "temporal-interface",
   "metadata": {},
   "outputs": [
    {
     "name": "stdout",
     "output_type": "stream",
     "text": [
      "              mean  min  max  count\n",
      "grade gender                       \n",
      "1     F       85.0   85   85      1\n",
      "      M       80.0   80   80      1\n",
      "2     F       90.0   90   90      1\n",
      "      M       70.0   70   70      1\n",
      "3     F       67.5   60   75      2\n",
      "      M       95.0   95   95      1\n",
      "              mean  min  max  count\n",
      "gender grade                       \n",
      "F      1      85.0   85   85      1\n",
      "       2      90.0   90   90      1\n",
      "       3      67.5   60   75      2\n",
      "M      1      80.0   80   80      1\n",
      "       2      70.0   70   70      1\n",
      "       3      95.0   95   95      1\n"
     ]
    }
   ],
   "source": [
    "# 21\n",
    "# group별로 데이터 나누기, 다중 조건 사용하기\n",
    "\n",
    "import pandas as pd\n",
    "\n",
    "data = {'grade': [1, 2, 2, 3, 1, 3, 3], \n",
    "        'gender': ['M', 'F', 'M', 'F', 'F', 'M', 'F'], \n",
    "        'score': [80, 90, 70, 60, 85, 95, 75]}\n",
    "df = pd.DataFrame(data)\n",
    "\n",
    "# 학년로, 동일 학년에서는 성별로 그룹\n",
    "grouped = df.groupby(['grade', 'gender'])\n",
    "result = grouped['score'].agg(['mean', 'min', 'max', 'count'])\n",
    "print(result)\n",
    "\n",
    "# 성별로, 동일 성별에서는 학년별로 그룹\n",
    "grouped = df.groupby(['gender', 'grade']) \n",
    "result = grouped['score'].agg(['mean', 'min', 'max', 'count'])\n",
    "print(result)"
   ]
  },
  {
   "cell_type": "markdown",
   "id": "sweet-ladder",
   "metadata": {},
   "source": [
    "### 데이터 구조 비교"
   ]
  },
  {
   "cell_type": "code",
   "execution_count": 107,
   "id": "documentary-trunk",
   "metadata": {},
   "outputs": [
    {
     "name": "stdout",
     "output_type": "stream",
     "text": [
      "{'202311111': {'중간고사': 80, '과제': 25, '기말고사': 75, '보고서': 35}, '202322222': {'중간고사': 70, '과제': 20, '기말고사': 80, '보고서': 30}, '202333333': {'중간고사': 65, '과제': 27, '기말고사': 70, '보고서': 32}, '202344444': {'중간고사': 75, '과제': 23, '기말고사': 80, '보고서': 27}}\n",
      "[[80 25 75 35]\n",
      " [70 20 80 30]\n",
      " [65 27 70 32]\n",
      " [75 23 80 27]]\n",
      "[중간고사    80\n",
      "과제      25\n",
      "기말고사    75\n",
      "보고서     35\n",
      "Name: 202311111, dtype: int64, 중간고사    70\n",
      "과제      20\n",
      "기말고사    80\n",
      "보고서     30\n",
      "Name: 202322222, dtype: int64, 중간고사    65\n",
      "과제      27\n",
      "기말고사    70\n",
      "보고서     32\n",
      "Name: 202333333, dtype: int64, 중간고사    75\n",
      "과제      23\n",
      "기말고사    80\n",
      "보고서     27\n",
      "Name: 202344444, dtype: int64]\n",
      "           중간고사  과제  기말고사  보고서\n",
      "202311111    80  25    75   35\n",
      "202322222    70  20    80   30\n",
      "202333333    65  27    70   32\n",
      "202344444    75  23    80   27\n"
     ]
    }
   ],
   "source": [
    "# 22\n",
    "# dictionary, numpy array, pandas series, pandas dataframe 비교\n",
    "# 생성 절차 비교\n",
    "scores = [[80, 25, 75, 35], [70, 20, 80, 30], [65, 27, 70, 32], [75, 23, 80, 27]]\n",
    "students = ['202311111', '202322222', '202333333', '202344444']\n",
    "metrics = ['중간고사', '과제', '기말고사', '보고서']\n",
    "\n",
    "score_dict = {students[i]:{metrics[j]:scores[i][j] for j in range(len(metrics))} \n",
    "              for i in range(len(students))}\n",
    "print(score_dict)\n",
    "\n",
    "import numpy as np\n",
    "score_array = np.array(scores)\n",
    "print(score_array)\n",
    "\n",
    "import pandas as pd\n",
    "score_series =[pd.Series(score, index=metrics, name=students[i]) \n",
    "               for i, score in enumerate(scores)]\n",
    "print(score_series)\n",
    "\n",
    "score_df = pd.DataFrame(scores, index=students, columns=metrics)\n",
    "print(score_df)"
   ]
  },
  {
   "cell_type": "code",
   "execution_count": 108,
   "id": "canadian-newfoundland",
   "metadata": {},
   "outputs": [
    {
     "name": "stdout",
     "output_type": "stream",
     "text": [
      "\n",
      "Updated Dictionary:\n",
      "{'202311111': {'중간고사': 80, '과제': 25, '기말고사': 75, '보고서': 35}, '202322222': {'중간고사': 70, '과제': 70, '기말고사': 80, '보고서': 30}, '202333333': {'중간고사': 65, '과제': 27, '기말고사': 70, '보고서': 32}, '202344444': {'중간고사': 75, '과제': 23, '기말고사': 80, '보고서': 27}}\n",
      "\n",
      "Updated array:\n",
      "[[80 25 75 35]\n",
      " [70 70 80 30]\n",
      " [65 27 70 32]\n",
      " [75 23 80 27]]\n",
      "\n",
      "Updated series:\n",
      "[중간고사    80\n",
      "과제      25\n",
      "기말고사    75\n",
      "보고서     35\n",
      "Name: 202311111, dtype: int64, 중간고사    70\n",
      "과제      70\n",
      "기말고사    80\n",
      "보고서     30\n",
      "Name: 202322222, dtype: int64, 중간고사    65\n",
      "과제      27\n",
      "기말고사    70\n",
      "보고서     32\n",
      "Name: 202333333, dtype: int64, 중간고사    75\n",
      "과제      23\n",
      "기말고사    80\n",
      "보고서     27\n",
      "Name: 202344444, dtype: int64]\n",
      "\n",
      "Updated dataframe:\n",
      "           중간고사  과제  기말고사  보고서\n",
      "202311111    80  25    75   35\n",
      "202322222    70  70    80   30\n",
      "202333333    65  27    70   32\n",
      "202344444    75  23    80   27\n"
     ]
    }
   ],
   "source": [
    "# 23\n",
    "# dictionary, numpy array, pandas series, pandas dataframe 비교\n",
    "# '202322222'의 '과제' 점수를 70으로 변경\n",
    "\n",
    "# Dictionary 업데이트\n",
    "score_dict['202322222']['과제'] = 70\n",
    "print(\"\\nUpdated Dictionary:\")\n",
    "print(score_dict)\n",
    "\n",
    "# Numpy Array 업데이트\n",
    "score_array[students.index('202322222'), metrics.index('과제')] = 70\n",
    "print(\"\\nUpdated array:\")\n",
    "print(score_array)\n",
    "\n",
    "# Pandas Series 업데이트\n",
    "for series in score_series:\n",
    "    if series.name == '202322222':\n",
    "        series['과제'] = 70\n",
    "print(\"\\nUpdated series:\")\n",
    "print(score_series)\n",
    "\n",
    "# Pandas dataframe update\n",
    "score_df.at['202322222', '과제'] = 70\n",
    "print(\"\\nUpdated dataframe:\")\n",
    "print(score_df)"
   ]
  },
  {
   "cell_type": "code",
   "execution_count": 109,
   "id": "absent-church",
   "metadata": {},
   "outputs": [
    {
     "name": "stdout",
     "output_type": "stream",
     "text": [
      "\n",
      "Updated Dictionary with '총점':\n",
      "{'202311111': {'중간고사': 80, '과제': 25, '기말고사': 75, '보고서': 35, '총점': 58.5}, '202322222': {'중간고사': 70, '과제': 70, '기말고사': 80, '보고서': 30, '총점': 65.0}, '202333333': {'중간고사': 65, '과제': 27, '기말고사': 70, '보고서': 32, '총점': 52.3}, '202344444': {'중간고사': 75, '과제': 23, '기말고사': 80, '보고서': 27, '총점': 56.5}}\n",
      "\n",
      "Updated Numpy Array with '총점':\n",
      "[[80.  25.  75.  35.  58.5]\n",
      " [70.  70.  80.  30.  65. ]\n",
      " [65.  27.  70.  32.  52.3]\n",
      " [75.  23.  80.  27.  56.5]]\n",
      "\n",
      "Updated Pandas Series with '총점':\n",
      "중간고사    80.0\n",
      "과제      25.0\n",
      "기말고사    75.0\n",
      "보고서     35.0\n",
      "총점      58.5\n",
      "Name: 202311111, dtype: float64\n",
      "중간고사    70.0\n",
      "과제      70.0\n",
      "기말고사    80.0\n",
      "보고서     30.0\n",
      "총점      65.0\n",
      "Name: 202322222, dtype: float64\n",
      "중간고사    65.0\n",
      "과제      27.0\n",
      "기말고사    70.0\n",
      "보고서     32.0\n",
      "총점      52.3\n",
      "Name: 202333333, dtype: float64\n",
      "중간고사    75.0\n",
      "과제      23.0\n",
      "기말고사    80.0\n",
      "보고서     27.0\n",
      "총점      56.5\n",
      "Name: 202344444, dtype: float64\n",
      "\n",
      "DataFrame with '총점':\n",
      "           중간고사  과제  기말고사  보고서    총점\n",
      "202311111    80  25    75   35  58.5\n",
      "202322222    70  70    80   30  65.0\n",
      "202333333    65  27    70   32  52.3\n",
      "202344444    75  23    80   27  56.5\n"
     ]
    }
   ],
   "source": [
    "# 24\n",
    "# dictionary, numpy array, pandas series, pandas dataframe 비교\n",
    "# 총점 계산 (비율 적용)\n",
    "\n",
    "weights = {'중간고사': 0.3, '과제': 0.2, '기말고사': 0.3, '보고서': 0.2}\n",
    "\n",
    "# Dictionary 업데이트 (총점 추가)\n",
    "for student in students:\n",
    "    total_score = sum(score_dict[student][metric] * weights[metric] \n",
    "                        for metric in metrics)\n",
    "    score_dict[student]['총점'] = total_score\n",
    "print(\"\\nUpdated Dictionary with '총점':\")\n",
    "print(score_dict)\n",
    "\n",
    "# Numpy Array 업데이트 (총점 추가)\n",
    "total_scores = np.array([sum(row[j] * weights[metrics[j]] \n",
    "                           for j in range(len(metrics))) \n",
    "                               for row in score_array])\n",
    "new_score_array = np.hstack((score_array, total_scores.reshape(-1, 1)))\n",
    "\n",
    "print(\"\\nUpdated Numpy Array with '총점':\")\n",
    "print(new_score_array)\n",
    "\n",
    "# Pandas Series 업데이트 (총점 추가)\n",
    "for series in score_series:\n",
    "    total_score = sum(series[metric] * weights[metric] for metric in metrics)\n",
    "    series['총점'] = total_score\n",
    "\n",
    "print(\"\\nUpdated Pandas Series with '총점':\")\n",
    "for series in score_series:\n",
    "    print(series)\n",
    "\n",
    "# Pandas dataframe 업데이트 (총점 추가)\n",
    "score_df['총점'] = score_df.apply(lambda row: sum(row[metric] * weight \n",
    "                                                for metric, weight in \n",
    "                                                     weights.items()), axis=1)\n",
    "\n",
    "print(\"\\nDataFrame with '총점':\")\n",
    "print(score_df)"
   ]
  },
  {
   "cell_type": "code",
   "execution_count": 110,
   "id": "minor-worker",
   "metadata": {},
   "outputs": [
    {
     "name": "stdout",
     "output_type": "stream",
     "text": [
      "{'202311111': {'중간고사': 80, '과제': 25, '기말고사': 75, '보고서': 35, '총점': 58.5, '마일리지': 10}, '202322222': {'중간고사': 70, '과제': 70, '기말고사': 80, '보고서': 30, '총점': 65.0, '마일리지': 10}, '202333333': {'중간고사': 65, '과제': 27, '기말고사': 70, '보고서': 32, '총점': 52.3, '마일리지': 10}, '202344444': {'중간고사': 75, '과제': 23, '기말고사': 80, '보고서': 27, '총점': 56.5, '마일리지': 0}}\n",
      "[[80 25 75 35 10]\n",
      " [70 70 80 30 10]\n",
      " [65 27 70 32 10]\n",
      " [75 23 80 27  0]]\n",
      "[중간고사    80.0\n",
      "과제      25.0\n",
      "기말고사    75.0\n",
      "보고서     35.0\n",
      "총점      58.5\n",
      "마일리지    10.0\n",
      "Name: 202311111, dtype: float64, 중간고사    70.0\n",
      "과제      70.0\n",
      "기말고사    80.0\n",
      "보고서     30.0\n",
      "총점      65.0\n",
      "마일리지    10.0\n",
      "Name: 202322222, dtype: float64, 중간고사    65.0\n",
      "과제      27.0\n",
      "기말고사    70.0\n",
      "보고서     32.0\n",
      "총점      52.3\n",
      "마일리지    10.0\n",
      "Name: 202333333, dtype: float64, 중간고사    75.0\n",
      "과제      23.0\n",
      "기말고사    80.0\n",
      "보고서     27.0\n",
      "총점      56.5\n",
      "마일리지     0.0\n",
      "Name: 202344444, dtype: float64]\n",
      "           중간고사  과제  기말고사  보고서    총점  마일리지\n",
      "202311111    80  25    75   35  58.5    10\n",
      "202322222    70  70    80   30  65.0    10\n",
      "202333333    65  27    70   32  52.3    10\n",
      "202344444    75  23    80   27  56.5     0\n"
     ]
    }
   ],
   "source": [
    "# 25\n",
    "# dictionary, numpy array, pandas series, pandas dataframe 비교\n",
    "# '과제' 점수가 90점 이상인 학생들에게 '마일리지' 10 부여\n",
    "\n",
    "threshold, points, default = 25, 10, 0\n",
    "\n",
    "# Dictionary 업데이트\n",
    "for student in students:\n",
    "    if score_dict[student]['과제'] >= threshold:\n",
    "        score_dict[student]['마일리지'] = points\n",
    "    else:\n",
    "        score_dict[student]['마일리지'] = default\n",
    "print(score_dict)\n",
    "        \n",
    "# Numpy Array 업데이트\n",
    "new_score_array = np.hstack((score_array, \n",
    "                             np.zeros((score_array.shape[0], 1), dtype=int)))\n",
    "for i, student in enumerate(students):\n",
    "    if score_array[i, metrics.index('과제')] >= threshold:\n",
    "        new_score_array[i, -1] = points \n",
    "print(new_score_array)\n",
    "\n",
    "# pandas series 업데이트\n",
    "for series in score_series:\n",
    "    series['마일리지'] = default\n",
    "    if series['과제'] >= threshold:\n",
    "        series['마일리지'] = points \n",
    "print(score_series)\n",
    "\n",
    "# data frame에  '마일리지' 열을 추가하고 기본 값을 0으로 설정\n",
    "score_df['마일리지'] = default\n",
    "score_df.loc[score_df['과제'] >= threshold, '마일리지'] = points \n",
    "print(score_df)"
   ]
  },
  {
   "cell_type": "code",
   "execution_count": 111,
   "id": "scheduled-conjunction",
   "metadata": {},
   "outputs": [
    {
     "name": "stdout",
     "output_type": "stream",
     "text": [
      "         Americano  Latte    Tea  Juice   Cake\n",
      "Irene        23000  12000  29000  26000  19000\n",
      "Edith        23000  22000  19000  20000  28000\n",
      "Gaby         24000  10000  10000  25000  19000\n",
      "Anna         28000  26000  13000  25000  22000\n",
      "Erica        30000  26000  26000  11000  14000\n",
      "Charles      15000  20000  18000  29000  26000\n",
      "Bailey       25000  11000  20000  29000  24000\n"
     ]
    }
   ],
   "source": [
    "### data 분석 연습\n",
    "import pandas as pd\n",
    "import numpy as np\n",
    "\n",
    "item_list = ['Americano', 'Latte', 'Tea', 'Juice', 'Cake']  # 품목명\n",
    "user_list = ['Irene', 'Edith', 'Gaby', 'Anna', 'Erica', 'Charles', 'Bailey']  \n",
    "# 고객 이름\n",
    "\n",
    "user_purchase={}\n",
    "for item in item_list: # 각 품목의 구매액을 10,000~30,000 사이로 고객 수 만큼 생성\n",
    "    user_purchase[item] = np.random.randint(10, 31, len(user_list)) * 1000\n",
    "df = pd.DataFrame(user_purchase, index=user_list)  # data frame 생성\n",
    "print(df)"
   ]
  },
  {
   "cell_type": "code",
   "execution_count": null,
   "id": "distant-moisture",
   "metadata": {},
   "outputs": [],
   "source": [
    "# P1\n",
    "# 위에서 정의된 dataframe을 사용하여 문제를 푸시오\n",
    "# Console로 고객 이름과 품목 이름을 한 번에 입력 받아서 그 고객의 품목 구매액 출력하라 \n",
    "# 등록되지 않은 고객 이름이거나 품목 이름 입력 시 오류 메시지 출력\n",
    "#\n",
    "# 실행 사례1)\n",
    "# 고객 이름과 품목 입력: Edith Latte\n",
    "# ----------\n",
    "# Edith Latte 16000\n",
    "#\n",
    "# 실행 사례2)\n",
    "# 고객 이름과 품목 입력: Gaby Cocoa\n",
    "# 품목명 Cocoa 오류\n",
    "#\n",
    "# 실행 사례3)\n",
    "# 고객 이름과 품목 입력: Kang Cocoa\n",
    "# 고객명 Kang 오류     품목명 Cocoa 오류\n",
    "\n",
    "user, item=input(\"고객 이름과 품목 입력:\").split()\n",
    "if user in user_list and item in item_list:\n",
    "    purchase=df.loc[user, item]\n",
    "    print(\"-\"*10)\n",
    "    print(user, item, purchase)\n",
    "else:\n",
    "    if user not in user_list:\n",
    "        print(f\"고객명 {user} 오류\", end=\" \")\n",
    "    if item not in item_list:\n",
    "        print(f\"품목명 {item} 오류\")"
   ]
  },
  {
   "cell_type": "code",
   "execution_count": null,
   "id": "intimate-adolescent",
   "metadata": {},
   "outputs": [],
   "source": [
    "# P2\n",
    "# Console로 고객들 이름을 입력 받고, 품목 이름들을 입력 받아서, \n",
    "# 고객들의 품목별 구매액을 data frame으로 출력하라 \n",
    "# \n",
    "# 고객명이나 품목명에 오류가 있을 시 오류 메시지를 출력하시오 \n",
    "# 일부만 잘못된 입력의 경우, 정상적인 고객명과 품목명에 대해서 data frame으로 출력\n",
    "#\n",
    "# 실행 사례1)\n",
    "# 고객들 이름 입력: Erica Charles \n",
    "# 품목 목록 입력: Latte Tea\n",
    "# ----------\n",
    "#         Latte    Tea\n",
    "# Erica    20000  11000\n",
    "# Charles  15000  21000\n",
    "#\n",
    "# 실행 사례2)\n",
    "# 고객들 이름 입력: Erica Kang\n",
    "# 품목 목록 입력: Tea Cocoa\n",
    "# ----------\n",
    "#         Tea\n",
    "# Erica  11000\n",
    "# 고객명 ['Kang'] 오류\n",
    "# 품목명 ['Cocoa'] 오류\n",
    "\n",
    "users = input(\"고객들 이름 입력:\").split()\n",
    "items = input(\"품목 목록 입력:\").split()\n",
    "\n",
    "print(\"-\"*10)\n",
    "\n",
    "user_errors = [user for user in users if user not in user_list]\n",
    "item_errors = [item for item in items if item not in item_list]\n",
    "\n",
    "user_valid = [user for user in users if user in user_list]\n",
    "item_valid = [item for item in items if item in item_list]\n",
    "\n",
    "if user_valid and item_valid:\n",
    "    wanted=df.loc[user_valid, item_valid]\n",
    "    print(wanted)\n",
    "\n",
    "if user_errors:\n",
    "    print(f\"고객명 {user_errors} 오류\")\n",
    "\n",
    "if product_errors:\n",
    "    print(f\"품목명 {item_errors} 오류\")"
   ]
  },
  {
   "cell_type": "code",
   "execution_count": null,
   "id": "innocent-perception",
   "metadata": {},
   "outputs": [],
   "source": [
    "# P3\n",
    "# Console로 품목명과 차액을 입력받아서 해당 항목의 값을 모두 바꾸고, \n",
    "# 변경 전과 변경 후를 출력하시오\n",
    "# 입력 사례는, Latte -1000 , Latte +1000. \n",
    "# 등록되지 않은 품목 이름 입력 시 오류 메시지 출력\n",
    "# 실행 사례)\n",
    "# 품목 목록: ['Americano', 'Latte', 'Tea', 'Juice', 'Cake']\n",
    "# 품목명 차액 입력(예: Latte -1000): Juice -1000\n",
    "# 변경 전 Juice ----------\n",
    "# Irene      21000\n",
    "# Edith      14000\n",
    "# Gaby       24000\n",
    "# Anna       14000\n",
    "# Erica      17000\n",
    "# Charles    21000\n",
    "# Bailey     29000\n",
    "# Name: Juice, dtype: int64\n",
    "# 변경 후 Juice ----------\n",
    "# Irene      20000\n",
    "# Edith      13000\n",
    "# Gaby       23000\n",
    "# Anna       13000\n",
    "# Erica      16000\n",
    "# Charles    20000\n",
    "# Bailey     28000\n",
    "# Name: Juice, dtype: int64\n",
    "\n",
    "print(\"품목 목록:\", item_list)\n",
    "input_list=input(\"품목명과 차액 입력(예: Latte -1000):\").split()\n",
    "product, change_val = input_list \n",
    "if product in item_list:\n",
    "    print(\"변경 전\", product, \"-\"*10)\n",
    "    print(df[product])\n",
    "    df[product]+=int(change_val)\n",
    "    print(\"변경 후\",product, \"-\"*10)\n",
    "    print(df[product])\n",
    "else:\n",
    "    print(f\"품목명 {product} 오류\")\n"
   ]
  },
  {
   "cell_type": "code",
   "execution_count": null,
   "id": "assigned-commissioner",
   "metadata": {},
   "outputs": [],
   "source": [
    "# P4\n",
    "# 각 품목별 평균 구매액을 계산해서 정수로 출력하라 \n",
    "# 실행 사례)\n",
    "# * Americano 평균 판매액: 20000원\n",
    "# * Latte 평균 판매액: 23000원\n",
    "# * Tea 평균 판매액: 24285원\n",
    "# * Juice 평균 판매액: 19000원\n",
    "# * Cake 평균 판매액: 24142원\n",
    "\n",
    "for item in item_list:\n",
    "    print(f\"* {item} 평균 판매액: {int(df[item].mean())}원\")"
   ]
  },
  {
   "cell_type": "code",
   "execution_count": null,
   "id": "american-event",
   "metadata": {},
   "outputs": [],
   "source": [
    "# P5\n",
    "# Console로 품목과 기준금액을 입력 받아서 \n",
    "# 그 금액 이상 해당 품목을 구매한 고객 이름과 구매액을 구매액 크기 역순으로 \n",
    "# 출력하라 \n",
    "# 실행 사례\n",
    "# 품목과 기준 금액 입력: Latte 15000\n",
    "# ----------\n",
    "# Charles    26000\n",
    "# Anna       24000\n",
    "# Edith      20000\n",
    "# Erica      17000\n",
    "# Bailey     17000\n",
    "# Name: Latte, dtype: int64\n",
    "\n",
    "product_threshold=input(\"품목과 기준 금액 입력:\").split()\n",
    "product = product_threshold[0]; threshold=int(product_threshold[1])\n",
    "print(\"-\"*10)\n",
    "if product in item_list:\n",
    "    df_heavy_user = df[df[product]>=threshold].sort_values(by=product, ascending=False)\n",
    "    if df_heavy_user.empty:\n",
    "        print(f\"{product}을 {threshold}원 이상 구매한 고객이 없습니다\")\n",
    "    else:\n",
    "        print(df_heavy_user[product])\n",
    "else:\n",
    "    print(f\"품목명 {product} 오류\")"
   ]
  },
  {
   "cell_type": "code",
   "execution_count": null,
   "id": "synthetic-landscape",
   "metadata": {},
   "outputs": [],
   "source": [
    "# P6\n",
    "# 기준 금액보다 구매액이 낮은 고객이 3명 이상이면 해당 품목 판매를 중단하고자 한다.  \n",
    "# 기준 금액을 입력받아서, 판매 중단할 품목이 무엇인지 출력하라 \n",
    "# 실행 사례1) \n",
    "# 기준 금액 입력: 10000\n",
    "# ----------\n",
    "# 판매 중단 대상이 없습니다\n",
    "# 실행 사례2)\n",
    "# 기준 금액 입력: 20000\n",
    "# ----------\n",
    "# 판매 중단 품목은 ['Americano', 'Juice'] 입니다\n",
    "\n",
    "threshold=int(input(\"기준 금액 입력:\"))\n",
    "stop_list = []; threshold_count=3\n",
    "for item in item_list:\n",
    "    num_below_threshold = (df[item] <= threshold).sum() # True=1, False=0\n",
    "    if num_below_threshold >= threshold_count:\n",
    "        stop_list.append(item)\n",
    "print(\"-\"*10)\n",
    "if stop_list:\n",
    "    print(\"판매 중단 품목은\", stop_list, \"입니다\")\n",
    "else:\n",
    "    print(\"판매 중단 대상이 없습니다\")"
   ]
  },
  {
   "cell_type": "code",
   "execution_count": null,
   "id": "1446c034-8009-492c-b8fb-001d1357375a",
   "metadata": {},
   "outputs": [],
   "source": []
  },
  {
   "cell_type": "code",
   "execution_count": null,
   "id": "f3c81c80-f637-401a-a626-7314580e8e3a",
   "metadata": {},
   "outputs": [],
   "source": []
  },
  {
   "cell_type": "code",
   "execution_count": null,
   "id": "71376210-17ab-4e84-96c8-d939e70c0ebc",
   "metadata": {},
   "outputs": [],
   "source": []
  },
  {
   "cell_type": "code",
   "execution_count": null,
   "id": "c4fc0947-cf22-476e-afd6-f0d24fbf7d80",
   "metadata": {},
   "outputs": [],
   "source": []
  }
 ],
 "metadata": {
  "kernelspec": {
   "display_name": "Python 3 (ipykernel)",
   "language": "python",
   "name": "python3"
  },
  "language_info": {
   "codemirror_mode": {
    "name": "ipython",
    "version": 3
   },
   "file_extension": ".py",
   "mimetype": "text/x-python",
   "name": "python",
   "nbconvert_exporter": "python",
   "pygments_lexer": "ipython3",
   "version": "3.11.6"
  }
 },
 "nbformat": 4,
 "nbformat_minor": 5
}
