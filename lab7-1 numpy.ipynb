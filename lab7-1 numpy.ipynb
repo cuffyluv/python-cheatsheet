{
 "cells": [
  {
   "cell_type": "markdown",
   "id": "053c442e-dfed-4462-aa5d-5cf96ef7bf95",
   "metadata": {},
   "source": [
    "### 실습물 제출 가이드라인\n",
    "- 아래에 주어진 코드들을 실행해서 python의 동작 원리를 이해하시오. 그리고, # M 으로 주어진 부분은 코드를 작성하고 실행하시오.\n",
    "- 주어진 코드들을 다 실행해 보고 결과를 확인하면 3점을 부여합니다.\n",
    "- \"# M\"으로 주어진 문제는 정확한 답을 작성하면 표기된 점수가 부여됩니다."
   ]
  },
  {
   "cell_type": "markdown",
   "id": "absolute-title",
   "metadata": {},
   "source": [
    "## numpy"
   ]
  },
  {
   "cell_type": "code",
   "execution_count": 3,
   "id": "frequent-milwaukee",
   "metadata": {},
   "outputs": [],
   "source": [
    "# import는 노트북 실행 중 한 번만 하면 충분함\n",
    "import numpy as np"
   ]
  },
  {
   "cell_type": "markdown",
   "id": "pressed-wells",
   "metadata": {},
   "source": [
    "#### array 만들기"
   ]
  },
  {
   "cell_type": "code",
   "execution_count": 2,
   "id": "spoken-bailey",
   "metadata": {},
   "outputs": [
    {
     "name": "stdout",
     "output_type": "stream",
     "text": [
      "[1 2 3 4 5]\n",
      "(5,)\n"
     ]
    }
   ],
   "source": [
    "# 1\n",
    "arr1d = np.array([1, 2, 3, 4, 5]) # 1차원 배열 생성\n",
    "print(arr1d)\n",
    "print(arr1d.shape)"
   ]
  },
  {
   "cell_type": "code",
   "execution_count": 3,
   "id": "05f02ada-7a4a-4b58-8949-7915922bb88f",
   "metadata": {},
   "outputs": [
    {
     "name": "stdout",
     "output_type": "stream",
     "text": [
      "[1 2 3 4 5]\n",
      "(5,)\n"
     ]
    }
   ],
   "source": [
    "# 2\n",
    "arr1d = np.array(range(1,6)) # 1차원 배열 생성\n",
    "print(arr1d)\n",
    "print(arr1d.shape)"
   ]
  },
  {
   "cell_type": "code",
   "execution_count": 4,
   "id": "738f5b35-68ca-4521-a5d5-4b404445152d",
   "metadata": {},
   "outputs": [
    {
     "name": "stdout",
     "output_type": "stream",
     "text": [
      "[[ 1  2  3  4]\n",
      " [ 4  5  6  7]\n",
      " [ 7  8  9 10]]\n",
      "(3, 4)\n"
     ]
    }
   ],
   "source": [
    "# 3\n",
    "arr2d = np.array([[1, 2, 3, 4], [4, 5, 6, 7], [7, 8, 9, 10]]) # 2차원 배열 생성\n",
    "print(arr2d)\n",
    "print(arr2d.shape)"
   ]
  },
  {
   "cell_type": "code",
   "execution_count": 5,
   "id": "81730300-1f36-46ac-a2c4-152c716e942e",
   "metadata": {},
   "outputs": [
    {
     "name": "stdout",
     "output_type": "stream",
     "text": [
      "[[ 1  2  3  4]\n",
      " [ 4  5  6  7]\n",
      " [ 7  8  9 10]]\n",
      "(3, 4)\n"
     ]
    }
   ],
   "source": [
    "# 4\n",
    "arr2d = np.array((range(1,5), range(4,8), range(7,11))) # 2차원 배열 생성\n",
    "print(arr2d)\n",
    "print(arr2d.shape) "
   ]
  },
  {
   "cell_type": "code",
   "execution_count": 6,
   "id": "52984920-d0bc-4431-a55a-17af9b65ea45",
   "metadata": {},
   "outputs": [
    {
     "name": "stdout",
     "output_type": "stream",
     "text": [
      "{1: 2, 3: 4}\n",
      "()\n",
      "<class 'numpy.ndarray'>\n"
     ]
    }
   ],
   "source": [
    "# 5\n",
    "# 단일 item의 경우, 0차원 array 생성\n",
    "# indexing이 불가한 set, dictionary\n",
    "# 숫자 하나, string 하나 등\n",
    "\n",
    "arr = np.array({1:2, 3:4})\n",
    "print(arr)\n",
    "print(arr.shape)           \n",
    "print(type(arr))"
   ]
  },
  {
   "cell_type": "code",
   "execution_count": 7,
   "id": "fe355128-457d-4d95-a44f-f52c55023ccf",
   "metadata": {},
   "outputs": [
    {
     "name": "stdout",
     "output_type": "stream",
     "text": [
      "hello\n",
      "()\n",
      "<class 'numpy.ndarray'>\n"
     ]
    }
   ],
   "source": [
    "# 6\n",
    "arr = np.array(\"hello\")\n",
    "print(arr)\n",
    "print(arr.shape)           \n",
    "print(type(arr))"
   ]
  },
  {
   "cell_type": "code",
   "execution_count": 10,
   "id": "finite-japan",
   "metadata": {},
   "outputs": [
    {
     "name": "stdout",
     "output_type": "stream",
     "text": [
      "[[5 5 5 5 5]\n",
      " [6 6 6 6 6]\n",
      " [7 7 7 7 7]]\n"
     ]
    }
   ],
   "source": [
    "# M1\n",
    "# 5 5 5 5 5\n",
    "# 6 6 6 6 6 \n",
    "# 7 7 7 7 7\n",
    "# 위와 같은 3x5 2차원 array를 만드시오. (0.2점)\n",
    "arr = np.array([\n",
    "    [5, 5, 5, 5, 5],\n",
    "    [6, 6, 6, 6, 6],\n",
    "    [7, 7, 7, 7, 7]\n",
    "])\n",
    "print(arr)"
   ]
  },
  {
   "cell_type": "code",
   "execution_count": 11,
   "id": "secure-sacramento",
   "metadata": {},
   "outputs": [
    {
     "name": "stdout",
     "output_type": "stream",
     "text": [
      "[0. 0. 0. 0. 0. 0. 0. 0. 0. 0.]\n"
     ]
    }
   ],
   "source": [
    "# 7\n",
    "zeros = np.zeros(10)  # 0.0 10개로 구성된 1차원 arrary \n",
    "print(zeros)"
   ]
  },
  {
   "cell_type": "code",
   "execution_count": 12,
   "id": "casual-virtue",
   "metadata": {},
   "outputs": [
    {
     "name": "stdout",
     "output_type": "stream",
     "text": [
      "[1. 1. 1. 1. 1. 1. 1. 1. 1. 1.]\n"
     ]
    }
   ],
   "source": [
    "# 8\n",
    "ones = np.ones(10)    # 1.0 10개로 구성된 1차원 arrary \n",
    "print(ones)"
   ]
  },
  {
   "cell_type": "code",
   "execution_count": 13,
   "id": "buried-patio",
   "metadata": {},
   "outputs": [
    {
     "name": "stdout",
     "output_type": "stream",
     "text": [
      "[2. 2. 2. 2. 2. 2. 2. 2. 2. 2.]\n"
     ]
    }
   ],
   "source": [
    "# 9\n",
    "twos = ones * 2        # 2.0 10개로 구성된 1차원 arrary, ones의 각 요소에 2배한 값으로 twos 생성\n",
    "print(twos)"
   ]
  },
  {
   "cell_type": "code",
   "execution_count": 15,
   "id": "possible-prayer",
   "metadata": {},
   "outputs": [
    {
     "name": "stdout",
     "output_type": "stream",
     "text": [
      "[8. 8. 8. 8. 8. 8. 8. 8. 8. 8. 8. 8. 8. 8. 8.]\n"
     ]
    }
   ],
   "source": [
    "# M2 \n",
    "# 8이 15개인 array를 만드시오.  (0.1점)\n",
    "eights = np.ones(15) * 8\n",
    "print(eights)"
   ]
  },
  {
   "cell_type": "code",
   "execution_count": 16,
   "id": "numeric-negotiation",
   "metadata": {},
   "outputs": [
    {
     "name": "stdout",
     "output_type": "stream",
     "text": [
      "[0 1 2 3 4 5 6 7 8 9]\n"
     ]
    }
   ],
   "source": [
    "# 10\n",
    "# 0부터 9까지의 숫자 배열 생성\n",
    "arr1 = np.arange(10)\n",
    "print(arr1)"
   ]
  },
  {
   "cell_type": "code",
   "execution_count": 17,
   "id": "attractive-spouse",
   "metadata": {},
   "outputs": [
    {
     "name": "stdout",
     "output_type": "stream",
     "text": [
      "[ 5  7  9 11 13 15 17 19]\n"
     ]
    }
   ],
   "source": [
    "# 11\n",
    "# 5부터 19까지의 숫자 배열 생성 (간격은 2)\n",
    "arr2 = np.arange(5, 20, 2)\n",
    "print(arr2)"
   ]
  },
  {
   "cell_type": "code",
   "execution_count": 18,
   "id": "exciting-hypothesis",
   "metadata": {},
   "outputs": [
    {
     "name": "stdout",
     "output_type": "stream",
     "text": [
      "[0.  0.1 0.2 0.3 0.4 0.5 0.6 0.7 0.8 0.9 1.  1.1 1.2 1.3 1.4 1.5 1.6 1.7\n",
      " 1.8 1.9 2.  2.1 2.2 2.3 2.4 2.5 2.6 2.7 2.8 2.9 3.  3.1 3.2 3.3 3.4 3.5\n",
      " 3.6 3.7 3.8 3.9 4.  4.1 4.2 4.3 4.4 4.5 4.6 4.7 4.8 4.9 5.  5.1 5.2 5.3\n",
      " 5.4 5.5 5.6 5.7 5.8 5.9 6.  6.1 6.2]\n"
     ]
    }
   ],
   "source": [
    "# 12\n",
    "# 0부터 2 * pi까지의 간격이 0.1인 각도 배열 생성\n",
    "angles = np.arange(0, 2 * np.pi, 0.1)\n",
    "print(angles)"
   ]
  },
  {
   "cell_type": "code",
   "execution_count": 21,
   "id": "suffering-territory",
   "metadata": {},
   "outputs": [
    {
     "name": "stdout",
     "output_type": "stream",
     "text": [
      "[ 4  8 12 16 20 24 28]\n"
     ]
    }
   ],
   "source": [
    "# M3\n",
    "# 1에서 30 사이의 4의 배수로 이루어진 배열을 np.arange()를\n",
    "# 사용하여 만드시오. (0.1점)\n",
    "myarr = np.arange(4, 31, 4)\n",
    "print(myarr)"
   ]
  },
  {
   "cell_type": "code",
   "execution_count": 22,
   "id": "stopped-reading",
   "metadata": {},
   "outputs": [
    {
     "name": "stdout",
     "output_type": "stream",
     "text": [
      "[0.80033044 0.86555156 0.2078127  0.89630319 0.98825436]\n"
     ]
    }
   ],
   "source": [
    "# 13\n",
    "# 0과 1 사이의 난수 다섯 개로 초기화된 1차원 배열 생성\n",
    "random_array_1d = np.random.random(5)\n",
    "print(random_array_1d)"
   ]
  },
  {
   "cell_type": "code",
   "execution_count": 23,
   "id": "moved-korea",
   "metadata": {},
   "outputs": [
    {
     "name": "stdout",
     "output_type": "stream",
     "text": [
      "[[0.18209199 0.69898092 0.90187138]\n",
      " [0.0107556  0.36901688 0.37621269]]\n"
     ]
    }
   ],
   "source": [
    "# 14\n",
    "# 0에서 1 사이의 난수로 2개의 행, 3개의 열을 갖는 배열 생성\n",
    "random_floats = np.random.rand(2, 3)\n",
    "print(random_floats)"
   ]
  },
  {
   "cell_type": "code",
   "execution_count": 24,
   "id": "becoming-retention",
   "metadata": {},
   "outputs": [
    {
     "name": "stdout",
     "output_type": "stream",
     "text": [
      "[ 0.52663178 -0.44550023 -0.39839091 -0.69668994 -1.95617737  0.43311085]\n"
     ]
    }
   ],
   "source": [
    "# 15\n",
    "# 평균=0, 분산=1인 정규 분포를 따르는 난수로 초기화된 1차원 배열 생성\n",
    "random_normals = np.random.randn(6)   \n",
    "print(random_normals)"
   ]
  },
  {
   "cell_type": "code",
   "execution_count": 25,
   "id": "copyrighted-reverse",
   "metadata": {},
   "outputs": [
    {
     "name": "stdout",
     "output_type": "stream",
     "text": [
      "[4 3 8 5 4]\n"
     ]
    }
   ],
   "source": [
    "# 16\n",
    "# 특정 범위 내의 정수로 초기화된 1차원 배열 생성\n",
    "# 1 이상 10 이하 정수 난수로 크기 5의 배열 \n",
    "random_integer_array = np.random.randint(1, 11, size=5)  \n",
    "print(random_integer_array)"
   ]
  },
  {
   "cell_type": "code",
   "execution_count": 26,
   "id": "african-element",
   "metadata": {},
   "outputs": [
    {
     "name": "stdout",
     "output_type": "stream",
     "text": [
      "[[-0.71896903  0.76791668 -1.21860129]\n",
      " [-0.06126696  1.28607125  2.49345327]\n",
      " [-0.87252196 -0.35361529  1.55824544]]\n"
     ]
    }
   ],
   "source": [
    "# 17\n",
    "# 정규 분포를 따르는 난수로 초기화된 2차원 배열 생성\n",
    "mean, std_dev = 0, 1\n",
    "random_normal_array = np.random.normal(mean, std_dev, size=(3, 3)) # 3x3 크기의 난수 배열\n",
    "print(random_normal_array)"
   ]
  },
  {
   "cell_type": "code",
   "execution_count": 29,
   "id": "martial-thesaurus",
   "metadata": {},
   "outputs": [
    {
     "name": "stdout",
     "output_type": "stream",
     "text": [
      "[12 15 15 26 23  1 20 21  7 27]\n"
     ]
    }
   ],
   "source": [
    "# M4\n",
    "# 30 이하의 양수 난수로 이루어진 크기가 10인 1차원 배열을 만드시오. (0.1점)\n",
    "ran_arr = np.random.randint(0, 30, 10)\n",
    "print(ran_arr)"
   ]
  },
  {
   "cell_type": "code",
   "execution_count": 30,
   "id": "olive-louis",
   "metadata": {},
   "outputs": [
    {
     "name": "stdout",
     "output_type": "stream",
     "text": [
      "[0 1 0 1 0]\n"
     ]
    }
   ],
   "source": [
    "# 18\n",
    "# 0 또는 1을 무작위로 선택하여 초기화된 1차원 배열 생성\n",
    "random_choice_array = np.random.choice([0, 1], size=5)\n",
    "print(random_choice_array)"
   ]
  },
  {
   "cell_type": "code",
   "execution_count": 33,
   "id": "isolated-things",
   "metadata": {},
   "outputs": [
    {
     "name": "stdout",
     "output_type": "stream",
     "text": [
      "[4 8 2]\n",
      "----------\n",
      "[6 8 6]\n"
     ]
    }
   ],
   "source": [
    "# 19\n",
    "# list 내에서 임의로 선택\n",
    "# 중복을 허용하는 경우, 허용하지 않는 경우\n",
    "choices = np.random.choice([2, 4, 6, 8, 10], size=3, replace=False)\n",
    "print(choices); print(\"-\"*10)\n",
    "choices_dup = np.random.choice([2, 4, 6, 8, 10], size=3)  \n",
    "print(choices_dup)"
   ]
  },
  {
   "cell_type": "code",
   "execution_count": 34,
   "id": "intermediate-calvin",
   "metadata": {},
   "outputs": [
    {
     "name": "stdout",
     "output_type": "stream",
     "text": [
      "['lime' 'cherry' 'pear']\n"
     ]
    }
   ],
   "source": [
    "# 20\n",
    "# 중복을 허용하지 않는 경우\n",
    "candidates = ['apple', 'cherry', 'melon', 'pear', 'peach', 'lime', 'lemon']\n",
    "fruits = np.random.choice(candidates, size=3, replace=False)\n",
    "print(fruits)"
   ]
  },
  {
   "cell_type": "code",
   "execution_count": 36,
   "id": "b468b0fc-2797-409d-b438-822c79ccba97",
   "metadata": {},
   "outputs": [
    {
     "name": "stdout",
     "output_type": "stream",
     "text": [
      "['peach' 'apple' 'apple']\n"
     ]
    }
   ],
   "source": [
    "# 21\n",
    "# 각 item의 선택 확률 지정 가능\n",
    "candidates = ['apple', 'cherry', 'melon', 'pear', 'peach', 'lime', 'lemon']\n",
    "probabilities = [0.4, 0.1, 0.1, 0.1, 0.1, 0.1, 0.1]\n",
    "fruits_dup=np.random.choice(candidates, size=3, p=probabilities)\n",
    "print(fruits_dup)"
   ]
  },
  {
   "cell_type": "code",
   "execution_count": 40,
   "id": "imperial-motel",
   "metadata": {},
   "outputs": [
    {
     "name": "stdout",
     "output_type": "stream",
     "text": [
      "['peach' 'pear' 'banana']\n"
     ]
    }
   ],
   "source": [
    "# M5\n",
    "# fruits=['peach', 'apple', 'pear', 'banana', 'coconut', 'kiwi']로 주어졌을 때,\n",
    "# 무작위로 3개의 과일명을 선택하여 1차원 배열을 만드시오. (0.2점)\n",
    "fruits=['peach', 'apple', 'pear', 'banana', 'coconut', 'kiwi']\n",
    "fruits_dup2 = np.random.choice(fruits, size = 3)\n",
    "print(fruits_dup2)"
   ]
  },
  {
   "cell_type": "code",
   "execution_count": 41,
   "id": "arbitrary-major",
   "metadata": {},
   "outputs": [
    {
     "name": "stdout",
     "output_type": "stream",
     "text": [
      "[0 1 2 3 4 5 6 7 8 9]\n",
      "---\n",
      "[[0 1 2 3 4]\n",
      " [5 6 7 8 9]]\n"
     ]
    }
   ],
   "source": [
    "# 22\n",
    "array1 = np.arange(10)\n",
    "print(array1)\n",
    "print('---')\n",
    "print(array1.reshape(2,5))"
   ]
  },
  {
   "cell_type": "code",
   "execution_count": 42,
   "id": "differential-genetics",
   "metadata": {},
   "outputs": [
    {
     "name": "stdout",
     "output_type": "stream",
     "text": [
      "[[[0. 0. 0.]\n",
      "  [0. 0. 0.]\n",
      "  [0. 0. 0.]]\n",
      "\n",
      " [[0. 0. 0.]\n",
      "  [0. 0. 0.]\n",
      "  [0. 0. 0.]]\n",
      "\n",
      " [[0. 0. 0.]\n",
      "  [0. 0. 0.]\n",
      "  [0. 0. 0.]]]\n"
     ]
    }
   ],
   "source": [
    "# 23\n",
    "zeros_3d = np.zeros(27).reshape(3,3,3)  # 27개의 0으로 array를 만든 후 3x3x3 행렬로 변경\n",
    "print(zeros_3d)"
   ]
  },
  {
   "cell_type": "code",
   "execution_count": 43,
   "id": "posted-vitamin",
   "metadata": {},
   "outputs": [
    {
     "name": "stdout",
     "output_type": "stream",
     "text": [
      "[1. 1. 1. 1. 1. 1. 1. 1. 1. 1. 1. 1. 1. 1. 1. 1.]\n",
      "[[1. 1. 1. 1.]\n",
      " [1. 1. 1. 1.]\n",
      " [1. 1. 1. 1.]\n",
      " [1. 1. 1. 1.]]\n"
     ]
    }
   ],
   "source": [
    "# M6\n",
    "# 16개의 1로 array를 만들고, 4x4 2차원 array로 변경하시오. (0.1점)\n",
    "one_arr = np.ones(16)\n",
    "print(one_arr)\n",
    "two_arr = one_arr.reshape(4, 4)\n",
    "print(two_arr)"
   ]
  },
  {
   "cell_type": "code",
   "execution_count": 44,
   "id": "elect-radiation",
   "metadata": {},
   "outputs": [
    {
     "name": "stdout",
     "output_type": "stream",
     "text": [
      "[1 2 3 7 8]\n"
     ]
    }
   ],
   "source": [
    "# 24 \n",
    "# 1차원 array에 요소 추가\n",
    "array1 = np.array([1,2,3])\n",
    "array2 = np.append(array1, [7,8])\n",
    "\n",
    "print(array2)"
   ]
  },
  {
   "cell_type": "code",
   "execution_count": 45,
   "id": "great-fighter",
   "metadata": {},
   "outputs": [
    {
     "name": "stdout",
     "output_type": "stream",
     "text": [
      "[ 1  2  3  4  5  6  7  8  9 10 11 12]\n"
     ]
    }
   ],
   "source": [
    "# 25\n",
    "# 2차원 array에 요소 추가 \n",
    "array1 = np.array([[1,2,3],[4,5,6]])\n",
    "array2 = np.append(array1, [[7,8,9], [10, 11, 12]])\n",
    "\n",
    "print(array2)  # 1차원 array로 해체됨"
   ]
  },
  {
   "cell_type": "code",
   "execution_count": 46,
   "id": "beautiful-concern",
   "metadata": {},
   "outputs": [
    {
     "name": "stdout",
     "output_type": "stream",
     "text": [
      "[[ 1  2  3]\n",
      " [ 4  5  6]\n",
      " [ 7  8  9]\n",
      " [10 11 12]]\n"
     ]
    }
   ],
   "source": [
    "# 26\n",
    "# 2차원 array에 행 추가 \n",
    "array1 = np.array([[1,2,3],[4,5,6]])\n",
    "array2 = np.append(array1, [[7,8,9], [10, 11,12]], axis=0) \n",
    "\n",
    "print(array2)  "
   ]
  },
  {
   "cell_type": "code",
   "execution_count": 47,
   "id": "informative-arthritis",
   "metadata": {},
   "outputs": [
    {
     "name": "stdout",
     "output_type": "stream",
     "text": [
      "[[ 1  2  3  7  8]\n",
      " [ 4  5  6  9 10]]\n"
     ]
    }
   ],
   "source": [
    "# 27\n",
    "# 2차원 array에 열 추가 \n",
    "array1 = np.array([[1,2,3],[4,5,6]])\n",
    "array2 = np.append(array1, [[7,8],[9,10]], axis=1) \n",
    "\n",
    "print(array2)  "
   ]
  },
  {
   "cell_type": "markdown",
   "id": "floppy-pressing",
   "metadata": {},
   "source": [
    "#### indexing, slicing"
   ]
  },
  {
   "cell_type": "code",
   "execution_count": 48,
   "id": "proof-ordering",
   "metadata": {},
   "outputs": [
    {
     "name": "stdout",
     "output_type": "stream",
     "text": [
      "['d' 'e' 'f']\n"
     ]
    }
   ],
   "source": [
    "# 28\n",
    "# row 중심\n",
    "data = np.array([['a', 'b', 'c'],['d', 'e', 'f'], ['g', 'h', 'i']])\n",
    "print(data[1])"
   ]
  },
  {
   "cell_type": "code",
   "execution_count": 49,
   "id": "isolated-payment",
   "metadata": {},
   "outputs": [
    {
     "name": "stdout",
     "output_type": "stream",
     "text": [
      "f\n",
      "f\n"
     ]
    }
   ],
   "source": [
    "# 29\n",
    "data = np.array([['a', 'b', 'c'],['d', 'e', 'f'], ['g', 'h', 'i']])\n",
    "\n",
    "print(data[1][2])\n",
    "print(data[1,2])"
   ]
  },
  {
   "cell_type": "code",
   "execution_count": 50,
   "id": "moved-validity",
   "metadata": {},
   "outputs": [
    {
     "name": "stdout",
     "output_type": "stream",
     "text": [
      "['h' 'i']\n"
     ]
    }
   ],
   "source": [
    "# 30\n",
    "data = np.array([['a', 'b', 'c'],['d', 'e', 'f'], ['g', 'h', 'i']])\n",
    "\n",
    "print(data[2][1:]) "
   ]
  },
  {
   "cell_type": "code",
   "execution_count": 51,
   "id": "orange-adjustment",
   "metadata": {},
   "outputs": [
    {
     "name": "stdout",
     "output_type": "stream",
     "text": [
      "['g' 'h' 'i']\n"
     ]
    }
   ],
   "source": [
    "# 31\n",
    "data = np.array([['a', 'b', 'c'],['d', 'e', 'f'], ['g', 'h', 'i']])\n",
    "\n",
    "print(data[1:][1])   "
   ]
  },
  {
   "cell_type": "code",
   "execution_count": 52,
   "id": "subtle-crash",
   "metadata": {},
   "outputs": [
    {
     "name": "stdout",
     "output_type": "stream",
     "text": [
      "e\n"
     ]
    }
   ],
   "source": [
    "# 32\n",
    "data = np.array([['a', 'b', 'c'],['d', 'e', 'f'], ['g', 'h', 'i']])\n",
    "\n",
    "print(data[1:][0][1])  # ((data[1:])[0])[1] 과 동일"
   ]
  },
  {
   "cell_type": "code",
   "execution_count": 53,
   "id": "fleet-morgan",
   "metadata": {},
   "outputs": [
    {
     "name": "stdout",
     "output_type": "stream",
     "text": [
      "[['d' 'e' 'f']\n",
      " ['g' 'h' 'i']]\n"
     ]
    }
   ],
   "source": [
    "# 33\n",
    "data = np.array([['a', 'b', 'c'],['d', 'e', 'f'], ['g', 'h', 'i']])\n",
    "\n",
    "print(data[-2:])     "
   ]
  },
  {
   "cell_type": "code",
   "execution_count": 54,
   "id": "offensive-minimum",
   "metadata": {},
   "outputs": [
    {
     "name": "stdout",
     "output_type": "stream",
     "text": [
      "['b' 'e' 'h']\n"
     ]
    }
   ],
   "source": [
    "# 34\n",
    "# column 중심\n",
    "data = np.array([['a', 'b', 'c'],['d', 'e', 'f'], ['g', 'h', 'i']])\n",
    "\n",
    "print(data[:, 1]) # index 1번 열 전체 읽기"
   ]
  },
  {
   "cell_type": "code",
   "execution_count": 55,
   "id": "vulnerable-contract",
   "metadata": {},
   "outputs": [
    {
     "name": "stdout",
     "output_type": "stream",
     "text": [
      "h\n"
     ]
    }
   ],
   "source": [
    "# 35\n",
    "data = np.array([['a', 'b', 'c'],['d', 'e', 'f'], ['g', 'h', 'i']])\n",
    "\n",
    "print((data[:, 1])[2]) # index 1번 열 중 index 2번 item"
   ]
  },
  {
   "cell_type": "code",
   "execution_count": 56,
   "id": "monetary-option",
   "metadata": {},
   "outputs": [
    {
     "name": "stdout",
     "output_type": "stream",
     "text": [
      "['h' 'i']\n"
     ]
    }
   ],
   "source": [
    "# 36\n",
    "data = np.array([['a', 'b', 'c'],['d', 'e', 'f'], ['g', 'h', 'i']])\n",
    "\n",
    "print(data[:, -2:][2]) # data의 마지막 두 열로 구성된 행렬의 세번째 행"
   ]
  },
  {
   "cell_type": "code",
   "execution_count": 57,
   "id": "overall-stand",
   "metadata": {},
   "outputs": [
    {
     "name": "stdout",
     "output_type": "stream",
     "text": [
      "[['e' 'f']\n",
      " ['h' 'i']]\n"
     ]
    }
   ],
   "source": [
    "# 37\n",
    "data = np.array([['a', 'b', 'c'],['d', 'e', 'f'], ['g', 'h', 'i']])\n",
    "\n",
    "print(data[1:, 1:]) # index 1번 행부터, index 1번 열부터  "
   ]
  },
  {
   "cell_type": "code",
   "execution_count": 58,
   "id": "nasty-disease",
   "metadata": {},
   "outputs": [
    {
     "name": "stdout",
     "output_type": "stream",
     "text": [
      "[['e']\n",
      " ['h']]\n"
     ]
    }
   ],
   "source": [
    "# 38\n",
    "data = np.array([['a', 'b', 'c'],['d', 'e', 'f'], ['g', 'h', 'i']])\n",
    "\n",
    "print(data[1:, [1]])"
   ]
  },
  {
   "cell_type": "code",
   "execution_count": 71,
   "id": "professional-screen",
   "metadata": {},
   "outputs": [
    {
     "name": "stdout",
     "output_type": "stream",
     "text": [
      "[['red' 'blue' 'green']\n",
      " ['yellow' 'purple' 'orange']\n",
      " ['black' 'white' 'pink']]\n",
      "yellow\n",
      "yellow\n",
      "yellow\n"
     ]
    }
   ],
   "source": [
    "# M7\n",
    "# colors = [\"red\", \"blue\", \"green\", \"yellow\", \"purple\", \"orange\", \"black\", \"white\", \"pink\"]\n",
    "# 위의 list를 3x3 2차원 배열 colors_arr로 변환하시오 (0.2점)\n",
    "# 'yellow'를 출력하기 위한 indexing, slicing 방법을 3가지 제시하시오. (0.3점)\n",
    "# print()를 사용하여 맞는 방법임을 확인하시오.\n",
    "colors = np.array([\"red\", \"blue\", \"green\", \"yellow\", \"purple\",\\\n",
    "          \"orange\", \"black\", \"white\", \"pink\"])\n",
    "colors_arr = colors.reshape(3, 3)\n",
    "print(colors_arr)\n",
    "\n",
    "print(colors_arr[1, 0])\n",
    "print(colors_arr[1][0])\n",
    "print(colors_arr[1:][0][0])\n"
   ]
  },
  {
   "cell_type": "code",
   "execution_count": 77,
   "id": "incorporate-wagon",
   "metadata": {},
   "outputs": [
    {
     "name": "stdout",
     "output_type": "stream",
     "text": [
      "['purple' 'white']\n",
      "['purple' 'white']\n",
      "['purple' 'white']\n"
     ]
    }
   ],
   "source": [
    "# M8\n",
    "# M6에서 만들어진 colors_arr으로부터 ['purple' 'white'] 출력을 얻을 수 있는 \n",
    "# slicing 방법을 3가지 제시하시오. (0.6점)\n",
    "# print()를 사용하여 맞는 방법임을 확안하시오.\n",
    "\n",
    "print(colors_arr[1:, 1])\n",
    "print(colors_arr.T[1, 1:])\n",
    "print(colors_arr[1:][:, 1])"
   ]
  },
  {
   "cell_type": "markdown",
   "id": "unsigned-guest",
   "metadata": {},
   "source": [
    "#### operation"
   ]
  },
  {
   "cell_type": "code",
   "execution_count": 78,
   "id": "trained-driver",
   "metadata": {},
   "outputs": [
    {
     "name": "stdout",
     "output_type": "stream",
     "text": [
      "[3 4 5 6 7]\n",
      "[[3 4 5]\n",
      " [6 7 8]]\n"
     ]
    }
   ],
   "source": [
    "# 39\n",
    "arr1d = np.array([1, 2, 3, 4, 5]) # 1차원 배열 생성\n",
    "arr2d = np.array([[1, 2, 3], [4, 5, 6]]) # 2차원 배열 생성\n",
    "\n",
    "# 각 원소에 2를 더하기\n",
    "arr1d_plus_two = arr1d + 2\n",
    "print(arr1d_plus_two)\n",
    "\n",
    "arr2d_plus_two = arr2d + 2\n",
    "print(arr2d_plus_two)"
   ]
  },
  {
   "cell_type": "code",
   "execution_count": null,
   "id": "dependent-remainder",
   "metadata": {},
   "outputs": [],
   "source": [
    "# 40\n",
    "arr1d = np.array([1, 2, 3, 4, 5]) # 1차원 배열 생성\n",
    "arr2d = np.array([[1, 2, 3], [4, 5, 6]]) # 2차원 배열 생성\n",
    "\n",
    "# 각 원소에 3을 곱하기\n",
    "arr1d_times_three = arr1d * 3\n",
    "print(arr1d_times_three)\n",
    "\n",
    "arr2d_times_three = arr2d * 3\n",
    "print(arr2d_times_three)"
   ]
  },
  {
   "cell_type": "code",
   "execution_count": null,
   "id": "caring-reset",
   "metadata": {},
   "outputs": [],
   "source": [
    "# 41\n",
    "arr1d = np.array([1, 2, 3, 4, 5]) # 1차원 배열 생성\n",
    "arr2d = np.array([[1, 2, 3], [4, 5, 6]]) # 2차원 배열 생성\n",
    "\n",
    "# 각 원소 제곱\n",
    "arr1d_squared = arr1d ** 2\n",
    "print(arr1d_squared)\n",
    "\n",
    "arr2d_squared = arr2d ** 2\n",
    "print(arr2d_squared)"
   ]
  },
  {
   "cell_type": "code",
   "execution_count": 79,
   "id": "d49e3449-8c60-49ac-b897-7aa6104022e6",
   "metadata": {},
   "outputs": [
    {
     "name": "stdout",
     "output_type": "stream",
     "text": [
      "mean = 3.5\n",
      "max = 6\n",
      "min = 1\n",
      "sum = 21\n",
      "std dev = 1.707825127659933\n"
     ]
    }
   ],
   "source": [
    "# 42\n",
    "arr = np.array([[1, 2, 3], [4, 5, 6]])  \n",
    "\n",
    "print(\"mean =\", arr.mean())\n",
    "print(\"max =\", arr.max())\n",
    "print(\"min =\", arr.min())\n",
    "print(\"sum =\", arr.sum())\n",
    "print(\"std dev =\", arr.std())"
   ]
  },
  {
   "cell_type": "code",
   "execution_count": 102,
   "id": "1b310c70-bc36-4506-ac95-0db1fe19541f",
   "metadata": {},
   "outputs": [
    {
     "name": "stdout",
     "output_type": "stream",
     "text": [
      "[1.72558455 1.62088446 1.78624786 1.62439184 1.62804391 1.70104261\n",
      " 1.79264215 1.61707367 1.75855267 1.61366058 1.87681918 1.53430807\n",
      " 1.81257252 1.82298265 1.52339975 1.57950382 1.69591296 1.61844958\n",
      " 1.59779438 1.63794986]\n",
      "[65.01860756 57.17726933 74.96635637 68.91310445 69.74485636 87.82520305\n",
      " 61.21761859 57.65406    57.84899015 63.5170102  61.17529059 86.32488605\n",
      " 52.34883533 52.95993433 73.30730058 87.73023364 62.44358619 72.61956964\n",
      " 62.88310615 64.72144462]\n",
      "[21.84 21.76 23.5  26.12 26.31 30.35 19.05 22.05 18.71 24.39 17.37 36.67\n",
      " 15.93 15.94 31.59 35.16 21.71 27.72 24.63 24.12]\n",
      "[('고객1', 21.84, 'normal'), ('고객2', 21.76, 'normal'), ('고객3', 23.5, 'over'), ('고객4', 26.12, 'fat'), ('고객5', 26.31, 'fat'), ('고객6', 30.35, 'fat'), ('고객7', 19.05, 'normal'), ('고객8', 22.05, 'normal'), ('고객9', 18.71, 'normal'), ('고객10', 24.39, 'over'), ('고객11', 17.37, 'under'), ('고객12', 36.67, 'fat'), ('고객13', 15.93, 'under'), ('고객14', 15.94, 'under'), ('고객15', 31.59, 'fat'), ('고객16', 35.16, 'fat'), ('고객17', 21.71, 'normal'), ('고객18', 27.72, 'fat'), ('고객19', 24.63, 'over'), ('고객20', 24.12, 'over')]\n"
     ]
    }
   ],
   "source": [
    "# M9 (0.8점)\n",
    "# 임의의 데이터 만들기\n",
    "# 사용자 20명의 키 데이터를 m 단위로  1.5 이상 1.9 미만 임의의 값으로 생성 : user_heights (0.2점)\n",
    "# 사용자 20명의 몸무게 데이터를 50 이상 90 미만 임의의 값으로 생성 : user_weights (0.2점)\n",
    "# dictionary의 10, 11, 18번 코드를 참고하여,\n",
    "# user_heights와 user_weights를 사용해서 각 사용자의 BMI를 저장 : user_bmi\n",
    "# user_bmi가 25이상이면 'fat', 23과 25 사이면 'over', 18.5와 23 사이면 'normal', \n",
    "# 18.5 미만이면 'under'로 판정하여 user_evaluation이라는 list를 만들기 (0.4점)\n",
    "# 사용자의 BMI는 소수 둘째자리까지만 저장한다\n",
    "# 실행 사례)\n",
    "# [('고객1', 23.58, 'over'), ('고객2', 29.28, 'fat'), ('고객3', 28.02, 'fat'), ('고객4', 24.64, 'over'), ('고객5', 21.81, 'normal'), ('고객6', 19.87, 'normal'), ('고객7', 16.41, 'under'), ('고객8', 22.75, 'normal'), ('고객9', 28.88, 'fat'), ('고객10', 25.17, 'fat')]\n",
    "\n",
    "user_heights = np.random.uniform(1.5, 1.9, 20)\n",
    "user_weights = np.random.uniform(50, 90, 20)\n",
    "print(user_heights)\n",
    "print(user_weights)\n",
    "user_bmi = np.round(user_weights / (user_heights ** 2), 2)\n",
    "print(user_bmi)\n",
    "user_evaluation = []\n",
    "index = 1\n",
    "for bmi in user_bmi:\n",
    "    if bmi >= 25:\n",
    "        evaluation = 'fat'\n",
    "    elif bmi >= 23:\n",
    "        evaluation = 'over'\n",
    "    elif bmi >= 18.5:\n",
    "        evaluation = 'normal'\n",
    "    else: \n",
    "        evaluation = 'under'\n",
    "    user_evaluation.append((f'고객{index}', bmi, evaluation))\n",
    "    index += 1\n",
    "print(user_evaluation)"
   ]
  },
  {
   "cell_type": "code",
   "execution_count": 103,
   "id": "otherwise-knight",
   "metadata": {},
   "outputs": [
    {
     "name": "stdout",
     "output_type": "stream",
     "text": [
      "A is\n",
      " [[1 2]\n",
      " [3 4]]\n",
      "B is\n",
      " [[5 6]\n",
      " [7 8]]\n"
     ]
    }
   ],
   "source": [
    "# 43\n",
    "# array 간 연산\n",
    "A = np.array([[1, 2], [3, 4]])\n",
    "B = np.array([[5, 6], [7, 8]])\n",
    "\n",
    "print('A is\\n', A)\n",
    "print('B is\\n', B)"
   ]
  },
  {
   "cell_type": "code",
   "execution_count": 104,
   "id": "1e827f05-7805-4a66-889c-ba953bcffe8a",
   "metadata": {},
   "outputs": [
    {
     "name": "stdout",
     "output_type": "stream",
     "text": [
      "sum\n",
      " [[ 6  8]\n",
      " [10 12]] \n",
      "\n"
     ]
    }
   ],
   "source": [
    "# 44\n",
    "A = np.array([[1, 2], [3, 4]])\n",
    "B = np.array([[5, 6], [7, 8]])\n",
    "\n",
    "C = A + B     # 대응하는 요소들 간의 합\n",
    "print(\"sum\\n\", C, '\\n')"
   ]
  },
  {
   "cell_type": "code",
   "execution_count": 107,
   "id": "f96d2d4f-9cf1-400a-97d1-a705127a8e81",
   "metadata": {},
   "outputs": [
    {
     "name": "stdout",
     "output_type": "stream",
     "text": [
      "element-wise product\n",
      " [[ 5 12]\n",
      " [21 32]] \n",
      "\n"
     ]
    }
   ],
   "source": [
    "# 45\n",
    "A = np.array([[1, 2], [3, 4]])\n",
    "B = np.array([[5, 6], [7, 8]])\n",
    "\n",
    "E = A * B     # 대응하는 elemenet들 간의 곱\n",
    "print(\"element-wise product\\n\", E, '\\n')"
   ]
  },
  {
   "cell_type": "code",
   "execution_count": 105,
   "id": "7ca13902-6e81-4892-b5fd-89009512110e",
   "metadata": {},
   "outputs": [
    {
     "name": "stdout",
     "output_type": "stream",
     "text": [
      "product\n",
      " [[19 22]\n",
      " [43 50]] \n",
      "\n"
     ]
    }
   ],
   "source": [
    "# 46\n",
    "A = np.array([[1, 2], [3, 4]])\n",
    "B = np.array([[5, 6], [7, 8]])\n",
    "\n",
    "F = A @ B     # 내적, E=np.dot(A, B) 또는 E = A.dot(B)\n",
    "print(\"product\\n\", F, '\\n')"
   ]
  },
  {
   "cell_type": "code",
   "execution_count": 106,
   "id": "fc8ce273-b6ad-405a-b40a-0095e05bcbdd",
   "metadata": {},
   "outputs": [
    {
     "name": "stdout",
     "output_type": "stream",
     "text": [
      "bitwise OR \n",
      " [[ 5  6]\n",
      " [ 7 12]] \n",
      "\n"
     ]
    }
   ],
   "source": [
    "# 47\n",
    "A = np.array([[1, 2], [3, 4]])\n",
    "B = np.array([[5, 6], [7, 8]])\n",
    "\n",
    "G = A | B     # 대응하는 요소들 간의 bitwise OR\n",
    "print(\"bitwise OR \\n\", G, '\\n')"
   ]
  },
  {
   "cell_type": "code",
   "execution_count": 108,
   "id": "66f5d3fd-82ad-471c-b8df-ce04362ebeed",
   "metadata": {},
   "outputs": [
    {
     "name": "stdout",
     "output_type": "stream",
     "text": [
      "larger than \n",
      " [[False False]\n",
      " [False False]] \n",
      "\n"
     ]
    }
   ],
   "source": [
    "# 48\n",
    "A = np.array([[1, 2], [3, 4]])\n",
    "B = np.array([[5, 6], [7, 8]])\n",
    "\n",
    "H = A > B     # 대응하는 요소들 간의 크기 비교\n",
    "print(\"larger than \\n\", H, '\\n')"
   ]
  },
  {
   "cell_type": "code",
   "execution_count": 109,
   "id": "outside-parliament",
   "metadata": {},
   "outputs": [
    {
     "ename": "UFuncTypeError",
     "evalue": "ufunc 'add' did not contain a loop with signature matching types (dtype('<U1'), dtype('<U1')) -> None",
     "output_type": "error",
     "traceback": [
      "\u001b[0;31m---------------------------------------------------------------------------\u001b[0m",
      "\u001b[0;31mUFuncTypeError\u001b[0m                            Traceback (most recent call last)",
      "Cell \u001b[0;32mIn[109], line 5\u001b[0m\n\u001b[1;32m      3\u001b[0m strings \u001b[38;5;241m=\u001b[39m np\u001b[38;5;241m.\u001b[39marray([[\u001b[38;5;124m'\u001b[39m\u001b[38;5;124m1\u001b[39m\u001b[38;5;124m'\u001b[39m], [\u001b[38;5;124m'\u001b[39m\u001b[38;5;124m2\u001b[39m\u001b[38;5;124m'\u001b[39m], [\u001b[38;5;124m'\u001b[39m\u001b[38;5;124m3\u001b[39m\u001b[38;5;124m'\u001b[39m]])\n\u001b[1;32m      4\u001b[0m strings2 \u001b[38;5;241m=\u001b[39m np\u001b[38;5;241m.\u001b[39marray([\u001b[38;5;124m'\u001b[39m\u001b[38;5;124m1\u001b[39m\u001b[38;5;124m'\u001b[39m, \u001b[38;5;124m'\u001b[39m\u001b[38;5;124m2\u001b[39m\u001b[38;5;124m'\u001b[39m, \u001b[38;5;124m'\u001b[39m\u001b[38;5;124m3\u001b[39m\u001b[38;5;124m'\u001b[39m])\n\u001b[0;32m----> 5\u001b[0m \u001b[38;5;28mprint\u001b[39m(\u001b[43mstrings\u001b[49m\u001b[38;5;241;43m+\u001b[39;49m\u001b[43m[\u001b[49m\u001b[38;5;124;43m'\u001b[39;49m\u001b[38;5;124;43m1\u001b[39;49m\u001b[38;5;124;43m'\u001b[39;49m\u001b[43m]\u001b[49m)  \u001b[38;5;66;03m# 오류\u001b[39;00m\n\u001b[1;32m      6\u001b[0m \u001b[38;5;28mprint\u001b[39m(strings2\u001b[38;5;241m+\u001b[39m\u001b[38;5;124m'\u001b[39m\u001b[38;5;124ma\u001b[39m\u001b[38;5;124m'\u001b[39m)   \u001b[38;5;66;03m# 오류 \u001b[39;00m\n",
      "\u001b[0;31mUFuncTypeError\u001b[0m: ufunc 'add' did not contain a loop with signature matching types (dtype('<U1'), dtype('<U1')) -> None"
     ]
    }
   ],
   "source": [
    "### 참고\n",
    "# numeric data에 대해서만 적용 가능\n",
    "strings = np.array([['1'], ['2'], ['3']])\n",
    "strings2 = np.array(['1', '2', '3'])\n",
    "print(strings+['1'])  # 오류\n",
    "print(strings2+'a')   # 오류 "
   ]
  },
  {
   "cell_type": "code",
   "execution_count": 115,
   "id": "liked-nudist",
   "metadata": {},
   "outputs": [
    {
     "name": "stdout",
     "output_type": "stream",
     "text": [
      "[[ 3  8  3 19]\n",
      " [17 17  4 13]\n",
      " [ 1 16 19  1]\n",
      " [13 19 14 19]]\n",
      "[[ 7 17  7 39]\n",
      " [35 35  9 27]\n",
      " [ 3 33 39  3]\n",
      " [27 39 29 39]]\n"
     ]
    }
   ],
   "source": [
    "# M10\n",
    "# 0에서 20 사이의 정수(20 미포함) 중에서 임의로 16개의 정수를 만들어서(중복 허용), \n",
    "# 4x4 2차원 배열 rand_arr을 만들어 출력하고 (0.3점)\n",
    "# 이 배열의 각 원소를 2배하고 다시 1을 더한 값을 가진 rand_arr2를 만드는 코드를 작성하시오 (0.2점)\n",
    "# 결과를 확인할 수 있도록 출력하시오.\n",
    "nand_arr = np.random.randint(0, 20, 16).reshape(4, 4)\n",
    "print(nand_arr)\n",
    "\n",
    "rand_arr2 = nand_arr * 2 + 1\n",
    "print(rand_arr2)"
   ]
  },
  {
   "cell_type": "code",
   "execution_count": 6,
   "id": "00d27ce3-8dc1-42a7-9fed-099ef8773ebe",
   "metadata": {},
   "outputs": [
    {
     "name": "stdout",
     "output_type": "stream",
     "text": [
      "[ True False  True False  True  True]\n",
      "items larger than 3: [4 7 5 6]\n"
     ]
    }
   ],
   "source": [
    "# 49\n",
    "sample_array = np.array([4, 3, 7, 2, 5, 6])\n",
    "lower, upper = 3, 7\n",
    "\n",
    "# lower보다 큰 원소 찾기\n",
    "bt_cond = sample_array > lower\n",
    "print(bt_cond)\n",
    "print(f\"items larger than {lower}:\", sample_array[bt_cond])"
   ]
  },
  {
   "cell_type": "code",
   "execution_count": 7,
   "id": "f102ba5d-2fbb-401e-9e22-07c39a60b592",
   "metadata": {},
   "outputs": [
    {
     "name": "stdout",
     "output_type": "stream",
     "text": [
      "[ True  True False  True  True  True]\n",
      "items smaller than 7: [4 3 2 5 6]\n"
     ]
    }
   ],
   "source": [
    "# 50\n",
    "sample_array = np.array([4, 3, 7, 2, 5, 6])\n",
    "lower, upper = 3, 7\n",
    "# upper보다 작은 원소 찾기\n",
    "st_cond = sample_array < upper\n",
    "print(st_cond)\n",
    "print(f\"items smaller than {upper}:\", sample_array[st_cond])"
   ]
  },
  {
   "cell_type": "code",
   "execution_count": 8,
   "id": "e2abf8e9-273b-4578-9dfe-090064f3d59b",
   "metadata": {},
   "outputs": [
    {
     "name": "stdout",
     "output_type": "stream",
     "text": [
      "Condition ((array > 3) & (array < 7)): [ True False False False  True  True]\n",
      "items between 3 and 7: [4 5 6]\n"
     ]
    }
   ],
   "source": [
    "# 51\n",
    "sample_array = np.array([4, 3, 7, 2, 5, 6])\n",
    "lower, upper = 3, 7\n",
    "# 조건 결합: lower보다 크고 upper보다 작은 요소들 선택\n",
    "combined_cond = bt_cond & st_cond\n",
    "print(f\"Condition ((array > {lower}) & (array < {upper})):\", combined_cond)\n",
    "filtered_array = sample_array[combined_cond]\n",
    "print(f\"items between {lower} and {upper}:\", filtered_array)"
   ]
  },
  {
   "cell_type": "code",
   "execution_count": 9,
   "id": "fourth-sunday",
   "metadata": {},
   "outputs": [
    {
     "name": "stdout",
     "output_type": "stream",
     "text": [
      "Condition (array_one > array_two): [False False False False False False  True False False  True]\n",
      "Number of items (array_one > array_two): [4 5 6]\n"
     ]
    }
   ],
   "source": [
    "# 52\n",
    "# boolean indexing\n",
    "\n",
    "# 배열 생성\n",
    "array_one = np.array([1, 2, 3, 4, 5, 6, 7, 8, 9, 10])\n",
    "array_two = np.array([3, 2, 5, 4, 7, 6, 1, 8, 10, 9])\n",
    "\n",
    "# 조건: array1 중 array2보다 큰 값\n",
    "condition = (array_one > array_two) # array내 각 요소들에 대해 크기를 비교한 결과를 condition에 모음\n",
    "print(\"Condition (array_one > array_two):\", condition)\n",
    "\n",
    "# Boolean indexing을 사용하여 조건을 만족하는 요소들 선택\n",
    "count_filtered_items = len(array_one[condition])\n",
    "print(\"Number of items (array_one > array_two):\", filtered_array)"
   ]
  },
  {
   "cell_type": "code",
   "execution_count": 10,
   "id": "completed-essence",
   "metadata": {},
   "outputs": [
    {
     "name": "stdout",
     "output_type": "stream",
     "text": [
      "red : 0  blue : 1  green : 1  yellow : 1  purple : 1  orange : 3  black : 0  white : 0  pink : 0  "
     ]
    }
   ],
   "source": [
    "# 53\n",
    "# 색깔 목록에서 잉크의 색을 랜덤하게 선택하고, 색깔별 잉크의 수를 출력\n",
    "colors = [\"red\", \"blue\", \"green\", \"yellow\", \"purple\", \"orange\", \"black\", \n",
    "          \"white\", \"pink\"]\n",
    "n_of_inks = 7\n",
    "inks = np.random.choice(colors, n_of_inks)\n",
    "\n",
    "color_counts = [len(inks[inks==item]) for item in colors]\n",
    "for name, count in zip(colors, color_counts):\n",
    "  print(name,\":\", count, end=\"  \")"
   ]
  },
  {
   "cell_type": "code",
   "execution_count": null,
   "id": "biblical-kennedy",
   "metadata": {},
   "outputs": [],
   "source": [
    "# 54\n",
    "# 수강 목록에 'math'가 포함된 학생의 수강과목 확인\n",
    "\n",
    "students = np.array([['english', 'korean', 'history'], \n",
    "                     ['korean', 'math', 'physics'],\n",
    "                     ['english', 'physics', 'math']])\n",
    "\n",
    "# 각 요소에 대해 'math'와의 일치 여부 확인\n",
    "filter_matrix = students == 'math'\n",
    "print(filter_matrix)\n",
    "\n",
    "# 행 기준으로 하나라도 True가 있는 경우, True\n",
    "condition = np.any(filter_matrix, axis=1)\n",
    "print(condition)\n",
    "\n",
    "result = students[condition]\n",
    "# result = students[np.any(students == 'math', axis=1)]\n",
    "print(result)"
   ]
  },
  {
   "cell_type": "code",
   "execution_count": null,
   "id": "falling-reynolds",
   "metadata": {},
   "outputs": [],
   "source": [
    "## numpy 활용 사례\n",
    "## 주사위를 10번 던져서 나온 결과의 평균을 구하는 실험을 10000번 반복\n",
    "\n",
    "import numpy as np\n",
    "means = [np.mean(np.random.randint(1, 7, 10)) for _ in range(10000)]\n",
    "\n",
    "## 평균의 분포 시각화\n",
    "import matplotlib.pyplot as plt\n",
    "plt.hist(means, bins=50, density=True)\n",
    "plt.show()"
   ]
  },
  {
   "cell_type": "code",
   "execution_count": null,
   "id": "usual-receptor",
   "metadata": {},
   "outputs": [],
   "source": [
    "## numpy 활용 사례\n",
    "## 주사위를 10번 던져서 나온 결과의 분산을 구하는 실험을 10000번 반복\n",
    "\n",
    "import numpy as np\n",
    "variances = [np.var(np.random.randint(1, 7, 10)) for _ in range(10000)]\n",
    "\n",
    "## 분산의 분포 시각화\n",
    "plt.hist(variances, bins=50, density=True)\n",
    "plt.show()"
   ]
  },
  {
   "cell_type": "code",
   "execution_count": null,
   "id": "cheap-collapse",
   "metadata": {},
   "outputs": [],
   "source": []
  }
 ],
 "metadata": {
  "kernelspec": {
   "display_name": "Python 3 (ipykernel)",
   "language": "python",
   "name": "python3"
  },
  "language_info": {
   "codemirror_mode": {
    "name": "ipython",
    "version": 3
   },
   "file_extension": ".py",
   "mimetype": "text/x-python",
   "name": "python",
   "nbconvert_exporter": "python",
   "pygments_lexer": "ipython3",
   "version": "3.11.6"
  }
 },
 "nbformat": 4,
 "nbformat_minor": 5
}
